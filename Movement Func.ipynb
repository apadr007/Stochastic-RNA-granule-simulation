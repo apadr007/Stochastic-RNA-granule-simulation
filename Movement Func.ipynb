{
 "cells": [
  {
   "cell_type": "code",
   "execution_count": 1,
   "metadata": {
    "collapsed": true
   },
   "outputs": [],
   "source": [
    "import random\n",
    "import pandas\n",
    "import numpy\n",
    "from operator import add"
   ]
  },
  {
   "cell_type": "markdown",
   "metadata": {},
   "source": [
    "# Movement function"
   ]
  },
  {
   "cell_type": "markdown",
   "metadata": {},
   "source": [
    "Current movement function plus functions to test for viable movement positions and boundaries of the lattice."
   ]
  },
  {
   "cell_type": "code",
   "execution_count": 2,
   "metadata": {
    "collapsed": true
   },
   "outputs": [],
   "source": [
    "## movement function\n",
    "def mover(layout, spaceMax, spaceMin):\n",
    "    from operator import add\n",
    "    \n",
    "    for key, value in layout.items():\n",
    "        possibilities = numpy.zeros(shape=(5,2))\n",
    "        possibilities[0] = [1, 0]\n",
    "        possibilities[1] = [-1, 0]\n",
    "        possibilities[2] = [0, 1]\n",
    "        possibilities[3] = [0, -1]\n",
    "        oldDir = list(value)\n",
    "\n",
    "        if any(i >= spaceMax or i <= spaceMin for i in oldDir):\n",
    "            newDir = bounceBack(oldDir, spaceMax, spaceMin)\n",
    "            if newDir in layout.values():\n",
    "                continue\n",
    "            else:\n",
    "                layout[key] = newDir\n",
    "        else:\n",
    "            possibilities = movementTester(value, layout, possibilities)\n",
    "            randomDirection = random.choice( possibilities )\n",
    "            newDir = map(add, value, randomDirection)\n",
    "            if newDir in layout.values():\n",
    "                continue\n",
    "            else:\n",
    "                layout[key] = newDir            \n",
    "    return layout\n",
    "\n",
    "\n",
    "\n",
    "\n",
    "# maintains nodes within boundary limits of lattice\n",
    "def bounceBack(newDir, spaceMax, spaceMin):\n",
    "    for n,i in enumerate(newDir):\n",
    "        if i <= spaceMin:\n",
    "            newDir[n] = spaceMin + 1\n",
    "        if i >= spaceMax:\n",
    "            newDir[n] = spaceMax - 1\n",
    "    return newDir\n",
    "\n",
    "\n",
    "# This function will test whether the four directions a node can move into are occupied\n",
    "# this outputs a true / false list where false corresponds to positions available to move into at each step\n",
    "def movementTester(x, layout, possibilities):\n",
    "    new_possibilities = possibilities + x\n",
    "\n",
    "    output_direction = []\n",
    "    for i in new_possibilities:\n",
    "        i = list(i)\n",
    "        output_direction.append( (i in layout.values()) )\n",
    "\n",
    "    output_direction = true_to_false(output_direction)\n",
    "    possibilities = possibilities[output_direction]\n",
    "    if possibilities.size == 0:\n",
    "        possibilities = [0, 0]\n",
    "        return possibilities\n",
    "    else:\n",
    "        return possibilities\n",
    "    \n",
    "#used inside movementTester\n",
    "def true_to_false(y):\n",
    "    #this inverts True to False\n",
    "    output = []\n",
    "    for i in y:\n",
    "        if i == True:\n",
    "             output.append((False))\n",
    "        elif i == False:\n",
    "            output.append((True))       \n",
    "    return output"
   ]
  },
  {
   "cell_type": "markdown",
   "metadata": {},
   "source": [
    "# Layout Generator function"
   ]
  },
  {
   "cell_type": "markdown",
   "metadata": {},
   "source": [
    "This Creates a layout of nodes with randomly chosen x and y values. The function does not currently generates the actual number of nodes you request, since it is not entirely optimized, but works for my current purpose (e.g. if you ask it to randomly place 10,000 on a lattice, it may produce 9,890)."
   ]
  },
  {
   "cell_type": "code",
   "execution_count": 3,
   "metadata": {
    "collapsed": true
   },
   "outputs": [],
   "source": [
    "def layoutGen(spaceMin, spaceMax, nodes):\n",
    "\n",
    "    layout = {}\n",
    "    for i in range(nodes):\n",
    "        x = random.choice(range(spaceMin, spaceMax) )\n",
    "        y = random.choice(range(spaceMin, spaceMax) )\n",
    "        z = x,y\n",
    "\n",
    "        if not [key for key, value in layout.iteritems() if value == z]:\n",
    "            layout[i] = z\n",
    "        else:\n",
    "            x = random.choice(range(spaceMin, spaceMax) )\n",
    "            y = random.choice(range(spaceMin, spaceMax) )\n",
    "            z = x,y\n",
    "            if not [key for key, value in layout.iteritems() if value == z]:\n",
    "                layout[i] = z\n",
    "    val = 0        \n",
    "    for key in layout.keys():\n",
    "        layout[val] = layout.pop(key)\n",
    "        val = val + 1\n",
    "            \n",
    "    return layout"
   ]
  },
  {
   "cell_type": "code",
   "execution_count": 11,
   "metadata": {},
   "outputs": [],
   "source": [
    "import time\n",
    "spaceMax = 2000\n",
    "spaceMin = 1\n",
    "\n",
    "layout = layoutGen(spaceMin, spaceMax, 10000)"
   ]
  },
  {
   "cell_type": "code",
   "execution_count": null,
   "metadata": {},
   "outputs": [],
   "source": [
    "start = time.time()\n",
    "for i in range(9):\n",
    "    mover(layout, spaceMax, spaceMin)\n",
    "end = time.time()\n",
    "print(end - start)"
   ]
  },
  {
   "cell_type": "code",
   "execution_count": null,
   "metadata": {},
   "outputs": [],
   "source": []
  },
  {
   "cell_type": "code",
   "execution_count": null,
   "metadata": {
    "collapsed": true
   },
   "outputs": [],
   "source": []
  }
 ],
 "metadata": {
  "kernelspec": {
   "display_name": "Python 2",
   "language": "python",
   "name": "python2"
  },
  "language_info": {
   "codemirror_mode": {
    "name": "ipython",
    "version": 2
   },
   "file_extension": ".py",
   "mimetype": "text/x-python",
   "name": "python",
   "nbconvert_exporter": "python",
   "pygments_lexer": "ipython2",
   "version": "2.7.13"
  }
 },
 "nbformat": 4,
 "nbformat_minor": 2
}
