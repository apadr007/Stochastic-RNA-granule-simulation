{
 "cells": [
  {
   "cell_type": "markdown",
   "metadata": {},
   "source": [
    "Counting cell viability 48 hr after \n",
    "nucleofecting in ssDNA or dsDNA or Naive \n",
    "sample (with nothing in this case)"
   ]
  },
  {
   "cell_type": "code",
   "execution_count": 8,
   "metadata": {},
   "outputs": [],
   "source": [
    "import matplotlib.pyplot as plt\n",
    "import numpy as np"
   ]
  },
  {
   "cell_type": "code",
   "execution_count": 4,
   "metadata": {},
   "outputs": [],
   "source": [
    "dsDNA = [119, 136, 125, 120.5801, 139.423]\n",
    "ssDNA = [32, 10, 53, 74, 23, 56.36164, 83.13152]\n",
    "Naive = [143, 192, 166.2519, 201.1645]\n",
    "\n",
    "df = np.array([dsDNA,ssDNA, Naive]) "
   ]
  },
  {
   "cell_type": "code",
   "execution_count": 39,
   "metadata": {},
   "outputs": [
    {
     "data": {
      "image/png": "[encoded data removed]",
      "text/plain": [
       "<matplotlib.figure.Figure at 0x117431cd0>"
      ]
     },
     "metadata": {},
     "output_type": "display_data"
    }
   ],
   "source": [
    "# Create a figure instance\n",
    "fig = plt.figure(1, figsize=(5, 5))\n",
    "fig.suptitle('LMNA G3BP1 Cell Survival After \\n HDR Template Nucleofection', fontsize=12, fontweight='bold')\n",
    "\n",
    "\n",
    "# Create an axes instance\n",
    "ax = fig.add_subplot(111)\n",
    "ax.set_ylabel('Cells Per FOV')\n",
    "\n",
    "\n",
    "\n",
    "# Create the boxplot\n",
    "bp = ax.boxplot(df, labels=['dsDNA', 'ssDNA', 'Naive'] )\n",
    "\n",
    "# Save the figure\n",
    "#fig.savefig('fig1.png', bbox_inches='tight')\n",
    "\n",
    "## change color and linewidth of the medians\n",
    "for median in bp['medians']:\n",
    "    median.set(color='black', linewidth=1)"
   ]
  },
  {
   "cell_type": "code",
   "execution_count": null,
   "metadata": {},
   "outputs": [],
   "source": []
  },
  {
   "cell_type": "code",
   "execution_count": null,
   "metadata": {},
   "outputs": [],
   "source": []
  }
 ],
 "metadata": {
  "kernelspec": {
   "display_name": "Python 2",
   "language": "python",
   "name": "python2"
  },
  "language_info": {
   "codemirror_mode": {
    "name": "ipython",
    "version": 2
   },
   "file_extension": ".py",
   "mimetype": "text/x-python",
   "name": "python",
   "nbconvert_exporter": "python",
   "pygments_lexer": "ipython2",
   "version": "2.7.16"
  }
 },
 "nbformat": 4,
 "nbformat_minor": 2
}
