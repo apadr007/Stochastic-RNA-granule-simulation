{
 "cells": [
  {
   "cell_type": "code",
   "execution_count": 992,
   "metadata": {
    "collapsed": true
   },
   "outputs": [],
   "source": [
    "node_number = 100\n",
    "spaceMin = 0\n",
    "spaceMax = 20\n",
    "\n",
    "def illegal_position_generator(spaceMax, spaceMin):\n",
    "    from itertools import permutations\n",
    "    boundary = spaceMax + 2\n",
    "    lower_boundary = spaceMin - 1\n",
    "    items = range(lower_boundary, boundary)\n",
    "    moves = {}\n",
    "    i = 0\n",
    "    for p in permutations(items, 2):\n",
    "        moves[i] = p\n",
    "        i += 1\n",
    "\n",
    "    illegal_moves = {}\n",
    "    legal_moves = {}\n",
    "    for key,value in moves.items():\n",
    "        for n,i in enumerate(value):\n",
    "            try:        \n",
    "                if i <= spaceMin or i >= spaceMax:\n",
    "                    illegal_moves[key] = value\n",
    "            except:\n",
    "                continue\n",
    "                \n",
    "    for key, value in illegal_moves.iteritems():\n",
    "        if value in moves.values():\n",
    "            del moves[key]\n",
    "\n",
    "    #This changes values into keys and vice versa\n",
    "    moves = {y:x for x,y in moves.iteritems()}\n",
    "    illegal_moves = {y:x for x,y in illegal_moves.iteritems()}\n",
    "   \n",
    "    # include positions at edges\n",
    "    illegal_moves.update({(spaceMin,spaceMin):10000000, (spaceMax, spaceMax):100000001 })\n",
    "    \n",
    "    return moves, illegal_moves\n",
    "\n",
    "# run function \n",
    "legal_moves, illegal_moves = illegal_position_generator(spaceMax, spaceMin)\n",
    "\n",
    "def layout_gen(node_number, legal_moves): \n",
    "    import random\n",
    "    \n",
    "    wanted_keys = random.sample(legal_moves.keys(), node_number)\n",
    "    #using dictionary comprehension to subset a dictionary by keys\n",
    "    layout_old = dict((k, legal_moves[k]) for k in wanted_keys if k in legal_moves)\n",
    "    \n",
    "   # #I am going to omit making this dict because I can keep tract of names using the values of layout_old as a name attribute in a graph\n",
    "   # #layout_names = {y:x for x,y in layout_old.iteritems()}\n",
    "    \n",
    "    return layout_old#, layout_names\n",
    "\n",
    "#layout_old, node_names = layout_gen(node_number, legal_moves)\n",
    "layout_old = layout_gen(node_number, legal_moves)\n"
   ]
  },
  {
   "cell_type": "markdown",
   "metadata": {},
   "source": [
    "# This function creates illegal boundaries to follow"
   ]
  },
  {
   "cell_type": "code",
   "execution_count": 993,
   "metadata": {
    "collapsed": true
   },
   "outputs": [],
   "source": [
    "spaceMax = 300\n",
    "spaceMin = 0\n",
    "\n",
    "def illegal_boundaries(spaceMax):\n",
    "    mydict = {}\n",
    "    j = 1\n",
    "    for i in range(spaceMax):\n",
    "        mydict[ (0, i) ] = j\n",
    "        j += 1\n",
    "        mydict[ (i, 0) ] = j\n",
    "        j += 1\n",
    "        mydict[ (i+1, 0)] =j\n",
    "        j += 1\n",
    "        mydict[ (i, 0)] =j\n",
    "        j += 1\n",
    "        mydict[ (-1, i+1) ] = j\n",
    "        j += 1\n",
    "        mydict[ (-1, i) ] = j\n",
    "        j += 1\n",
    "\n",
    "    mydict[ (spaceMax-1, spaceMax-1) ] = 0\n",
    "    \n",
    "    \n",
    "    return mydict\n",
    "\n",
    "illegal_moves = illegal_boundaries(spaceMax)\n"
   ]
  },
  {
   "cell_type": "code",
   "execution_count": 994,
   "metadata": {
    "scrolled": true
   },
   "outputs": [
    {
     "name": "stdout",
     "output_type": "stream",
     "text": [
      "{(0, 86): 517, (-1, 225): 1356, (0, 175): 1051, (90, 0): 544, (177, 0): 1066, (-1, 66): 402, (0, 76): 457, (-1, 203): 1224, (0, 197): 1183, (229, 0): 1378, (-1, 36): 222, (0, 98): 589, (-1, 173): 1044, (9, 0): 58, (0, 271): 1627, (-1, 14): 90, (-1, 183): 1104, (61, 0): 370, (148, 0): 892, (0, 17): 103, (0, 293): 1759, (-1, 16): 102, (97, 0): 586, (184, 0): 1108, (287, 0): 1726, (0, 55): 331, (-1, 262): 1578, (0, 128): 769, (236, 0): 1420, (-1, 99): 600, (0, 45): 271, (-1, 232): 1398, (0, 166): 997, (0, 189): 1135, (16, 0): 100, (-1, 69): 420, (0, 67): 403, (-1, 242): 1458, (68, 0): 412, (155, 0): 934, (-1, 47): 288, (167, 0): 1006, (0, 121): 727, (-1, 212): 1278, (104, 0): 628, (207, 0): 1246, (0, 242): 1453, (0, 262): 1573, (-1, 49): 300, (0, 183): 1099, (-1, 190): 1146, (243, 0): 1462, (0, 232): 1393, (-1, 295): 1776, (-1, 27): 168, (39, 0): 238, (-1, 128): 774, (-1, 236): 1422, (0, 14): 85, (-1, 265): 1596, (0, 135): 811, (75, 0): 454, (162, 0): 976, (-1, 106): 642, (0, 36): 217, (-1, 275): 1656, (127, 0): 766, (214, 0): 1288, (190, 0): 1144, (-1, 76): 462, (0, 90): 541, (-1, 245): 1476, (250, 0): 1504, (0, 211): 1267, (267, 0): 1606, (-1, 86): 522, (0, 112): 673, (-1, 223): 1344, (46, 0): 280, (133, 0): 802, (0, 201): 1207, (0, 285): 1711, (-1, 56): 342, (82, 0): 496, (-1, 161): 972, (256, 0): 1540, (0, 239): 1435, (-1, 2): 18, (0, 251): 1507, (221, 0): 1330, (-1, 139): 840, (0, 5): 31, (-1, 260): 1566, (0, 297): 1783, (0, 158): 949, (1, 0): 10, (-1, 109): 660, (0, 59): 355, (-1, 282): 1698, (53, 0): 322, (140, 0): 844, (-1, 119): 720, (0, 81): 487, (-1, 252): 1518, (89, 0): 538, (176, 0): 1060, (279, 0): 1678, (0, 170): 1021, (-1, 89): 540, (100, 0): 604, (0, 119): 715, (-1, 198): 1194, (-1, 283): 1704, (0, 192): 1153, (-1, 150): 906, (-1, 35): 216, (8, 0): 52, (0, 109): 655, (-1, 168): 1014, (0, 230): 1381, (0, 266): 1597, (-1, 5): 36, (60, 0): 364, (147, 0): 886, (-1, 178): 1074, (0, 28): 169, (96, 0): 580, (0, 149): 895, (213, 0): 1282, (-1, 148): 894, (-1, 238): 1434, (0, 50): 301, (-1, 285): 1716, (-1, 216): 1302, (235, 0): 1414, (204, 0): 1228, (0, 139): 835, (-1, 126): 762, (0, 40): 241, (31, 0): 190, (0, 161): 967, (-1, 64): 390, (67, 0): 406, (0, 78): 469, (-1, 201): 1212, (0, 199): 1195, (0, 96): 577, (119, 0): 718, (206, 0): 1240, (293, 0): 1762, (0, 100): 601, (-1, 211): 1272, (-1, 175): 1056, (233, 0): 1402, (292, 0): 1756, (0, 253): 1519, (-1, 153): 924, (0, 257): 1543, (-1, 12): 78, (-1, 181): 1092, (0, 19): 115, (-1, 290): 1746, (38, 0): 232, (0, 295): 1771, (-1, 22): 138, (-1, 159): 960, (0, 9): 55, (74, 0): 448, (161, 0): 970, (0, 130): 781, (-1, 240): 1446, (-1, 97): 588, (126, 0): 760, (0, 47): 283, (210, 0): 1264, (0, 184): 1105, (-1, 75): 456, (249, 0): 1498, (0, 69): 415, (-1, 210): 1266, (0, 222): 1333, (45, 0): 274, (132, 0): 796, (0, 123): 739, (-1, 218): 1314, (0, 244): 1465, (81, 0): 490, (168, 0): 1012, (-1, 55): 336, (-1, 141): 852, (-1, 188): 1134, (-1, 45): 276, (-1, 293): 1764, (220, 0): 1324, (-1, 25): 156, (-1, 134): 810, (0, 0): 4, (-1, 271): 1632, (0, 153): 919, (-1, 104): 630, (52, 0): 316, (139, 0): 838, (0, 38): 229, (-1, 273): 1644, (0, 191): 1147, (0, 277): 1663, (88, 0): 532, (191, 0): 1150, (278, 0): 1672, (0, 92): 553, (-1, 251): 1512, (120, 0): 724, (0, 213): 1279, (227, 0): 1366, (-1, 84): 510, (0, 114): 685, (-1, 221): 1332, (0, 203): 1219, (23, 0): 142, (0, 287): 1723, (-1, 62): 378, (0, 104): 625, (-1, 167): 1008, (59, 0): 358, (146, 0): 880, (0, 280): 1681, (-1, 0): 6, (271, 0): 1630, (-1, 137): 828, (111, 0): 670, (198, 0): 1192, (0, 7): 43, (0, 299): 1795, (0, 144): 865, (-1, 147): 888, (234, 0): 1408, (0, 61): 367, (-1, 280): 1686, (0, 182): 1093, (30, 0): 184, (-1, 117): 708, (0, 83): 499, (-1, 226): 1362, (281, 0): 1690, (0, 172): 1033, (66, 0): 400, (153, 0): 922, (-1, 95): 576, (0, 73): 439, (-1, 196): 1182, (0, 220): 1321, (118, 0): 712, (205, 0): 1234, (0, 234): 1405, (0, 278): 1669, (-1, 33): 204, (0, 111): 667, (-1, 174): 1050, (241, 0): 1450, (0, 248): 1489, (0, 268): 1609, (-1, 11): 72, (-1, 176): 1062, (37, 0): 226, (0, 30): 181, (0, 290): 1741, (0, 151): 907, (73, 0): 442, (-1, 154): 930, (263, 0): 1582, (0, 207): 1243, (0, 52): 313, (-1, 259): 1560, (0, 141): 847, (125, 0): 754, (212, 0): 1276, (299, 0): 1798, (-1, 124): 750, (0, 42): 253, (-1, 229): 1380, (0, 163): 979, (248, 0): 1492, (-1, 70): 426, (0, 64): 385, (-1, 207): 1248, (44, 0): 268, (131, 0): 790, (254, 0): 1528, (-1, 40): 246, (294, 0): 1768, (0, 102): 613, (-1, 209): 1260, (80, 0): 484, (183, 0): 1102, (270, 0): 1624, (0, 255): 1531, (0, 259): 1555, (-1, 50): 306, (-1, 249): 1500, (-1, 187): 1128, (0, 21): 127, (-1, 288): 1734, (-1, 20): 126, (15, 0): 94, (-1, 157): 948, (0, 11): 67, (-1, 266): 1602, (0, 132): 793, (51, 0): 310, (138, 0): 832, (-1, 103): 624, (0, 33): 199, (0, 65): 391, (103, 0): 622, (0, 186): 1117, (277, 0): 1666, (-1, 204): 1230, (-1, 73): 444, (0, 71): 427, (-1, 246): 1482, (226, 0): 1360, (0, 208): 1249, (-1, 83): 504, (0, 125): 751, (22, 0): 136, (0, 246): 1477, (0, 282): 1693, (-1, 53): 324, (58, 0): 352, (145, 0): 874, (-1, 162): 978, (0, 236): 1417, (-1, 299): 1800, (291, 0): 1750, (-1, 31): 192, (110, 0): 664, (197, 0): 1186, (284, 0): 1708, (-1, 132): 798, (0, 2): 13, (-1, 269): 1620, (0, 155): 931, (251, 0): 1510, (-1, 110): 666, (0, 56): 337, (-1, 279): 1680, (29, 0): 178, (0, 177): 1063, (-1, 112): 678, (-1, 228): 1374, (0, 94): 565, (65, 0): 394, (152, 0): 916, (0, 215): 1291, (-1, 90): 546, (117, 0): 706, (0, 116): 697, (-1, 195): 1176, (0, 205): 1231, (0, 273): 1639, (-1, 60): 366, (240, 0): 1444, (0, 106): 637, (-1, 165): 996, (0, 227): 1363, (-1, 6): 42, (-1, 143): 864, (0, 25): 151, (72, 0): 436, (175, 0): 1054, (0, 146): 877, (-1, 145): 876, (0, 63): 379, (124, 0): 748, (211, 0): 1270, (298, 0): 1792, (0, 136): 817, (-1, 123): 744, (7, 0): 46, (-1, 224): 1350, (0, 174): 1045, (-1, 93): 564, (43, 0): 262, (130, 0): 784, (0, 75): 451, (-1, 202): 1218, (0, 196): 1177, (36, 0): 220, (-1, 39): 240, (182, 0): 1096, (269, 0): 1618, (0, 97): 583, (-1, 172): 1038, (0, 250): 1501, (218, 0): 1312, (-1, 9): 60, (264, 0): 1588, (-1, 182): 1098, (0, 16): 97, (14, 0): 88, (0, 292): 1753, (-1, 19): 120, (-1, 152): 918, (50, 0): 304, (137, 0): 826, (149, 0): 898, (0, 143): 859, (95, 0): 574, (-1, 98): 594, (102, 0): 616, (189, 0): 1138, (0, 44): 265, (-1, 235): 1416, (0, 165): 991, (-1, 68): 414, (225, 0): 1354, (0, 66): 397, (-1, 205): 1236, (0, 219): 1315, (21, 0): 130, (-1, 46): 282, (0, 120): 721, (-1, 215): 1296, (262, 0): 1576, (0, 241): 1447, (57, 0): 346, (144, 0): 868, (0, 261): 1567, (-1, 48): 294, (-1, 185): 1116, (109, 0): 658, (196, 0): 1180, (283, 0): 1702, (-1, 26): 162, (300, 0): 1797, (-1, 131): 792, (232, 0): 1396, (0, 13): 79, (-1, 264): 1590, (0, 134): 805, (-1, 101): 612, (28, 0): 172, (0, 35): 211, (-1, 274): 1650, (0, 188): 1129, (0, 225): 1351, (64, 0): 388, (-1, 79): 480, (-1, 300): 1799, (0, 89): 535, (-1, 244): 1470, (-1, 286): 1722, (0, 210): 1261, (116, 0): 700, (203, 0): 1222, (290, 0): 1744, (-1, 81): 492, (0, 127): 763, (-1, 222): 1338, (0, 200): 1201, (255, 0): 1534, (0, 284): 1705, (-1, 59): 360, (-1, 160): 966, (35, 0): 214, (0, 238): 1429, (-1, 297): 1788, (172, 0): 1036, (-1, 29): 180, (-1, 291): 1752, (-1, 138): 834, (87, 0): 526, (174, 0): 1048, (261, 0): 1570, (0, 4): 25, (0, 296): 1777, (0, 157): 943, (123, 0): 742, (-1, 108): 654, (297, 0): 1786, (0, 58): 349, (-1, 277): 1668, (0, 179): 1075, (6, 0): 40, (-1, 118): 714, (0, 80): 481, (-1, 255): 1536, (285, 0): 1714, (0, 169): 1015, (42, 0): 256, (129, 0): 778, (-1, 88): 534, (0, 118): 709, (-1, 193): 1164, (56, 0): 340, (94, 0): 568, (181, 0): 1090, (268, 0): 1612, (0, 275): 1651, (-1, 34): 210, (0, 108): 649, (-1, 171): 1032, (217, 0): 1306, (0, 229): 1375, (0, 265): 1591, (-1, 4): 30, (13, 0): 82, (0, 27): 163, (224, 0): 1348, (0, 148): 889, (49, 0): 298, (136, 0): 820, (-1, 151): 912, (169, 0): 1018, (0, 49): 295, (-1, 284): 1710, (0, 138): 829, (101, 0): 610, (188, 0): 1132, (275, 0): 1654, (-1, 121): 732, (0, 87): 523, (-1, 230): 1386, (0, 160): 961, (-1, 67): 408, (0, 77): 463, (-1, 200): 1206, (20, 0): 124, (0, 198): 1189, (-1, 37): 228, (282, 0): 1696, (0, 99): 595, (-1, 102): 618, (159, 0): 958, (0, 252): 1513, (0, 256): 1537, (-1, 15): 96, (108, 0): 652, (195, 0): 1174, (-1, 180): 1086, (0, 18): 109, (0, 294): 1765, (-1, 17): 108, (247, 0): 1486, (-1, 158): 954, (0, 8): 49, (-1, 263): 1584, (27, 0): 166, (-1, 96): 582, (0, 46): 277, (-1, 233): 1404, (79, 0): 478, (166, 0): 1000, (0, 167): 1003, (-1, 74): 450, (0, 68): 409, (115, 0): 694, (202, 0): 1216, (289, 0): 1738, (0, 221): 1327, (-1, 44): 270, (0, 122): 733, (-1, 213): 1284, (0, 243): 1459, (0, 283): 1699, (0, 263): 1579, (-1, 54): 330, (34, 0): 208, (192, 0): 1156, (-1, 191): 1152, (0, 233): 1399, (-1, 292): 1758, (86, 0): 520, (173, 0): 1042, (260, 0): 1564, (-1, 129): 780, (0, 15): 91, (-1, 270): 1626, (122, 0): 736, (209, 0): 1258, (0, 152): 913, (-1, 107): 648, (0, 37): 223, (-1, 272): 1638, (5, 0): 34, (0, 270): 1621, (0, 190): 1141, (-1, 77): 468, (0, 129): 775, (0, 91): 547, (128, 0): 772, (0, 212): 1273, (-1, 87): 528, (93, 0): 562, (180, 0): 1084, (0, 113): 679, (-1, 220): 1326, (0, 202): 1213, (0, 286): 1717, (-1, 57): 348, (216, 0): 1300, (-1, 166): 1002, (0, 224): 1345, (273, 0): 1642, (12, 0): 76, (-1, 3): 24, (0, 180): 1081, (-1, 136): 822, (0, 194): 1165, (0, 6): 37, (48, 0): 292, (151, 0): 910, (0, 298): 1789, (0, 159): 955, (-1, 146): 882, (-1, 114): 690, (0, 60): 361, (187, 0): 1126, (274, 0): 1648, (0, 181): 1087, (-1, 116): 702, (239, 0): 1438, (0, 82): 493, (-1, 253): 1524, (0, 171): 1027, (-1, 94): 570, (19, 0): 118, (0, 245): 1471, (0, 72): 433, (-1, 199): 1200, (0, 193): 1159, (71, 0): 430, (-1, 32): 198, (0, 110): 661, (-1, 169): 1020, (0, 231): 1387, (107, 0): 646, (194, 0): 1168, (0, 267): 1603, (-1, 10): 66, (-1, 179): 1080, (0, 29): 175, (246, 0): 1480, (0, 289): 1735, (0, 150): 901, (-1, 237): 1428, (-1, 149): 900, (0, 54): 325, (26, 0): 160, (0, 51): 307, (-1, 258): 1554, (-1, 257): 1548, (0, 140): 841, (-1, 243): 1464, (-1, 127): 768, (78, 0): 472, (165, 0): 994, (0, 41): 247, (0, 85): 511, (0, 162): 973, (114, 0): 688, (-1, 65): 396, (288, 0): 1732, (0, 79): 475, (-1, 206): 1242, (0, 216): 1297, (253, 0): 1522, (-1, 43): 264, (163, 0): 982, (-1, 298): 1794, (0, 101): 607, (-1, 208): 1254, (0, 254): 1525, (33, 0): 202, (228, 0): 1372, (0, 258): 1549, (-1, 13): 84, (-1, 186): 1122, (85, 0): 514, (0, 20): 121, (259, 0): 1558, (-1, 23): 144, (-1, 156): 942, (121, 0): 730, (208, 0): 1252, (0, 10): 61, (-1, 261): 1572, (0, 131): 787, (276, 0): 1660, (4, 0): 28, (0, 32): 193, (-1, 239): 1440, (0, 185): 1111, (-1, 135): 816, (40, 0): 244, (143, 0): 862, (-1, 72): 438, (242, 0): 1456, (0, 70): 421, (-1, 241): 1452, (0, 223): 1339, (92, 0): 556, (179, 0): 1078, (266, 0): 1600, (-1, 82): 498, (0, 124): 745, (-1, 219): 1320, (231, 0): 1390, (0, 281): 1687, (-1, 52): 318, (-1, 254): 1530, (-1, 189): 1140, (11, 0): 70, (0, 235): 1411, (160, 0): 964, (-1, 30): 186, (63, 0): 382, (150, 0): 904, (0, 1): 7, (-1, 268): 1614, (0, 276): 1657, (0, 154): 925, (99, 0): 598, (186, 0): 1120, (-1, 105): 636, (0, 39): 235, (-1, 278): 1674, (0, 176): 1057, (238, 0): 1432, (-1, 115): 696, (0, 93): 559, (-1, 248): 1494, (0, 48): 289, (18, 0): 112, (-1, 85): 516, (0, 115): 691, (-1, 194): 1170, (70, 0): 424, (157, 0): 946, (0, 204): 1225, (0, 272): 1633, (-1, 63): 384, (0, 105): 631, (106, 0): 640, (193, 0): 1162, (280, 0): 1684, (0, 226): 1357, (-1, 1): 12, (245, 0): 1474, (-1, 142): 858, (0, 24): 145, (-1, 24): 150, (0, 145): 871, (201, 0): 1210, (25, 0): 154, (-1, 144): 870, (0, 62): 373, (-1, 281): 1692, (77, 0): 466, (164, 0): 988, (-1, 122): 738, (0, 84): 505, (-1, 227): 1368, (113, 0): 682, (200, 0): 1204, (0, 173): 1039, (0, 274): 1645, (-1, 92): 558, (0, 288): 1729, (0, 74): 445, (-1, 197): 1188, (252, 0): 1516, (199, 0): 1198, (0, 195): 1171, (0, 279): 1675, (-1, 38): 234, (32, 0): 196, (135, 0): 814, (0, 249): 1495, (0, 269): 1615, (-1, 8): 54, (84, 0): 508, (171, 0): 1030, (258, 0): 1552, (-1, 177): 1068, (0, 31): 187, (0, 291): 1747, (-1, 18): 114, (223, 0): 1342, (-1, 155): 936, (296, 0): 1780, (0, 53): 319, (-1, 256): 1542, (0, 214): 1285, (3, 0): 22, (0, 142): 853, (-1, 125): 756, (158, 0): 952, (0, 43): 259, (-1, 234): 1410, (55, 0): 334, (142, 0): 856, (0, 164): 985, (-1, 71): 432, (91, 0): 550, (178, 0): 1072, (265, 0): 1594, (0, 218): 1309, (-1, 41): 252, (230, 0): 1384, (0, 103): 619, (-1, 214): 1290, (0, 217): 1303, (0, 240): 1441, (0, 23): 139, (0, 260): 1561, (-1, 51): 312, (10, 0): 64, (-1, 294): 1770, (-1, 184): 1110, (0, 22): 133, (-1, 289): 1740, (62, 0): 376, (-1, 21): 132, (-1, 130): 786, (0, 12): 73, (-1, 267): 1608, (98, 0): 592, (185, 0): 1114, (272, 0): 1636, (0, 133): 799, (299, 299): 0, (-1, 100): 606, (0, 34): 205, (237, 0): 1426, (222, 0): 1336, (0, 187): 1123, (-1, 78): 474, (-1, 231): 1392, (17, 0): 106, (0, 88): 529, (-1, 247): 1488, (0, 209): 1255, (-1, 80): 486, (69, 0): 418, (156, 0): 940, (0, 126): 757, (-1, 217): 1308, (0, 247): 1483, (105, 0): 634, (-1, 58): 354, (295, 0): 1774, (-1, 163): 984, (0, 237): 1423, (41, 0): 250, (244, 0): 1468, (-1, 28): 174, (-1, 250): 1506, (-1, 133): 804, (-1, 164): 990, (0, 3): 19, (24, 0): 148, (0, 156): 937, (-1, 111): 672, (76, 0): 460, (0, 57): 343, (-1, 276): 1662, (0, 178): 1069, (-1, 113): 684, (112, 0): 676, (215, 0): 1294, (0, 95): 571, (154, 0): 928, (0, 168): 1009, (286, 0): 1720, (-1, 91): 552, (219, 0): 1318, (0, 117): 703, (-1, 192): 1158, (-1, 296): 1782, (0, 206): 1237, (47, 0): 286, (134, 0): 808, (-1, 61): 372, (0, 107): 643, (-1, 170): 1026, (0, 228): 1369, (83, 0): 502, (170, 0): 1024, (257, 0): 1546, (0, 264): 1585, (-1, 7): 48, (-1, 140): 846, (0, 26): 157, (0, 147): 883, (-1, 120): 726, (2, 0): 16, (-1, 42): 258, (-1, 287): 1728, (0, 137): 823, (54, 0): 328, (141, 0): 850}\n",
      "902\n",
      "{(14, 17): 347, (10, 17): 259, (17, 7): 404, (18, 4): 423, (15, 1): 354, (2, 5): 71, (5, 8): 140, (6, 7): 161, (7, 6): 183, (6, 10): 164, (19, 14): 455, (18, 9): 428, (15, 4): 357, (2, 6): 72, (5, 11): 143, (4, 16): 126, (14, 15): 345, (12, 11): 298, (19, 13): 454, (16, 19): 393, (17, 18): 414, (5, 14): 146, (8, 18): 216, (6, 13): 167, (15, 16): 368, (15, 13): 366, (2, 18): 84, (1, 15): 59, (2, 12): 78, (3, 17): 105, (6, 14): 168, (19, 18): 459, (17, 6): 403, (13, 3): 312, (12, 13): 299, (19, 7): 448, (18, 5): 424, (17, 11): 408, (13, 16): 324, (11, 19): 283, (18, 16): 435, (5, 4): 137, (16, 4): 379, (14, 19): 349, (12, 7): 294, (14, 6): 337, (13, 6): 315, (1, 19): 63, (13, 19): 327, (4, 11): 121, (3, 5): 93, (9, 13): 233, (8, 3): 202, (6, 1): 156, (6, 19): 173, (8, 19): 217, (11, 14): 278, (9, 18): 238, (16, 14): 389, (19, 11): 452, (16, 17): 391, (8, 10): 208, (8, 16): 214, (11, 13): 277, (17, 5): 402, (7, 14): 190, (19, 6): 447, (13, 15): 323, (6, 11): 165, (5, 3): 136, (14, 16): 346, (19, 16): 457, (12, 19): 305, (15, 6): 359, (7, 9): 185, (3, 4): 92, (10, 11): 253, (11, 2): 267, (19, 15): 456, (17, 3): 400, (8, 1): 200, (6, 3): 158, (11, 1): 266, (11, 18): 282, (17, 14): 411, (13, 11): 320, (2, 16): 82, (18, 13): 432, (7, 1): 178, (3, 19): 107, (10, 1): 244, (11, 12): 276, (17, 4): 401, (16, 12): 387, (14, 11): 342, (18, 3): 422, (17, 9): 406, (18, 14): 433, (5, 2): 135, (10, 2): 245}\n"
     ]
    }
   ],
   "source": [
    "print illegal_moves\n",
    "print len(illegal_moves)\n",
    "\n",
    "#layout_old = {(4, 5): 65, (3, 7): 55, (9, 5): 126, (8, 4): 113}\n",
    "print layout_old"
   ]
  },
  {
   "cell_type": "markdown",
   "metadata": {},
   "source": [
    "# This movement function now should check boundaries too…"
   ]
  },
  {
   "cell_type": "code",
   "execution_count": 977,
   "metadata": {},
   "outputs": [
    {
     "name": "stdout",
     "output_type": "stream",
     "text": [
      "{(6, 9): 163, (12, 1): 288, (16, 9): 384, (19, 4): 445, (1, 6): 50, (2, 5): 71, (5, 8): 140, (6, 7): 161, (10, 7): 250, (6, 10): 164, (19, 14): 455, (12, 17): 303, (19, 3): 444, (3, 2): 91, (4, 16): 126, (7, 5): 182, (12, 11): 298, (15, 14): 367, (13, 10): 319, (2, 17): 83, (14, 18): 348, (10, 14): 256, (8, 18): 216, (6, 13): 167, (9, 19): 239, (7, 8): 184, (6, 16): 170, (11, 16): 280, (2, 1): 68, (8, 9): 207, (7, 2): 179, (1, 18): 62, (19, 18): 459, (7, 15): 191, (12, 13): 299, (1, 16): 60, (17, 11): 408, (8, 6): 205, (9, 7): 228, (11, 4): 269, (16, 4): 379, (6, 11): 165, (10, 19): 261, (17, 1): 398, (12, 18): 304, (1, 19): 63, (13, 19): 327, (9, 13): 233, (4, 6): 116, (5, 7): 139, (16, 1): 376, (18, 6): 425, (19, 12): 453, (15, 9): 362, (3, 15): 103, (1, 3): 47, (2, 8): 74, (11, 14): 278, (14, 9): 340, (18, 1): 420, (13, 12): 321, (8, 10): 208, (3, 16): 104, (6, 15): 169, (11, 13): 277, (16, 11): 386, (18, 2): 421, (18, 17): 436, (3, 9): 97, (4, 2): 113, (9, 6): 227, (6, 5): 160, (5, 3): 136, (10, 5): 248, (6, 8): 162, (16, 8): 383, (13, 5): 314, (12, 19): 305, (18, 7): 426, (5, 9): 141, (4, 7): 117, (9, 1): 222, (5, 6): 138, (11, 2): 267, (7, 16): 192, (13, 8): 317, (18, 8): 427, (8, 14): 212, (6, 3): 158, (7, 10): 186, (16, 18): 392, (11, 10): 275, (9, 10): 230, (5, 15): 147, (8, 17): 215, (7, 9): 185, (13, 14): 322, (3, 8): 96, (5, 2): 135, (11, 6): 271}\n",
      "{(6, 9): 163, (12, 1): 288, (16, 9): 384, (19, 4): 445, (1, 6): 50, (2, 5): 71, (5, 8): 140, (6, 7): 161, (10, 7): 250, (6, 10): 164, (19, 14): 455, (12, 17): 303, (19, 3): 444, (3, 2): 91, (4, 16): 126, (7, 5): 182, (12, 11): 298, (15, 14): 367, (13, 10): 319, (2, 17): 83, (14, 18): 348, (10, 14): 256, (8, 18): 216, (6, 13): 167, (9, 19): 239, (7, 8): 184, (6, 16): 170, (11, 16): 280, (2, 1): 68, (8, 9): 207, (7, 2): 179, (1, 18): 62, (19, 18): 459, (7, 15): 191, (12, 13): 299, (1, 16): 60, (17, 11): 408, (8, 6): 205, (9, 7): 228, (11, 4): 269, (6, 11): 165, (10, 19): 261, (17, 1): 398, (12, 18): 304, (1, 19): 63, (13, 19): 327, (9, 13): 233, (4, 6): 116, (5, 7): 139, (16, 1): 376, (18, 6): 425, (19, 12): 453, (15, 9): 362, (3, 15): 103, (1, 3): 47, (2, 8): 74, (11, 14): 278, (14, 9): 340, (18, 1): 420, (13, 12): 321, (8, 10): 208, (3, 16): 104, (6, 15): 169, (11, 13): 277, (16, 11): 386, (18, 2): 421, (18, 17): 436, (3, 9): 97, (4, 2): 113, (9, 6): 227, (6, 5): 160, (5, 3): 136, (10, 5): 248, (6, 8): 162, (16, 8): 383, (13, 5): 314, (12, 19): 305, (18, 7): 426, (5, 9): 141, (4, 7): 117, (9, 1): 222, (5, 6): 138, (11, 2): 267, (7, 16): 192, (13, 8): 317, (18, 8): 427, (8, 14): 212, (6, 3): 158, (7, 10): 186, (16, 18): 392, (11, 10): 275, (9, 10): 230, (5, 15): 147, (8, 17): 215, (17, 4): 379, (7, 9): 185, (13, 14): 322, (3, 8): 96, (5, 2): 135, (11, 6): 271}\n",
      "(17, 4)\n"
     ]
    }
   ],
   "source": [
    "import random\n",
    "from operator import add\n",
    "\n",
    "position_selected = random.choice( layout_old.keys() )\n",
    "\n",
    "def Mover(position_selected, layout_old, illegal_moves):\n",
    "    possibilities = {1: (1, 0), 2: (0,1), 3:(-1, 0), 4:(0,-1), 5:(0,0)}\n",
    "    movement_options = 4\n",
    "    \n",
    "    newDir = random.choice(possibilities.values())\n",
    "    new_posit = tuple(map(add, position_selected, newDir))\n",
    "    \n",
    "    new_position_selected = boundary_checker(position_selected, spaceMin, spaceMax)\n",
    "    \n",
    "    if new_position_selected == position_selected:\n",
    "    \n",
    "        if new_posit not in layout_old.keys():        \n",
    "            idx = layout_old.get(position_selected)\n",
    "\n",
    "            del layout_old[position_selected]\n",
    "            layout_old[new_posit] = idx\n",
    "\n",
    "            return layout_old, new_posit\n",
    "        else:\n",
    "            return layout_old, position_selected\n",
    "    else:\n",
    "        if new_position_selected not in layout_old.keys():        \n",
    "            idx = layout_old.get(position_selected)\n",
    "\n",
    "            del layout_old[position_selected]\n",
    "            layout_old[new_position_selected] = idx\n",
    "\n",
    "            return layout_old, new_position_selected\n",
    "        else:\n",
    "            return layout_old, position_selected\n",
    "    \n",
    "    \n",
    "\n",
    "print layout_old\n",
    "x,y = Mover(position_selected, layout_old, illegal_moves)\n",
    "print x\n",
    "print y"
   ]
  },
  {
   "cell_type": "markdown",
   "metadata": {},
   "source": [
    "# Movement value function looks good and returns the movement options well!"
   ]
  },
  {
   "cell_type": "code",
   "execution_count": 861,
   "metadata": {},
   "outputs": [
    {
     "data": {
      "text/plain": [
       "4"
      ]
     },
     "execution_count": 861,
     "metadata": {},
     "output_type": "execute_result"
    }
   ],
   "source": [
    "from operator import add\n",
    "\n",
    "position_selected = (8, 5)\n",
    "spaceMin = 0\n",
    "spaceMax = 9\n",
    "\n",
    "def movement_finder(position_selected, illegal_moves, layout_old, spaceMin, spaceMax):\n",
    "    total_moves = 4\n",
    "    my_possibilities = {1: (1, 0), 2: (0,1), 3:(-1, 0), 4:(0,-1) }\n",
    "\n",
    "    finding_neighbors = {}\n",
    "    j = 0\n",
    "    for i in my_possibilities.values():\n",
    "        finding_neighbors[tuple(map(add, position_selected, i))] = j\n",
    "        j += 1\n",
    "\n",
    "   \n",
    "    if position_selected[0] == spaceMin and position_selected[1] == spaceMin:\n",
    "        current_moves = 2\n",
    "        sd1 = set(finding_neighbors.keys())\n",
    "        sd2 = set(layout_old.keys())\n",
    "        current_moves = current_moves - len(sd1.intersection(sd2))\n",
    "        return current_moves\n",
    "    if position_selected[0] == spaceMax and position_selected[1] == spaceMax:\n",
    "        current_moves = 2\n",
    "        sd1 = set(finding_neighbors.keys())\n",
    "        sd2 = set(layout_old.keys())\n",
    "        current_moves = current_moves - len(sd1.intersection(sd2))\n",
    "        return current_moves \n",
    "    if position_selected[0] == spaceMin or position_selected[1] == spaceMin:\n",
    "        current_moves = 3\n",
    "        sd1 = set(finding_neighbors.keys())\n",
    "        sd2 = set(layout_old.keys())\n",
    "        current_moves = current_moves - len(sd1.intersection(sd2))\n",
    "        return current_moves\n",
    "    if position_selected[0] == spaceMax or position_selected[1] == spaceMax:\n",
    "        current_moves = 3\n",
    "        sd1 = set(finding_neighbors.keys())\n",
    "        sd2 = set(layout_old.keys())\n",
    "        current_moves = current_moves - len(sd1.intersection(sd2))\n",
    "        return current_moves\n",
    "    else:\n",
    "        sd1 = set(finding_neighbors.keys())\n",
    "        sd2 = set(layout_old.keys())\n",
    "        #sd3 = set(illegal_moves.keys())\n",
    "        current_moves = total_moves - len(sd1.intersection(sd2)) #- len(sd1.intersection(sd3))\n",
    "        return current_moves\n",
    "    \n",
    "movement_finder(position_selected, illegal_moves, layout_old, spaceMin, spaceMax)"
   ]
  },
  {
   "cell_type": "code",
   "execution_count": 544,
   "metadata": {},
   "outputs": [
    {
     "data": {
      "text/plain": [
       "211"
      ]
     },
     "execution_count": 544,
     "metadata": {},
     "output_type": "execute_result"
    }
   ],
   "source": [
    "sum(move_count.values())"
   ]
  },
  {
   "cell_type": "code",
   "execution_count": null,
   "metadata": {
    "collapsed": true
   },
   "outputs": [],
   "source": []
  },
  {
   "cell_type": "code",
   "execution_count": 589,
   "metadata": {},
   "outputs": [],
   "source": [
    "def allRxn(move, bind, dissociate):\n",
    "\n",
    "    options = numpy.zeros((3, 1))\n",
    "    options[0] = move/(move + bind + dissociate)\n",
    "    options[1] = (bind + move)/(move + bind + dissociate)\n",
    "    options[2] = (bind + move + dissociate)/(move + bind + dissociate)\n",
    "    \n",
    "    random_value = random.uniform(0, 1)\n",
    "    \n",
    "    if 0 <= random_value <= options[0]:\n",
    "        return 'move'\n",
    "    elif options[0] <= random_value <= options[1]:\n",
    "        return 'bind'\n",
    "    else:\n",
    "        return 'dissociate'"
   ]
  },
  {
   "cell_type": "code",
   "execution_count": null,
   "metadata": {},
   "outputs": [],
   "source": []
  },
  {
   "cell_type": "markdown",
   "metadata": {},
   "source": []
  },
  {
   "cell_type": "code",
   "execution_count": 117,
   "metadata": {
    "collapsed": true
   },
   "outputs": [],
   "source": []
  },
  {
   "cell_type": "code",
   "execution_count": null,
   "metadata": {},
   "outputs": [],
   "source": []
  },
  {
   "cell_type": "code",
   "execution_count": null,
   "metadata": {
    "collapsed": true
   },
   "outputs": [],
   "source": []
  },
  {
   "cell_type": "code",
   "execution_count": null,
   "metadata": {
    "collapsed": true
   },
   "outputs": [],
   "source": []
  },
  {
   "cell_type": "markdown",
   "metadata": {
    "collapsed": true
   },
   "source": [
    "# Association Function"
   ]
  },
  {
   "cell_type": "code",
   "execution_count": null,
   "metadata": {
    "collapsed": true
   },
   "outputs": [],
   "source": []
  },
  {
   "cell_type": "code",
   "execution_count": 107,
   "metadata": {
    "collapsed": true
   },
   "outputs": [],
   "source": [
    "def boundary_checker(x, spaceMin, spaceMax):\n",
    "    if spaceMax in x or spaceMin in x:\n",
    "        x = list(x)\n",
    "        if x[0] == spaceMin:\n",
    "            x[0] = spaceMin + 1\n",
    "        elif x[0] == spaceMax:\n",
    "            x[0] = spaceMax - 1\n",
    "        elif x[1] == spaceMin:\n",
    "            x[1] = spaceMin + 1\n",
    "        elif x[1] == spaceMax:\n",
    "            x[1] = spaceMax - 1\n",
    "    return tuple(x)"
   ]
  },
  {
   "cell_type": "code",
   "execution_count": 156,
   "metadata": {},
   "outputs": [
    {
     "data": {
      "text/plain": [
       "(9, 8)"
      ]
     },
     "execution_count": 156,
     "metadata": {},
     "output_type": "execute_result"
    }
   ],
   "source": [
    "x = (10, 8)\n",
    "y = boundary_checker(x, spaceMin, spaceMax)"
   ]
  },
  {
   "cell_type": "code",
   "execution_count": null,
   "metadata": {
    "collapsed": true
   },
   "outputs": [],
   "source": []
  },
  {
   "cell_type": "code",
   "execution_count": 188,
   "metadata": {},
   "outputs": [
    {
     "name": "stdout",
     "output_type": "stream",
     "text": [
      "         10 function calls in 0.000 seconds\n",
      "\n",
      "   Ordered by: standard name\n",
      "\n",
      "   ncalls  tottime  percall  cumtime  percall filename:lineno(function)\n",
      "        1    0.000    0.000    0.000    0.000 <ipython-input-160-63567de2d633>:6(Mover)\n",
      "        1    0.000    0.000    0.000    0.000 <ipython-input-183-d364d17ad5da>:1(boundary_checker)\n",
      "        1    0.000    0.000    0.000    0.000 <string>:1(<module>)\n",
      "        1    0.000    0.000    0.000    0.000 random.py:273(choice)\n",
      "        1    0.000    0.000    0.000    0.000 {len}\n",
      "        1    0.000    0.000    0.000    0.000 {map}\n",
      "        1    0.000    0.000    0.000    0.000 {method 'disable' of '_lsprof.Profiler' objects}\n",
      "        1    0.000    0.000    0.000    0.000 {method 'keys' of 'dict' objects}\n",
      "        1    0.000    0.000    0.000    0.000 {method 'random' of '_random.Random' objects}\n",
      "        1    0.000    0.000    0.000    0.000 {method 'values' of 'dict' objects}\n",
      "\n",
      "\n"
     ]
    }
   ],
   "source": [
    "#5 nodes\n",
    "import cProfile\n",
    "\n",
    "cProfile.run('layout_old, pos = Mover(position_selected, layout_old, illegal_moves)')\n",
    "\n"
   ]
  },
  {
   "cell_type": "code",
   "execution_count": 196,
   "metadata": {},
   "outputs": [
    {
     "name": "stdout",
     "output_type": "stream",
     "text": [
      "         10 function calls in 0.000 seconds\n",
      "\n",
      "   Ordered by: standard name\n",
      "\n",
      "   ncalls  tottime  percall  cumtime  percall filename:lineno(function)\n",
      "        1    0.000    0.000    0.000    0.000 <ipython-input-160-63567de2d633>:6(Mover)\n",
      "        1    0.000    0.000    0.000    0.000 <ipython-input-183-d364d17ad5da>:1(boundary_checker)\n",
      "        1    0.000    0.000    0.000    0.000 <string>:1(<module>)\n",
      "        1    0.000    0.000    0.000    0.000 random.py:273(choice)\n",
      "        1    0.000    0.000    0.000    0.000 {len}\n",
      "        1    0.000    0.000    0.000    0.000 {map}\n",
      "        1    0.000    0.000    0.000    0.000 {method 'disable' of '_lsprof.Profiler' objects}\n",
      "        1    0.000    0.000    0.000    0.000 {method 'keys' of 'dict' objects}\n",
      "        1    0.000    0.000    0.000    0.000 {method 'random' of '_random.Random' objects}\n",
      "        1    0.000    0.000    0.000    0.000 {method 'values' of 'dict' objects}\n",
      "\n",
      "\n"
     ]
    }
   ],
   "source": [
    "# 50 nodes\n",
    "import cProfile\n",
    "\n",
    "\n",
    "cProfile.run('layout_old, pos = Mover(position_selected, layout_old, illegal_moves)')\n",
    "\n",
    "\n"
   ]
  },
  {
   "cell_type": "code",
   "execution_count": 201,
   "metadata": {},
   "outputs": [
    {
     "name": "stdout",
     "output_type": "stream",
     "text": [
      "         11 function calls in 0.001 seconds\n",
      "\n",
      "   Ordered by: standard name\n",
      "\n",
      "   ncalls  tottime  percall  cumtime  percall filename:lineno(function)\n",
      "        1    0.001    0.001    0.001    0.001 <ipython-input-160-63567de2d633>:6(Mover)\n",
      "        1    0.000    0.000    0.000    0.000 <ipython-input-183-d364d17ad5da>:1(boundary_checker)\n",
      "        1    0.000    0.000    0.001    0.001 <string>:1(<module>)\n",
      "        1    0.000    0.000    0.000    0.000 random.py:273(choice)\n",
      "        1    0.000    0.000    0.000    0.000 {len}\n",
      "        1    0.000    0.000    0.000    0.000 {map}\n",
      "        1    0.000    0.000    0.000    0.000 {method 'disable' of '_lsprof.Profiler' objects}\n",
      "        1    0.000    0.000    0.000    0.000 {method 'get' of 'dict' objects}\n",
      "        1    0.000    0.000    0.000    0.000 {method 'keys' of 'dict' objects}\n",
      "        1    0.000    0.000    0.000    0.000 {method 'random' of '_random.Random' objects}\n",
      "        1    0.000    0.000    0.000    0.000 {method 'values' of 'dict' objects}\n",
      "\n",
      "\n"
     ]
    }
   ],
   "source": [
    "# 5000 nodes\n",
    "\n",
    "import cProfile\n",
    "\n",
    "cProfile.run('layout_old, pos = Mover(position_selected, layout_old, illegal_moves)')"
   ]
  },
  {
   "cell_type": "code",
   "execution_count": 50,
   "metadata": {},
   "outputs": [
    {
     "name": "stdout",
     "output_type": "stream",
     "text": [
      "         10 function calls in 0.096 seconds\n",
      "\n",
      "   Ordered by: standard name\n",
      "\n",
      "   ncalls  tottime  percall  cumtime  percall filename:lineno(function)\n",
      "        1    0.001    0.001    0.001    0.001 <ipython-input-10-d364d17ad5da>:1(boundary_checker)\n",
      "        1    0.015    0.015    0.093    0.093 <ipython-input-8-63567de2d633>:6(Mover)\n",
      "        1    0.003    0.003    0.096    0.096 <string>:1(<module>)\n",
      "        1    0.000    0.000    0.000    0.000 random.py:273(choice)\n",
      "        1    0.000    0.000    0.000    0.000 {len}\n",
      "        1    0.000    0.000    0.000    0.000 {map}\n",
      "        1    0.000    0.000    0.000    0.000 {method 'disable' of '_lsprof.Profiler' objects}\n",
      "        1    0.076    0.076    0.076    0.076 {method 'keys' of 'dict' objects}\n",
      "        1    0.000    0.000    0.000    0.000 {method 'random' of '_random.Random' objects}\n",
      "        1    0.000    0.000    0.000    0.000 {method 'values' of 'dict' objects}\n",
      "\n",
      "\n"
     ]
    }
   ],
   "source": [
    "# 50,000 nodes\n",
    "\n",
    "import cProfile\n",
    "\n",
    "cProfile.run('layout_old, pos = Mover(position_selected, layout_old, illegal_moves)')"
   ]
  },
  {
   "cell_type": "markdown",
   "metadata": {},
   "source": [
    "## speed with NTI's suggestion of dict lookup"
   ]
  },
  {
   "cell_type": "code",
   "execution_count": 777,
   "metadata": {},
   "outputs": [
    {
     "name": "stdout",
     "output_type": "stream",
     "text": [
      "         9 function calls in 0.000 seconds\n",
      "\n",
      "   Ordered by: standard name\n",
      "\n",
      "   ncalls  tottime  percall  cumtime  percall filename:lineno(function)\n",
      "        1    0.000    0.000    0.000    0.000 <ipython-input-107-d364d17ad5da>:1(boundary_checker)\n",
      "        1    0.000    0.000    0.000    0.000 <ipython-input-756-09b6309fbc7c>:6(Mover)\n",
      "        1    0.000    0.000    0.000    0.000 <string>:1(<module>)\n",
      "        1    0.000    0.000    0.000    0.000 random.py:273(choice)\n",
      "        1    0.000    0.000    0.000    0.000 {len}\n",
      "        1    0.000    0.000    0.000    0.000 {map}\n",
      "        1    0.000    0.000    0.000    0.000 {method 'disable' of '_lsprof.Profiler' objects}\n",
      "        1    0.000    0.000    0.000    0.000 {method 'random' of '_random.Random' objects}\n",
      "        1    0.000    0.000    0.000    0.000 {method 'values' of 'dict' objects}\n",
      "\n",
      "\n"
     ]
    }
   ],
   "source": [
    "# 50,000 nodes\n",
    "\n",
    "import cProfile\n",
    "\n",
    "cProfile.run('layout_old, pos = Mover(position_selected, layout_old, illegal_moves)')"
   ]
  },
  {
   "cell_type": "code",
   "execution_count": 45,
   "metadata": {},
   "outputs": [
    {
     "name": "stdout",
     "output_type": "stream",
     "text": [
      "[[ 0.     0.     0.001  0.009]]\n"
     ]
    }
   ],
   "source": [
    "profiling_output = numpy.array([[0, 0,0.001,0.009]])\n",
    "print profiling_output"
   ]
  },
  {
   "cell_type": "code",
   "execution_count": 104,
   "metadata": {
    "collapsed": true
   },
   "outputs": [],
   "source": [
    "x = numpy.array([0, 0,0.001,0.009])\n",
    "y = numpy.array([5, 50, 5000,50000])"
   ]
  },
  {
   "cell_type": "code",
   "execution_count": 105,
   "metadata": {},
   "outputs": [
    {
     "data": {
      "text/plain": [
       "<matplotlib.text.Text at 0x10f656c10>"
      ]
     },
     "execution_count": 105,
     "metadata": {},
     "output_type": "execute_result"
    },
    {
     "data": {
      "image/png": "[encoded data removed]",
      "text/plain": [
       "<matplotlib.figure.Figure at 0x10f637910>"
      ]
     },
     "metadata": {},
     "output_type": "display_data"
    }
   ],
   "source": [
    "import matplotlib.pyplot as plt\n",
    "#import numpy as np\n",
    "%matplotlib inline\n",
    "\n",
    "\n",
    "#plt.hist(newArray, bins=5, width=0.035, alpha=0.7, color='black')\n",
    "#plt.suptitle('500T, 50N, 100S', fontsize=9)\n",
    "\n",
    "\n",
    "plt.plot(y,x, \"o\", alpha=0.6)\n",
    "plt.xlabel('Node Number',  fontsize=9)\n",
    "plt.ylabel('Time (sec)',  fontsize=9)"
   ]
  },
  {
   "cell_type": "code",
   "execution_count": null,
   "metadata": {
    "collapsed": true
   },
   "outputs": [],
   "source": []
  },
  {
   "cell_type": "code",
   "execution_count": null,
   "metadata": {
    "collapsed": true,
    "scrolled": true
   },
   "outputs": [],
   "source": []
  },
  {
   "cell_type": "code",
   "execution_count": 65,
   "metadata": {
    "scrolled": true
   },
   "outputs": [
    {
     "name": "stdout",
     "output_type": "stream",
     "text": [
      "Timer unit: 1e-06 s\n",
      "\n",
      "Total time: 0.008472 s\n",
      "File: <ipython-input-8-63567de2d633>\n",
      "Function: Mover at line 6\n",
      "\n",
      "Line #      Hits         Time  Per Hit   % Time  Line Contents\n",
      "==============================================================\n",
      "     6                                           def Mover(position_selected, layout_old, illegal_moves):\n",
      "     7         1          2.0      2.0      0.0      possibilities = {1: (1, 0), 2: (0,1), 3:(-1, 0), 4:(0,-1), 5:(0,0)}\n",
      "     8         1          2.0      2.0      0.0      movement_options = 4\n",
      "     9                                               \n",
      "    10         1          9.0      9.0      0.1      newDir = random.choice(possibilities.values())\n",
      "    11         1          5.0      5.0      0.1      new_posit = tuple(map(add, position_selected, newDir))\n",
      "    12                                               \n",
      "    13         1          5.0      5.0      0.1      new_position_selected = boundary_checker(position_selected, spaceMin, spaceMax)\n",
      "    14                                               \n",
      "    15         1          1.0      1.0      0.0      if new_position_selected == position_selected:\n",
      "    16                                               \n",
      "    17         1       8444.0   8444.0     99.7          if new_posit not in layout_old.keys():        \n",
      "    18                                                       idx = layout_old.get(position_selected)\n",
      "    19                                           \n",
      "    20                                                       del layout_old[position_selected]\n",
      "    21                                                       layout_old[new_posit] = idx\n",
      "    22                                           \n",
      "    23                                                       return layout_old, new_posit\n",
      "    24                                                   else:\n",
      "    25         1          4.0      4.0      0.0              return layout_old, position_selected\n",
      "    26                                               else:\n",
      "    27                                                   if new_position_selected not in layout_old.keys():        \n",
      "    28                                                       idx = layout_old.get(position_selected)\n",
      "    29                                           \n",
      "    30                                                       del layout_old[position_selected]\n",
      "    31                                                       layout_old[new_position_selected] = idx\n",
      "    32                                           \n",
      "    33                                                       return layout_old, new_position_selected\n",
      "    34                                                   else:\n",
      "    35                                                       return layout_old, position_selected\n",
      "\n"
     ]
    }
   ],
   "source": [
    "from line_profiler import LineProfiler\n",
    "import random\n",
    "\n",
    "lp = LineProfiler()\n",
    "lp_wrapper = lp(Mover)\n",
    "lp_wrapper(position_selected, layout_old, illegal_moves)\n",
    "lp.print_stats()"
   ]
  },
  {
   "cell_type": "markdown",
   "metadata": {},
   "source": [
    "# Mover function without dict.get()"
   ]
  },
  {
   "cell_type": "code",
   "execution_count": 756,
   "metadata": {
    "collapsed": true
   },
   "outputs": [],
   "source": [
    "import random\n",
    "from operator import add\n",
    "\n",
    "position_selected = random.choice( layout_old.keys() )\n",
    "\n",
    "def Mover(position_selected, layout_old, illegal_moves):\n",
    "    possibilities = {1: (1, 0), 2: (0,1), 3:(-1, 0), 4:(0,-1), 5:(0,0)}\n",
    "    movement_options = 4\n",
    "    \n",
    "    newDir = random.choice(possibilities.values())\n",
    "    new_posit = tuple(map(add, position_selected, newDir))\n",
    "    \n",
    "    new_position_selected = boundary_checker(position_selected, spaceMin, spaceMax)\n",
    "    \n",
    "    if new_position_selected == position_selected:\n",
    "    \n",
    "        if new_posit not in layout_old:        \n",
    "            idx = layout_old[position_selected]\n",
    "\n",
    "            del layout_old[position_selected]\n",
    "            layout_old[new_posit] = idx\n",
    "\n",
    "            return layout_old, new_posit\n",
    "        else:\n",
    "            return layout_old, position_selected\n",
    "    else:\n",
    "        if new_position_selected not in layout_old:        \n",
    "            idx = layout_old.get(position_selected)\n",
    "\n",
    "            del layout_old[position_selected]\n",
    "            layout_old[new_position_selected] = idx\n",
    "\n",
    "            return layout_old, new_position_selected\n",
    "        else:\n",
    "            return layout_old, position_selected\n",
    "    \n",
    "    \n",
    "\n",
    "#print layout_old\n",
    "#x,y = Mover(position_selected, layout_old, illegal_moves)\n",
    "#print x\n",
    "#print y"
   ]
  },
  {
   "cell_type": "code",
   "execution_count": 68,
   "metadata": {
    "scrolled": true
   },
   "outputs": [
    {
     "name": "stdout",
     "output_type": "stream",
     "text": [
      "Timer unit: 1e-06 s\n",
      "\n",
      "Total time: 0.00476 s\n",
      "File: <ipython-input-67-0c38caf56fb9>\n",
      "Function: Mover at line 6\n",
      "\n",
      "Line #      Hits         Time  Per Hit   % Time  Line Contents\n",
      "==============================================================\n",
      "     6                                           def Mover(position_selected, layout_old, illegal_moves):\n",
      "     7         1          4.0      4.0      0.1      possibilities = {1: (1, 0), 2: (0,1), 3:(-1, 0), 4:(0,-1), 5:(0,0)}\n",
      "     8         1          2.0      2.0      0.0      movement_options = 4\n",
      "     9                                               \n",
      "    10         1         53.0     53.0      1.1      newDir = random.choice(possibilities.values())\n",
      "    11         1          9.0      9.0      0.2      new_posit = tuple(map(add, position_selected, newDir))\n",
      "    12                                               \n",
      "    13         1          6.0      6.0      0.1      new_position_selected = boundary_checker(position_selected, spaceMin, spaceMax)\n",
      "    14                                               \n",
      "    15         1          1.0      1.0      0.0      if new_position_selected == position_selected:\n",
      "    16                                               \n",
      "    17         1       4682.0   4682.0     98.4          if new_posit not in layout_old.keys():        \n",
      "    18                                                       idx = layout_old[position_selected]\n",
      "    19                                           \n",
      "    20                                                       del layout_old[position_selected]\n",
      "    21                                                       layout_old[new_posit] = idx\n",
      "    22                                           \n",
      "    23                                                       return layout_old, new_posit\n",
      "    24                                                   else:\n",
      "    25         1          3.0      3.0      0.1              return layout_old, position_selected\n",
      "    26                                               else:\n",
      "    27                                                   if new_position_selected not in layout_old.keys():        \n",
      "    28                                                       idx = layout_old.get(position_selected)\n",
      "    29                                           \n",
      "    30                                                       del layout_old[position_selected]\n",
      "    31                                                       layout_old[new_position_selected] = idx\n",
      "    32                                           \n",
      "    33                                                       return layout_old, new_position_selected\n",
      "    34                                                   else:\n",
      "    35                                                       return layout_old, position_selected\n",
      "\n"
     ]
    }
   ],
   "source": [
    "from line_profiler import LineProfiler\n",
    "import random\n",
    "\n",
    "lp = LineProfiler()\n",
    "lp_wrapper = lp(Mover)\n",
    "lp_wrapper(position_selected, layout_old, illegal_moves)\n",
    "lp.print_stats()"
   ]
  },
  {
   "cell_type": "code",
   "execution_count": null,
   "metadata": {
    "collapsed": true
   },
   "outputs": [],
   "source": []
  },
  {
   "cell_type": "code",
   "execution_count": 88,
   "metadata": {
    "scrolled": false
   },
   "outputs": [
    {
     "data": {
      "image/png": "[encoded data removed]",
      "text/plain": [
       "<matplotlib.figure.Figure at 0x10b4d2cd0>"
      ]
     },
     "metadata": {},
     "output_type": "display_data"
    }
   ],
   "source": [
    "import matplotlib.pyplot as plt; plt.rcdefaults()\n",
    "import numpy as np\n",
    "import matplotlib.pyplot as plt\n",
    " \n",
    "objects = ('dict.get(key)', 'dict[key]')\n",
    "y_pos = np.arange(len(objects))\n",
    "performance = [0.008472, 0.00476]\n",
    " \n",
    "plt.bar(y_pos, performance, align='center', alpha=0.75)\n",
    "plt.xticks(y_pos, objects)\n",
    "plt.ylabel('Time [sec]')\n",
    "plt.title('Dictionary lookup')\n",
    " \n",
    "plt.show()"
   ]
  },
  {
   "cell_type": "code",
   "execution_count": null,
   "metadata": {
    "collapsed": true
   },
   "outputs": [],
   "source": []
  },
  {
   "cell_type": "code",
   "execution_count": 106,
   "metadata": {
    "scrolled": false
   },
   "outputs": [
    {
     "data": {
      "text/plain": [
       "<matplotlib.text.Text at 0x108ef0c50>"
      ]
     },
     "execution_count": 106,
     "metadata": {},
     "output_type": "execute_result"
    },
    {
     "data": {
      "image/png": "[encoded data removed]",
      "text/plain": [
       "<matplotlib.figure.Figure at 0x10b4eab10>"
      ]
     },
     "metadata": {},
     "output_type": "display_data"
    }
   ],
   "source": [
    "import matplotlib.pyplot as plt\n",
    "%matplotlib inline\n",
    "\n",
    "\n",
    "x = numpy.array([0, 0,0.001,0.00476])\n",
    "y = numpy.array([5, 50, 5000,50000])\n",
    "\n",
    "plt.plot(y,x, \"o\", alpha=0.6)\n",
    "plt.xlabel('Node Number',  fontsize=9)\n",
    "plt.ylabel('Time (sec)',  fontsize=9)"
   ]
  },
  {
   "cell_type": "code",
   "execution_count": null,
   "metadata": {
    "collapsed": true
   },
   "outputs": [],
   "source": []
  },
  {
   "cell_type": "code",
   "execution_count": null,
   "metadata": {
    "collapsed": true
   },
   "outputs": [],
   "source": []
  },
  {
   "cell_type": "code",
   "execution_count": null,
   "metadata": {
    "collapsed": true
   },
   "outputs": [],
   "source": []
  },
  {
   "cell_type": "code",
   "execution_count": null,
   "metadata": {},
   "outputs": [],
   "source": []
  },
  {
   "cell_type": "markdown",
   "metadata": {},
   "source": [
    "# Association Function"
   ]
  },
  {
   "cell_type": "code",
   "execution_count": 144,
   "metadata": {
    "collapsed": true
   },
   "outputs": [],
   "source": [
    "import random\n",
    "from igraph import *\n",
    "g = Graph(4)\n",
    "g.vs['name'] = final_d.keys()\n",
    "\n",
    "x=(10, 7)\n",
    "#d = {(1, 1): 0, (2, 1): 1, (3, 1): 2, (10, 41):3}\n",
    "d = { (3,11):0, (13,2):1, (12,3):2, (11,6):3, (13,1):4, (11,7):5, (10,7):6 }\n",
    "import math\n",
    "\n",
    "d = layout_old\n",
    "new_d = {a:[c for c, b in d.items() if abs(math.hypot(*a)-math.hypot(*c)) <= 1 and c != a] for a, h in d.items()}\n",
    "final_d = {a:\"nan\" if not b else b for a, b in new_d.items()}\n",
    "    \n",
    "\n",
    "\n",
    "def association_function(x, d):\n",
    "    options = final_d[x]\n",
    "    if options == 'nan':\n",
    "        pass\n",
    "    else:\n",
    "        toBind = random.choice(options)\n",
    "        v1_position = g.vs['name'].index( toBind )\n",
    "        v2_position = g.vs['name'].index( x )\n",
    "        if g.degree(v1_position) < 4 and g.degree(v2_position) < 4:\n",
    "            g.add_edge(v1_position, v2_position)\n",
    "    return g"
   ]
  },
  {
   "cell_type": "code",
   "execution_count": 189,
   "metadata": {
    "collapsed": true
   },
   "outputs": [],
   "source": [
    "posit = numpy.array([[1,0], [0,1], [-1, 0], [0,-1] ])\n",
    "x = (10, 1)\n",
    "new_posit = posit + x\n",
    "d = {(11,1):0, (121,12):1, (324, 23):2, (9,2):3, (9,1):4}"
   ]
  },
  {
   "cell_type": "markdown",
   "metadata": {},
   "source": [
    "# this is my new association function as of 19-12-17"
   ]
  },
  {
   "cell_type": "code",
   "execution_count": 886,
   "metadata": {
    "collapsed": true
   },
   "outputs": [],
   "source": [
    "new_list = []\n",
    "new_dict = {}\n",
    "posit = numpy.array([[1,0], [0,1], [-1, 0], [0,-1] ])\n",
    "g = Graph(6)\n",
    "x = (10, 1)\n",
    "d = {(11,1):0, (121,12):1, (324, 23):2, (9,2):3, (9,1):4, (10,1):5}\n",
    "g.vs['name'] = d.keys()\n",
    "\n",
    "def new_association_function(x, d, g):\n",
    "    new_list = []\n",
    "    posit = numpy.array([[1,0], [0,1], [-1, 0], [0,-1] ])\n",
    "    \n",
    "    new_posit = posit + x\n",
    "    for i in new_posit:\n",
    "        b = tuple(i)\n",
    "        if b in d:\n",
    "            new_list.append(b)\n",
    "            new_dict[x] = new_list        \n",
    "        else:\n",
    "            new_dict[x] = 'NaN'\n",
    "\n",
    "    if new_dict[x] == 'NaN':\n",
    "        pass\n",
    "    else:\n",
    "        options = new_dict[x]\n",
    "        toBind = random.choice(options)\n",
    "        v1_position = g.vs['name'].index( toBind )\n",
    "        v2_position = g.vs['name'].index( x )\n",
    "        if g.degree(v1_position) < 4 and g.degree(v2_position) < 4:\n",
    "            g.add_edge(v1_position, v2_position)\n",
    "    return g"
   ]
  },
  {
   "cell_type": "code",
   "execution_count": 871,
   "metadata": {},
   "outputs": [
    {
     "name": "stdout",
     "output_type": "stream",
     "text": [
      "IGRAPH UN-- 6 0 --\n",
      "+ attr: name (v)\n"
     ]
    }
   ],
   "source": [
    "print new_association_function((10,1), d, g)"
   ]
  },
  {
   "cell_type": "code",
   "execution_count": null,
   "metadata": {
    "collapsed": true
   },
   "outputs": [],
   "source": []
  },
  {
   "cell_type": "code",
   "execution_count": null,
   "metadata": {},
   "outputs": [],
   "source": []
  },
  {
   "cell_type": "code",
   "execution_count": null,
   "metadata": {
    "collapsed": true
   },
   "outputs": [],
   "source": []
  },
  {
   "cell_type": "code",
   "execution_count": 894,
   "metadata": {
    "collapsed": true
   },
   "outputs": [],
   "source": [
    "g = Graph(len(layout_old))\n",
    "g.vs['name'] = layout_old.keys()\n",
    "new_dict = {}\n",
    "def new_association_function(x, d, g, new_dict, val):\n",
    "    new_list = []\n",
    "    posit = numpy.array([[1,0], [0,1], [-1, 0], [0,-1] ])\n",
    "    \n",
    "    new_posit = posit + x\n",
    "    for i in new_posit:\n",
    "        b = tuple(i)\n",
    "        if b in d:\n",
    "            new_list.append(b)\n",
    "            new_dict[x] = new_list\n",
    "    if x in new_dict and val == True:\n",
    "        options = new_dict[x]\n",
    "        toBind = random.choice(options)\n",
    "        v1_position = g.vs['name'].index( toBind )\n",
    "        v2_position = g.vs['name'].index( x )\n",
    "        if g.degree(v1_position) < 4 and g.degree(v2_position) < 4:\n",
    "            g.add_edge(v1_position, v2_position)\n",
    "        return new_dict[x]\n",
    "    elif x in new_dict and val == False:\n",
    "        return new_dict[x]\n",
    "    else:\n",
    "        new_dict[x] = 'NaN'\n",
    "        return new_dict[x]\n",
    "\n",
    "    "
   ]
  },
  {
   "cell_type": "code",
   "execution_count": 895,
   "metadata": {},
   "outputs": [
    {
     "data": {
      "text/plain": [
       "'NaN'"
      ]
     },
     "execution_count": 895,
     "metadata": {},
     "output_type": "execute_result"
    }
   ],
   "source": [
    "new_association_function((19,1), layout_old, g, new_dict, False)"
   ]
  },
  {
   "cell_type": "markdown",
   "metadata": {
    "collapsed": true
   },
   "source": [
    "## This initiates the association dict & the association count"
   ]
  },
  {
   "cell_type": "code",
   "execution_count": 896,
   "metadata": {
    "scrolled": true
   },
   "outputs": [],
   "source": [
    "g = Graph(len(layout_old))\n",
    "g.vs['name'] = layout_old.keys()\n",
    "new_dict = {}\n",
    "\n",
    "for k,v in layout_old.items():\n",
    "    new_association_function(k, layout_old, g, new_dict, False)\n",
    "    #if output[k] != 'NaN':\n",
    "    #    assoc_count[k] = 4 - len(output[k])\n",
    "    #else:\n",
    "    #    assoc_count[k] = 4\n",
    "    \n"
   ]
  },
  {
   "cell_type": "code",
   "execution_count": 897,
   "metadata": {
    "scrolled": true
   },
   "outputs": [
    {
     "data": {
      "text/plain": [
       "{(1, 3): [(2, 3), (1, 4)],\n",
       " (1, 4): [(2, 4), (1, 3)],\n",
       " (1, 6): [(2, 6)],\n",
       " (1, 8): 'NaN',\n",
       " (2, 1): 'NaN',\n",
       " (2, 3): [(2, 4), (1, 3)],\n",
       " (2, 4): [(3, 4), (2, 5), (1, 4), (2, 3)],\n",
       " (2, 5): [(2, 6), (2, 4)],\n",
       " (2, 6): [(3, 6), (2, 7), (1, 6), (2, 5)],\n",
       " (2, 7): [(3, 7), (2, 6)],\n",
       " (2, 9): [(3, 9)],\n",
       " (3, 4): [(2, 4)],\n",
       " (3, 6): [(4, 6), (3, 7), (2, 6)],\n",
       " (3, 7): [(4, 7), (3, 8), (2, 7), (3, 6)],\n",
       " (3, 8): [(3, 9), (3, 7)],\n",
       " (3, 9): [(2, 9), (3, 8)],\n",
       " (4, 1): [(5, 1)],\n",
       " (4, 3): [(5, 3)],\n",
       " (4, 5): [(4, 6)],\n",
       " (4, 6): [(5, 6), (4, 7), (3, 6), (4, 5)],\n",
       " (4, 7): [(3, 7), (4, 6)],\n",
       " (5, 1): [(5, 2), (4, 1)],\n",
       " (5, 2): [(6, 2), (5, 3), (5, 1)],\n",
       " (5, 3): [(5, 4), (4, 3), (5, 2)],\n",
       " (5, 4): [(6, 4), (5, 3)],\n",
       " (5, 6): [(4, 6)],\n",
       " (5, 8): [(6, 8), (5, 9)],\n",
       " (5, 9): [(6, 9), (5, 8)],\n",
       " (6, 2): [(7, 2), (5, 2)],\n",
       " (6, 4): [(6, 5), (5, 4)],\n",
       " (6, 5): [(7, 5), (6, 4)],\n",
       " (6, 7): [(6, 8)],\n",
       " (6, 8): [(7, 8), (6, 9), (5, 8), (6, 7)],\n",
       " (6, 9): [(7, 9), (5, 9), (6, 8)],\n",
       " (7, 1): [(7, 2)],\n",
       " (7, 2): [(7, 3), (6, 2), (7, 1)],\n",
       " (7, 3): [(8, 3), (7, 2)],\n",
       " (7, 5): [(8, 5), (7, 6), (6, 5)],\n",
       " (7, 6): [(7, 5)],\n",
       " (7, 8): [(7, 9), (6, 8)],\n",
       " (7, 9): [(8, 9), (6, 9), (7, 8)],\n",
       " (8, 3): [(8, 4), (7, 3)],\n",
       " (8, 4): [(9, 4), (8, 5), (8, 3)],\n",
       " (8, 5): [(7, 5), (8, 4)],\n",
       " (8, 7): 'NaN',\n",
       " (8, 9): [(7, 9)],\n",
       " (9, 1): 'NaN',\n",
       " (9, 4): [(8, 4)],\n",
       " (9, 6): 'NaN',\n",
       " (9, 8): 'NaN'}"
      ]
     },
     "execution_count": 897,
     "metadata": {},
     "output_type": "execute_result"
    }
   ],
   "source": [
    "new_dict"
   ]
  },
  {
   "cell_type": "code",
   "execution_count": null,
   "metadata": {},
   "outputs": [],
   "source": []
  },
  {
   "cell_type": "markdown",
   "metadata": {},
   "source": [
    "# Gillespie"
   ]
  },
  {
   "cell_type": "code",
   "execution_count": 995,
   "metadata": {},
   "outputs": [],
   "source": [
    "import random\n",
    "from operator import add\n",
    "import numpy \n",
    "from igraph import *\n",
    "\n",
    "\n",
    "# 2D lattice\n",
    "spaceMin = 0\n",
    "spaceMax = 10\n",
    "\n",
    "# Find legal and illegal moving options\n",
    "illegal_moves = illegal_boundaries(spaceMax)\n",
    "\n",
    "# Number of objects to simulate\n",
    "node_number = 50\n",
    "\n",
    "# Place objects in 2D lattice\n",
    "layout_old = layout_gen(node_number, legal_moves)\n",
    "\n",
    "# Updates illegal moves dict\n",
    "#illegal_moves = merge_two_dicts(illegal_moves, layout_old)\n",
    "\n",
    "\n",
    "\n"
   ]
  },
  {
   "cell_type": "markdown",
   "metadata": {},
   "source": [
    "## This initiates the movement count"
   ]
  },
  {
   "cell_type": "code",
   "execution_count": 996,
   "metadata": {
    "collapsed": true
   },
   "outputs": [],
   "source": [
    "move_count = {}\n",
    "\n",
    "for k,v in layout_old.items():\n",
    "    val = movement_finder(k, illegal_moves, layout_old, spaceMin, spaceMax)\n",
    "    move_count[k] = val"
   ]
  },
  {
   "cell_type": "code",
   "execution_count": 997,
   "metadata": {
    "scrolled": true
   },
   "outputs": [
    {
     "data": {
      "text/plain": [
       "{(1, 7): 4,\n",
       " (1, 9): 4,\n",
       " (3, 16): 4,\n",
       " (4, 1): 4,\n",
       " (4, 7): 4,\n",
       " (4, 9): 2,\n",
       " (4, 10): 2,\n",
       " (4, 19): 4,\n",
       " (5, 3): 4,\n",
       " (5, 9): 3,\n",
       " (5, 14): 4,\n",
       " (6, 2): 4,\n",
       " (6, 4): 3,\n",
       " (6, 8): 4,\n",
       " (6, 10): 3,\n",
       " (6, 12): 3,\n",
       " (6, 13): 3,\n",
       " (6, 18): 4,\n",
       " (7, 4): 3,\n",
       " (8, 2): 4,\n",
       " (8, 5): 4,\n",
       " (8, 9): 4,\n",
       " (9, 18): 4,\n",
       " (10, 15): 3,\n",
       " (11, 2): 4,\n",
       " (11, 4): 4,\n",
       " (12, 6): 4,\n",
       " (12, 15): 4,\n",
       " (12, 19): 3,\n",
       " (13, 1): 4,\n",
       " (13, 3): 4,\n",
       " (13, 8): 4,\n",
       " (13, 19): 3,\n",
       " (14, 16): 4,\n",
       " (15, 8): 3,\n",
       " (15, 12): 4,\n",
       " (16, 1): 4,\n",
       " (16, 8): 3,\n",
       " (16, 17): 4,\n",
       " (17, 6): 4,\n",
       " (17, 9): 3,\n",
       " (18, 2): 4,\n",
       " (18, 9): 3,\n",
       " (18, 12): 4,\n",
       " (19, 3): 3,\n",
       " (19, 4): 3,\n",
       " (19, 11): 4,\n",
       " (19, 14): 3,\n",
       " (19, 15): 2,\n",
       " (19, 16): 3}"
      ]
     },
     "execution_count": 997,
     "metadata": {},
     "output_type": "execute_result"
    }
   ],
   "source": [
    "move_count"
   ]
  },
  {
   "cell_type": "markdown",
   "metadata": {},
   "source": [
    "## This initiates the neighbor tracking"
   ]
  },
  {
   "cell_type": "code",
   "execution_count": 998,
   "metadata": {
    "collapsed": true
   },
   "outputs": [],
   "source": [
    "import collections\n",
    "g = Graph(len(layout_old))\n",
    "#g.vs['name'] = layout_old.keys()\n",
    "\n",
    "od = collections.OrderedDict(sorted(layout_old.items()))\n",
    "g.vs['name'] = od.keys()\n",
    "\n",
    "neighbor_tracking = {}\n",
    "\n",
    "for k,v in layout_old.items():\n",
    "    new_association_function(k, layout_old, g, neighbor_tracking, False)\n",
    "    \n",
    "    "
   ]
  },
  {
   "cell_type": "code",
   "execution_count": 999,
   "metadata": {
    "scrolled": true
   },
   "outputs": [
    {
     "data": {
      "text/plain": [
       "{(1, 7): 'NaN',\n",
       " (1, 9): 'NaN',\n",
       " (3, 16): 'NaN',\n",
       " (4, 1): 'NaN',\n",
       " (4, 7): 'NaN',\n",
       " (4, 9): [(5, 9), (4, 10)],\n",
       " (4, 10): [(4, 9)],\n",
       " (4, 19): 'NaN',\n",
       " (5, 3): 'NaN',\n",
       " (5, 9): [(4, 9)],\n",
       " (5, 14): 'NaN',\n",
       " (6, 2): 'NaN',\n",
       " (6, 4): [(7, 4)],\n",
       " (6, 8): 'NaN',\n",
       " (6, 10): 'NaN',\n",
       " (6, 12): [(6, 13)],\n",
       " (6, 13): [(6, 12)],\n",
       " (6, 18): 'NaN',\n",
       " (7, 4): [(6, 4)],\n",
       " (8, 2): 'NaN',\n",
       " (8, 5): 'NaN',\n",
       " (8, 9): 'NaN',\n",
       " (9, 18): 'NaN',\n",
       " (10, 15): 'NaN',\n",
       " (11, 2): 'NaN',\n",
       " (11, 4): 'NaN',\n",
       " (12, 6): 'NaN',\n",
       " (12, 15): 'NaN',\n",
       " (12, 19): [(13, 19)],\n",
       " (13, 1): 'NaN',\n",
       " (13, 3): 'NaN',\n",
       " (13, 8): 'NaN',\n",
       " (13, 19): [(12, 19)],\n",
       " (14, 16): 'NaN',\n",
       " (15, 8): [(16, 8)],\n",
       " (15, 12): 'NaN',\n",
       " (16, 1): 'NaN',\n",
       " (16, 8): [(15, 8)],\n",
       " (16, 17): 'NaN',\n",
       " (17, 6): 'NaN',\n",
       " (17, 9): [(18, 9)],\n",
       " (18, 2): 'NaN',\n",
       " (18, 9): [(17, 9)],\n",
       " (18, 12): 'NaN',\n",
       " (19, 3): [(19, 4)],\n",
       " (19, 4): [(19, 3)],\n",
       " (19, 11): 'NaN',\n",
       " (19, 14): [(19, 15)],\n",
       " (19, 15): [(19, 16), (19, 14)],\n",
       " (19, 16): [(19, 15)]}"
      ]
     },
     "execution_count": 999,
     "metadata": {},
     "output_type": "execute_result"
    }
   ],
   "source": [
    "neighbor_tracking\n"
   ]
  },
  {
   "cell_type": "code",
   "execution_count": null,
   "metadata": {
    "collapsed": true
   },
   "outputs": [],
   "source": []
  },
  {
   "cell_type": "code",
   "execution_count": 1004,
   "metadata": {
    "scrolled": false
   },
   "outputs": [
    {
     "name": "stdout",
     "output_type": "stream",
     "text": [
      "move\n",
      "(19, 15)\n",
      "(19, 15)\n",
      "move\n",
      "(1, 9)\n",
      "(0, 9)\n",
      "move\n",
      "(17, 6)\n",
      "(17, 5)\n",
      "move\n",
      "(8, 2)\n",
      "(8, 2)\n",
      "move\n",
      "(6, 8)\n",
      "(6, 9)\n",
      "bind\n",
      "(19, 16)\n",
      "IGRAPH UN-- 50 4 --\n",
      "+ attr: name (v)\n",
      "+ edges (vertex names):\n",
      "(4, 7)--(5, 9), (6, 12)--(6, 13), (15, 8)--(16, 9), (19, 15)--(19, 16)\n",
      "move\n",
      "(15, 12)\n",
      "(15, 13)\n"
     ]
    },
    {
     "ename": "InternalError",
     "evalue": "Error at iterators.c:1817: Cannot create iterator, invalid edge id, Invalid vertex id",
     "output_type": "error",
     "traceback": [
      "\u001b[0;31m---------------------------------------------------------------------------\u001b[0m",
      "\u001b[0;31mInternalError\u001b[0m                             Traceback (most recent call last)",
      "\u001b[0;32m<ipython-input-1004-e39b96623c4d>\u001b[0m in \u001b[0;36m<module>\u001b[0;34m()\u001b[0m\n\u001b[1;32m     55\u001b[0m             \u001b[0mv1_position\u001b[0m \u001b[0;34m=\u001b[0m \u001b[0mg\u001b[0m\u001b[0;34m.\u001b[0m\u001b[0mvs\u001b[0m\u001b[0;34m[\u001b[0m\u001b[0;34m'name'\u001b[0m\u001b[0;34m]\u001b[0m\u001b[0;34m.\u001b[0m\u001b[0mindex\u001b[0m\u001b[0;34m(\u001b[0m \u001b[0mposition_selected\u001b[0m \u001b[0;34m)\u001b[0m\u001b[0;34m\u001b[0m\u001b[0m\n\u001b[1;32m     56\u001b[0m             \u001b[0;32mif\u001b[0m \u001b[0mg\u001b[0m\u001b[0;34m.\u001b[0m\u001b[0mdegree\u001b[0m\u001b[0;34m(\u001b[0m\u001b[0mv1_position\u001b[0m\u001b[0;34m)\u001b[0m \u001b[0;34m>\u001b[0m \u001b[0;36m0\u001b[0m\u001b[0;34m:\u001b[0m\u001b[0;34m\u001b[0m\u001b[0m\n\u001b[0;32m---> 57\u001b[0;31m                 \u001b[0mg\u001b[0m\u001b[0;34m.\u001b[0m\u001b[0mdelete_edges\u001b[0m\u001b[0;34m(\u001b[0m\u001b[0mv1_position\u001b[0m\u001b[0;34m)\u001b[0m\u001b[0;34m\u001b[0m\u001b[0m\n\u001b[0m\u001b[1;32m     58\u001b[0m \u001b[0;34m\u001b[0m\u001b[0m\n\u001b[1;32m     59\u001b[0m \u001b[0;34m\u001b[0m\u001b[0m\n",
      "\u001b[0;32m/Users/ganglion/anaconda/lib/python2.7/site-packages/igraph/__init__.pyc\u001b[0m in \u001b[0;36mdelete_edges\u001b[0;34m(self, *args, **kwds)\u001b[0m\n\u001b[1;32m    359\u001b[0m         \u001b[0;32melse\u001b[0m\u001b[0;34m:\u001b[0m\u001b[0;34m\u001b[0m\u001b[0m\n\u001b[1;32m    360\u001b[0m             \u001b[0medge_seq\u001b[0m \u001b[0;34m=\u001b[0m \u001b[0margs\u001b[0m\u001b[0;34m[\u001b[0m\u001b[0;36m0\u001b[0m\u001b[0;34m]\u001b[0m\u001b[0;34m\u001b[0m\u001b[0m\n\u001b[0;32m--> 361\u001b[0;31m         \u001b[0;32mreturn\u001b[0m \u001b[0mGraphBase\u001b[0m\u001b[0;34m.\u001b[0m\u001b[0mdelete_edges\u001b[0m\u001b[0;34m(\u001b[0m\u001b[0mself\u001b[0m\u001b[0;34m,\u001b[0m \u001b[0medge_seq\u001b[0m\u001b[0;34m)\u001b[0m\u001b[0;34m\u001b[0m\u001b[0m\n\u001b[0m\u001b[1;32m    362\u001b[0m \u001b[0;34m\u001b[0m\u001b[0m\n\u001b[1;32m    363\u001b[0m \u001b[0;34m\u001b[0m\u001b[0m\n",
      "\u001b[0;31mInternalError\u001b[0m: Error at iterators.c:1817: Cannot create iterator, invalid edge id, Invalid vertex id"
     ]
    }
   ],
   "source": [
    "t = 0\n",
    "total_time = 5000\n",
    "k_move = 1e-3\n",
    "k_bind = 1e-4\n",
    "k_off = 1e-2\n",
    "tau = 1e-3\n",
    "times = []\n",
    "\n",
    "# this sets up initial movement options\n",
    "#for k,v in layout_old.items():\n",
    "#    movement_positions[v] = movement_finder(k, illegal_moves, layout_old, spaceMin, spaceMax)\n",
    "        \n",
    "while t <= total_time:\n",
    "\n",
    "\n",
    "    ## Calculate all possible reactions\n",
    "\n",
    "    move = sum(move_count.values() )                              # movement\n",
    "    move_k = move * k_move * tau\n",
    "\n",
    "    bind = len(layout_old.keys() )*4                              # binding\n",
    "    bind_k = bind * k_bind * tau\n",
    "\n",
    "    dissociate = sum(g.vs.degree())                              # dissociation\n",
    "    dissociate_k = dissociate * k_off * tau\n",
    "\n",
    "\n",
    "    #rate_sum = move_k + bind_k + dissociate_k                     # Time at which the next reaction will take place\n",
    "    #tau = random.expovariate(lambd=rate_sum)                      # Time at which the next reaction will take place\n",
    "    #times.append(tau)                                             # Save time as a tuple\n",
    "    reaction = allRxn(move_k, bind_k, dissociate_k)                # Sample from uniform distribution\n",
    "\n",
    "    if reaction == 'move':\n",
    "        position_selected = random.choice(layout_old.keys() )                  # randomly select a node\n",
    "        \n",
    "        move_count.pop(position_selected)\n",
    "        neighbor_tracking.pop(position_selected)\n",
    "       # try:\n",
    "       ##     del move_count[position_selected]                                      # remove from move_count to then update later \n",
    "        #    del neighbor_tracking[position_selected]                               # remove from neighbor_tracking to then update later\n",
    "        #except:\n",
    "        #    print \"error encountered\"\n",
    "        \n",
    "        od = collections.OrderedDict(sorted(layout_old.items()))\n",
    "        g.vs['name'] = od.keys()\n",
    "        \n",
    "        layout_old, pos = Mover(position_selected, layout_old, illegal_moves)  # move in new direction         \n",
    "\n",
    "\n",
    "        # this will update the count of moves the selected object can perform still\n",
    "        move_count[pos] = movement_finder(pos, illegal_moves, layout_old, spaceMin, spaceMax)\n",
    "        new_association_function(pos, layout_old, g, neighbor_tracking, False)\n",
    "        \n",
    "        if pos != position_selected:\n",
    "            v1_position = g.vs['name'].index( position_selected )\n",
    "            if g.degree(v1_position) > 0:\n",
    "                g.delete_edges(v1_position)\n",
    "\n",
    "\n",
    "        od = collections.OrderedDict(sorted(layout_old.items()))\n",
    "        g.vs['name'] = od.keys()    \n",
    "     \n",
    "       \n",
    "        print 'move'\n",
    "        print position_selected\n",
    "        print pos\n",
    "        \n",
    "    if reaction == 'bind':\n",
    "        \n",
    "        position_selected = edge_selector(neighbor_tracking)                  # select a node with neighbors randomly for forming an edge\n",
    "\n",
    "\n",
    "        #position_selected = random.choice(layout_old.keys() )                  # randomly select a node\n",
    "        \n",
    "        move_count.pop(position_selected)\n",
    "        neighbor_tracking.pop(position_selected)\n",
    "        \n",
    "        #try:\n",
    "        #    del move_count[position_selected]                                      # remove from move_count to then update later \n",
    "        #    del neighbor_tracking[position_selected]     q                         # remove from neighbor_tracking to then update later\n",
    "        #except:\n",
    "        #    print 'error in binding encountered'\n",
    "\n",
    "        od = collections.OrderedDict(sorted(layout_old.items()))\n",
    "        g.vs['name'] = od.keys()\n",
    "        \n",
    "        # bind & update move_count and neighbor_tracking dict\n",
    "        \n",
    "        new_association_function(position_selected, layout_old, g, neighbor_tracking, True)\n",
    "        move_count[position_selected] = movement_finder(position_selected, illegal_moves, layout_old, spaceMin, spaceMax)\n",
    "        \n",
    "        od = collections.OrderedDict(sorted(layout_old.items()))\n",
    "        g.vs['name'] = od.keys()\n",
    "        \n",
    "        g.simplify(g)                                                               # simplify the graph  \n",
    "        \n",
    "        print 'bind'\n",
    "        print position_selected\n",
    "        print g\n",
    "        \n",
    "    t += 1\n",
    "\n"
   ]
  },
  {
   "cell_type": "markdown",
   "metadata": {},
   "source": [
    "# Function finds which nodes to bind to randomly based on which are nearby others. "
   ]
  },
  {
   "cell_type": "code",
   "execution_count": 826,
   "metadata": {},
   "outputs": [],
   "source": [
    "def edge_selector(neighbor_tracking):\n",
    "    checker = 'NaN'\n",
    "    while checker == 'NaN':\n",
    "        val = random.choice(neighbor_tracking.keys())\n",
    "        checker = neighbor_tracking[val]\n",
    "    return val\n",
    "    "
   ]
  },
  {
   "cell_type": "code",
   "execution_count": 827,
   "metadata": {},
   "outputs": [],
   "source": [
    "x = edge_selector(neighbor_tracking)"
   ]
  },
  {
   "cell_type": "code",
   "execution_count": 828,
   "metadata": {},
   "outputs": [
    {
     "name": "stdout",
     "output_type": "stream",
     "text": [
      "(232, 195)\n"
     ]
    }
   ],
   "source": [
    "print x"
   ]
  },
  {
   "cell_type": "markdown",
   "metadata": {},
   "source": [
    "# # delete connections to other nodes if node moves"
   ]
  },
  {
   "cell_type": "code",
   "execution_count": 947,
   "metadata": {},
   "outputs": [
    {
     "name": "stdout",
     "output_type": "stream",
     "text": [
      "yes\n"
     ]
    }
   ],
   "source": [
    "pos = (1,2)\n",
    "position_selected = (3, 4)\n",
    "if pos != position_selected:\n",
    "    v1_position = g.vs['name'].index( (1,3) )\n",
    "    g.delete_edges(v1_position)"
   ]
  },
  {
   "cell_type": "code",
   "execution_count": 1002,
   "metadata": {},
   "outputs": [
    {
     "data": {
      "text/plain": [
       "0"
      ]
     },
     "execution_count": 1002,
     "metadata": {},
     "output_type": "execute_result"
    }
   ],
   "source": []
  },
  {
   "cell_type": "code",
   "execution_count": 988,
   "metadata": {},
   "outputs": [
    {
     "name": "stdout",
     "output_type": "stream",
     "text": [
      "[(1, 3), (1, 7), (1, 10), (1, 12), (2, 10), (2, 13), (3, 14), (4, 9), (4, 12), (4, 13), (4, 17), (5, 6), (5, 12), (6, 11), (6, 16), (7, 1), (7, 6), (7, 9), (7, 14), (8, 2), (8, 4), (8, 7), (8, 11), (9, 5), (10, 14), (11, 7), (12, 5), (12, 13), (12, 16), (12, 19), (13, 2), (13, 9), (13, 10), (14, 4), (14, 7), (15, 6), (15, 8), (15, 12), (16, 5), (16, 8), (16, 10), (16, 15), (16, 18), (17, 5), (18, 5), (18, 9), (18, 10), (18, 13), (18, 17), (19, 16)]\n"
     ]
    }
   ],
   "source": [
    "print g.vs['name']"
   ]
  },
  {
   "cell_type": "code",
   "execution_count": 989,
   "metadata": {},
   "outputs": [
    {
     "ename": "ValueError",
     "evalue": "(9, 7) is not in list",
     "output_type": "error",
     "traceback": [
      "\u001b[0;31m---------------------------------------------------------------------------\u001b[0m",
      "\u001b[0;31mValueError\u001b[0m                                Traceback (most recent call last)",
      "\u001b[0;32m<ipython-input-989-228b0cc18520>\u001b[0m in \u001b[0;36m<module>\u001b[0;34m()\u001b[0m\n\u001b[0;32m----> 1\u001b[0;31m \u001b[0mg\u001b[0m\u001b[0;34m.\u001b[0m\u001b[0mvs\u001b[0m\u001b[0;34m[\u001b[0m\u001b[0;34m'name'\u001b[0m\u001b[0;34m]\u001b[0m\u001b[0;34m.\u001b[0m\u001b[0mindex\u001b[0m\u001b[0;34m(\u001b[0m \u001b[0mpos\u001b[0m\u001b[0;34m)\u001b[0m\u001b[0;34m\u001b[0m\u001b[0m\n\u001b[0m",
      "\u001b[0;31mValueError\u001b[0m: (9, 7) is not in list"
     ]
    }
   ],
   "source": [
    "g.vs['name'].index( pos)"
   ]
  },
  {
   "cell_type": "code",
   "execution_count": 1013,
   "metadata": {},
   "outputs": [
    {
     "data": {
      "text/plain": [
       "(15, 8)"
      ]
     },
     "execution_count": 1013,
     "metadata": {},
     "output_type": "execute_result"
    }
   ],
   "source": [
    "position_selected"
   ]
  },
  {
   "cell_type": "code",
   "execution_count": 1008,
   "metadata": {},
   "outputs": [
    {
     "name": "stdout",
     "output_type": "stream",
     "text": [
      "IGRAPH UN-- 50 4 --\n",
      "+ attr: name (v)\n",
      "+ edges (vertex names):\n",
      "(4, 7)--(5, 9), (6, 12)--(6, 13), (15, 8)--(16, 9), (19, 15)--(19, 16)\n"
     ]
    }
   ],
   "source": [
    "print g"
   ]
  },
  {
   "cell_type": "code",
   "execution_count": 1010,
   "metadata": {},
   "outputs": [
    {
     "ename": "InternalError",
     "evalue": "Error at iterators.c:1817: Cannot create iterator, invalid edge id, Invalid vertex id",
     "output_type": "error",
     "traceback": [
      "\u001b[0;31m---------------------------------------------------------------------------\u001b[0m",
      "\u001b[0;31mInternalError\u001b[0m                             Traceback (most recent call last)",
      "\u001b[0;32m<ipython-input-1010-3c6e5d598bbb>\u001b[0m in \u001b[0;36m<module>\u001b[0;34m()\u001b[0m\n\u001b[1;32m      1\u001b[0m \u001b[0mv1_position\u001b[0m \u001b[0;34m=\u001b[0m \u001b[0mg\u001b[0m\u001b[0;34m.\u001b[0m\u001b[0mvs\u001b[0m\u001b[0;34m[\u001b[0m\u001b[0;34m'name'\u001b[0m\u001b[0;34m]\u001b[0m\u001b[0;34m.\u001b[0m\u001b[0mindex\u001b[0m\u001b[0;34m(\u001b[0m\u001b[0mposition_selected\u001b[0m\u001b[0;34m)\u001b[0m\u001b[0;34m\u001b[0m\u001b[0m\n\u001b[0;32m----> 2\u001b[0;31m \u001b[0mg\u001b[0m\u001b[0;34m.\u001b[0m\u001b[0mdelete_edges\u001b[0m\u001b[0;34m(\u001b[0m\u001b[0mv1_position\u001b[0m\u001b[0;34m)\u001b[0m\u001b[0;34m\u001b[0m\u001b[0m\n\u001b[0m",
      "\u001b[0;32m/Users/ganglion/anaconda/lib/python2.7/site-packages/igraph/__init__.pyc\u001b[0m in \u001b[0;36mdelete_edges\u001b[0;34m(self, *args, **kwds)\u001b[0m\n\u001b[1;32m    359\u001b[0m         \u001b[0;32melse\u001b[0m\u001b[0;34m:\u001b[0m\u001b[0;34m\u001b[0m\u001b[0m\n\u001b[1;32m    360\u001b[0m             \u001b[0medge_seq\u001b[0m \u001b[0;34m=\u001b[0m \u001b[0margs\u001b[0m\u001b[0;34m[\u001b[0m\u001b[0;36m0\u001b[0m\u001b[0;34m]\u001b[0m\u001b[0;34m\u001b[0m\u001b[0m\n\u001b[0;32m--> 361\u001b[0;31m         \u001b[0;32mreturn\u001b[0m \u001b[0mGraphBase\u001b[0m\u001b[0;34m.\u001b[0m\u001b[0mdelete_edges\u001b[0m\u001b[0;34m(\u001b[0m\u001b[0mself\u001b[0m\u001b[0;34m,\u001b[0m \u001b[0medge_seq\u001b[0m\u001b[0;34m)\u001b[0m\u001b[0;34m\u001b[0m\u001b[0m\n\u001b[0m\u001b[1;32m    362\u001b[0m \u001b[0;34m\u001b[0m\u001b[0m\n\u001b[1;32m    363\u001b[0m \u001b[0;34m\u001b[0m\u001b[0m\n",
      "\u001b[0;31mInternalError\u001b[0m: Error at iterators.c:1817: Cannot create iterator, invalid edge id, Invalid vertex id"
     ]
    }
   ],
   "source": [
    "v1_position = g.vs['name'].index(position_selected)\n",
    "g.delete_edges(v1_position)\n"
   ]
  },
  {
   "cell_type": "code",
   "execution_count": 1012,
   "metadata": {},
   "outputs": [
    {
     "name": "stdout",
     "output_type": "stream",
     "text": [
      "[(0, 9), (1, 7), (3, 16), (4, 1), (4, 3), (4, 7), (4, 9), (4, 10), (4, 19), (5, 9), (5, 15), (6, 2), (6, 4), (6, 9), (6, 12), (6, 13), (6, 18), (7, 4), (7, 9), (8, 2), (8, 5), (8, 9), (9, 15), (9, 18), (11, 4), (11, 18), (12, 2), (12, 15), (13, 0), (13, 4), (13, 5), (13, 8), (13, 19), (14, 15), (15, 1), (15, 8), (15, 13), (16, 9), (16, 17), (17, 5), (17, 8), (18, 2), (18, 9), (18, 13), (19, 3), (19, 5), (19, 11), (19, 14), (19, 15), (19, 16)]\n"
     ]
    }
   ],
   "source": [
    "print g.vs['name']"
   ]
  },
  {
   "cell_type": "code",
   "execution_count": null,
   "metadata": {
    "collapsed": true
   },
   "outputs": [],
   "source": []
  }
 ],
 "metadata": {
  "kernelspec": {
   "display_name": "Python 2",
   "language": "python",
   "name": "python2"
  },
  "language_info": {
   "codemirror_mode": {
    "name": "ipython",
    "version": 2
   },
   "file_extension": ".py",
   "mimetype": "text/x-python",
   "name": "python",
   "nbconvert_exporter": "python",
   "pygments_lexer": "ipython2",
   "version": "2.7.13"
  }
 },
 "nbformat": 4,
 "nbformat_minor": 2
}
