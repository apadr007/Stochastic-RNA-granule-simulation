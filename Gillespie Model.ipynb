{
 "cells": [
  {
   "cell_type": "code",
   "execution_count": 2,
   "metadata": {
    "collapsed": true
   },
   "outputs": [],
   "source": [
    "from igraph import *\n",
    "from igraph import plot\n",
    "import random\n",
    "import pandas\n",
    "import numpy\n",
    "from operator import add"
   ]
  },
  {
   "cell_type": "code",
   "execution_count": 3,
   "metadata": {
    "collapsed": true
   },
   "outputs": [],
   "source": [
    "spaceMax = 10\n",
    "spaceMin = 1\n",
    "time = 1\n",
    "final_time = 10"
   ]
  },
  {
   "cell_type": "code",
   "execution_count": null,
   "metadata": {
    "collapsed": true
   },
   "outputs": [],
   "source": []
  },
  {
   "cell_type": "code",
   "execution_count": 95,
   "metadata": {
    "scrolled": true
   },
   "outputs": [
    {
     "name": "stdout",
     "output_type": "stream",
     "text": [
      "{0: [2, 1], 1: [3, 1], 2: [3, 9], 3: [6, 3]}\n",
      "IGRAPH U--- 4 0 --\n",
      "[2, 1]\n",
      "0\n",
      "[3, 1]\n",
      "1\n",
      "[3, 9]\n",
      "2\n",
      "[6, 3]\n",
      "3\n",
      "[[2, 1], [3, 1], [3, 9], [6, 3]]\n",
      "IGRAPH UN-- 4 1 --\n",
      "+ attr: name (v)\n",
      "+ edges (vertex names):\n",
      "1--3\n"
     ]
    }
   ],
   "source": [
    "layout = { 0:[2,1], 1:[3,1], 2:[3,9], 3:[6,3] }\n",
    "print layout\n",
    "\n",
    "g = Graph(4)\n",
    "print(g)\n",
    "\n",
    "\n",
    "plot(g, layout = out)\n",
    "\n",
    "out = []\n",
    "for key,value in layout.items():\n",
    "    print value\n",
    "    print key\n",
    "    out.append(value)\n",
    "    \n",
    "print out\n",
    "\n",
    "\n",
    "g.vs[\"name\"] = range(4)\n",
    "g.add_edge(g.vs[1], g.vs[3])\n",
    "print g\n",
    "\n"
   ]
  },
  {
   "cell_type": "code",
   "execution_count": 56,
   "metadata": {
    "collapsed": true
   },
   "outputs": [],
   "source": [
    "def mover(layout, spaceMax, spaceMin):\n",
    "    from operator import add\n",
    "    \n",
    "    for key, value in layout.items():\n",
    "        possibilities = numpy.zeros(shape=(5,2))\n",
    "        possibilities[0] = [1, 0]\n",
    "        possibilities[1] = [-1, 0]\n",
    "        possibilities[2] = [0, 1]\n",
    "        possibilities[3] = [0, -1]\n",
    "        oldDir = list(value)\n",
    "\n",
    "        if any(i >= spaceMax or i <= spaceMin for i in oldDir):\n",
    "            newDir = bounceBack(oldDir, spaceMax, spaceMin)\n",
    "            if newDir in layout.values():\n",
    "                continue\n",
    "            else:\n",
    "                layout[key] = newDir\n",
    "        else:\n",
    "            possibilities = movementTester(value, layout, possibilities)\n",
    "            randomDirection = random.choice( possibilities )\n",
    "            newDir = map(add, value, randomDirection)\n",
    "            if newDir in layout.values():\n",
    "                continue\n",
    "            else:\n",
    "                layout[key] = newDir            \n",
    "    return layout\n",
    "\n",
    "\n",
    "\n",
    "#layout = { 0:[2,1] }\n",
    "#output = []\n",
    "#time = 0\n",
    "#total_time = 100\n",
    "#while time <= total_time:\n",
    "#    layout = mover(layout, spaceMax, spaceMin)\n",
    "#    output.append(list(layout.values()) )   \n",
    "#    time += 1\n",
    " "
   ]
  },
  {
   "cell_type": "code",
   "execution_count": 298,
   "metadata": {},
   "outputs": [
    {
     "name": "stdout",
     "output_type": "stream",
     "text": [
      "{0: [2, 1], 1: [3, 1], 2: [2, 2], 3: [2, 3]}\n"
     ]
    }
   ],
   "source": [
    "layout = { 0:[2,1], 1:[3,1], 2:[2,2], 3:[2,3] }\n",
    "print layout\n",
    "#out = mover(layout, spaceMax, spaceMin)\n",
    "#print out\n"
   ]
  },
  {
   "cell_type": "code",
   "execution_count": 26,
   "metadata": {},
   "outputs": [
    {
     "name": "stdout",
     "output_type": "stream",
     "text": [
      "[2, 1]\n",
      "\n",
      "[3.0, 2.0]\n",
      "[3, 1]\n",
      "\n",
      "[3.0, 2.0]\n",
      "[2, 2]\n",
      "\n",
      "[3.0, 2.0]\n",
      "[2, 3]\n",
      "\n",
      "[3.0, 2.0]\n",
      "\n",
      "\n",
      "IGRAPH UN-- 4 0 --\n",
      "+ attr: name (v)\n"
     ]
    }
   ],
   "source": [
    "def newNeighborEdge(x, layout):\n",
    "    possibilities = numpy.zeros(shape=(4,2))\n",
    "    possibilities[0] = [1, 0]\n",
    "    possibilities[1] = [-1, 0]\n",
    "    possibilities[2] = [0, 1]\n",
    "    possibilities[3] = [0, -1]\n",
    "    new_possibilities = possibilities + x\n",
    "\n",
    "    output_direction = []\n",
    "    for i in new_possibilities:\n",
    "        i = list(i)\n",
    "        output_direction.append( (i in layout.values()) )\n",
    "\n",
    "    x_key = [key for key, value in layout.iteritems() if value == x][0]\n",
    "    \n",
    "    possibilities = possibilities[output_direction]\n",
    "    randomDirection = random.choice( new_possibilities )\n",
    "\n",
    "    for key, value in layout.iteritems():\n",
    "        randomDirection = list(randomDirection)\n",
    "        #print value\n",
    "        #print randomDirection\n",
    "        if value == randomDirection:\n",
    "            #print \"Im here\"\n",
    "            if value != x_key:\n",
    "                #print \"im here here\"\n",
    "                g.add_edge(g.vs[key][\"name\"], x_key)\n",
    "    return g\n",
    "\n",
    "\n",
    "g = Graph(4)\n",
    "g.vs[\"name\"] = range(4)\n",
    "layout = { 0:[2,1], 1:[3,1], 2:[2,2], 3:[2,3] }\n",
    "newNeighborEdge([2,2], layout)\n",
    "print ''\n",
    "print ''\n",
    "print g\n",
    "\n",
    "\n",
    "\n",
    "\n",
    "def delNeighborEdge(x, layout):\n",
    "    x_key = [key for key, value in layout.iteritems() if value == x][0]\n",
    "    \n",
    "    neighborSize = g.neighbors(x_key)\n",
    "    toDelete = random.choice(neighborSize)\n",
    "\n",
    "    if toDelete >= 1:\n",
    "        g.delete_edges( [(g.vs[x_key][\"name\"], toDelete)] )\n",
    "    \n",
    "    return g\n",
    "\n",
    "# to test adding an edge\n",
    "#g = Graph(4)\n",
    "#g.vs[\"name\"] = range(4)\n",
    "#layout = { 0:[2,1], 1:[3,1], 2:[2,2], 3:[2,3] }\n",
    "#newNeighborEdge([2,2], layout)\n",
    "#print ''\n",
    "#print ''\n",
    "#print g\n",
    "\n",
    "\n",
    "# to test deleting an edge\n",
    "#g = Graph(4)\n",
    "#g.vs[\"name\"] = range(4)\n",
    "#layout = { 0:[2,1], 1:[3,1], 2:[2,2], 3:[2,3] }\n",
    "#g.add_edge(2, 1)\n",
    "#newNeighborEdge([2,2], layout)\n",
    "#print g\n",
    "#delNeighborEdge([2,2], layout)\n",
    "#print ''\n",
    "#print ''\n",
    "#print g"
   ]
  },
  {
   "cell_type": "code",
   "execution_count": 378,
   "metadata": {
    "scrolled": false
   },
   "outputs": [
    {
     "name": "stdout",
     "output_type": "stream",
     "text": [
      "IGRAPH UN-- 4 1 --\n",
      "+ attr: name (v)\n",
      "+ edges (vertex names):\n",
      "2--3\n"
     ]
    }
   ],
   "source": [
    "x_key = 2\n",
    "#print g\n",
    "#neighbors = g.neighbors\n",
    "#print neighbors\n",
    "#g.degree(neighbors[1])\n",
    "neighborSize = g.neighbors(x_key)\n",
    "toDelete = random.choice(neighborSize)\n",
    "if toDelete >= 1:\n",
    "    g.delete_edges( [(g.vs[x_key][\"name\"], toDelete)] )\n",
    "print g\n",
    "#nearbyDegrees = []\n",
    "#for nearby in neighborSize:\n",
    "#    if g.degree(nearby) => 1:\n",
    "        \n",
    "        \n",
    "\n",
    "#g.neighbors(2)"
   ]
  },
  {
   "cell_type": "raw",
   "metadata": {},
   "source": []
  },
  {
   "cell_type": "code",
   "execution_count": null,
   "metadata": {
    "collapsed": true
   },
   "outputs": [],
   "source": []
  },
  {
   "cell_type": "code",
   "execution_count": 53,
   "metadata": {},
   "outputs": [
    {
     "name": "stdout",
     "output_type": "stream",
     "text": [
      "[[ 1.  0.]\n",
      " [-1.  0.]\n",
      " [ 0.  1.]\n",
      " [ 0. -1.]]\n",
      "\n",
      "(array([0, 0, 1]), array([0, 1, 1]))\n"
     ]
    }
   ],
   "source": [
    "possibilities = numpy.zeros(shape=(4,2))\n",
    "possibilities[0] = [1, 0]\n",
    "possibilities[1] = [-1, 0]\n",
    "possibilities[2] = [0, 1]\n",
    "possibilities[3] = [0, -1]\n",
    "x = [1,0]\n",
    "print possibilities\n",
    "print ''\n",
    "print numpy.where(possibilities==x)\n"
   ]
  },
  {
   "cell_type": "code",
   "execution_count": 262,
   "metadata": {},
   "outputs": [
    {
     "name": "stdout",
     "output_type": "stream",
     "text": [
      "2\n"
     ]
    }
   ],
   "source": [
    "layout = { 0:[2,1], 1:[3,1], 2:[2,2], 3:[6,3] }\n",
    "\n",
    "x = [2,2]\n",
    "x = [key for key, value in layout.iteritems() if value == x][0]\n",
    "print x\n"
   ]
  },
  {
   "cell_type": "code",
   "execution_count": 67,
   "metadata": {},
   "outputs": [
    {
     "name": "stdout",
     "output_type": "stream",
     "text": [
      "0\n",
      "1\n",
      "2\n",
      "3\n",
      "4\n",
      "5\n",
      "6\n",
      "7\n",
      "8\n",
      "9\n",
      "10\n",
      "11\n",
      "12\n",
      "13\n",
      "14\n",
      "15\n",
      "16\n",
      "17\n",
      "18\n",
      "19\n",
      "0.000600814819336\n"
     ]
    }
   ],
   "source": [
    "import time\n",
    "layout = { 0:[2,1], 1:[3,1], 2:[2,2], 3:[6,3] }\n",
    "nodes = 20\n",
    "layout = {}\n",
    "for i in range(nodes):\n",
    "    x = random.choice(range(spaceMin, spaceMax) )\n",
    "    y = random.choice(range(spaceMin, spaceMax) )\n",
    "    z = x,y\n",
    "    \n",
    "\n",
    "    \n",
    "    \n",
    "start = time.time()\n",
    "#print(\"hello\")\n",
    "mover(layout, spaceMax, spaceMin)\n",
    "end = time.time()\n",
    "print(end - start)"
   ]
  },
  {
   "cell_type": "code",
   "execution_count": 176,
   "metadata": {},
   "outputs": [
    {
     "data": {
      "text/plain": [
       "10000"
      ]
     },
     "execution_count": 176,
     "metadata": {},
     "output_type": "execute_result"
    }
   ],
   "source": [
    "import time\n",
    "layout = { 0:[2,1], 1:[3,1], 2:[2,2], 3:[6,3] }\n",
    "nodes = 20\n",
    "#layout = {}\n",
    "for i in range(nodes):\n",
    "    x = random.choice(range(spaceMin, spaceMax) )\n",
    "    y = random.choice(range(spaceMin, spaceMax) )\n",
    "    z = x,y\n",
    "    \n",
    "\n",
    "\n",
    "\n",
    "range(spaceMin, spaceMax)\n",
    "\n",
    "x = random.choice(range(spaceMin, spaceMax) )\n",
    "y = random.choice(range(spaceMin, spaceMax) )\n",
    "z = x,y\n",
    "\n",
    "def layoutGen(spaceMin, spaceMax, nodes):\n",
    "\n",
    "    layout = {}\n",
    "    for i in range(nodes):\n",
    "        x = random.choice(range(spaceMin, spaceMax) )\n",
    "        y = random.choice(range(spaceMin, spaceMax) )\n",
    "        z = x,y\n",
    "\n",
    "        if not [key for key, value in layout.iteritems() if value == z]:\n",
    "            layout[i] = z\n",
    "        else:\n",
    "            x = random.choice(range(spaceMin, spaceMax) )\n",
    "            y = random.choice(range(spaceMin, spaceMax) )\n",
    "            z = x,y\n",
    "            if not [key for key, value in layout.iteritems() if value == z]:\n",
    "                layout[i] = z\n",
    "    val = 0        \n",
    "    for key in layout.keys():\n",
    "        layout[val] = layout.pop(key)\n",
    "        val = val + 1\n",
    "            \n",
    "    return layout\n",
    "\n",
    "#I need to run this more than the number of nodes I want to get the number of nodes I want. \n",
    "#gg = layoutGen(spaceMin, 11, 250)\n",
    "#len( gg.keys() )"
   ]
  },
  {
   "cell_type": "code",
   "execution_count": 206,
   "metadata": {},
   "outputs": [
    {
     "name": "stdout",
     "output_type": "stream",
     "text": [
      "2918\n",
      "3.49878501892\n"
     ]
    }
   ],
   "source": [
    "spaceMax = 100\n",
    "layout = layoutGen(spaceMin, 100, 5000)\n",
    "#len(layout.keys())\n",
    "layout = layoutGen(spaceMin, spaceMax, 3000)\n",
    "print len(layout)\n",
    "start = time.time()\n",
    "mover(layout, spaceMax, spaceMin)\n",
    "end = time.time()\n",
    "print(end - start)\n"
   ]
  },
  {
   "cell_type": "code",
   "execution_count": null,
   "metadata": {
    "collapsed": true
   },
   "outputs": [],
   "source": []
  }
 ],
 "metadata": {
  "kernelspec": {
   "display_name": "Python 2",
   "language": "python",
   "name": "python2"
  },
  "language_info": {
   "codemirror_mode": {
    "name": "ipython",
    "version": 2
   },
   "file_extension": ".py",
   "mimetype": "text/x-python",
   "name": "python",
   "nbconvert_exporter": "python",
   "pygments_lexer": "ipython2",
   "version": "2.7.13"
  }
 },
 "nbformat": 4,
 "nbformat_minor": 2
}
