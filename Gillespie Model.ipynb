{
 "cells": [
  {
   "cell_type": "code",
   "execution_count": 3,
   "metadata": {
    "collapsed": true
   },
   "outputs": [],
   "source": [
    "from igraph import *\n",
    "from igraph import plot\n",
    "import random\n",
    "import pandas\n",
    "import numpy\n",
    "from operator import add"
   ]
  },
  {
   "cell_type": "code",
   "execution_count": null,
   "metadata": {
    "collapsed": true
   },
   "outputs": [],
   "source": []
  },
  {
   "cell_type": "code",
   "execution_count": 4,
   "metadata": {
    "collapsed": true
   },
   "outputs": [],
   "source": [
    "spaceMax = 10\n",
    "spaceMin = 1\n",
    "time = 1\n",
    "final_time = 10"
   ]
  },
  {
   "cell_type": "code",
   "execution_count": null,
   "metadata": {
    "collapsed": true
   },
   "outputs": [],
   "source": []
  },
  {
   "cell_type": "code",
   "execution_count": 95,
   "metadata": {
    "scrolled": true
   },
   "outputs": [
    {
     "name": "stdout",
     "output_type": "stream",
     "text": [
      "{0: [2, 1], 1: [3, 1], 2: [3, 9], 3: [6, 3]}\n",
      "IGRAPH U--- 4 0 --\n",
      "[2, 1]\n",
      "0\n",
      "[3, 1]\n",
      "1\n",
      "[3, 9]\n",
      "2\n",
      "[6, 3]\n",
      "3\n",
      "[[2, 1], [3, 1], [3, 9], [6, 3]]\n",
      "IGRAPH UN-- 4 1 --\n",
      "+ attr: name (v)\n",
      "+ edges (vertex names):\n",
      "1--3\n"
     ]
    }
   ],
   "source": [
    "layout = { 0:[2,1], 1:[3,1], 2:[3,9], 3:[6,3] }\n",
    "print layout\n",
    "\n",
    "g = Graph(4)\n",
    "print(g)\n",
    "\n",
    "\n",
    "plot(g, layout = out)\n",
    "\n",
    "out = []\n",
    "for key,value in layout.items():\n",
    "    print value\n",
    "    print key\n",
    "    out.append(value)\n",
    "    \n",
    "print out\n",
    "\n",
    "\n",
    "g.vs[\"name\"] = range(4)\n",
    "g.add_edge(g.vs[1], g.vs[3])\n",
    "print g\n",
    "\n"
   ]
  },
  {
   "cell_type": "code",
   "execution_count": 155,
   "metadata": {
    "collapsed": true
   },
   "outputs": [],
   "source": [
    "def mover(layout, spaceMax, spaceMin):\n",
    "    from operator import add\n",
    "    \n",
    "    for key, value in layout.items():\n",
    "        possibilities = numpy.zeros(shape=(5,2))\n",
    "        possibilities[0] = [1, 0]\n",
    "        possibilities[1] = [-1, 0]\n",
    "        possibilities[2] = [0, 1]\n",
    "        possibilities[3] = [0, -1]\n",
    "        oldDir = tuple(value)\n",
    "\n",
    "        if any(i >= spaceMax or i <= spaceMin for i in oldDir):\n",
    "            newDir = bounceBack(oldDir, spaceMax, spaceMin)\n",
    "            if newDir in layout.values():\n",
    "                continue\n",
    "            else:\n",
    "                layout[key] = newDir\n",
    "        else:\n",
    "            possibilities = movementTester(oldDir, layout, possibilities)\n",
    "            randomDirection = random.choice( possibilities )\n",
    "            newDir = map(add, value, randomDirection)\n",
    "            if newDir in layout.values():\n",
    "                continue\n",
    "            else:\n",
    "                layout[key] = newDir            \n",
    "    return layout\n",
    "\n",
    "\n",
    "\n",
    "#layout = { 0:[2,1] }\n",
    "#output = []\n",
    "#time = 0\n",
    "#total_time = 100\n",
    "#while time <= total_time:\n",
    "#    layout = mover(layout, spaceMax, spaceMin)\n",
    "#    output.append(list(layout.values()) )   \n",
    "#    time += 1\n",
    " "
   ]
  },
  {
   "cell_type": "code",
   "execution_count": 298,
   "metadata": {},
   "outputs": [
    {
     "name": "stdout",
     "output_type": "stream",
     "text": [
      "{0: [2, 1], 1: [3, 1], 2: [2, 2], 3: [2, 3]}\n"
     ]
    }
   ],
   "source": [
    "layout = { 0:[2,1], 1:[3,1], 2:[2,2], 3:[2,3] }\n",
    "print layout\n",
    "#out = mover(layout, spaceMax, spaceMin)\n",
    "#print out\n"
   ]
  },
  {
   "cell_type": "code",
   "execution_count": 26,
   "metadata": {},
   "outputs": [
    {
     "name": "stdout",
     "output_type": "stream",
     "text": [
      "[2, 1]\n",
      "\n",
      "[3.0, 2.0]\n",
      "[3, 1]\n",
      "\n",
      "[3.0, 2.0]\n",
      "[2, 2]\n",
      "\n",
      "[3.0, 2.0]\n",
      "[2, 3]\n",
      "\n",
      "[3.0, 2.0]\n",
      "\n",
      "\n",
      "IGRAPH UN-- 4 0 --\n",
      "+ attr: name (v)\n"
     ]
    }
   ],
   "source": [
    "def newNeighborEdge(x, layout):\n",
    "    possibilities = numpy.zeros(shape=(4,2))\n",
    "    possibilities[0] = [1, 0]\n",
    "    possibilities[1] = [-1, 0]\n",
    "    possibilities[2] = [0, 1]\n",
    "    possibilities[3] = [0, -1]\n",
    "    new_possibilities = possibilities + x\n",
    "\n",
    "    output_direction = []\n",
    "    for i in new_possibilities:\n",
    "        i = list(i)\n",
    "        output_direction.append( (i in layout.values()) )\n",
    "\n",
    "    x_key = [key for key, value in layout.iteritems() if value == x][0]\n",
    "    \n",
    "    possibilities = possibilities[output_direction]\n",
    "    randomDirection = random.choice( new_possibilities )\n",
    "\n",
    "    for key, value in layout.iteritems():\n",
    "        randomDirection = list(randomDirection)\n",
    "        #print value\n",
    "        #print randomDirection\n",
    "        if value == randomDirection:\n",
    "            #print \"Im here\"\n",
    "            if value != x_key:\n",
    "                #print \"im here here\"\n",
    "                g.add_edge(g.vs[key][\"name\"], x_key)\n",
    "    return g\n",
    "\n",
    "\n",
    "g = Graph(4)\n",
    "g.vs[\"name\"] = range(4)\n",
    "layout = { 0:[2,1], 1:[3,1], 2:[2,2], 3:[2,3] }\n",
    "newNeighborEdge([2,2], layout)\n",
    "print ''\n",
    "print ''\n",
    "print g\n",
    "\n",
    "\n",
    "\n",
    "\n",
    "def delNeighborEdge(x, layout):\n",
    "    x_key = [key for key, value in layout.iteritems() if value == x][0]\n",
    "    \n",
    "    neighborSize = g.neighbors(x_key)\n",
    "    toDelete = random.choice(neighborSize)\n",
    "\n",
    "    if toDelete >= 1:\n",
    "        g.delete_edges( [(g.vs[x_key][\"name\"], toDelete)] )\n",
    "    \n",
    "    return g\n",
    "\n",
    "# to test adding an edge\n",
    "#g = Graph(4)\n",
    "#g.vs[\"name\"] = range(4)\n",
    "#layout = { 0:[2,1], 1:[3,1], 2:[2,2], 3:[2,3] }\n",
    "#newNeighborEdge([2,2], layout)\n",
    "#print ''\n",
    "#print ''\n",
    "#print g\n",
    "\n",
    "\n",
    "# to test deleting an edge\n",
    "#g = Graph(4)\n",
    "#g.vs[\"name\"] = range(4)\n",
    "#layout = { 0:[2,1], 1:[3,1], 2:[2,2], 3:[2,3] }\n",
    "#g.add_edge(2, 1)\n",
    "#newNeighborEdge([2,2], layout)\n",
    "#print g\n",
    "#delNeighborEdge([2,2], layout)\n",
    "#print ''\n",
    "#print ''\n",
    "#print g"
   ]
  },
  {
   "cell_type": "code",
   "execution_count": 378,
   "metadata": {
    "scrolled": false
   },
   "outputs": [
    {
     "name": "stdout",
     "output_type": "stream",
     "text": [
      "IGRAPH UN-- 4 1 --\n",
      "+ attr: name (v)\n",
      "+ edges (vertex names):\n",
      "2--3\n"
     ]
    }
   ],
   "source": [
    "x_key = 2\n",
    "#print g\n",
    "#neighbors = g.neighbors\n",
    "#print neighbors\n",
    "#g.degree(neighbors[1])\n",
    "neighborSize = g.neighbors(x_key)\n",
    "toDelete = random.choice(neighborSize)\n",
    "if toDelete >= 1:\n",
    "    g.delete_edges( [(g.vs[x_key][\"name\"], toDelete)] )\n",
    "print g\n",
    "#nearbyDegrees = []\n",
    "#for nearby in neighborSize:\n",
    "#    if g.degree(nearby) => 1:\n",
    "        \n",
    "        \n",
    "\n",
    "#g.neighbors(2)"
   ]
  },
  {
   "cell_type": "raw",
   "metadata": {},
   "source": []
  },
  {
   "cell_type": "code",
   "execution_count": null,
   "metadata": {
    "collapsed": true
   },
   "outputs": [],
   "source": []
  },
  {
   "cell_type": "code",
   "execution_count": 53,
   "metadata": {},
   "outputs": [
    {
     "name": "stdout",
     "output_type": "stream",
     "text": [
      "[[ 1.  0.]\n",
      " [-1.  0.]\n",
      " [ 0.  1.]\n",
      " [ 0. -1.]]\n",
      "\n",
      "(array([0, 0, 1]), array([0, 1, 1]))\n"
     ]
    }
   ],
   "source": [
    "possibilities = numpy.zeros(shape=(4,2))\n",
    "possibilities[0] = [1, 0]\n",
    "possibilities[1] = [-1, 0]\n",
    "possibilities[2] = [0, 1]\n",
    "possibilities[3] = [0, -1]\n",
    "x = [1,0]\n",
    "print possibilities\n",
    "print ''\n",
    "print numpy.where(possibilities==x)\n"
   ]
  },
  {
   "cell_type": "code",
   "execution_count": 262,
   "metadata": {},
   "outputs": [
    {
     "name": "stdout",
     "output_type": "stream",
     "text": [
      "2\n"
     ]
    }
   ],
   "source": [
    "layout = { 0:[2,1], 1:[3,1], 2:[2,2], 3:[6,3] }\n",
    "\n",
    "x = [2,2]\n",
    "x = [key for key, value in layout.iteritems() if value == x][0]\n",
    "print x\n"
   ]
  },
  {
   "cell_type": "code",
   "execution_count": 67,
   "metadata": {},
   "outputs": [
    {
     "name": "stdout",
     "output_type": "stream",
     "text": [
      "0\n",
      "1\n",
      "2\n",
      "3\n",
      "4\n",
      "5\n",
      "6\n",
      "7\n",
      "8\n",
      "9\n",
      "10\n",
      "11\n",
      "12\n",
      "13\n",
      "14\n",
      "15\n",
      "16\n",
      "17\n",
      "18\n",
      "19\n",
      "0.000600814819336\n"
     ]
    }
   ],
   "source": [
    "import time\n",
    "layout = { 0:[2,1], 1:[3,1], 2:[2,2], 3:[6,3] }\n",
    "nodes = 20\n",
    "layout = {}\n",
    "for i in range(nodes):\n",
    "    x = random.choice(range(spaceMin, spaceMax) )\n",
    "    y = random.choice(range(spaceMin, spaceMax) )\n",
    "    z = x,y\n",
    "    \n",
    "\n",
    "    \n",
    "    \n",
    "start = time.time()\n",
    "#print(\"hello\")\n",
    "mover(layout, spaceMax, spaceMin)\n",
    "end = time.time()\n",
    "print(end - start)"
   ]
  },
  {
   "cell_type": "code",
   "execution_count": 168,
   "metadata": {
    "collapsed": true
   },
   "outputs": [],
   "source": [
    "import time\n",
    "layout = { 0:[2,1], 1:[3,1], 2:[2,2], 3:[6,3] }\n",
    "nodes = 20\n",
    "#layout = {}\n",
    "for i in range(nodes):\n",
    "    x = random.choice(range(spaceMin, spaceMax) )\n",
    "    y = random.choice(range(spaceMin, spaceMax) )\n",
    "    z = x,y\n",
    "    \n",
    "\n",
    "\n",
    "\n",
    "range(spaceMin, spaceMax)\n",
    "\n",
    "x = random.choice(range(spaceMin, spaceMax) )\n",
    "y = random.choice(range(spaceMin, spaceMax) )\n",
    "z = x,y\n",
    "\n",
    "def layoutGen_old(spaceMin, spaceMax, nodes):\n",
    "\n",
    "    layout = {}\n",
    "    for i in range(nodes):\n",
    "        x = random.choice(range(spaceMin, spaceMax) )\n",
    "        y = random.choice(range(spaceMin, spaceMax) )\n",
    "        z = x,y\n",
    "\n",
    "        if not [key for key, value in layout.iteritems() if value == z]:\n",
    "            layout[i] = z\n",
    "        else:\n",
    "            x = random.choice(range(spaceMin, spaceMax) )\n",
    "            y = random.choice(range(spaceMin, spaceMax) )\n",
    "            z = x,y\n",
    "            if not [key for key, value in layout.iteritems() if value == z]:\n",
    "                layout[i] = list(z)\n",
    "    val = 0        \n",
    "    for key in layout.keys():\n",
    "        layout[val] = layout.pop(key)\n",
    "        val = val + 1\n",
    "            \n",
    "    return layout\n",
    "\n",
    "#I need to run this more than the number of nodes I want to get the number of nodes I want. \n",
    "#gg = layoutGen(spaceMin, 11, 250)\n",
    "#len( gg.keys() )"
   ]
  },
  {
   "cell_type": "code",
   "execution_count": 13,
   "metadata": {},
   "outputs": [
    {
     "name": "stdout",
     "output_type": "stream",
     "text": [
      "3000\n",
      "3.58579897881\n"
     ]
    }
   ],
   "source": [
    "spaceMax = 1000\n",
    "#len(layout.keys())\n",
    "layout = layoutGen(spaceMin, spaceMax, 3000)\n",
    "print len(layout)\n",
    "start = time.time()\n",
    "mover(layout, spaceMax, spaceMin)\n",
    "end = time.time()\n",
    "print(end - start)\n"
   ]
  },
  {
   "cell_type": "code",
   "execution_count": 14,
   "metadata": {},
   "outputs": [
    {
     "name": "stdout",
     "output_type": "stream",
     "text": [
      "         80840 function calls in 3.281 seconds\n",
      "\n",
      "   Ordered by: standard name\n",
      "\n",
      "   ncalls  tottime  percall  cumtime  percall filename:lineno(function)\n",
      "        8    0.000    0.000    0.000    0.000 <ipython-input-11-3622bc06c01c>:1(bounceBack)\n",
      "        1    0.493    0.493    3.281    3.281 <ipython-input-5-d50452fb32e8>:1(mover)\n",
      "     8996    0.003    0.000    0.003    0.000 <ipython-input-5-d50452fb32e8>:12(<genexpr>)\n",
      "     2992    2.362    0.001    2.686    0.001 <ipython-input-8-6d72f891ffe5>:1(movementTester)\n",
      "     2992    0.010    0.000    0.012    0.000 <ipython-input-9-741402746ec7>:1(true_to_false)\n",
      "        1    0.000    0.000    3.281    3.281 <string>:1(<module>)\n",
      "     2992    0.009    0.000    0.010    0.000 random.py:273(choice)\n",
      "     3000    0.003    0.000    0.006    0.000 {any}\n",
      "     2992    0.001    0.000    0.001    0.000 {len}\n",
      "     2992    0.015    0.000    0.015    0.000 {map}\n",
      "    29920    0.007    0.000    0.007    0.000 {method 'append' of 'list' objects}\n",
      "        1    0.000    0.000    0.000    0.000 {method 'disable' of '_lsprof.Profiler' objects}\n",
      "        1    0.000    0.000    0.000    0.000 {method 'items' of 'dict' objects}\n",
      "     2992    0.001    0.000    0.001    0.000 {method 'random' of '_random.Random' objects}\n",
      "    17960    0.371    0.000    0.371    0.000 {method 'values' of 'dict' objects}\n",
      "     3000    0.006    0.000    0.006    0.000 {numpy.core.multiarray.zeros}\n",
      "\n",
      "\n"
     ]
    }
   ],
   "source": [
    "spaceMax = 1000\n",
    "spaceMin = 1\n",
    "\n",
    "layout = layoutGen(spaceMin, spaceMax, 3000)\n",
    "import cProfile\n",
    "\n",
    "cProfile.run('mover(layout, spaceMax, spaceMin)')"
   ]
  },
  {
   "cell_type": "code",
   "execution_count": null,
   "metadata": {
    "collapsed": true
   },
   "outputs": [],
   "source": []
  },
  {
   "cell_type": "code",
   "execution_count": null,
   "metadata": {
    "collapsed": true
   },
   "outputs": [],
   "source": []
  },
  {
   "cell_type": "code",
   "execution_count": 17,
   "metadata": {
    "collapsed": true
   },
   "outputs": [],
   "source": [
    "layout = { 0:[2,1], 1:[3,1], 2:[2,2], 3:[6,3] }\n",
    "x = [2, 1]\n",
    "\n",
    "possibilities = numpy.zeros(shape=(4,2))\n",
    "possibilities[0] = [1, 0]\n",
    "possibilities[1] = [-1, 0]\n",
    "possibilities[2] = [0, 1]\n",
    "possibilities[3] = [0, -1]\n"
   ]
  },
  {
   "cell_type": "code",
   "execution_count": null,
   "metadata": {
    "collapsed": true
   },
   "outputs": [],
   "source": []
  },
  {
   "cell_type": "code",
   "execution_count": 159,
   "metadata": {
    "collapsed": true
   },
   "outputs": [],
   "source": [
    "def movementTester_new(x, layout, possibilities):\n",
    "    # x is a list representing the current position of a node. This function will test whether the four directions a node can move into are occupied\n",
    "    # this outputs a true / false list where false corresponds to positions available to move into at each step\n",
    "    new_possibilities = possibilities + x\n",
    "\n",
    "    output_direction = []\n",
    "    #output_direction = [list(i) not in layout.values()\n",
    "    #                for i in new_possibilities]\n",
    "    \n",
    "    vals = set(layout.values())\n",
    "    output_direction = [tuple(i) not in vals\n",
    "                        for i in new_possibilities]\n",
    "    \n",
    "    possibilities = possibilities[output_direction]\n",
    "    if possibilities.size == 0:\n",
    "        possibilities = [0, 0]\n",
    "        return possibilities\n",
    "    else:\n",
    "        return possibilities"
   ]
  },
  {
   "cell_type": "code",
   "execution_count": 128,
   "metadata": {},
   "outputs": [
    {
     "name": "stdout",
     "output_type": "stream",
     "text": [
      "0.00429201126099\n"
     ]
    }
   ],
   "source": [
    "#layout = { 0:[2,1], 1:[3,1], 2:[2,2], 3:[6,3] }\n",
    "#layout = { 0:(2,1), 1:(3,1), 2:(2,2), 3:(6,3) }\n",
    "x = [2, 1]\n",
    "spaceMax = 1000\n",
    "layout=layoutGen2(spaceMin, spaceMax, 10000)\n",
    "\n",
    "start = time.time()\n",
    "movementTester_new(x, layout, possibilities)\n",
    "end = time.time()\n",
    "print(end - start)"
   ]
  },
  {
   "cell_type": "code",
   "execution_count": 129,
   "metadata": {},
   "outputs": [
    {
     "name": "stdout",
     "output_type": "stream",
     "text": [
      "0.0028350353241\n"
     ]
    }
   ],
   "source": [
    "spaceMax = 1000\n",
    "layout = layoutGen(spaceMin, spaceMax, 10000)\n",
    "\n",
    "start = time.time()\n",
    "movementTester_old(x, layout, possibilities)\n",
    "end = time.time()\n",
    "print(end - start)"
   ]
  },
  {
   "cell_type": "code",
   "execution_count": null,
   "metadata": {
    "collapsed": true
   },
   "outputs": [],
   "source": []
  },
  {
   "cell_type": "code",
   "execution_count": 133,
   "metadata": {
    "collapsed": true
   },
   "outputs": [],
   "source": [
    "def movementTester_old(x, layout, possibilities):\n",
    "    # x is a list representing the current position of a node. This function will test whether the four directions a node can move into are occupied\n",
    "    # this outputs a true / false list where false corresponds to positions available to move into at each step\n",
    "    new_possibilities = possibilities + x\n",
    "\n",
    "    output_direction = []\n",
    "    for i in new_possibilities:\n",
    "        i =list(i)\n",
    "        output_direction.append( (i in layout.values()) )\n",
    "\n",
    "    output_direction = true_to_false(output_direction)\n",
    "    possibilities = possibilities[output_direction]\n",
    "    if possibilities.size == 0:\n",
    "        possibilities = [0, 0]\n",
    "        return possibilities\n",
    "    else:\n",
    "        return possibilities\n",
    "    "
   ]
  },
  {
   "cell_type": "code",
   "execution_count": 160,
   "metadata": {
    "collapsed": true
   },
   "outputs": [],
   "source": [
    "def layoutGen_new(spaceMin, spaceMax, nodes):\n",
    "\n",
    "    layout = {}\n",
    "    for i in range(nodes):\n",
    "        x = random.choice(range(spaceMin, spaceMax) )\n",
    "        y = random.choice(range(spaceMin, spaceMax) )\n",
    "        z = x,y\n",
    "\n",
    "        if not [key for key, value in layout.iteritems() if value == z]:\n",
    "            layout[i] = z\n",
    "        else:\n",
    "            x = random.choice(range(spaceMin, spaceMax) )\n",
    "            y = random.choice(range(spaceMin, spaceMax) )\n",
    "            z = x,y\n",
    "            if not [key for key, value in layout.iteritems() if value == z]:\n",
    "                layout[i] = tuple(z)\n",
    "    val = 0        \n",
    "    for key in layout.keys():\n",
    "        layout[val] = layout.pop(key)\n",
    "        val = val + 1\n",
    "            \n",
    "    return layout\n",
    "\n",
    "#I need to run this more than the number of nodes I want to get the number of nodes I want. \n",
    "#gg = layoutGen(spaceMin, 11, 250)\n",
    "#len( gg.keys() )\n"
   ]
  },
  {
   "cell_type": "code",
   "execution_count": null,
   "metadata": {
    "collapsed": true
   },
   "outputs": [],
   "source": []
  },
  {
   "cell_type": "code",
   "execution_count": 131,
   "metadata": {},
   "outputs": [
    {
     "name": "stdout",
     "output_type": "stream",
     "text": [
      "         4 function calls in 0.002 seconds\n",
      "\n",
      "   Ordered by: standard name\n",
      "\n",
      "   ncalls  tottime  percall  cumtime  percall filename:lineno(function)\n",
      "        1    0.002    0.002    0.002    0.002 <ipython-input-112-56ff60287010>:1(movementTester)\n",
      "        1    0.000    0.000    0.002    0.002 <string>:1(<module>)\n",
      "        1    0.000    0.000    0.000    0.000 {method 'disable' of '_lsprof.Profiler' objects}\n",
      "        1    0.000    0.000    0.000    0.000 {method 'values' of 'dict' objects}\n",
      "\n",
      "\n"
     ]
    }
   ],
   "source": [
    "layout=layoutGen2(spaceMin, spaceMax, 10000)\n",
    "cProfile.run('movementTester(x, layout, possibilities)')"
   ]
  },
  {
   "cell_type": "code",
   "execution_count": 162,
   "metadata": {},
   "outputs": [
    {
     "name": "stdout",
     "output_type": "stream",
     "text": [
      "2.4709379673\n",
      "2.04215192795\n"
     ]
    }
   ],
   "source": [
    "layout = layoutGen_old(spaceMin, spaceMax, 10000)\n",
    "#cProfile.run('movementTester_old(x, layout, possibilities)')\n",
    "\n",
    "start = time.time()\n",
    "for i in range(1000):\n",
    "    movementTester_old(x, layout, possibilities)\n",
    "end = time.time()\n",
    "print(end - start)\n",
    "\n",
    "\n",
    "\n",
    "\n",
    "layout=layoutGen_new(spaceMin, spaceMax, 10000)\n",
    "\n",
    "start = time.time()\n",
    "for i in range(1000):\n",
    "    movementTester_new(x, layout, possibilities)\n",
    "end = time.time()\n",
    "print(end - start)"
   ]
  },
  {
   "cell_type": "code",
   "execution_count": 163,
   "metadata": {},
   "outputs": [
    {
     "ename": "TypeError",
     "evalue": "unhashable type: 'list'",
     "output_type": "error",
     "traceback": [
      "\u001b[0;31m---------------------------------------------------------------------------\u001b[0m",
      "\u001b[0;31mTypeError\u001b[0m                                 Traceback (most recent call last)",
      "\u001b[0;32m<ipython-input-163-21d084b5ec03>\u001b[0m in \u001b[0;36m<module>\u001b[0;34m()\u001b[0m\n\u001b[1;32m      2\u001b[0m \u001b[0mstart\u001b[0m \u001b[0;34m=\u001b[0m \u001b[0mtime\u001b[0m\u001b[0;34m.\u001b[0m\u001b[0mtime\u001b[0m\u001b[0;34m(\u001b[0m\u001b[0;34m)\u001b[0m\u001b[0;34m\u001b[0m\u001b[0m\n\u001b[1;32m      3\u001b[0m \u001b[0;32mfor\u001b[0m \u001b[0mi\u001b[0m \u001b[0;32min\u001b[0m \u001b[0mrange\u001b[0m\u001b[0;34m(\u001b[0m\u001b[0;36m1000\u001b[0m\u001b[0;34m)\u001b[0m\u001b[0;34m:\u001b[0m\u001b[0;34m\u001b[0m\u001b[0m\n\u001b[0;32m----> 4\u001b[0;31m     \u001b[0mmover\u001b[0m\u001b[0;34m(\u001b[0m\u001b[0mlayout\u001b[0m\u001b[0;34m,\u001b[0m \u001b[0mspaceMax\u001b[0m\u001b[0;34m,\u001b[0m \u001b[0mspaceMin\u001b[0m\u001b[0;34m)\u001b[0m\u001b[0;34m\u001b[0m\u001b[0m\n\u001b[0m\u001b[1;32m      5\u001b[0m \u001b[0mend\u001b[0m \u001b[0;34m=\u001b[0m \u001b[0mtime\u001b[0m\u001b[0;34m.\u001b[0m\u001b[0mtime\u001b[0m\u001b[0;34m(\u001b[0m\u001b[0;34m)\u001b[0m\u001b[0;34m\u001b[0m\u001b[0m\n\u001b[1;32m      6\u001b[0m \u001b[0;32mprint\u001b[0m\u001b[0;34m(\u001b[0m\u001b[0mend\u001b[0m \u001b[0;34m-\u001b[0m \u001b[0mstart\u001b[0m\u001b[0;34m)\u001b[0m\u001b[0;34m\u001b[0m\u001b[0m\n",
      "\u001b[0;32m<ipython-input-155-e322b7f15f01>\u001b[0m in \u001b[0;36mmover\u001b[0;34m(layout, spaceMax, spaceMin)\u001b[0m\n\u001b[1;32m     17\u001b[0m                 \u001b[0mlayout\u001b[0m\u001b[0;34m[\u001b[0m\u001b[0mkey\u001b[0m\u001b[0;34m]\u001b[0m \u001b[0;34m=\u001b[0m \u001b[0mnewDir\u001b[0m\u001b[0;34m\u001b[0m\u001b[0m\n\u001b[1;32m     18\u001b[0m         \u001b[0;32melse\u001b[0m\u001b[0;34m:\u001b[0m\u001b[0;34m\u001b[0m\u001b[0m\n\u001b[0;32m---> 19\u001b[0;31m             \u001b[0mpossibilities\u001b[0m \u001b[0;34m=\u001b[0m \u001b[0mmovementTester\u001b[0m\u001b[0;34m(\u001b[0m\u001b[0moldDir\u001b[0m\u001b[0;34m,\u001b[0m \u001b[0mlayout\u001b[0m\u001b[0;34m,\u001b[0m \u001b[0mpossibilities\u001b[0m\u001b[0;34m)\u001b[0m\u001b[0;34m\u001b[0m\u001b[0m\n\u001b[0m\u001b[1;32m     20\u001b[0m             \u001b[0mrandomDirection\u001b[0m \u001b[0;34m=\u001b[0m \u001b[0mrandom\u001b[0m\u001b[0;34m.\u001b[0m\u001b[0mchoice\u001b[0m\u001b[0;34m(\u001b[0m \u001b[0mpossibilities\u001b[0m \u001b[0;34m)\u001b[0m\u001b[0;34m\u001b[0m\u001b[0m\n\u001b[1;32m     21\u001b[0m             \u001b[0mnewDir\u001b[0m \u001b[0;34m=\u001b[0m \u001b[0mmap\u001b[0m\u001b[0;34m(\u001b[0m\u001b[0madd\u001b[0m\u001b[0;34m,\u001b[0m \u001b[0mvalue\u001b[0m\u001b[0;34m,\u001b[0m \u001b[0mrandomDirection\u001b[0m\u001b[0;34m)\u001b[0m\u001b[0;34m\u001b[0m\u001b[0m\n",
      "\u001b[0;32m<ipython-input-112-56ff60287010>\u001b[0m in \u001b[0;36mmovementTester\u001b[0;34m(x, layout, possibilities)\u001b[0m\n\u001b[1;32m      8\u001b[0m     \u001b[0;31m#                for i in new_possibilities]\u001b[0m\u001b[0;34m\u001b[0m\u001b[0;34m\u001b[0m\u001b[0m\n\u001b[1;32m      9\u001b[0m \u001b[0;34m\u001b[0m\u001b[0m\n\u001b[0;32m---> 10\u001b[0;31m     \u001b[0mvals\u001b[0m \u001b[0;34m=\u001b[0m \u001b[0mset\u001b[0m\u001b[0;34m(\u001b[0m\u001b[0mlayout\u001b[0m\u001b[0;34m.\u001b[0m\u001b[0mvalues\u001b[0m\u001b[0;34m(\u001b[0m\u001b[0;34m)\u001b[0m\u001b[0;34m)\u001b[0m\u001b[0;34m\u001b[0m\u001b[0m\n\u001b[0m\u001b[1;32m     11\u001b[0m     output_direction = [tuple(i) not in vals\n\u001b[1;32m     12\u001b[0m                         for i in new_possibilities]\n",
      "\u001b[0;31mTypeError\u001b[0m: unhashable type: 'list'"
     ]
    }
   ],
   "source": [
    "layout=layoutGen_new(spaceMin, spaceMax, 100)\n",
    "start = time.time()\n",
    "for i in range(1000):\n",
    "    mover(layout, spaceMax, spaceMin)\n",
    "end = time.time()\n",
    "print(end - start)"
   ]
  },
  {
   "cell_type": "code",
   "execution_count": 174,
   "metadata": {},
   "outputs": [
    {
     "ename": "TypeError",
     "evalue": "unhashable type: 'list'",
     "output_type": "error",
     "traceback": [
      "\u001b[0;31m---------------------------------------------------------------------------\u001b[0m",
      "\u001b[0;31mTypeError\u001b[0m                                 Traceback (most recent call last)",
      "\u001b[0;32m<ipython-input-174-a698cea4c61b>\u001b[0m in \u001b[0;36m<module>\u001b[0;34m()\u001b[0m\n\u001b[1;32m      1\u001b[0m \u001b[0mlayout\u001b[0m\u001b[0;34m=\u001b[0m\u001b[0mlayoutGen_old\u001b[0m\u001b[0;34m(\u001b[0m\u001b[0mspaceMin\u001b[0m\u001b[0;34m,\u001b[0m \u001b[0mspaceMax\u001b[0m\u001b[0;34m,\u001b[0m \u001b[0;36m100\u001b[0m\u001b[0;34m)\u001b[0m\u001b[0;34m\u001b[0m\u001b[0m\n\u001b[1;32m      2\u001b[0m \u001b[0;31m#print layout\u001b[0m\u001b[0;34m\u001b[0m\u001b[0;34m\u001b[0m\u001b[0m\n\u001b[0;32m----> 3\u001b[0;31m \u001b[0mmover\u001b[0m\u001b[0;34m(\u001b[0m\u001b[0mlayout\u001b[0m\u001b[0;34m,\u001b[0m \u001b[0mspaceMax\u001b[0m\u001b[0;34m,\u001b[0m \u001b[0mspaceMin\u001b[0m\u001b[0;34m)\u001b[0m\u001b[0;34m\u001b[0m\u001b[0m\n\u001b[0m",
      "\u001b[0;32m<ipython-input-155-e322b7f15f01>\u001b[0m in \u001b[0;36mmover\u001b[0;34m(layout, spaceMax, spaceMin)\u001b[0m\n\u001b[1;32m     17\u001b[0m                 \u001b[0mlayout\u001b[0m\u001b[0;34m[\u001b[0m\u001b[0mkey\u001b[0m\u001b[0;34m]\u001b[0m \u001b[0;34m=\u001b[0m \u001b[0mnewDir\u001b[0m\u001b[0;34m\u001b[0m\u001b[0m\n\u001b[1;32m     18\u001b[0m         \u001b[0;32melse\u001b[0m\u001b[0;34m:\u001b[0m\u001b[0;34m\u001b[0m\u001b[0m\n\u001b[0;32m---> 19\u001b[0;31m             \u001b[0mpossibilities\u001b[0m \u001b[0;34m=\u001b[0m \u001b[0mmovementTester\u001b[0m\u001b[0;34m(\u001b[0m\u001b[0moldDir\u001b[0m\u001b[0;34m,\u001b[0m \u001b[0mlayout\u001b[0m\u001b[0;34m,\u001b[0m \u001b[0mpossibilities\u001b[0m\u001b[0;34m)\u001b[0m\u001b[0;34m\u001b[0m\u001b[0m\n\u001b[0m\u001b[1;32m     20\u001b[0m             \u001b[0mrandomDirection\u001b[0m \u001b[0;34m=\u001b[0m \u001b[0mrandom\u001b[0m\u001b[0;34m.\u001b[0m\u001b[0mchoice\u001b[0m\u001b[0;34m(\u001b[0m \u001b[0mpossibilities\u001b[0m \u001b[0;34m)\u001b[0m\u001b[0;34m\u001b[0m\u001b[0m\n\u001b[1;32m     21\u001b[0m             \u001b[0mnewDir\u001b[0m \u001b[0;34m=\u001b[0m \u001b[0mmap\u001b[0m\u001b[0;34m(\u001b[0m\u001b[0madd\u001b[0m\u001b[0;34m,\u001b[0m \u001b[0mvalue\u001b[0m\u001b[0;34m,\u001b[0m \u001b[0mrandomDirection\u001b[0m\u001b[0;34m)\u001b[0m\u001b[0;34m\u001b[0m\u001b[0m\n",
      "\u001b[0;32m<ipython-input-112-56ff60287010>\u001b[0m in \u001b[0;36mmovementTester\u001b[0;34m(x, layout, possibilities)\u001b[0m\n\u001b[1;32m      8\u001b[0m     \u001b[0;31m#                for i in new_possibilities]\u001b[0m\u001b[0;34m\u001b[0m\u001b[0;34m\u001b[0m\u001b[0m\n\u001b[1;32m      9\u001b[0m \u001b[0;34m\u001b[0m\u001b[0m\n\u001b[0;32m---> 10\u001b[0;31m     \u001b[0mvals\u001b[0m \u001b[0;34m=\u001b[0m \u001b[0mset\u001b[0m\u001b[0;34m(\u001b[0m\u001b[0mlayout\u001b[0m\u001b[0;34m.\u001b[0m\u001b[0mvalues\u001b[0m\u001b[0;34m(\u001b[0m\u001b[0;34m)\u001b[0m\u001b[0;34m)\u001b[0m\u001b[0;34m\u001b[0m\u001b[0m\n\u001b[0m\u001b[1;32m     11\u001b[0m     output_direction = [tuple(i) not in vals\n\u001b[1;32m     12\u001b[0m                         for i in new_possibilities]\n",
      "\u001b[0;31mTypeError\u001b[0m: unhashable type: 'list'"
     ]
    }
   ],
   "source": [
    "layout=layoutGen_old(spaceMin, spaceMax, 100)\n",
    "#print layout\n",
    "mover(layout, spaceMax, spaceMin)"
   ]
  },
  {
   "cell_type": "code",
   "execution_count": 173,
   "metadata": {},
   "outputs": [
    {
     "name": "stdout",
     "output_type": "stream",
     "text": [
      "{0: (41, 715), 1: (741, 70), 2: (203, 538), 3: (339, 428), 4: (599, 318), 5: (404, 997), 6: (253, 912), 7: (961, 739), 8: (909, 935), 9: (410, 241), 10: (726, 568), 11: (501, 929), 12: (263, 164), 13: (503, 646), 14: (90, 879), 15: (768, 776), 16: (559, 280), 17: (638, 540), 18: (269, 456), 19: (101, 953), 20: (880, 475), 21: (159, 265), 22: (777, 152), 23: (998, 137), 24: (159, 955), 25: (959, 484), 26: (290, 341), 27: (362, 249), 28: (570, 495), 29: (140, 93), 30: (434, 714), 31: (748, 311), 32: (289, 976), 33: (29, 189), 34: (55, 311), 35: (573, 399), 36: (137, 533), 37: (526, 904), 38: (152, 931), 39: (571, 54), 40: (56, 688), 41: (243, 715), 42: (813, 228), 43: (981, 153), 44: (427, 571), 45: (110, 16), 46: (377, 674), 47: (826, 624), 48: (153, 867), 49: (741, 39), 50: (337, 381), 51: (115, 34), 52: (156, 671), 53: (136, 582), 54: (855, 456), 55: (408, 957), 56: (111, 908), 57: (629, 896), 58: (171, 74), 59: (819, 140), 60: (420, 618), 61: (911, 495), 62: (926, 854), 63: (777, 682), 64: (143, 931), 65: (870, 414), 66: (786, 650), 67: (465, 813), 68: (334, 7), 69: (689, 715), 70: (227, 853), 71: (454, 473), 72: (906, 316), 73: (94, 982), 74: (104, 521), 75: (528, 346), 76: (136, 640), 77: (692, 195), 78: (91, 488), 79: (766, 799), 80: (265, 973), 81: (726, 173), 82: (875, 87), 83: (193, 583), 84: (384, 906), 85: (706, 829), 86: (938, 220), 87: (876, 249), 88: (525, 995), 89: (315, 709), 90: (891, 905), 91: (316, 858), 92: (18, 496), 93: (78, 299), 94: (43, 836), 95: (516, 590), 96: (898, 217), 97: (168, 967), 98: (409, 34), 99: (928, 794)}\n"
     ]
    }
   ],
   "source": [
    "def layoutGen_old(spaceMin, spaceMax, nodes):\n",
    "\n",
    "    layout = {}\n",
    "    for i in range(nodes):\n",
    "        x = random.choice(range(spaceMin, spaceMax) )\n",
    "        y = random.choice(range(spaceMin, spaceMax) )\n",
    "        z = x,y\n",
    "\n",
    "        if not [key for key, value in layout.iteritems() if value == z]:\n",
    "            layout[i] = z\n",
    "        else:\n",
    "            x = random.choice(range(spaceMin, spaceMax) )\n",
    "            y = random.choice(range(spaceMin, spaceMax) )\n",
    "            z = x,y\n",
    "            if not [key for key, value in layout.iteritems() if value == z]:\n",
    "                layout[i] = z\n",
    "    val = 0        \n",
    "    for key in layout.keys():\n",
    "        layout[val] = layout.pop(key)\n",
    "        val = val + 1\n",
    "            \n",
    "    return layout\n",
    "\n",
    "layout=layoutGen_old(spaceMin, spaceMax, 100)\n",
    "print layout"
   ]
  },
  {
   "cell_type": "code",
   "execution_count": 185,
   "metadata": {
    "collapsed": true
   },
   "outputs": [],
   "source": [
    "def mover(layout, spaceMax, spaceMin):\n",
    "    from operator import add\n",
    "    \n",
    "    for key, value in layout.items():\n",
    "        possibilities = numpy.zeros(shape=(5,2))\n",
    "        possibilities[0] = [1, 0]\n",
    "        possibilities[1] = [-1, 0]\n",
    "        possibilities[2] = [0, 1]\n",
    "        possibilities[3] = [0, -1]\n",
    "        oldDir = list(value)\n",
    "\n",
    "        if any(i >= spaceMax or i <= spaceMin for i in oldDir):\n",
    "            newDir = bounceBack(oldDir, spaceMax, spaceMin)\n",
    "            if newDir in layout.values():\n",
    "                continue\n",
    "            else:\n",
    "                layout[key] = newDir\n",
    "        else:\n",
    "            possibilities = movementTester(value, layout, possibilities)\n",
    "            randomDirection = random.choice( possibilities )\n",
    "            newDir = map(add, value, randomDirection)\n",
    "            if newDir in layout.values():\n",
    "                continue\n",
    "            else:\n",
    "                layout[key] = newDir            \n",
    "    return layout\n",
    "def movementTester(x, layout, possibilities):\n",
    "    # x is a list representing the current position of a node. This function will test whether the four directions a node can move into are occupied\n",
    "    # this outputs a true / false list where false corresponds to positions available to move into at each step\n",
    "    new_possibilities = possibilities + x\n",
    "\n",
    "    output_direction = []\n",
    "    for i in new_possibilities:\n",
    "        i = list(i)\n",
    "        output_direction.append( (i in layout.values()) )\n",
    "\n",
    "    output_direction = true_to_false(output_direction)\n",
    "    possibilities = possibilities[output_direction]\n",
    "    if possibilities.size == 0:\n",
    "        possibilities = [0, 0]\n",
    "        return possibilities\n",
    "    else:\n",
    "        return possibilities\n",
    "\n",
    "\n",
    "layout=layoutGen_old(spaceMin, spaceMax, 100)\n",
    "#mover(layout, spaceMax, spaceMin)"
   ]
  },
  {
   "cell_type": "code",
   "execution_count": 190,
   "metadata": {},
   "outputs": [
    {
     "ename": "TypeError",
     "evalue": "unhashable type: 'list'",
     "output_type": "error",
     "traceback": [
      "\u001b[0;31m---------------------------------------------------------------------------\u001b[0m",
      "\u001b[0;31mTypeError\u001b[0m                                 Traceback (most recent call last)",
      "\u001b[0;32m<ipython-input-190-fffaf4c57090>\u001b[0m in \u001b[0;36m<module>\u001b[0;34m()\u001b[0m\n\u001b[1;32m     43\u001b[0m \u001b[0;34m\u001b[0m\u001b[0m\n\u001b[1;32m     44\u001b[0m \u001b[0mlayout\u001b[0m\u001b[0;34m=\u001b[0m\u001b[0mlayoutGen_new\u001b[0m\u001b[0;34m(\u001b[0m\u001b[0mspaceMin\u001b[0m\u001b[0;34m,\u001b[0m \u001b[0mspaceMax\u001b[0m\u001b[0;34m,\u001b[0m \u001b[0;36m100\u001b[0m\u001b[0;34m)\u001b[0m\u001b[0;34m\u001b[0m\u001b[0m\n\u001b[0;32m---> 45\u001b[0;31m \u001b[0mmover\u001b[0m\u001b[0;34m(\u001b[0m\u001b[0mlayout\u001b[0m\u001b[0;34m,\u001b[0m \u001b[0mspaceMax\u001b[0m\u001b[0;34m,\u001b[0m \u001b[0mspaceMin\u001b[0m\u001b[0;34m)\u001b[0m\u001b[0;34m\u001b[0m\u001b[0m\n\u001b[0m",
      "\u001b[0;32m<ipython-input-190-fffaf4c57090>\u001b[0m in \u001b[0;36mmover\u001b[0;34m(layout, spaceMax, spaceMin)\u001b[0m\n\u001b[1;32m     17\u001b[0m                 \u001b[0mlayout\u001b[0m\u001b[0;34m[\u001b[0m\u001b[0mkey\u001b[0m\u001b[0;34m]\u001b[0m \u001b[0;34m=\u001b[0m \u001b[0mnewDir\u001b[0m\u001b[0;34m\u001b[0m\u001b[0m\n\u001b[1;32m     18\u001b[0m         \u001b[0;32melse\u001b[0m\u001b[0;34m:\u001b[0m\u001b[0;34m\u001b[0m\u001b[0m\n\u001b[0;32m---> 19\u001b[0;31m             \u001b[0mpossibilities\u001b[0m \u001b[0;34m=\u001b[0m \u001b[0mmovementTester_new\u001b[0m\u001b[0;34m(\u001b[0m\u001b[0moldDir\u001b[0m\u001b[0;34m,\u001b[0m \u001b[0mlayout\u001b[0m\u001b[0;34m,\u001b[0m \u001b[0mpossibilities\u001b[0m\u001b[0;34m)\u001b[0m\u001b[0;34m\u001b[0m\u001b[0m\n\u001b[0m\u001b[1;32m     20\u001b[0m             \u001b[0mrandomDirection\u001b[0m \u001b[0;34m=\u001b[0m \u001b[0mrandom\u001b[0m\u001b[0;34m.\u001b[0m\u001b[0mchoice\u001b[0m\u001b[0;34m(\u001b[0m \u001b[0mpossibilities\u001b[0m \u001b[0;34m)\u001b[0m\u001b[0;34m\u001b[0m\u001b[0m\n\u001b[1;32m     21\u001b[0m             \u001b[0mnewDir\u001b[0m \u001b[0;34m=\u001b[0m \u001b[0mmap\u001b[0m\u001b[0;34m(\u001b[0m\u001b[0madd\u001b[0m\u001b[0;34m,\u001b[0m \u001b[0mvalue\u001b[0m\u001b[0;34m,\u001b[0m \u001b[0mrandomDirection\u001b[0m\u001b[0;34m)\u001b[0m\u001b[0;34m\u001b[0m\u001b[0m\n",
      "\u001b[0;32m<ipython-input-190-fffaf4c57090>\u001b[0m in \u001b[0;36mmovementTester_new\u001b[0;34m(x, layout, possibilities)\u001b[0m\n\u001b[1;32m     31\u001b[0m     \u001b[0moutput_direction\u001b[0m \u001b[0;34m=\u001b[0m \u001b[0;34m[\u001b[0m\u001b[0;34m]\u001b[0m\u001b[0;34m\u001b[0m\u001b[0m\n\u001b[1;32m     32\u001b[0m \u001b[0;34m\u001b[0m\u001b[0m\n\u001b[0;32m---> 33\u001b[0;31m     \u001b[0mvals\u001b[0m \u001b[0;34m=\u001b[0m \u001b[0mset\u001b[0m\u001b[0;34m(\u001b[0m\u001b[0mlayout\u001b[0m\u001b[0;34m.\u001b[0m\u001b[0mvalues\u001b[0m\u001b[0;34m(\u001b[0m\u001b[0;34m)\u001b[0m\u001b[0;34m)\u001b[0m\u001b[0;34m\u001b[0m\u001b[0m\n\u001b[0m\u001b[1;32m     34\u001b[0m     output_direction = [tuple(i) not in vals\n\u001b[1;32m     35\u001b[0m                         for i in new_possibilities]\n",
      "\u001b[0;31mTypeError\u001b[0m: unhashable type: 'list'"
     ]
    }
   ],
   "source": [
    "def mover(layout, spaceMax, spaceMin):\n",
    "    from operator import add\n",
    "    \n",
    "    for key, value in layout.items():\n",
    "        possibilities = numpy.zeros(shape=(5,2))\n",
    "        possibilities[0] = [1, 0]\n",
    "        possibilities[1] = [-1, 0]\n",
    "        possibilities[2] = [0, 1]\n",
    "        possibilities[3] = [0, -1]\n",
    "        oldDir = tuple(value)\n",
    "\n",
    "        if any(i >= spaceMax or i <= spaceMin for i in oldDir):\n",
    "            newDir = bounceBack(oldDir, spaceMax, spaceMin)\n",
    "            if newDir in layout.values():\n",
    "                continue\n",
    "            else:\n",
    "                layout[key] = newDir\n",
    "        else:\n",
    "            possibilities = movementTester_new(oldDir, layout, possibilities)\n",
    "            randomDirection = random.choice( possibilities )\n",
    "            newDir = map(add, value, randomDirection)\n",
    "            if newDir in layout.values():\n",
    "                continue\n",
    "            else:\n",
    "                layout[key] = newDir            \n",
    "    return layout\n",
    "def movementTester_new(x, layout, possibilities):\n",
    "    \n",
    "    new_possibilities = possibilities + x\n",
    "\n",
    "    output_direction = []\n",
    "    \n",
    "    vals = set(layout.values())\n",
    "    output_direction = [tuple(i) not in vals\n",
    "                        for i in new_possibilities]\n",
    "    \n",
    "    possibilities = possibilities[output_direction]\n",
    "    if possibilities.size == 0:\n",
    "        possibilities = [0, 0]\n",
    "        return possibilities\n",
    "    else:\n",
    "        return possibilities\n",
    "    \n",
    "layout=layoutGen_new(spaceMin, spaceMax, 100)\n",
    "mover(layout, spaceMax, spaceMin)\n"
   ]
  },
  {
   "cell_type": "code",
   "execution_count": null,
   "metadata": {
    "collapsed": true
   },
   "outputs": [],
   "source": []
  },
  {
   "cell_type": "code",
   "execution_count": null,
   "metadata": {
    "collapsed": true
   },
   "outputs": [],
   "source": []
  }
 ],
 "metadata": {
  "kernelspec": {
   "display_name": "Python 2",
   "language": "python",
   "name": "python2"
  },
  "language_info": {
   "codemirror_mode": {
    "name": "ipython",
    "version": 2
   },
   "file_extension": ".py",
   "mimetype": "text/x-python",
   "name": "python",
   "nbconvert_exporter": "python",
   "pygments_lexer": "ipython2",
   "version": "2.7.13"
  }
 },
 "nbformat": 4,
 "nbformat_minor": 2
}
