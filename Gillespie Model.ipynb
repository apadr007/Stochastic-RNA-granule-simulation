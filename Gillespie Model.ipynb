{
 "cells": [
  {
   "cell_type": "code",
   "execution_count": 44,
   "metadata": {
    "collapsed": true
   },
   "outputs": [],
   "source": [
    "from igraph import *\n",
    "from igraph import plot\n",
    "import random\n",
    "import pandas\n",
    "import numpy\n",
    "from operator import add"
   ]
  },
  {
   "cell_type": "code",
   "execution_count": 27,
   "metadata": {},
   "outputs": [
    {
     "name": "stdout",
     "output_type": "stream",
     "text": [
      "IGRAPH U--- 3 0 --\n"
     ]
    }
   ],
   "source": []
  },
  {
   "cell_type": "code",
   "execution_count": 6,
   "metadata": {
    "collapsed": true
   },
   "outputs": [],
   "source": [
    "spaceMax = 10\n",
    "spaceMin = 1\n",
    "time = 1\n",
    "final_time = 10"
   ]
  },
  {
   "cell_type": "code",
   "execution_count": 95,
   "metadata": {
    "scrolled": true
   },
   "outputs": [
    {
     "name": "stdout",
     "output_type": "stream",
     "text": [
      "{0: [2, 1], 1: [3, 1], 2: [3, 9], 3: [6, 3]}\n",
      "IGRAPH U--- 4 0 --\n",
      "[2, 1]\n",
      "0\n",
      "[3, 1]\n",
      "1\n",
      "[3, 9]\n",
      "2\n",
      "[6, 3]\n",
      "3\n",
      "[[2, 1], [3, 1], [3, 9], [6, 3]]\n",
      "IGRAPH UN-- 4 1 --\n",
      "+ attr: name (v)\n",
      "+ edges (vertex names):\n",
      "1--3\n"
     ]
    }
   ],
   "source": [
    "layout = { 0:[2,1], 1:[3,1], 2:[3,9], 3:[6,3] }\n",
    "print layout\n",
    "#layout = g.layout(\"kk\")\n",
    "g = Graph(4)\n",
    "print(g)\n",
    "\n",
    "\n",
    "plot(g, layout = out)\n",
    "\n",
    "out = []\n",
    "for key,value in layout.items():\n",
    "    print value\n",
    "    print key\n",
    "    out.append(value)\n",
    "    \n",
    "print out\n",
    "\n",
    "\n",
    "g.vs[\"name\"] = range(4)\n",
    "g.add_edge(g.vs[1], g.vs[3])\n",
    "print g\n",
    "\n"
   ]
  },
  {
   "cell_type": "code",
   "execution_count": 7,
   "metadata": {
    "collapsed": true
   },
   "outputs": [],
   "source": [
    "def mover(layout, spaceMax, spaceMin):\n",
    "    from operator import add\n",
    "    \n",
    "    for key, value in layout.items():\n",
    "        possibilities = numpy.zeros(shape=(5,2))\n",
    "        possibilities[0] = [1, 0]\n",
    "        possibilities[1] = [-1, 0]\n",
    "        possibilities[2] = [0, 1]\n",
    "        possibilities[3] = [0, -1]\n",
    "        oldDir = list(value)\n",
    "\n",
    "        if any(i >= spaceMax or i <= spaceMin for i in oldDir):\n",
    "            newDir = bounceBack(oldDir, spaceMax, spaceMin)\n",
    "            if newDir in layout.values():\n",
    "                continue\n",
    "            else:\n",
    "                layout[key] = newDir\n",
    "        else:\n",
    "            possibilities = movementTester(value, layout, possibilities)\n",
    "            randomDirection = random.choice( possibilities )\n",
    "            newDir = map(add, value, randomDirection)\n",
    "            if newDir in layout.values():\n",
    "                continue\n",
    "            else:\n",
    "                layout[key] = newDir            \n",
    "    return layout\n",
    "\n",
    "\n",
    "\n",
    "#layout = { 0:[2,1] }\n",
    "#output = []\n",
    "#time = 0\n",
    "#total_time = 100\n",
    "#while time <= total_time:\n",
    "#    layout = mover(layout, spaceMax, spaceMin)\n",
    "#    output.append(list(layout.values()) )   \n",
    "#    time += 1\n",
    " "
   ]
  },
  {
   "cell_type": "code",
   "execution_count": 298,
   "metadata": {},
   "outputs": [
    {
     "name": "stdout",
     "output_type": "stream",
     "text": [
      "{0: [2, 1], 1: [3, 1], 2: [2, 2], 3: [2, 3]}\n"
     ]
    }
   ],
   "source": [
    "layout = { 0:[2,1], 1:[3,1], 2:[2,2], 3:[2,3] }\n",
    "print layout\n",
    "#out = mover(layout, spaceMax, spaceMin)\n",
    "#print out\n"
   ]
  },
  {
   "cell_type": "code",
   "execution_count": 301,
   "metadata": {},
   "outputs": [
    {
     "name": "stdout",
     "output_type": "stream",
     "text": [
      "[2, 1]\n",
      "[2.0, 3.0]\n",
      "[3, 1]\n",
      "[2.0, 3.0]\n",
      "[2, 2]\n",
      "[2.0, 3.0]\n",
      "[2, 3]\n",
      "[2.0, 3.0]\n",
      "Im here\n",
      "im here here\n",
      "\n",
      "\n",
      "IGRAPH UN-- 4 1 --\n",
      "+ attr: name (v)\n",
      "+ edges (vertex names):\n",
      "2--3\n"
     ]
    }
   ],
   "source": [
    "def newNeighborEdge(x, layout):\n",
    "    possibilities = numpy.zeros(shape=(4,2))\n",
    "    possibilities[0] = [1, 0]\n",
    "    possibilities[1] = [-1, 0]\n",
    "    possibilities[2] = [0, 1]\n",
    "    possibilities[3] = [0, -1]\n",
    "    new_possibilities = possibilities + x\n",
    "\n",
    "    output_direction = []\n",
    "    for i in new_possibilities:\n",
    "        i = list(i)\n",
    "        output_direction.append( (i in layout.values()) )\n",
    "\n",
    "    x_key = [key for key, value in layout.iteritems() if value == x][0]\n",
    "    \n",
    "    possibilities = possibilities[output_direction]\n",
    "    randomDirection = random.choice( new_possibilities )\n",
    "\n",
    "    for key, value in layout.iteritems():\n",
    "        randomDirection = list(randomDirection)\n",
    "        print value\n",
    "        print randomDirection\n",
    "        if value == randomDirection:\n",
    "            print \"Im here\"\n",
    "            if value != x_key:\n",
    "                print \"im here here\"\n",
    "                g.add_edge(g.vs[key][\"name\"], x_key)\n",
    "    return g\n",
    "\n",
    "\n",
    "#g = Graph(4)\n",
    "#g.vs[\"name\"] = range(4)\n",
    "#layout = { 0:[2,1], 1:[3,1], 2:[2,2], 3:[2,3] }\n",
    "#newNeighborEdge([2,2], layout)\n",
    "#print ''\n",
    "#print ''\n",
    "#print g"
   ]
  },
  {
   "cell_type": "code",
   "execution_count": null,
   "metadata": {
    "scrolled": false
   },
   "outputs": [],
   "source": []
  },
  {
   "cell_type": "raw",
   "metadata": {},
   "source": []
  },
  {
   "cell_type": "code",
   "execution_count": null,
   "metadata": {},
   "outputs": [],
   "source": []
  },
  {
   "cell_type": "code",
   "execution_count": null,
   "metadata": {
    "collapsed": true
   },
   "outputs": [],
   "source": [
    "\n"
   ]
  },
  {
   "cell_type": "code",
   "execution_count": 262,
   "metadata": {},
   "outputs": [
    {
     "name": "stdout",
     "output_type": "stream",
     "text": [
      "2\n"
     ]
    }
   ],
   "source": [
    "layout = { 0:[2,1], 1:[3,1], 2:[2,2], 3:[6,3] }\n",
    "\n",
    "x = [2,2]\n",
    "x = [key for key, value in layout.iteritems() if value == x][0]\n",
    "print x\n"
   ]
  },
  {
   "cell_type": "code",
   "execution_count": null,
   "metadata": {
    "collapsed": true
   },
   "outputs": [],
   "source": []
  },
  {
   "cell_type": "code",
   "execution_count": null,
   "metadata": {
    "collapsed": true
   },
   "outputs": [],
   "source": []
  },
  {
   "cell_type": "raw",
   "metadata": {
    "collapsed": true
   },
   "source": []
  },
  {
   "cell_type": "code",
   "execution_count": null,
   "metadata": {},
   "outputs": [],
   "source": []
  },
  {
   "cell_type": "code",
   "execution_count": null,
   "metadata": {
    "collapsed": true
   },
   "outputs": [],
   "source": []
  },
  {
   "cell_type": "code",
   "execution_count": null,
   "metadata": {
    "collapsed": true
   },
   "outputs": [],
   "source": []
  },
  {
   "cell_type": "code",
   "execution_count": null,
   "metadata": {
    "collapsed": true
   },
   "outputs": [],
   "source": []
  }
 ],
 "metadata": {
  "kernelspec": {
   "display_name": "Python 2",
   "language": "python",
   "name": "python2"
  },
  "language_info": {
   "codemirror_mode": {
    "name": "ipython",
    "version": 2
   },
   "file_extension": ".py",
   "mimetype": "text/x-python",
   "name": "python",
   "nbconvert_exporter": "python",
   "pygments_lexer": "ipython2",
   "version": "2.7.13"
  }
 },
 "nbformat": 4,
 "nbformat_minor": 2
}
