{
 "cells": [
  {
   "cell_type": "code",
   "execution_count": 2,
   "metadata": {
    "collapsed": true
   },
   "outputs": [],
   "source": [
    "def movement_finder(position_selected, illegal_moves, layout_old, spaceMin, spaceMax):\n",
    "    total_moves = 4\n",
    "    my_possibilities = {1: (1, 0), 2: (0,1), 3:(-1, 0), 4:(0,-1) }\n",
    "\n",
    "    finding_neighbors = {}\n",
    "    j = 0\n",
    "    for i in my_possibilities.values():\n",
    "        finding_neighbors[tuple(map(add, position_selected, i))] = j\n",
    "        j += 1\n",
    "\n",
    "   \n",
    "    if position_selected[0] == spaceMin and position_selected[1] == spaceMin:\n",
    "        current_moves = 2\n",
    "        sd1 = set(finding_neighbors.keys())\n",
    "        sd2 = set(layout_old.keys())\n",
    "        current_moves = current_moves - len(sd1.intersection(sd2))\n",
    "        return current_moves\n",
    "    if position_selected[0] == spaceMax and position_selected[1] == spaceMax:\n",
    "        current_moves = 2\n",
    "        sd1 = set(finding_neighbors.keys())\n",
    "        sd2 = set(layout_old.keys())\n",
    "        current_moves = current_moves - len(sd1.intersection(sd2))\n",
    "        return current_moves \n",
    "    if position_selected[0] == spaceMin or position_selected[1] == spaceMin:\n",
    "        current_moves = 3\n",
    "        sd1 = set(finding_neighbors.keys())\n",
    "        sd2 = set(layout_old.keys())\n",
    "        current_moves = current_moves - len(sd1.intersection(sd2))\n",
    "        return current_moves\n",
    "    if position_selected[0] == spaceMax or position_selected[1] == spaceMax:\n",
    "        current_moves = 3\n",
    "        sd1 = set(finding_neighbors.keys())\n",
    "        sd2 = set(layout_old.keys())\n",
    "        current_moves = current_moves - len(sd1.intersection(sd2))\n",
    "        return current_moves\n",
    "    else:\n",
    "        sd1 = set(finding_neighbors.keys())\n",
    "        sd2 = set(layout_old.keys())\n",
    "        #sd3 = set(illegal_moves.keys())\n",
    "        current_moves = total_moves - len(sd1.intersection(sd2)) #- len(sd1.intersection(sd3))\n",
    "        return current_moves\n",
    "    "
   ]
  },
  {
   "cell_type": "code",
   "execution_count": 4,
   "metadata": {
    "collapsed": true
   },
   "outputs": [],
   "source": [
    "spaceMax = 10\n",
    "\n",
    "def illegal_boundaries(spaceMax):\n",
    "    mydict = {}\n",
    "    j = 1\n",
    "    for i in range(spaceMax):\n",
    "        mydict[ (0, i) ] = j\n",
    "        j += 1\n",
    "        mydict[ (i, 0) ] = j\n",
    "        j += 1\n",
    "        mydict[ (i+1, 0)] =j\n",
    "        j += 1\n",
    "        mydict[ (i, 0)] =j\n",
    "        j += 1\n",
    "        mydict[ (-1, i+1) ] = j\n",
    "        j += 1\n",
    "        mydict[ (-1, i) ] = j\n",
    "        j += 1\n",
    "\n",
    "    mydict[ (spaceMax-1, spaceMax-1) ] = 0\n",
    "    \n",
    "    \n",
    "    return mydict\n",
    "\n",
    "illegal_moves = illegal_boundaries(spaceMax)"
   ]
  },
  {
   "cell_type": "code",
   "execution_count": 6,
   "metadata": {
    "collapsed": true
   },
   "outputs": [],
   "source": [
    "layout_old = {(4, 5): 65, (3, 7): 55, (9, 5): 126, (8, 4): 113}"
   ]
  },
  {
   "cell_type": "code",
   "execution_count": 8,
   "metadata": {},
   "outputs": [
    {
     "data": {
      "text/plain": [
       "4"
      ]
     },
     "execution_count": 8,
     "metadata": {},
     "output_type": "execute_result"
    }
   ],
   "source": [
    "from operator import add\n",
    "\n",
    "position_selected = (3,7)\n",
    "spaceMin = 0\n",
    "spaceMax = 9\n",
    "\n",
    "\n",
    "movement_finder(position_selected, illegal_moves, layout_old, spaceMin, spaceMax)"
   ]
  },
  {
   "cell_type": "code",
   "execution_count": null,
   "metadata": {
    "collapsed": true
   },
   "outputs": [],
   "source": []
  }
 ],
 "metadata": {
  "kernelspec": {
   "display_name": "Python 2",
   "language": "python",
   "name": "python2"
  },
  "language_info": {
   "codemirror_mode": {
    "name": "ipython",
    "version": 2
   },
   "file_extension": ".py",
   "mimetype": "text/x-python",
   "name": "python",
   "nbconvert_exporter": "python",
   "pygments_lexer": "ipython2",
   "version": "2.7.13"
  }
 },
 "nbformat": 4,
 "nbformat_minor": 2
}
