{
 "cells": [
  {
   "cell_type": "code",
   "execution_count": 1,
   "metadata": {
    "collapsed": true
   },
   "outputs": [],
   "source": [
    "def boundary_checker(x, spaceMin, spaceMax):\n",
    "    if spaceMax in x or spaceMin in x:\n",
    "        x = list(x)\n",
    "        if x[0] == spaceMin:\n",
    "            x[0] = spaceMin + 1\n",
    "        elif x[0] == spaceMax:\n",
    "            x[0] = spaceMax - 1\n",
    "        elif x[1] == spaceMin:\n",
    "            x[1] = spaceMin + 1\n",
    "        elif x[1] == spaceMax:\n",
    "            x[1] = spaceMax - 1\n",
    "    return tuple(x)\n"
   ]
  },
  {
   "cell_type": "code",
   "execution_count": 2,
   "metadata": {},
   "outputs": [
    {
     "data": {
      "text/plain": [
       "(9, 5)"
      ]
     },
     "execution_count": 2,
     "metadata": {},
     "output_type": "execute_result"
    }
   ],
   "source": [
    "x = (10, 5)\n",
    "spaceMin = 0\n",
    "spaceMax = 10\n",
    "boundary_checker(x, spaceMin, spaceMax)"
   ]
  },
  {
   "cell_type": "code",
   "execution_count": null,
   "metadata": {
    "collapsed": true
   },
   "outputs": [],
   "source": []
  }
 ],
 "metadata": {
  "kernelspec": {
   "display_name": "Python 2",
   "language": "python",
   "name": "python2"
  },
  "language_info": {
   "codemirror_mode": {
    "name": "ipython",
    "version": 2
   },
   "file_extension": ".py",
   "mimetype": "text/x-python",
   "name": "python",
   "nbconvert_exporter": "python",
   "pygments_lexer": "ipython2",
   "version": "2.7.13"
  }
 },
 "nbformat": 4,
 "nbformat_minor": 2
}
