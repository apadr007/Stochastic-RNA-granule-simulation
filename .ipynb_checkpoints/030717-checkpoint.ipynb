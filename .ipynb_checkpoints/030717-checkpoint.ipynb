{
 "cells": [
  {
   "cell_type": "code",
   "execution_count": 1028,
   "metadata": {
    "collapsed": true
   },
   "outputs": [],
   "source": [
    "from igraph import *\n",
    "from igraph import plot\n",
    "import random\n",
    "import pandas\n",
    "import numpy\n",
    "from operator import add"
   ]
  },
  {
   "cell_type": "code",
   "execution_count": 1257,
   "metadata": {},
   "outputs": [
    {
     "name": "stdout",
     "output_type": "stream",
     "text": [
      "IGRAPH U--- 3 0 --\n",
      "+ attr: label (v)\n"
     ]
    }
   ],
   "source": [
    "g = Graph(3)\n",
    "g.vs['label'] = range(len(layout.old))\n",
    "print(g)"
   ]
  },
  {
   "cell_type": "code",
   "execution_count": 1258,
   "metadata": {
    "collapsed": true
   },
   "outputs": [],
   "source": [
    "spaceMax = 10\n",
    "spaceMin = 1\n",
    "time = 1\n",
    "final_time = 10"
   ]
  },
  {
   "cell_type": "code",
   "execution_count": 2082,
   "metadata": {
    "scrolled": true
   },
   "outputs": [
    {
     "name": "stdout",
     "output_type": "stream",
     "text": [
      "{(1, 2): 0, (1, 1): 1, (2, 1): 2, (5, 5): 3}\n",
      "[(1, 2), (1, 1), (2, 1), (5, 5)]\n",
      "(5, 5)\n"
     ]
    }
   ],
   "source": [
    "#nodes = range(3)\n",
    "#positions = ((1,3), (11, 1), (5, 2))\n",
    "\n",
    "#layout_old = dict()\n",
    "#for i in range(len(nodes)):\n",
    "#    layout_old[nodes[i]] = positions[i]\n",
    "    \n",
    "#print layout_old\n",
    "#print layout_old.keys()\n",
    "\n",
    "layout_old = {(1,2):0, (1,1):1, (2,1):2, (5,5):3}\n",
    "layout = layout_old\n",
    "\n",
    "\n",
    "oldPosition = layout.keys()[0]\n",
    "\n",
    "randomDirection = random.choice( possibilities )\n",
    "newDir = tuple( map(add, oldPosition, randomDirection))\n",
    "#print layout.append({(1,100): 4})\n",
    "layout[newDir] = 0\n",
    "\n",
    "\n",
    "\n",
    "layout_old = {(1,2):0, (1,1):1, (2,1):2, (5,5):3}\n",
    "layout = layout_old\n",
    "print layout\n",
    "print layout.keys()\n",
    "print layout.keys()[3]\n"
   ]
  },
  {
   "cell_type": "code",
   "execution_count": 2083,
   "metadata": {},
   "outputs": [],
   "source": [
    "def mover(layout, spaceMax, spaceMin):\n",
    "    from operator import add\n",
    "    \n",
    "    possibilities = numpy.zeros(shape=(5,2))\n",
    "    possibilities[0] = [1, 0]\n",
    "    possibilities[1] = [-1, 0]\n",
    "    possibilities[2] = [0, 1]\n",
    "    possibilities[3] = [0, -1]\n",
    "    new = {}\n",
    "    \n",
    "    for i in layout.values():\n",
    "        oldDir = list(layout.keys()[i])\n",
    "        \n",
    "        if any(i >= spaceMax or i <= spaceMin for i in oldDir):\n",
    "            newDir = bounceBack(oldDir, spaceMax, spaceMin)\n",
    "            newDir = tuple(newDir)\n",
    "            new[i] = newDir\n",
    "        else:\n",
    "            possibilities = movementTester(i, layout, possibilities)\n",
    "            randomDirection = random.choice( possibilities )\n",
    "            newDir = tuple(map(add, layout.keys()[i], randomDirection))\n",
    "            new[i] = newDir\n",
    "                \n",
    "    return new"
   ]
  },
  {
   "cell_type": "code",
   "execution_count": 2084,
   "metadata": {},
   "outputs": [
    {
     "name": "stdout",
     "output_type": "stream",
     "text": [
      "{(1, 2): 0, (1, 1): 1, (2, 1): 2, (5, 5): 3}\n",
      " \n",
      "{0: (2, 2), 1: (2, 2), 2: (2, 2), 3: (5.0, 5.0)}\n"
     ]
    }
   ],
   "source": [
    "spaceMax = 10\n",
    "spaceMin = 1\n",
    "print layout\n",
    "print ' '\n",
    "layout = mover(layout, spaceMax, spaceMin)\n",
    "print layout"
   ]
  },
  {
   "cell_type": "code",
   "execution_count": 2101,
   "metadata": {},
   "outputs": [
    {
     "name": "stdout",
     "output_type": "stream",
     "text": [
      "{(4, 6): 2, (5, 5): 0, (3, 5): 3}\n",
      "[[ 1.  0.]\n",
      " [-1.  0.]\n",
      " [ 0.  1.]\n",
      " [ 0. -1.]\n",
      " [ 0.  0.]]\n"
     ]
    },
    {
     "data": {
      "text/plain": [
       "array([[ 5.,  5.],\n",
       "       [ 3.,  5.],\n",
       "       [ 4.,  6.],\n",
       "       [ 4.,  4.],\n",
       "       [ 4.,  5.]])"
      ]
     },
     "execution_count": 2101,
     "metadata": {},
     "output_type": "execute_result"
    }
   ],
   "source": [
    "#### movementTester is not working !! see example in this box below. \n",
    "\n",
    "def movementTester(x, layout, possibilities):\n",
    "    # x is a tuple representing the current position of a node. This function will test whether the four directions a node can move into are occupied\n",
    "    # this outputs a true / false list where false corresponds to positions available to move into at each step\n",
    "    new_possibilities = possibilities + x\n",
    "\n",
    "    output_direction = []\n",
    "    for i in new_possibilities:\n",
    "        i = tuple(i)\n",
    "        output_direction.append( (i in layout.values()) )\n",
    "    \n",
    "    output_direction = true_to_false(output_direction)\n",
    "    possibilities = possibilities[output_direction]\n",
    "    if possibilities.size == 0:\n",
    "        possibilities = [0, 0]\n",
    "        return possibilities\n",
    "    else:\n",
    "        return possibilities\n",
    "\n",
    "layout = {(5,5):0, (3,5):1, (4,6):2, (3,5):3}\n",
    "print layout\n",
    "x = (4,5)\n",
    "print movementTester(x, layout, possibilities)\n",
    "\n",
    "possibilities + x"
   ]
  },
  {
   "cell_type": "code",
   "execution_count": null,
   "metadata": {},
   "outputs": [],
   "source": []
  },
  {
   "cell_type": "code",
   "execution_count": null,
   "metadata": {
    "scrolled": true
   },
   "outputs": [],
   "source": []
  },
  {
   "cell_type": "code",
   "execution_count": null,
   "metadata": {},
   "outputs": [],
   "source": []
  },
  {
   "cell_type": "code",
   "execution_count": null,
   "metadata": {},
   "outputs": [],
   "source": []
  },
  {
   "cell_type": "code",
   "execution_count": 1916,
   "metadata": {},
   "outputs": [
    {
     "name": "stdout",
     "output_type": "stream",
     "text": [
      "[12, 2]\n",
      "[9, 2]\n"
     ]
    }
   ],
   "source": [
    "def bounceBack(newDir, spaceMax, spaceMin):\n",
    "    for n,i in enumerate(newDir):\n",
    "        if i <= spaceMin:\n",
    "            newDir[n] = spaceMin + 1\n",
    "        if i >= spaceMax:\n",
    "            newDir[n] = spaceMax - 1\n",
    "    return newDir"
   ]
  },
  {
   "cell_type": "code",
   "execution_count": 2059,
   "metadata": {},
   "outputs": [],
   "source": [
    "def true_to_false(y):\n",
    "    #this inverts True to False\n",
    "    output = []\n",
    "    for i in y:\n",
    "        if i == True:\n",
    "             output.append((False))\n",
    "        elif i == False:\n",
    "            output.append((True))       \n",
    "    return output"
   ]
  },
  {
   "cell_type": "code",
   "execution_count": null,
   "metadata": {
    "collapsed": true
   },
   "outputs": [],
   "source": []
  },
  {
   "cell_type": "code",
   "execution_count": 25,
   "metadata": {
    "collapsed": true
   },
   "outputs": [],
   "source": []
  },
  {
   "cell_type": "code",
   "execution_count": null,
   "metadata": {
    "collapsed": true
   },
   "outputs": [],
   "source": []
  },
  {
   "cell_type": "code",
   "execution_count": null,
   "metadata": {
    "collapsed": true
   },
   "outputs": [],
   "source": []
  },
  {
   "cell_type": "code",
   "execution_count": null,
   "metadata": {
    "collapsed": true
   },
   "outputs": [],
   "source": []
  },
  {
   "cell_type": "code",
   "execution_count": null,
   "metadata": {
    "collapsed": true
   },
   "outputs": [],
   "source": []
  }
 ],
 "metadata": {
  "kernelspec": {
   "display_name": "Python 2",
   "language": "python",
   "name": "python2"
  },
  "language_info": {
   "codemirror_mode": {
    "name": "ipython",
    "version": 2
   },
   "file_extension": ".py",
   "mimetype": "text/x-python",
   "name": "python",
   "nbconvert_exporter": "python",
   "pygments_lexer": "ipython2",
   "version": "2.7.13"
  }
 },
 "nbformat": 4,
 "nbformat_minor": 2
}
