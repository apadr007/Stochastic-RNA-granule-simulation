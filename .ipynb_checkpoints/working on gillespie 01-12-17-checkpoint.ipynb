{
 "cells": [
  {
   "cell_type": "markdown",
   "metadata": {},
   "source": [
    "# This function creates illegal boundaries to follow"
   ]
  },
  {
   "cell_type": "code",
   "execution_count": 159,
   "metadata": {
    "collapsed": true
   },
   "outputs": [],
   "source": [
    "spaceMax = 10\n",
    "spaceMin = 0\n",
    "\n",
    "def illegal_boundaries(spaceMax):\n",
    "    mydict = {}\n",
    "    j = 1\n",
    "    for i in range(spaceMax):\n",
    "        mydict[ (0, i) ] = j\n",
    "        j += 1\n",
    "        mydict[ (i, 0) ] = j\n",
    "        j += 1\n",
    "        mydict[ (i+1, 0)] =j\n",
    "        j += 1\n",
    "        mydict[ (i, 0)] =j\n",
    "        j += 1\n",
    "        mydict[ (-1, i+1) ] = j\n",
    "        j += 1\n",
    "        mydict[ (-1, i) ] = j\n",
    "        j += 1\n",
    "\n",
    "    mydict[ (spaceMax-1, spaceMax-1) ] = 0\n",
    "    \n",
    "    \n",
    "    return mydict\n",
    "\n",
    "illegal_moves = illegal_boundaries(spaceMax)\n"
   ]
  },
  {
   "cell_type": "code",
   "execution_count": 161,
   "metadata": {},
   "outputs": [
    {
     "name": "stdout",
     "output_type": "stream",
     "text": [
      "{(9, 0): 58, (-1, 0): 6, (3, 0): 22, (-1, 9): 60, (8, 0): 52, (0, 7): 43, (9, 9): 0, (-1, 5): 36, (0, 3): 19, (4, 0): 28, (-1, 1): 12, (2, 0): 16, (-1, 10): 59, (5, 0): 34, (0, 4): 25, (10, 0): 57, (-1, 6): 42, (0, 0): 4, (-1, 2): 18, (6, 0): 40, (0, 5): 31, (1, 0): 10, (0, 8): 49, (-1, 7): 48, (0, 1): 7, (7, 0): 46, (-1, 3): 24, (-1, 8): 54, (0, 6): 37, (0, 9): 55, (-1, 4): 30, (0, 2): 13}\n",
      "32\n"
     ]
    }
   ],
   "source": [
    "print illegal_moves\n",
    "print len(illegal_moves)"
   ]
  },
  {
   "cell_type": "code",
   "execution_count": 204,
   "metadata": {},
   "outputs": [
    {
     "name": "stdout",
     "output_type": "stream",
     "text": [
      "{(8, 11): 113, (3, 8): 126, (6, 2): 65}\n",
      "{(4, 8): 126, (8, 11): 113, (6, 2): 65}\n",
      "(4, 8)\n"
     ]
    }
   ],
   "source": [
    "import random\n",
    "from operator import add\n",
    "\n",
    "position_selected = random.choice( layout_old.keys() )\n",
    "\n",
    "def Mover(position_selected, layout_old, illegal_moves):\n",
    "    possibilities = {1: (1, 0), 2: (0,1), 3:(-1, 0), 4:(0,-1), 5:(0,0)}\n",
    "    movement_options = 4\n",
    "    \n",
    "    newDir = random.choice(possibilities.values())\n",
    "    new_posit = tuple(map(add, position_selected, newDir))\n",
    "    \n",
    "\n",
    "    \n",
    "    if new_posit not in illegal_moves.keys():        \n",
    "        idx = layout_old.get(position_selected)\n",
    "        \n",
    "        del layout_old[position_selected]\n",
    "        layout_old[new_posit] = idx\n",
    "\n",
    "        return layout_old, new_posit\n",
    "    else:\n",
    "        return layout_old, position_selected\n",
    "\n",
    "print layout_old\n",
    "x,y = Mover(position_selected, layout_old, illegal_moves)\n",
    "print x\n",
    "print y"
   ]
  },
  {
   "cell_type": "markdown",
   "metadata": {},
   "source": [
    "# Movement value function looks good and returns the movement options well!"
   ]
  },
  {
   "cell_type": "code",
   "execution_count": 173,
   "metadata": {},
   "outputs": [
    {
     "data": {
      "text/plain": [
       "2"
      ]
     },
     "execution_count": 173,
     "metadata": {},
     "output_type": "execute_result"
    }
   ],
   "source": [
    "from operator import add\n",
    "\n",
    "position_selected = (0, 6)\n",
    "spaceMin = 0\n",
    "spaceMax = 9\n",
    "\n",
    "def movement_finder(position_selected, illegal_moves, layout_old, spaceMin, spaceMax):\n",
    "    total_moves = 4\n",
    "    my_possibilities = {1: (1, 0), 2: (0,1), 3:(-1, 0), 4:(0,-1) }\n",
    "\n",
    "    finding_neighbors = {}\n",
    "    j = 0\n",
    "    for i in my_possibilities.values():\n",
    "        finding_neighbors[tuple(map(add, position_selected, i))] = j\n",
    "        j += 1\n",
    "\n",
    "   \n",
    "    if position_selected[0] == spaceMin and position_selected[1] == spaceMin:\n",
    "        current_moves = 2\n",
    "        sd1 = set(finding_neighbors.keys())\n",
    "        sd2 = set(layout_old.keys())\n",
    "        current_moves = current_moves - len(sd1.intersection(sd2))\n",
    "        return current_moves\n",
    "    if position_selected[0] == spaceMax and position_selected[1] == spaceMax:\n",
    "        current_moves = 2\n",
    "        sd1 = set(finding_neighbors.keys())\n",
    "        sd2 = set(layout_old.keys())\n",
    "        current_moves = current_moves - len(sd1.intersection(sd2))\n",
    "        return current_moves \n",
    "    if position_selected[0] == spaceMin or position_selected[1] == spaceMin:\n",
    "        current_moves = 3\n",
    "        sd1 = set(finding_neighbors.keys())\n",
    "        sd2 = set(layout_old.keys())\n",
    "        current_moves = current_moves - len(sd1.intersection(sd2))\n",
    "        return current_moves\n",
    "    if position_selected[0] == spaceMax or position_selected[1] == spaceMax:\n",
    "        current_moves = 3\n",
    "        sd1 = set(finding_neighbors.keys())\n",
    "        sd2 = set(layout_old.keys())\n",
    "        current_moves = current_moves - len(sd1.intersection(sd2))\n",
    "        return current_moves\n",
    "    else:\n",
    "        sd1 = set(finding_neighbors.keys())\n",
    "        sd2 = set(layout_old.keys())\n",
    "        #sd3 = set(illegal_moves.keys())\n",
    "        current_moves = total_moves - len(sd1.intersection(sd2)) #- len(sd1.intersection(sd3))\n",
    "        return current_moves\n",
    "    \n",
    "movement_finder(position_selected, illegal_moves, layout_old, spaceMin, spaceMax)"
   ]
  },
  {
   "cell_type": "code",
   "execution_count": null,
   "metadata": {},
   "outputs": [],
   "source": []
  },
  {
   "cell_type": "markdown",
   "metadata": {},
   "source": [
    "# Gillespie"
   ]
  },
  {
   "cell_type": "code",
   "execution_count": null,
   "metadata": {
    "collapsed": true
   },
   "outputs": [],
   "source": [
    "import random\n",
    "from operator import add\n",
    "import numpy \n",
    "from igraph import *\n",
    "\n",
    "\n",
    "# 2D lattice\n",
    "spaceMin = 0\n",
    "spaceMax = 100\n",
    "\n",
    "# Find legal and illegal moving options\n",
    "legal_moves, illegal_moves = illegal_position_generator(spaceMax, spaceMin)\n",
    "\n",
    "# Number of objects to simulate\n",
    "node_number = 50\n",
    "\n",
    "# Place objects in 2D lattice\n",
    "layout_old = layout_gen(node_number, legal_moves)\n",
    "\n",
    "# Updates illegal moves dict\n",
    "illegal_moves = merge_two_dicts(illegal_moves, layout_old)"
   ]
  },
  {
   "cell_type": "code",
   "execution_count": 205,
   "metadata": {},
   "outputs": [
    {
     "name": "stdout",
     "output_type": "stream",
     "text": [
      "{113: 4, 126: 4, 65: 3}\n",
      "{113: 4, 126: 4, 65: 4}\n",
      "{113: 4, 126: 3, 65: 4}\n",
      "{113: 4, 126: 3, 65: 3}\n",
      "{113: 4, 126: 4, 65: 3}\n",
      "{113: 4, 126: 3, 65: 3}\n"
     ]
    }
   ],
   "source": [
    "t = 0\n",
    "total_time = 5\n",
    "k_move = 1e-3\n",
    "k_bind = 1e-4\n",
    "k_off = 1e-2\n",
    "tau = 1e-3\n",
    "#allGraphs = {}\n",
    "times = []\n",
    "movement_positions = {}\n",
    "\n",
    "# this sets up initial movement options\n",
    "for k,v in layout_old.items():\n",
    "    movement_positions[v] = movement_finder(k, illegal_moves, layout_old, spaceMin, spaceMax)\n",
    "    \n",
    "    \n",
    "while t <= total_time:\n",
    "    for i in range( len(layout_old.keys() ) ):\n",
    "        \n",
    "        ## Calculate all possible reactions\n",
    "        \n",
    "        move = len(layout_old.keys() )*4                              # movement\n",
    "        move_k = move * k_move * tau\n",
    "        \n",
    "        bind = len(layout_old.keys() )*4                              # binding\n",
    "        bind_k = bind * k_bind * tau\n",
    "        \n",
    "        #dissociate = sum(g.vs.degree())                               # dissociation\n",
    "        #dissociate_k = dissociate * k_off * tau\n",
    "        \n",
    "        \n",
    "        #rate_sum = move_k + bind_k + dissociate_k                     # Time at which the next reaction will take place\n",
    "        #tau = random.expovariate(lambd=rate_sum)                      # Time at which the next reaction will take place\n",
    "        #times.append(tau)                                             # Save time as a tuple\n",
    "        #reaction = allRxn(move_k, bind_k, dissociate_k)               # Sample from uniform distribution\n",
    "        \n",
    "        reaction = 'move'     ## delete this! \n",
    "                \n",
    "        if reaction == 'move':\n",
    "\n",
    "            position_selected = random.choice(layout_old.keys() )                  # randomly select a node\n",
    "            layout_old, pos = Mover(position_selected, layout_old, illegal_moves)  # move in new direction         \n",
    "                        \n",
    "            # this will update how many moves the selected object can perform still\n",
    "            v = layout_old[pos]\n",
    "            movement_positions[v] = movement_finder(position_selected, illegal_moves, layout_old, spaceMin, spaceMax)\n",
    "\n",
    "        t += 1\n"
   ]
  },
  {
   "cell_type": "code",
   "execution_count": 194,
   "metadata": {},
   "outputs": [
    {
     "name": "stdout",
     "output_type": "stream",
     "text": [
      "55\n"
     ]
    }
   ],
   "source": [
    "layout_old = {(5, 3): 55, (4, 9): 126, (9, 9): 113, (5, 4): 65}\n",
    "\n",
    "print layout_old[(5,3)]"
   ]
  },
  {
   "cell_type": "code",
   "execution_count": null,
   "metadata": {},
   "outputs": [],
   "source": []
  },
  {
   "cell_type": "code",
   "execution_count": 188,
   "metadata": {},
   "outputs": [
    {
     "data": {
      "text/plain": [
       "{(4, 9): 126, (5, 4): 55, (9, 9): 113}"
      ]
     },
     "execution_count": 188,
     "metadata": {},
     "output_type": "execute_result"
    }
   ],
   "source": [
    "layout_old"
   ]
  },
  {
   "cell_type": "code",
   "execution_count": null,
   "metadata": {},
   "outputs": [],
   "source": []
  },
  {
   "cell_type": "code",
   "execution_count": null,
   "metadata": {
    "collapsed": true
   },
   "outputs": [],
   "source": []
  }
 ],
 "metadata": {
  "kernelspec": {
   "display_name": "Python 2",
   "language": "python",
   "name": "python2"
  }
 },
 "nbformat": 4,
 "nbformat_minor": 2
}
