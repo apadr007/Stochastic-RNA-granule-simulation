{
 "cells": [
  {
   "cell_type": "markdown",
   "metadata": {},
   "source": [
    "# Gillespie Model for inter and intramolecular association preference"
   ]
  },
  {
   "cell_type": "markdown",
   "metadata": {},
   "source": [
    "# Load functions"
   ]
  },
  {
   "cell_type": "code",
   "execution_count": 1,
   "metadata": {},
   "outputs": [],
   "source": [
    "# illegal position generator tells us where NOT to move to"
   ]
  },
  {
   "cell_type": "code",
   "execution_count": 3,
   "metadata": {},
   "outputs": [],
   "source": [
    "def illegal_position_generator(spaceMax, spaceMin):\n",
    "    from itertools import permutations\n",
    "    boundary = spaceMax + 2\n",
    "    lower_boundary = spaceMin - 1\n",
    "    items = range(lower_boundary, boundary)\n",
    "    moves = {}\n",
    "    i = 0\n",
    "    for p in permutations(items, 2):\n",
    "        moves[i] = p\n",
    "        i += 1\n",
    "\n",
    "    illegal_moves = {}\n",
    "    legal_moves = {}\n",
    "    for key,value in moves.items():\n",
    "        for n,i in enumerate(value):\n",
    "            try:        \n",
    "                if i <= spaceMin or i >= spaceMax:\n",
    "                    illegal_moves[key] = value\n",
    "            except:\n",
    "                continue\n",
    "                \n",
    "    for key, value in illegal_moves.iteritems():\n",
    "        if value in moves.values():\n",
    "            del moves[key]\n",
    "\n",
    "    #This changes values into keys and vice versa\n",
    "    moves = {y:x for x,y in moves.iteritems()}\n",
    "    illegal_moves = {y:x for x,y in illegal_moves.iteritems()}\n",
    "   \n",
    "    # include positions at edges\n",
    "    illegal_moves.update({(spaceMin,spaceMin):10000000, (spaceMax, spaceMax):100000001 })\n",
    "    \n",
    "    return moves, illegal_moves"
   ]
  },
  {
   "cell_type": "code",
   "execution_count": 4,
   "metadata": {},
   "outputs": [],
   "source": [
    "# layout_gen function randomly places nodes on a NxN grid"
   ]
  },
  {
   "cell_type": "code",
   "execution_count": 5,
   "metadata": {},
   "outputs": [],
   "source": [
    "def layout_gen(node_number, legal_moves): \n",
    "    import random\n",
    "    \n",
    "    wanted_keys = random.sample(legal_moves.keys(), node_number)\n",
    "    #using dictionary comprehension to subset a dictionary by keys\n",
    "    layout_old = dict((k, legal_moves[k]) for k in wanted_keys if k in legal_moves)\n",
    "    \n",
    "   # #I am going to omit making this dict because I can keep tract of names using the values of layout_old as a name attribute in a graph\n",
    "   # #layout_names = {y:x for x,y in layout_old.iteritems()}\n",
    "    \n",
    "    return layout_old"
   ]
  },
  {
   "cell_type": "markdown",
   "metadata": {},
   "source": [
    "## illegal bounday function"
   ]
  },
  {
   "cell_type": "code",
   "execution_count": 6,
   "metadata": {},
   "outputs": [],
   "source": [
    "spaceMax = 300\n",
    "spaceMin = 0\n",
    "\n",
    "def illegal_boundaries(spaceMax):\n",
    "    mydict = {}\n",
    "    j = 1\n",
    "    for i in range(spaceMax):\n",
    "        mydict[ (0, i) ] = j\n",
    "        j += 1\n",
    "        mydict[ (i, 0) ] = j\n",
    "        j += 1\n",
    "        mydict[ (i+1, 0)] =j\n",
    "        j += 1\n",
    "        mydict[ (i, 0)] =j\n",
    "        j += 1\n",
    "        mydict[ (-1, i+1) ] = j\n",
    "        j += 1\n",
    "        mydict[ (-1, i) ] = j\n",
    "        j += 1\n",
    "\n",
    "    mydict[ (spaceMax-1, spaceMax-1) ] = 0\n",
    "    \n",
    "    \n",
    "    return mydict\n",
    "\n",
    "illegal_moves = illegal_boundaries(spaceMax)"
   ]
  },
  {
   "cell_type": "markdown",
   "metadata": {},
   "source": [
    "# Initiate node layout"
   ]
  },
  {
   "cell_type": "code",
   "execution_count": 7,
   "metadata": {},
   "outputs": [],
   "source": [
    "spaceMax = 300\n",
    "spaceMin = 0\n",
    "node_number = 20000\n",
    "legal_moves, illegal_moves = illegal_position_generator(spaceMax, spaceMin)\n",
    "layout_old = layout_gen(node_number, legal_moves)"
   ]
  },
  {
   "cell_type": "markdown",
   "metadata": {},
   "source": [
    "## Movement function"
   ]
  },
  {
   "cell_type": "code",
   "execution_count": 8,
   "metadata": {},
   "outputs": [],
   "source": [
    "import random\n",
    "from operator import add\n",
    "\n",
    "position_selected = random.choice( layout_old.keys() )\n",
    "\n",
    "def Mover(position_selected, layout_old, illegal_moves):\n",
    "    possibilities = {1: (1, 0), 2: (0,1), 3:(-1, 0), 4:(0,-1), 5:(0,0)}\n",
    "    movement_options = 4\n",
    "    \n",
    "    newDir = random.choice(possibilities.values())\n",
    "    new_posit = tuple(map(add, position_selected, newDir))\n",
    "    \n",
    "    new_position_selected = boundary_checker(position_selected, spaceMin, spaceMax)\n",
    "    \n",
    "    if new_position_selected == position_selected:\n",
    "    \n",
    "        if new_posit not in layout_old:        \n",
    "            idx = layout_old.get(position_selected)\n",
    "\n",
    "            del layout_old[position_selected]\n",
    "            layout_old[new_posit] = idx\n",
    "\n",
    "            return layout_old, new_posit\n",
    "        else:\n",
    "            return layout_old, position_selected\n",
    "    else:\n",
    "        if new_position_selected not in layout_old:        \n",
    "            idx = layout_old.get(position_selected)\n",
    "\n",
    "            del layout_old[position_selected]\n",
    "            layout_old[new_position_selected] = idx\n",
    "\n",
    "            return layout_old, new_position_selected\n",
    "        else:\n",
    "            return layout_old, position_selected"
   ]
  },
  {
   "cell_type": "markdown",
   "metadata": {},
   "source": [
    "## movement finder function\n"
   ]
  },
  {
   "cell_type": "code",
   "execution_count": 9,
   "metadata": {},
   "outputs": [
    {
     "data": {
      "text/plain": [
       "3"
      ]
     },
     "execution_count": 9,
     "metadata": {},
     "output_type": "execute_result"
    }
   ],
   "source": [
    "from operator import add\n",
    "\n",
    "position_selected = (8, 5)\n",
    "spaceMin = 0\n",
    "spaceMax = 9\n",
    "\n",
    "def movement_finder(position_selected, illegal_moves, layout_old, spaceMin, spaceMax):\n",
    "    total_moves = 4\n",
    "    my_possibilities = {1: (1, 0), 2: (0,1), 3:(-1, 0), 4:(0,-1) }\n",
    "\n",
    "    finding_neighbors = {}\n",
    "    j = 0\n",
    "    for i in my_possibilities.values():\n",
    "        finding_neighbors[tuple(map(add, position_selected, i))] = j\n",
    "        j += 1\n",
    "\n",
    "   \n",
    "    if position_selected[0] == spaceMin and position_selected[1] == spaceMin:\n",
    "        current_moves = 2\n",
    "        sd1 = set(finding_neighbors.keys())\n",
    "        sd2 = set(layout_old.keys())\n",
    "        current_moves = current_moves - len(sd1.intersection(sd2))\n",
    "        return current_moves\n",
    "    if position_selected[0] == spaceMax and position_selected[1] == spaceMax:\n",
    "        current_moves = 2\n",
    "        sd1 = set(finding_neighbors.keys())\n",
    "        sd2 = set(layout_old.keys())\n",
    "        current_moves = current_moves - len(sd1.intersection(sd2))\n",
    "        return current_moves \n",
    "    if position_selected[0] == spaceMin or position_selected[1] == spaceMin:\n",
    "        current_moves = 3\n",
    "        sd1 = set(finding_neighbors.keys())\n",
    "        sd2 = set(layout_old.keys())\n",
    "        current_moves = current_moves - len(sd1.intersection(sd2))\n",
    "        return current_moves\n",
    "    if position_selected[0] == spaceMax or position_selected[1] == spaceMax:\n",
    "        current_moves = 3\n",
    "        sd1 = set(finding_neighbors.keys())\n",
    "        sd2 = set(layout_old.keys())\n",
    "        current_moves = current_moves - len(sd1.intersection(sd2))\n",
    "        return current_moves\n",
    "    else:\n",
    "        sd1 = set(finding_neighbors.keys())\n",
    "        sd2 = set(layout_old.keys())\n",
    "        #sd3 = set(illegal_moves.keys())\n",
    "        current_moves = total_moves - len(sd1.intersection(sd2)) #- len(sd1.intersection(sd3))\n",
    "        return current_moves\n",
    "    \n",
    "movement_finder(position_selected, illegal_moves, layout_old, spaceMin, spaceMax)"
   ]
  },
  {
   "cell_type": "markdown",
   "metadata": {},
   "source": [
    "## define allRxn which decides what reaction to perform next"
   ]
  },
  {
   "cell_type": "code",
   "execution_count": 10,
   "metadata": {},
   "outputs": [],
   "source": [
    "def allRxn(move, bind, self_bind, dissociate):\n",
    "    \n",
    "    k_0 = move + bind + self_bind + dissociate\n",
    "    \n",
    "    options = numpy.zeros((4, 1))\n",
    "    options[0] = move/k_0\n",
    "    options[1] = bind/k_0\n",
    "    options[2] = self_bind/k_0\n",
    "    options[3] = dissociate/k_0\n",
    "    \n",
    "    random_value = random.uniform(0, 1)\n",
    "    \n",
    "    if 0 <= random_value <= options[0]:\n",
    "        return 'move'\n",
    "    elif options[1] <= random_value < options[2]:\n",
    "        return 'bind'\n",
    "    elif options[2] <= random_value < options[3]:\n",
    "        return 'self_bind'\n",
    "    else:\n",
    "        return 'dissociate'"
   ]
  },
  {
   "cell_type": "code",
   "execution_count": 11,
   "metadata": {},
   "outputs": [],
   "source": [
    "def allRxn(move, bind, self_bind, dissociate):\n",
    "    \n",
    "    k_0 = move + bind + self_bind + dissociate\n",
    "    \n",
    "    options = numpy.zeros((4, 1))\n",
    "    options[0] = move/k_0\n",
    "    options[1] = bind/k_0\n",
    "    options[2] = self_bind/k_0\n",
    "    options[3] = dissociate/k_0\n",
    "    \n",
    "    myNumber = random.uniform(0, 1)\n",
    "    myList=options\n",
    "    \n",
    "    out_val = min(myList, key=lambda x:abs(x-myNumber))\n",
    "    \n",
    "    #print options\n",
    "    \n",
    "    if out_val == options[0]:\n",
    "        return 'move'\n",
    "    if out_val == options[1]:\n",
    "        return 'bind'\n",
    "    if out_val == options[2]:\n",
    "        return 'self_bind'\n",
    "    if out_val == options[3]:\n",
    "        return 'dissociate'\n"
   ]
  },
  {
   "cell_type": "code",
   "execution_count": 12,
   "metadata": {},
   "outputs": [
    {
     "ename": "NameError",
     "evalue": "name 'move_k' is not defined",
     "output_type": "error",
     "traceback": [
      "\u001b[0;31m---------------------------------------------------------------------------\u001b[0m",
      "\u001b[0;31mNameError\u001b[0m                                 Traceback (most recent call last)",
      "\u001b[0;32m<ipython-input-12-ef5b9d00d804>\u001b[0m in \u001b[0;36m<module>\u001b[0;34m()\u001b[0m\n\u001b[0;32m----> 1\u001b[0;31m \u001b[0mallRxn\u001b[0m\u001b[0;34m(\u001b[0m\u001b[0mmove_k\u001b[0m\u001b[0;34m,\u001b[0m \u001b[0mbind_k\u001b[0m\u001b[0;34m,\u001b[0m \u001b[0mself_bind_k\u001b[0m\u001b[0;34m,\u001b[0m \u001b[0mdissociate_k\u001b[0m\u001b[0;34m)\u001b[0m\u001b[0;34m\u001b[0m\u001b[0m\n\u001b[0m",
      "\u001b[0;31mNameError\u001b[0m: name 'move_k' is not defined"
     ]
    }
   ],
   "source": [
    "allRxn(move_k, bind_k, self_bind_k, dissociate_k)"
   ]
  },
  {
   "cell_type": "markdown",
   "metadata": {},
   "source": [
    "## association function"
   ]
  },
  {
   "cell_type": "code",
   "execution_count": 13,
   "metadata": {},
   "outputs": [],
   "source": [
    "# as a back up just in case…\n",
    "def new_association_function3(x, d, g, new_dict, val):\n",
    "    new_list = []\n",
    "    posit = numpy.array([[1,0], [0,1], [-1, 0], [0,-1] ])\n",
    "    \n",
    "    new_posit = posit + x\n",
    "    for i in new_posit:\n",
    "        b = tuple(i)\n",
    "        if b in d:\n",
    "            new_list.append(b)\n",
    "            new_dict[x] = new_list\n",
    "    try:\n",
    "        # block raising an exception\n",
    "        if x in new_dict and val == True:\n",
    "            options = new_dict[x]\n",
    "            toBind = random.choice(options)\n",
    "            if str(toBind) in g.vs['name']:\n",
    "                v1_position = g.vs['name'].index( str(toBind) )\n",
    "            else:\n",
    "                v1_position = g.vs['name'].index( toBind )\n",
    "            if str(x) in g.vs['name']:\n",
    "                v2_position = g.vs['name'].index( str(x) )\n",
    "            else:\n",
    "                v2_position = g.vs['name'].index( x )\n",
    "            if g.degree(v1_position) < 1 and g.degree(v2_position) < 1:\n",
    "                g.add_edge(v1_position, v2_position)\n",
    "            return new_dict[x]\n",
    "        elif x in new_dict and val == False:\n",
    "            return new_dict[x]\n",
    "        else:\n",
    "            new_dict[x] = 'NaN'\n",
    "            return new_dict[x]\n",
    "    except:\n",
    "        pass # doing nothing on exception\n",
    "\n"
   ]
  },
  {
   "cell_type": "code",
   "execution_count": 14,
   "metadata": {},
   "outputs": [],
   "source": [
    "# as a back up just in case…\n",
    "def new_association_function2(x, d, g, new_dict, val):\n",
    "    new_list = []\n",
    "    posit = numpy.array([[1,0], [0,1], [-1, 0], [0,-1] ])\n",
    "    \n",
    "    new_posit = posit + x\n",
    "    for i in new_posit:\n",
    "        b = tuple(i)\n",
    "        if b in d:\n",
    "            new_list.append(b)\n",
    "            new_dict[x] = new_list\n",
    "    if x in new_dict and val == True:\n",
    "        options = new_dict[x]\n",
    "        toBind = random.choice(options)\n",
    "        \n",
    "        # exit out of set in loop of these conditions are not met\n",
    "        \n",
    "        if str(toBind) in g.vs['name']:\n",
    "            v1_position = g.vs['name'].index( str(toBind) )\n",
    "        else:\n",
    "            v1_position = g.vs['name'].index( toBind )\n",
    "        if str(x) in g.vs['name']:\n",
    "            v2_position = g.vs['name'].index( str(x) )\n",
    "        else:\n",
    "            v2_position = g.vs['name'].index( x )\n",
    "        if g.degree(v1_position) < 1 and g.degree(v2_position) < 1:\n",
    "            g.add_edge(v1_position, v2_position)\n",
    "        return new_dict[x]\n",
    "    elif x in new_dict and val == False:\n",
    "        return new_dict[x]\n",
    "    else:\n",
    "        new_dict[x] = 'NaN'\n",
    "        return new_dict[x]"
   ]
  },
  {
   "cell_type": "code",
   "execution_count": null,
   "metadata": {},
   "outputs": [],
   "source": []
  },
  {
   "cell_type": "markdown",
   "metadata": {},
   "source": [
    "## define edge selector and boundary checker function"
   ]
  },
  {
   "cell_type": "code",
   "execution_count": 15,
   "metadata": {},
   "outputs": [],
   "source": [
    "def edge_selector(neighbor_tracking):\n",
    "    checker = 'NaN'\n",
    "    while checker == 'NaN':\n",
    "        val = random.choice(neighbor_tracking.keys())\n",
    "        checker = neighbor_tracking[val]\n",
    "    return val\n",
    "\n",
    "\n",
    "def boundary_checker(x, spaceMin, spaceMax):\n",
    "    if spaceMax in x or spaceMin in x:\n",
    "        x = list(x)\n",
    "        if x[0] == spaceMin:\n",
    "            x[0] = spaceMin + 1\n",
    "        elif x[0] == spaceMax:\n",
    "            x[0] = spaceMax - 1\n",
    "        elif x[1] == spaceMin:\n",
    "            x[1] = spaceMin + 1\n",
    "        elif x[1] == spaceMax:\n",
    "            x[1] = spaceMax - 1\n",
    "    return tuple(x)"
   ]
  },
  {
   "cell_type": "code",
   "execution_count": 44,
   "metadata": {},
   "outputs": [],
   "source": [
    "def self_associate(x, d, g, val):\n",
    "    # this function keeps a running total of the self_loops that have been formed\n",
    "    try:\n",
    "        v_position = g.vs['name'].index( str(x) )\n",
    "   \n",
    "        if g.degree(v_position) < 1:\n",
    "            g.add_edge(v_position, v_position)\n",
    "        \n",
    "        # calculate the number of new self loops made\n",
    "        g2= g.copy()\n",
    "        totals = sum(g.degree())\n",
    "        self_loops = sum(g2.simplify(multiple = False, loops = True, combine_edges=None).degree())\n",
    "        # this requires you to divide by 2 because the edges are not directed and are therefore being counted twice for the same node\n",
    "        self_loops_count = (totals - self_loops)/2\n",
    "        \n",
    "        return self_loops_count\n",
    "        \n",
    "    except:\n",
    "        pass\n",
    "    "
   ]
  },
  {
   "cell_type": "code",
   "execution_count": null,
   "metadata": {},
   "outputs": [],
   "source": []
  },
  {
   "cell_type": "markdown",
   "metadata": {},
   "source": [
    "# Initiate Gillespie model"
   ]
  },
  {
   "cell_type": "code",
   "execution_count": 95,
   "metadata": {},
   "outputs": [],
   "source": [
    "##### from igraph import *\n",
    "from operator import add\n",
    "import numpy\n",
    "from igraph import *\n",
    "\n",
    "spaceMax = 30\n",
    "spaceMin = 0\n",
    "node_number = 810\n",
    "legal_moves, illegal_moves = illegal_position_generator(spaceMax, spaceMin)\n",
    "layout_old = layout_gen(node_number, legal_moves)\n",
    "\n",
    "# initiate movement count\n",
    "move_count = {}\n",
    "\n",
    "for k,v in layout_old.items():\n",
    "    val = movement_finder(k, illegal_moves, layout_old, spaceMin, spaceMax)\n",
    "    move_count[k] = val\n",
    "    \n",
    "# initiate neighbor tracking\n",
    "\n",
    "import collections\n",
    "g = Graph(len(layout_old))\n",
    "\n",
    "output = {}\n",
    "i = 0\n",
    "for k,v in layout_old.items():\n",
    "    output[str(k)] = i\n",
    "#    output[k] = i\n",
    "    i += 1    \n",
    "od = collections.OrderedDict(sorted(output.items()))\n",
    "g.vs['name'] = od.keys()\n",
    "\n",
    "\n",
    "neighbor_tracking = {}\n",
    "\n",
    "for k,v in layout_old.items():\n",
    "    new_association_function2(k, layout_old, g, neighbor_tracking, False)\n",
    "    \n",
    "\n",
    "# initiate neighbor edge count\n",
    "bind_count = {}\n",
    "for k,v in neighbor_tracking.items():\n",
    "    bind_count[k] = len(v)\n",
    "\n",
    "# initiate self binding\n",
    "self_bind_count = {}\n",
    "for k, v in layout_old.items():\n",
    "    self_bind_count[k] = v\n",
    "\n",
    "    "
   ]
  },
  {
   "cell_type": "markdown",
   "metadata": {},
   "source": [
    "# Run Gillespie"
   ]
  },
  {
   "cell_type": "code",
   "execution_count": 96,
   "metadata": {
    "scrolled": true
   },
   "outputs": [
    {
     "name": "stdout",
     "output_type": "stream",
     "text": [
      "self_bind\n",
      "IGRAPH UN-- 810 1 --\n",
      "+ attr: name (v)\n",
      "+ edges (vertex names):\n",
      "(14, 7)--(14, 7)\n",
      "self_bind\n",
      "IGRAPH UN-- 810 1 --\n",
      "+ attr: name (v)\n",
      "+ edges (vertex names):\n",
      "(14, 7)--(14, 7)\n",
      "self_bind\n",
      "IGRAPH UN-- 810 1 --\n",
      "+ attr: name (v)\n",
      "+ edges (vertex names):\n",
      "(14, 7)--(14, 7)\n",
      "move\n",
      "move\n",
      "move\n",
      "move\n",
      "move\n",
      "move\n",
      "self_bind\n",
      "IGRAPH UN-- 810 2 --\n",
      "+ attr: name (v)\n",
      "+ edges (vertex names):\n",
      "(14, 7)--(14, 7), (27, 2)--(27, 2)\n",
      "move\n",
      "self_bind\n",
      "IGRAPH UN-- 810 3 --\n",
      "+ attr: name (v)\n",
      "+ edges (vertex names):\n",
      "(14, 7)--(14, 7), (27, 2)--(27, 2), (5, 18)--(5, 18)\n",
      "self_bind\n",
      "IGRAPH UN-- 810 3 --\n",
      "+ attr: name (v)\n",
      "+ edges (vertex names):\n",
      "(14, 7)--(14, 7), (27, 2)--(27, 2), (5, 18)--(5, 18)\n",
      "move\n",
      "self_bind\n",
      "IGRAPH UN-- 810 4 --\n",
      "+ attr: name (v)\n",
      "+ edges (vertex names):\n",
      "(14, 7)--(14, 7), (27, 2)--(27, 2), (5, 18)--(5, 18), (15, 13)--(15, 13)\n",
      "move\n",
      "self_bind\n",
      "IGRAPH UN-- 810 5 --\n",
      "+ attr: name (v)\n",
      "+ edges (vertex names):\n",
      "(14, 7)--(14, 7), (27, 2)--(27, 2), (5, 18)--(5, 18), (15, 13)--(15, 13), (14,\n",
      "24)--(14, 24)\n",
      "move\n",
      "move\n",
      "move\n",
      "move\n",
      "move\n",
      "bind (16, 14)\n",
      "IGRAPH UN-- 810 6 --\n",
      "+ attr: name (v)\n",
      "+ edges (vertex names):\n",
      "(14, 7)--(14, 7), (27, 2)--(27, 2), (5, 18)--(5, 18), (15, 13)--(15, 13), (14,\n",
      "24)--(14, 24), (16, 13)--(16, 14)\n",
      "bind (26, 6)\n",
      "IGRAPH UN-- 810 7 --\n",
      "+ attr: name (v)\n",
      "+ edges (vertex names):\n",
      "(14, 7)--(14, 7), (27, 2)--(27, 2), (5, 18)--(5, 18), (15, 13)--(15, 13), (14,\n",
      "24)--(14, 24), (16, 13)--(16, 14), (26, 6)--(26, 7)\n",
      "move\n",
      "move\n",
      "move\n",
      "bind (27, 24)\n",
      "IGRAPH UN-- 810 8 --\n",
      "+ attr: name (v)\n",
      "+ edges (vertex names):\n",
      "(14, 7)--(14, 7), (27, 2)--(27, 2), (5, 18)--(5, 18), (15, 13)--(15, 13), (14,\n",
      "24)--(14, 24), (16, 13)--(16, 14), (26, 6)--(26, 7), (26, 24)--(27, 24)\n",
      "move\n",
      "bind (27, 26)\n",
      "IGRAPH UN-- 810 9 --\n",
      "+ attr: name (v)\n",
      "+ edges (vertex names):\n",
      "(14, 7)--(14, 7), (27, 2)--(27, 2), (5, 18)--(5, 18), (15, 13)--(15, 13), (14,\n",
      "24)--(14, 24), (16, 13)--(16, 14), (26, 6)--(26, 7), (26, 24)--(27, 24), (27,\n",
      "26)--(28, 26)\n",
      "bind (8, 27)\n",
      "IGRAPH UN-- 810 10 --\n",
      "+ attr: name (v)\n",
      "+ edges (vertex names):\n",
      "(14, 7)--(14, 7), (27, 2)--(27, 2), (5, 18)--(5, 18), (15, 13)--(15, 13), (14,\n",
      "24)--(14, 24), (16, 13)--(16, 14), (26, 6)--(26, 7), (26, 24)--(27, 24), (27,\n",
      "26)--(28, 26), (8, 26)--(8, 27)\n",
      "bind (10, 16)\n",
      "IGRAPH UN-- 810 11 --\n",
      "+ attr: name (v)\n",
      "+ edges (vertex names):\n",
      "(14, 7)--(14, 7), (27, 2)--(27, 2), (5, 18)--(5, 18), (15, 13)--(15, 13), (14,\n",
      "24)--(14, 24), (16, 13)--(16, 14), (26, 6)--(26, 7), (26, 24)--(27, 24), (27,\n",
      "26)--(28, 26), (8, 26)--(8, 27), (10, 16)--(11, 16)\n",
      "bind (29, 10)\n",
      "IGRAPH UN-- 810 12 --\n",
      "+ attr: name (v)\n",
      "+ edges (vertex names):\n",
      "(14, 7)--(14, 7), (27, 2)--(27, 2), (5, 18)--(5, 18), (15, 13)--(15, 13), (14,\n",
      "24)--(14, 24), (16, 13)--(16, 14), (26, 6)--(26, 7), (26, 24)--(27, 24), (27,\n",
      "26)--(28, 26), (8, 26)--(8, 27), (10, 16)--(11, 16), (29, 10)--(29, 9)\n",
      "bind (27, 15)\n",
      "IGRAPH UN-- 810 13 --\n",
      "+ attr: name (v)\n",
      "+ edges (vertex names):\n",
      "(14, 7)--(14, 7), (27, 2)--(27, 2), (5, 18)--(5, 18), (15, 13)--(15, 13), (14,\n",
      "24)--(14, 24), (16, 13)--(16, 14), (26, 6)--(26, 7), (26, 24)--(27, 24), (27,\n",
      "26)--(28, 26), (8, 26)--(8, 27), (10, 16)--(11, 16), (29, 10)--(29, 9), (27,\n",
      "14)--(27, 15)\n",
      "bind (24, 18)\n",
      "IGRAPH UN-- 810 14 --\n",
      "+ attr: name (v)\n",
      "+ edges (vertex names):\n",
      "(14, 7)--(14, 7), (27, 2)--(27, 2), (5, 18)--(5, 18), (15, 13)--(15, 13), (14,\n",
      "24)--(14, 24), (16, 13)--(16, 14), (26, 6)--(26, 7), (26, 24)--(27, 24), (27,\n",
      "26)--(28, 26), (8, 26)--(8, 27), (10, 16)--(11, 16), (29, 10)--(29, 9), (27,\n",
      "14)--(27, 15), (24, 18)--(24, 19)\n",
      "bind (22, 3)\n",
      "IGRAPH UN-- 810 15 --\n",
      "+ attr: name (v)\n",
      "+ edges (vertex names):\n",
      "(14, 7)--(14, 7), (27, 2)--(27, 2), (5, 18)--(5, 18), (15, 13)--(15, 13), (14,\n",
      "24)--(14, 24), (16, 13)--(16, 14), (26, 6)--(26, 7), (26, 24)--(27, 24), (27,\n",
      "26)--(28, 26), (8, 26)--(8, 27), (10, 16)--(11, 16), (29, 10)--(29, 9), (27,\n",
      "14)--(27, 15), (24, 18)--(24, 19), (22, 3)--(22, 4)\n",
      "bind (27, 1)\n",
      "IGRAPH UN-- 810 15 --\n",
      "+ attr: name (v)\n",
      "+ edges (vertex names):\n",
      "(14, 7)--(14, 7), (27, 2)--(27, 2), (5, 18)--(5, 18), (15, 13)--(15, 13), (14,\n",
      "24)--(14, 24), (16, 13)--(16, 14), (26, 6)--(26, 7), (26, 24)--(27, 24), (27,\n",
      "26)--(28, 26), (8, 26)--(8, 27), (10, 16)--(11, 16), (29, 10)--(29, 9), (27,\n",
      "14)--(27, 15), (24, 18)--(24, 19), (22, 3)--(22, 4)\n",
      "bind (11, 12)\n",
      "IGRAPH UN-- 810 16 --\n",
      "+ attr: name (v)\n",
      "+ edges (vertex names):\n",
      "(14, 7)--(14, 7), (27, 2)--(27, 2), (5, 18)--(5, 18), (15, 13)--(15, 13), (14,\n",
      "24)--(14, 24), (16, 13)--(16, 14), (26, 6)--(26, 7), (26, 24)--(27, 24), (27,\n",
      "26)--(28, 26), (8, 26)--(8, 27), (10, 16)--(11, 16), (29, 10)--(29, 9), (27,\n",
      "14)--(27, 15), (24, 18)--(24, 19), (22, 3)--(22, 4), (11, 12)--(11, 13)\n",
      "bind (7, 21)\n",
      "IGRAPH UN-- 810 17 --\n",
      "+ attr: name (v)\n",
      "+ edges (vertex names):\n",
      "(14, 7)--(14, 7), (27, 2)--(27, 2), (5, 18)--(5, 18), (15, 13)--(15, 13), (14,\n",
      "24)--(14, 24), (16, 13)--(16, 14), (26, 6)--(26, 7), (26, 24)--(27, 24), (27,\n",
      "26)--(28, 26), (8, 26)--(8, 27), (10, 16)--(11, 16), (29, 10)--(29, 9), (27,\n",
      "14)--(27, 15), (24, 18)--(24, 19), (22, 3)--(22, 4), (11, 12)--(11, 13), (7,\n",
      "21)--(8, 21)\n",
      "bind (17, 6)\n",
      "IGRAPH UN-- 810 18 --\n",
      "+ attr: name (v)\n",
      "+ edges (vertex names):\n",
      "(14, 7)--(14, 7), (27, 2)--(27, 2), (5, 18)--(5, 18), (15, 13)--(15, 13), (14,\n",
      "24)--(14, 24), (16, 13)--(16, 14), (26, 6)--(26, 7), (26, 24)--(27, 24), (27,\n",
      "26)--(28, 26), (8, 26)--(8, 27), (10, 16)--(11, 16), (29, 10)--(29, 9), (27,\n",
      "14)--(27, 15), (24, 18)--(24, 19), (22, 3)--(22, 4), (11, 12)--(11, 13), (7,\n",
      "21)--(8, 21), (17, 6)--(18, 6)\n",
      "bind (9, 16)\n",
      "IGRAPH UN-- 810 19 --\n",
      "+ attr: name (v)\n",
      "+ edges (vertex names):\n",
      "(14, 7)--(14, 7), (27, 2)--(27, 2), (5, 18)--(5, 18), (15, 13)--(15, 13), (14,\n",
      "24)--(14, 24), (16, 13)--(16, 14), (26, 6)--(26, 7), (26, 24)--(27, 24), (27,\n",
      "26)--(28, 26), (8, 26)--(8, 27), (10, 16)--(11, 16), (29, 10)--(29, 9), (27,\n",
      "14)--(27, 15), (24, 18)--(24, 19), (22, 3)--(22, 4), (11, 12)--(11, 13), (7,\n",
      "21)--(8, 21), (17, 6)--(18, 6), (9, 16)--(9, 17)\n",
      "move\n",
      "move\n",
      "move\n",
      "move\n",
      "bind (15, 28)\n",
      "IGRAPH UN-- 810 20 --\n",
      "+ attr: name (v)\n",
      "+ edges (vertex names):\n",
      "(14, 7)--(14, 7), (27, 2)--(27, 2), (5, 18)--(5, 18), (15, 13)--(15, 13), (14,\n",
      "24)--(14, 24), (16, 13)--(16, 14), (26, 6)--(26, 7), (26, 24)--(27, 24), (27,\n",
      "26)--(28, 26), (8, 26)--(8, 27), (10, 16)--(11, 16), (29, 10)--(29, 9), (27,\n",
      "14)--(27, 15), (24, 18)--(24, 19), (22, 3)--(22, 4), (11, 12)--(11, 13), (7,\n",
      "21)--(8, 21), (17, 6)--(18, 6), (9, 16)--(9, 17), (15, 28)--(15, 29)\n",
      "bind (21, 19)\n",
      "IGRAPH UN-- 810 21 --\n",
      "+ attr: name (v)\n",
      "+ edges (vertex names):\n",
      "(14, 7)--(14, 7), (27, 2)--(27, 2), (5, 18)--(5, 18), (15, 13)--(15, 13), (14,\n",
      "24)--(14, 24), (16, 13)--(16, 14), (26, 6)--(26, 7), (26, 24)--(27, 24), (27,\n",
      "26)--(28, 26), (8, 26)--(8, 27), (10, 16)--(11, 16), (29, 10)--(29, 9), (27,\n",
      "14)--(27, 15), (24, 18)--(24, 19), (22, 3)--(22, 4), (11, 12)--(11, 13), (7,\n",
      "21)--(8, 21), (17, 6)--(18, 6), (9, 16)--(9, 17), (15, 28)--(15, 29), (20,\n",
      "19)--(21, 19)\n",
      "move\n",
      "move\n",
      "move\n",
      "bind (11, 1)\n",
      "IGRAPH UN-- 810 22 --\n",
      "+ attr: name (v)\n",
      "+ edges (vertex names):\n",
      "(14, 7)--(14, 7), (27, 2)--(27, 2), (5, 18)--(5, 18), (15, 13)--(15, 13), (14,\n",
      "24)--(14, 24), (16, 13)--(16, 14), (26, 6)--(26, 7), (26, 24)--(27, 24), (27,\n",
      "26)--(28, 26), (8, 26)--(8, 27), (10, 16)--(11, 16), (29, 10)--(29, 9), (27,\n",
      "14)--(27, 15), (24, 18)--(24, 19), (22, 3)--(22, 4), (11, 12)--(11, 13), (7,\n",
      "21)--(8, 21), (17, 6)--(18, 6), (9, 16)--(9, 17), (15, 28)--(15, 29), (20,\n",
      "19)--(21, 19), (10, 1)--(11, 1)\n",
      "move\n",
      "bind (9, 3)\n",
      "IGRAPH UN-- 810 23 --\n",
      "+ attr: name (v)\n",
      "+ edges (vertex names):\n",
      "(14, 7)--(14, 7), (27, 2)--(27, 2), (5, 18)--(5, 18), (15, 13)--(15, 13), (14,\n",
      "24)--(14, 24), (16, 13)--(16, 14), (26, 6)--(26, 7), (26, 24)--(27, 24), (27,\n",
      "26)--(28, 26), (8, 26)--(8, 27), (10, 16)--(11, 16), (29, 10)--(29, 9), (27,\n",
      "14)--(27, 15), (24, 18)--(24, 19), (22, 3)--(22, 4), (11, 12)--(11, 13), (7,\n",
      "21)--(8, 21), (17, 6)--(18, 6), (9, 16)--(9, 17), (15, 28)--(15, 29), (20,\n",
      "19)--(21, 19), (10, 1)--(11, 1), (10, 3)--(9, 3)\n",
      "bind (12, 19)\n",
      "IGRAPH UN-- 810 24 --\n",
      "+ attr: name (v)\n",
      "+ edges (vertex names):\n",
      "(14, 7)--(14, 7), (27, 2)--(27, 2), (5, 18)--(5, 18), (15, 13)--(15, 13), (14,\n",
      "24)--(14, 24), (16, 13)--(16, 14), (26, 6)--(26, 7), (26, 24)--(27, 24), (27,\n",
      "26)--(28, 26), (8, 26)--(8, 27), (10, 16)--(11, 16), (29, 10)--(29, 9), (27,\n",
      "14)--(27, 15), (24, 18)--(24, 19), (22, 3)--(22, 4), (11, 12)--(11, 13), (7,\n",
      "21)--(8, 21), (17, 6)--(18, 6), (9, 16)--(9, 17), (15, 28)--(15, 29), (20,\n",
      "19)--(21, 19), (10, 1)--(11, 1), (10, 3)--(9, 3), (12, 19)--(13, 19)\n",
      "bind (29, 24)\n",
      "IGRAPH UN-- 810 25 --\n",
      "+ attr: name (v)\n",
      "+ edges (vertex names):\n",
      "(14, 7)--(14, 7), (27, 2)--(27, 2), (5, 18)--(5, 18), (15, 13)--(15, 13), (14,\n",
      "24)--(14, 24), (16, 13)--(16, 14), (26, 6)--(26, 7), (26, 24)--(27, 24), (27,\n",
      "26)--(28, 26), (8, 26)--(8, 27), (10, 16)--(11, 16), (29, 10)--(29, 9), (27,\n",
      "14)--(27, 15), (24, 18)--(24, 19), (22, 3)--(22, 4), (11, 12)--(11, 13), (7,\n",
      "21)--(8, 21), (17, 6)--(18, 6), (9, 16)--(9, 17), (15, 28)--(15, 29), (20,\n",
      "19)--(21, 19), (10, 1)--(11, 1), (10, 3)--(9, 3), (12, 19)--(13, 19), (29,\n",
      "24)--(29, 25)\n",
      "bind (2, 10)\n",
      "IGRAPH UN-- 810 26 --\n",
      "+ attr: name (v)\n",
      "+ edges (vertex names):\n",
      "(14, 7)--(14, 7), (27, 2)--(27, 2), (5, 18)--(5, 18), (15, 13)--(15, 13), (14,\n",
      "24)--(14, 24), (16, 13)--(16, 14), (26, 6)--(26, 7), (26, 24)--(27, 24), (27,\n",
      "26)--(28, 26), (8, 26)--(8, 27), (10, 16)--(11, 16), (29, 10)--(29, 9), (27,\n",
      "14)--(27, 15), (24, 18)--(24, 19), (22, 3)--(22, 4), (11, 12)--(11, 13), (7,\n",
      "21)--(8, 21), (17, 6)--(18, 6), (9, 16)--(9, 17), (15, 28)--(15, 29), (20,\n",
      "19)--(21, 19), (10, 1)--(11, 1), (10, 3)--(9, 3), (12, 19)--(13, 19), (29,\n",
      "24)--(29, 25), (2, 10)--(2, 9)\n",
      "move\n",
      "bind (2, 13)\n",
      "IGRAPH UN-- 810 27 --\n",
      "+ attr: name (v)\n",
      "+ edges (vertex names):\n",
      "(14, 7)--(14, 7), (27, 2)--(27, 2), (5, 18)--(5, 18), (15, 13)--(15, 13), (14,\n",
      "24)--(14, 24), (16, 13)--(16, 14), (26, 6)--(26, 7), (26, 24)--(27, 24), (27,\n",
      "26)--(28, 26), (8, 26)--(8, 27), (10, 16)--(11, 16), (29, 10)--(29, 9), (27,\n",
      "14)--(27, 15), (24, 18)--(24, 19), (22, 3)--(22, 4), (11, 12)--(11, 13), (7,\n",
      "21)--(8, 21), (17, 6)--(18, 6), (9, 16)--(9, 17), (15, 28)--(15, 29), (20,\n",
      "19)--(21, 19), (10, 1)--(11, 1), (10, 3)--(9, 3), (12, 19)--(13, 19), (29,\n",
      "24)--(29, 25), (2, 10)--(2, 9), (2, 13)--(3, 13)\n",
      "bind (17, 27)\n",
      "IGRAPH UN-- 810 28 --\n",
      "+ attr: name (v)\n",
      "+ edges (vertex names):\n",
      "(14, 7)--(14, 7), (27, 2)--(27, 2), (5, 18)--(5, 18), (15, 13)--(15, 13), (14,\n",
      "24)--(14, 24), (16, 13)--(16, 14), (26, 6)--(26, 7), (26, 24)--(27, 24), (27,\n",
      "26)--(28, 26), (8, 26)--(8, 27), (10, 16)--(11, 16), (29, 10)--(29, 9), (27,\n",
      "14)--(27, 15), (24, 18)--(24, 19), (22, 3)--(22, 4), (11, 12)--(11, 13), (7,\n",
      "21)--(8, 21), (17, 6)--(18, 6), (9, 16)--(9, 17), (15, 28)--(15, 29), (20,\n",
      "19)--(21, 19), (10, 1)--(11, 1), (10, 3)--(9, 3), (12, 19)--(13, 19), (29,\n",
      "24)--(29, 25), (2, 10)--(2, 9), (2, 13)--(3, 13), (17, 27)--(18, 27)\n",
      "move\n",
      "move\n",
      "bind (16, 14)\n",
      "IGRAPH UN-- 810 28 --\n",
      "+ attr: name (v)\n",
      "+ edges (vertex names):\n",
      "(14, 7)--(14, 7), (27, 2)--(27, 2), (5, 18)--(5, 18), (15, 13)--(15, 13), (14,\n",
      "24)--(14, 24), (16, 13)--(16, 14), (26, 6)--(26, 7), (26, 24)--(27, 24), (27,\n",
      "26)--(28, 26), (8, 26)--(8, 27), (10, 16)--(11, 16), (29, 10)--(29, 9), (27,\n",
      "14)--(27, 15), (24, 18)--(24, 19), (22, 3)--(22, 4), (11, 12)--(11, 13), (7,\n",
      "21)--(8, 21), (17, 6)--(18, 6), (9, 16)--(9, 17), (15, 28)--(15, 29), (20,\n",
      "19)--(21, 19), (10, 1)--(11, 1), (10, 3)--(9, 3), (12, 19)--(13, 19), (29,\n",
      "24)--(29, 25), (2, 10)--(2, 9), (2, 13)--(3, 13), (17, 27)--(18, 27)\n",
      "move\n",
      "bind (9, 29)\n",
      "IGRAPH UN-- 810 29 --\n",
      "+ attr: name (v)\n",
      "+ edges (vertex names):\n",
      "(14, 7)--(14, 7), (27, 2)--(27, 2), (5, 18)--(5, 18), (15, 13)--(15, 13), (14,\n",
      "24)--(14, 24), (16, 13)--(16, 14), (26, 6)--(26, 7), (26, 24)--(27, 24), (27,\n",
      "26)--(28, 26), (8, 26)--(8, 27), (10, 16)--(11, 16), (29, 10)--(29, 9), (27,\n",
      "14)--(27, 15), (24, 18)--(24, 19), (22, 3)--(22, 4), (11, 12)--(11, 13), (7,\n",
      "21)--(8, 21), (17, 6)--(18, 6), (9, 16)--(9, 17), (15, 28)--(15, 29), (20,\n",
      "19)--(21, 19), (10, 1)--(11, 1), (10, 3)--(9, 3), (12, 19)--(13, 19), (29,\n",
      "24)--(29, 25), (2, 10)--(2, 9), (2, 13)--(3, 13), (17, 27)--(18, 27), (9,\n",
      "28)--(9, 29)\n",
      "move\n",
      "move\n",
      "move\n",
      "bind (22, 16)\n",
      "IGRAPH UN-- 810 30 --\n",
      "+ attr: name (v)\n",
      "+ edges (vertex names):\n",
      "(14, 7)--(14, 7), (27, 2)--(27, 2), (5, 18)--(5, 18), (15, 13)--(15, 13), (14,\n",
      "24)--(14, 24), (16, 13)--(16, 14), (26, 6)--(26, 7), (26, 24)--(27, 24), (27,\n",
      "26)--(28, 26), (8, 26)--(8, 27), (10, 16)--(11, 16), (29, 10)--(29, 9), (27,\n",
      "14)--(27, 15), (24, 18)--(24, 19), (22, 3)--(22, 4), (11, 12)--(11, 13), (7,\n",
      "21)--(8, 21), (17, 6)--(18, 6), (9, 16)--(9, 17), (15, 28)--(15, 29), (20,\n",
      "19)--(21, 19), (10, 1)--(11, 1), (10, 3)--(9, 3), (12, 19)--(13, 19), (29,\n",
      "24)--(29, 25), (2, 10)--(2, 9), (2, 13)--(3, 13), (17, 27)--(18, 27), (9,\n",
      "28)--(9, 29), (22, 16)--(22, 17)\n",
      "move\n",
      "move\n",
      "move\n",
      "bind (11, 18)\n",
      "IGRAPH UN-- 810 31 --\n",
      "+ attr: name (v)\n",
      "+ edges (vertex names):\n",
      "(14, 7)--(14, 7), (27, 2)--(27, 2), (5, 18)--(5, 18), (15, 13)--(15, 13), (14,\n",
      "24)--(14, 24), (16, 13)--(16, 14), (26, 6)--(26, 7), (26, 24)--(27, 24), (27,\n",
      "26)--(28, 26), (8, 26)--(8, 27), (10, 16)--(11, 16), (29, 10)--(29, 9), (27,\n",
      "14)--(27, 15), (24, 18)--(24, 19), (22, 3)--(22, 4), (11, 12)--(11, 13), (7,\n",
      "21)--(8, 21), (17, 6)--(18, 6), (9, 16)--(9, 17), (15, 28)--(15, 29), (20,\n",
      "19)--(21, 19), (10, 1)--(11, 1), (10, 3)--(9, 3), (12, 19)--(13, 19), (29,\n",
      "24)--(29, 25), (2, 10)--(2, 9), (2, 13)--(3, 13), (17, 27)--(18, 27), (9,\n",
      "28)--(9, 29), (22, 16)--(22, 17), (11, 17)--(11, 18)\n",
      "move\n",
      "bind (2, 12)\n",
      "IGRAPH UN-- 810 32 --\n",
      "+ attr: name (v)\n",
      "+ edges (vertex names):\n",
      "(14, 7)--(14, 7), (27, 2)--(27, 2), (5, 18)--(5, 18), (15, 13)--(15, 13), (14,\n",
      "24)--(14, 24), (16, 13)--(16, 14), (26, 6)--(26, 7), (26, 24)--(27, 24), (27,\n",
      "26)--(28, 26), (8, 26)--(8, 27), (10, 16)--(11, 16), (29, 10)--(29, 9), (27,\n",
      "14)--(27, 15), (24, 18)--(24, 19), (22, 3)--(22, 4), (11, 12)--(11, 13), (7,\n",
      "21)--(8, 21), (17, 6)--(18, 6), (9, 16)--(9, 17), (15, 28)--(15, 29), (20,\n",
      "19)--(21, 19), (10, 1)--(11, 1), (10, 3)--(9, 3), (12, 19)--(13, 19), (29,\n",
      "24)--(29, 25), (2, 10)--(2, 9), (2, 13)--(3, 13), (17, 27)--(18, 27), (9,\n",
      "28)--(9, 29), (22, 16)--(22, 17), (11, 17)--(11, 18), (1, 12)--(2, 12)\n",
      "move\n",
      "move\n",
      "move\n",
      "bind (10, 7)\n",
      "IGRAPH UN-- 810 33 --\n",
      "+ attr: name (v)\n",
      "+ edges (vertex names):\n",
      "(14, 7)--(14, 7), (27, 2)--(27, 2), (5, 18)--(5, 18), (15, 13)--(15, 13), (14,\n",
      "24)--(14, 24), (16, 13)--(16, 14), (26, 6)--(26, 7), (26, 24)--(27, 24), (27,\n",
      "26)--(28, 26), (8, 26)--(8, 27), (10, 16)--(11, 16), (29, 10)--(29, 9), (27,\n",
      "14)--(27, 15), (24, 18)--(24, 19), (22, 3)--(22, 4), (11, 12)--(11, 13), (7,\n",
      "21)--(8, 21), (17, 6)--(18, 6), (9, 16)--(9, 17), (15, 28)--(15, 29), (20,\n",
      "19)--(21, 19), (10, 1)--(11, 1), (10, 3)--(9, 3), (12, 19)--(13, 19), (29,\n",
      "24)--(29, 25), (2, 10)--(2, 9), (2, 13)--(3, 13), (17, 27)--(18, 27), (9,\n",
      "28)--(9, 29), (22, 16)--(22, 17), (11, 17)--(11, 18), (1, 12)--(2, 12), (10,\n",
      "6)--(10, 7)\n",
      "move\n",
      "move\n",
      "bind (11, 25)\n",
      "IGRAPH UN-- 810 34 --\n",
      "+ attr: name (v)\n",
      "+ edges (vertex names):\n",
      "(14, 7)--(14, 7), (27, 2)--(27, 2), (5, 18)--(5, 18), (15, 13)--(15, 13), (14,\n",
      "24)--(14, 24), (16, 13)--(16, 14), (26, 6)--(26, 7), (26, 24)--(27, 24), (27,\n",
      "26)--(28, 26), (8, 26)--(8, 27), (10, 16)--(11, 16), (29, 10)--(29, 9), (27,\n",
      "14)--(27, 15), (24, 18)--(24, 19), (22, 3)--(22, 4), (11, 12)--(11, 13), (7,\n",
      "21)--(8, 21), (17, 6)--(18, 6), (9, 16)--(9, 17), (15, 28)--(15, 29), (20,\n",
      "19)--(21, 19), (10, 1)--(11, 1), (10, 3)--(9, 3), (12, 19)--(13, 19), (29,\n",
      "24)--(29, 25), (2, 10)--(2, 9), (2, 13)--(3, 13), (17, 27)--(18, 27), (9,\n",
      "28)--(9, 29), (22, 16)--(22, 17), (11, 17)--(11, 18), (1, 12)--(2, 12), (10,\n",
      "6)--(10, 7), (10, 25)--(11, 25)\n",
      "move\n",
      "move\n",
      "bind (5, 29)\n",
      "IGRAPH UN-- 810 35 --\n",
      "+ attr: name (v)\n",
      "+ edges (vertex names):\n",
      "(14, 7)--(14, 7), (27, 2)--(27, 2), (5, 18)--(5, 18), (15, 13)--(15, 13), (14,\n",
      "24)--(14, 24), (16, 13)--(16, 14), (26, 6)--(26, 7), (26, 24)--(27, 24), (27,\n",
      "26)--(28, 26), (8, 26)--(8, 27), (10, 16)--(11, 16), (29, 10)--(29, 9), (27,\n",
      "14)--(27, 15), (24, 18)--(24, 19), (22, 3)--(22, 4), (11, 12)--(11, 13), (7,\n",
      "21)--(8, 21), (17, 6)--(18, 6), (9, 16)--(9, 17), (15, 28)--(15, 29), (20,\n",
      "19)--(21, 19), (10, 1)--(11, 1), (10, 3)--(9, 3), (12, 19)--(13, 19), (29,\n",
      "24)--(29, 25), (2, 10)--(2, 9), (2, 13)--(3, 13), (17, 27)--(18, 27), (9,\n",
      "28)--(9, 29), (22, 16)--(22, 17), (11, 17)--(11, 18), (1, 12)--(2, 12), (10,\n",
      "6)--(10, 7), (10, 25)--(11, 25), (5, 29)--(6, 29)\n",
      "move\n",
      "move\n",
      "bind (22, 12)\n",
      "IGRAPH UN-- 810 36 --\n",
      "+ attr: name (v)\n",
      "+ edges (vertex names):\n",
      "(14, 7)--(14, 7), (27, 2)--(27, 2), (5, 18)--(5, 18), (15, 13)--(15, 13), (14,\n",
      "24)--(14, 24), (16, 13)--(16, 14), (26, 6)--(26, 7), (26, 24)--(27, 24), (27,\n",
      "26)--(28, 26), (8, 26)--(8, 27), (10, 16)--(11, 16), (29, 10)--(29, 9), (27,\n",
      "14)--(27, 15), (24, 18)--(24, 19), (22, 3)--(22, 4), (11, 12)--(11, 13), (7,\n",
      "21)--(8, 21), (17, 6)--(18, 6), (9, 16)--(9, 17), (15, 28)--(15, 29), (20,\n",
      "19)--(21, 19), (10, 1)--(11, 1), (10, 3)--(9, 3), (12, 19)--(13, 19), (29,\n",
      "24)--(29, 25), (2, 10)--(2, 9), (2, 13)--(3, 13), (17, 27)--(18, 27), (9,\n",
      "28)--(9, 29), (22, 16)--(22, 17), (11, 17)--(11, 18), (1, 12)--(2, 12), (10,\n",
      "6)--(10, 7), (10, 25)--(11, 25), (5, 29)--(6, 29), (21, 12)--(22, 12)\n",
      "move\n",
      "bind (15, 19)\n",
      "IGRAPH UN-- 810 37 --\n",
      "+ attr: name (v)\n",
      "+ edges (vertex names):\n",
      "(14, 7)--(14, 7), (27, 2)--(27, 2), (5, 18)--(5, 18), (15, 13)--(15, 13), (14,\n",
      "24)--(14, 24), (16, 13)--(16, 14), (26, 6)--(26, 7), (26, 24)--(27, 24), (27,\n",
      "26)--(28, 26), (8, 26)--(8, 27), (10, 16)--(11, 16), (29, 10)--(29, 9), (27,\n",
      "14)--(27, 15), (24, 18)--(24, 19), (22, 3)--(22, 4), (11, 12)--(11, 13), (7,\n",
      "21)--(8, 21), (17, 6)--(18, 6), (9, 16)--(9, 17), (15, 28)--(15, 29), (20,\n",
      "19)--(21, 19), (10, 1)--(11, 1), (10, 3)--(9, 3), (12, 19)--(13, 19), (29,\n",
      "24)--(29, 25), (2, 10)--(2, 9), (2, 13)--(3, 13), (17, 27)--(18, 27), (9,\n",
      "28)--(9, 29), (22, 16)--(22, 17), (11, 17)--(11, 18), (1, 12)--(2, 12), (10,\n",
      "6)--(10, 7), (10, 25)--(11, 25), (5, 29)--(6, 29), (21, 12)--(22, 12), (15,\n",
      "19)--(16, 19)\n",
      "bind (11, 17)\n",
      "IGRAPH UN-- 810 37 --\n",
      "+ attr: name (v)\n",
      "+ edges (vertex names):\n",
      "(14, 7)--(14, 7), (27, 2)--(27, 2), (5, 18)--(5, 18), (15, 13)--(15, 13), (14,\n",
      "24)--(14, 24), (16, 13)--(16, 14), (26, 6)--(26, 7), (26, 24)--(27, 24), (27,\n",
      "26)--(28, 26), (8, 26)--(8, 27), (10, 16)--(11, 16), (29, 10)--(29, 9), (27,\n",
      "14)--(27, 15), (24, 18)--(24, 19), (22, 3)--(22, 4), (11, 12)--(11, 13), (7,\n",
      "21)--(8, 21), (17, 6)--(18, 6), (9, 16)--(9, 17), (15, 28)--(15, 29), (20,\n",
      "19)--(21, 19), (10, 1)--(11, 1), (10, 3)--(9, 3), (12, 19)--(13, 19), (29,\n",
      "24)--(29, 25), (2, 10)--(2, 9), (2, 13)--(3, 13), (17, 27)--(18, 27), (9,\n",
      "28)--(9, 29), (22, 16)--(22, 17), (11, 17)--(11, 18), (1, 12)--(2, 12), (10,\n",
      "6)--(10, 7), (10, 25)--(11, 25), (5, 29)--(6, 29), (21, 12)--(22, 12), (15,\n",
      "19)--(16, 19)\n",
      "move\n",
      "move\n",
      "bind (14, 19)\n",
      "IGRAPH UN-- 810 37 --\n",
      "+ attr: name (v)\n",
      "+ edges (vertex names):\n",
      "(14, 7)--(14, 7), (27, 2)--(27, 2), (5, 18)--(5, 18), (15, 13)--(15, 13), (14,\n",
      "24)--(14, 24), (16, 13)--(16, 14), (26, 6)--(26, 7), (26, 24)--(27, 24), (27,\n",
      "26)--(28, 26), (8, 26)--(8, 27), (10, 16)--(11, 16), (29, 10)--(29, 9), (27,\n",
      "14)--(27, 15), (24, 18)--(24, 19), (22, 3)--(22, 4), (11, 12)--(11, 13), (7,\n",
      "21)--(8, 21), (17, 6)--(18, 6), (9, 16)--(9, 17), (15, 28)--(15, 29), (20,\n",
      "19)--(21, 19), (10, 1)--(11, 1), (10, 3)--(9, 3), (12, 19)--(13, 19), (29,\n",
      "24)--(29, 25), (2, 10)--(2, 9), (2, 13)--(3, 13), (17, 27)--(18, 27), (9,\n",
      "28)--(9, 29), (22, 16)--(22, 17), (11, 17)--(11, 18), (1, 12)--(2, 12), (10,\n",
      "6)--(10, 7), (10, 25)--(11, 25), (5, 29)--(6, 29), (21, 12)--(22, 12), (15,\n",
      "19)--(16, 19)\n",
      "move\n",
      "bind (26, 5)\n",
      "IGRAPH UN-- 810 38 --\n",
      "+ attr: name (v)\n",
      "+ edges (vertex names):\n",
      "(14, 7)--(14, 7), (27, 2)--(27, 2), (5, 18)--(5, 18), (15, 13)--(15, 13), (14,\n",
      "24)--(14, 24), (16, 13)--(16, 14), (26, 6)--(26, 7), (26, 24)--(27, 24), (27,\n",
      "26)--(28, 26), (8, 26)--(8, 27), (10, 16)--(11, 16), (29, 10)--(29, 9), (27,\n",
      "14)--(27, 15), (24, 18)--(24, 19), (22, 3)--(22, 4), (11, 12)--(11, 13), (7,\n",
      "21)--(8, 21), (17, 6)--(18, 6), (9, 16)--(9, 17), (15, 28)--(15, 29), (20,\n",
      "19)--(21, 19), (10, 1)--(11, 1), (10, 3)--(9, 3), (12, 19)--(13, 19), (29,\n",
      "24)--(29, 25), (2, 10)--(2, 9), (2, 13)--(3, 13), (17, 27)--(18, 27), (9,\n",
      "28)--(9, 29), (22, 16)--(22, 17), (11, 17)--(11, 18), (1, 12)--(2, 12), (10,\n",
      "6)--(10, 7), (10, 25)--(11, 25), (5, 29)--(6, 29), (21, 12)--(22, 12), (15,\n",
      "19)--(16, 19), (25, 5)--(26, 5)\n",
      "move\n",
      "bind (3, 29)\n",
      "IGRAPH UN-- 810 39 --\n",
      "+ attr: name (v)\n",
      "+ edges (vertex names):\n",
      "(14, 7)--(14, 7), (27, 2)--(27, 2), (5, 18)--(5, 18), (15, 13)--(15, 13), (14,\n",
      "24)--(14, 24), (16, 13)--(16, 14), (26, 6)--(26, 7), (26, 24)--(27, 24), (27,\n",
      "26)--(28, 26), (8, 26)--(8, 27), (10, 16)--(11, 16), (29, 10)--(29, 9), (27,\n",
      "14)--(27, 15), (24, 18)--(24, 19), (22, 3)--(22, 4), (11, 12)--(11, 13), (7,\n",
      "21)--(8, 21), (17, 6)--(18, 6), (9, 16)--(9, 17), (15, 28)--(15, 29), (20,\n",
      "19)--(21, 19), (10, 1)--(11, 1), (10, 3)--(9, 3), (12, 19)--(13, 19), (29,\n",
      "24)--(29, 25), (2, 10)--(2, 9), (2, 13)--(3, 13), (17, 27)--(18, 27), (9,\n",
      "28)--(9, 29), (22, 16)--(22, 17), (11, 17)--(11, 18), (1, 12)--(2, 12), (10,\n",
      "6)--(10, 7), (10, 25)--(11, 25), (5, 29)--(6, 29), (21, 12)--(22, 12), (15,\n",
      "19)--(16, 19), (25, 5)--(26, 5), (3, 29)--(4, 29)\n",
      "move\n",
      "move\n",
      "move\n",
      "bind (23, 17)\n",
      "IGRAPH UN-- 810 40 --\n",
      "+ attr: name (v)\n",
      "+ edges (vertex names):\n",
      "(14, 7)--(14, 7), (27, 2)--(27, 2), (5, 18)--(5, 18), (15, 13)--(15, 13), (14,\n",
      "24)--(14, 24), (16, 13)--(16, 14), (26, 6)--(26, 7), (26, 24)--(27, 24), (27,\n",
      "26)--(28, 26), (8, 26)--(8, 27), (10, 16)--(11, 16), (29, 10)--(29, 9), (27,\n",
      "14)--(27, 15), (24, 18)--(24, 19), (22, 3)--(22, 4), (11, 12)--(11, 13), (7,\n",
      "21)--(8, 21), (17, 6)--(18, 6), (9, 16)--(9, 17), (15, 28)--(15, 29), (20,\n",
      "19)--(21, 19), (10, 1)--(11, 1), (10, 3)--(9, 3), (12, 19)--(13, 19), (29,\n",
      "24)--(29, 25), (2, 10)--(2, 9), (2, 13)--(3, 13), (17, 27)--(18, 27), (9,\n",
      "28)--(9, 29), (22, 16)--(22, 17), (11, 17)--(11, 18), (1, 12)--(2, 12), (10,\n",
      "6)--(10, 7), (10, 25)--(11, 25), (5, 29)--(6, 29), (21, 12)--(22, 12), (15,\n",
      "19)--(16, 19), (25, 5)--(26, 5), (3, 29)--(4, 29), (23, 17)--(23, 18)\n"
     ]
    }
   ],
   "source": [
    "from __future__ import division\n",
    "import numpy as np \n",
    "\n",
    "graph_stored = []\n",
    "graph_move = []\n",
    "graph_self_bind = []\n",
    "t = 0\n",
    "total_time = 100\n",
    "k_move = 1e6\n",
    "k_bind = 1e5\n",
    "k_off = 1e1\n",
    "len_factor = 1\n",
    "tau = 1e-3\n",
    "times = []\n",
    "degree_dist = {}\n",
    "degree_dist_all = {}\n",
    "binding_result = []\n",
    "\n",
    "summarized_results = np.zeros(shape=(total_time+1,2))\n",
    "rxn_results = np.zeros(shape=(total_time+1,4))\n",
    "self_binding_count = 0\n",
    "\n",
    "rxn_dist = {}\n",
    "\n",
    "\n",
    "# this sets up initial movement options\n",
    "#for k,v in layout_old.items():\n",
    "#    movement_positions[v] = movement_finder(k, illegal_moves, layout_old, spaceMin, spaceMax)\n",
    "  \n",
    "\n",
    "while t <= total_time:\n",
    "\n",
    "\n",
    "    ## Calculate all possible reactions\n",
    "\n",
    "    move = sum(move_count.values() )                              # movement\n",
    "    move_k = move * k_move\n",
    "\n",
    "\n",
    "\n",
    "    ################################\n",
    "    # binding\n",
    "    ################################\n",
    "\n",
    "    #num_of_intermolc = rxn_results.sum(axis=0)[1]    \n",
    "\n",
    "    #bind = sum(bind_count.values() )                              # binding\n",
    "    bind_k = len(g.get_edgelist()) * k_bind * 0.2\n",
    "\n",
    "    ################################\n",
    "    # self binding\n",
    "    ################################\n",
    "\n",
    "    # get the length of layout_old (total possible \n",
    "    #self binding and correct for already bound nodes \n",
    "    #(either self or non-self bound))\n",
    "\n",
    "    #num_of_intramolc = rxn_results.sum(axis=0)[2]\n",
    "\n",
    "    #self_bind = len(layout_old) - len(g.get_edgelist())*2\n",
    "    self_bind_k = k_bind\n",
    "\n",
    "\n",
    "\n",
    "\n",
    "    ################################\n",
    "    # dissociate\n",
    "    ################################\n",
    "\n",
    "\n",
    "    dissociate = len(g.get_edgelist())                            # dissociation\n",
    "    dissociate_k = k_off * dissociate\n",
    "\n",
    "    # dissociation\n",
    "    ##dissociate = len(g.get_edgelist())                           \n",
    "    ##dissociate_k = dissociate * k_off * tau\n",
    "\n",
    "    # Time at which the next reaction will take place\n",
    "    rate_sum = move_k + bind_k + self_bind_k + dissociate_k                   \n",
    "    total_tau = random.expovariate(lambd=rate_sum)                \n",
    "\n",
    "    if not times:\n",
    "        times.append(total_tau)\n",
    "    else:\n",
    "        total_tau = total_tau + times[t-1]\n",
    "        times.append(total_tau)                                             # Save time as a tuple\n",
    "\n",
    "    reaction = allRxn(move_k, bind_k, self_bind_k, dissociate_k)            # Sample from uniform distribution to select next rxn\n",
    "\n",
    "    rxn_dist[i] = reaction # store distribution of Rxn's\n",
    "\n",
    "\n",
    "    if reaction == 'move':\n",
    "        print 'move'\n",
    "        #store rxn results\n",
    "        rxn_results[t] = (1, 0, 0, 0)\n",
    "\n",
    "        # randomly select a node to move\n",
    "        position_selected = random.choice(layout_old.keys() )                  \n",
    "\n",
    "        if position_selected in layout_old:\n",
    "            move_count.pop(position_selected)\n",
    "            neighbor_tracking.pop(position_selected)\n",
    "\n",
    "        # if position_selected is of degree 0, then move it normally using Mover function\n",
    "            layout_old, pos = Mover(position_selected, layout_old, illegal_moves)       \n",
    "\n",
    "        # update the count of moves the selected object can perform still\n",
    "            move_count[pos] = movement_finder(pos, illegal_moves, layout_old, spaceMin, spaceMax)\n",
    "            new_association_function3(pos, layout_old, g, neighbor_tracking, False)\n",
    "\n",
    "\n",
    "        #print position_selected\n",
    "\n",
    "    if reaction == 'bind':\n",
    "        #print 'bind'\n",
    "\n",
    "        #store rxn results\n",
    "        rxn_results[t] = (0, 1, 0, 0)\n",
    "\n",
    "        position_selected = edge_selector(neighbor_tracking)                  # select a node with neighbors randomly for forming an edge\n",
    "\n",
    "        if position_selected in layout_old:\n",
    "            move_count.pop(position_selected)\n",
    "            neighbor_tracking.pop(position_selected)\n",
    "\n",
    "            # bind & update move_count and neighbor_tracking dict\n",
    "            move_count[position_selected] = movement_finder(position_selected, illegal_moves, layout_old, spaceMin, spaceMax)\n",
    "\n",
    "            new_association_function3(position_selected, layout_old, g, neighbor_tracking, True)\n",
    "\n",
    "\n",
    "            #g.simplify(g)                                                        # simplify the graph  \n",
    "\n",
    "        print 'bind', position_selected\n",
    "        print g\n",
    "\n",
    "    if reaction == 'self_bind':\n",
    "        #store rxn results\n",
    "        rxn_results[t] = (0, 0, 1, 0)\n",
    "\n",
    "\n",
    "        if position_selected in layout_old:\n",
    "            #move_count.pop(position_selected)\n",
    "            #neighbor_tracking.pop(position_selected)\n",
    "\n",
    "            # bind & update move_count and neighbor_tracking dict\n",
    "            self_binding_count = self_associate(position_selected, layout_old, g, neighbor_tracking)\n",
    "\n",
    "        print 'self_bind'\n",
    "        print g\n",
    "\n",
    "    if reaction == 'dissociate':\n",
    "        #store rxn results\n",
    "        rxn_results[t] = (0, 0, 0, 1)\n",
    "\n",
    "        edge_list = g.get_edgelist()\n",
    "\n",
    "        try:\n",
    "            edge_selected = random.choice(edge_list)\n",
    "            g.delete_edges(edge_selected)\n",
    "        except:\n",
    "            pass\n",
    "\n",
    "        print 'dissociate'\n",
    "\n",
    "\n",
    "    # store graph at each interval\n",
    "    graph_stored.append(g)               \n",
    "    graph_move.append(move)\n",
    "    graph_self_bind.append(self_binding_count)\n",
    "\n",
    "\n",
    "    for i in range(len(g.get_edgelist() ) ):\n",
    "        # store tuple in online fashion\n",
    "        to_check = g.get_edgelist()[i]\n",
    "        # count the number of times this index repeats. \n",
    "        # If it is once, then it is a higer level binder. If it is two it is a self binder\n",
    "        binding_result.append( to_check.count(to_check[0]) )\n",
    "\n",
    "\n",
    "    ctr = collections.Counter(binding_result)\n",
    "    try:\n",
    "        summarized_results[t] = ctr.values()\n",
    "    except:\n",
    "        pass\n",
    "\n",
    "\n",
    "    t += 1\n"
   ]
  },
  {
   "cell_type": "code",
   "execution_count": 87,
   "metadata": {},
   "outputs": [
    {
     "data": {
      "text/plain": [
       "array([49., 45.,  7.,  0.])"
      ]
     },
     "execution_count": 87,
     "metadata": {},
     "output_type": "execute_result"
    }
   ],
   "source": [
    "# [move, bind, self_bind, dissociate]\n",
    "rxn_results.sum(axis=0)"
   ]
  },
  {
   "cell_type": "code",
   "execution_count": 98,
   "metadata": {},
   "outputs": [],
   "source": [
    "#total_rxn = np.zeros(shape=(10,4))\n",
    "total_rxn[0] = rxn_results.sum(axis=0)"
   ]
  },
  {
   "cell_type": "code",
   "execution_count": null,
   "metadata": {},
   "outputs": [],
   "source": []
  },
  {
   "cell_type": "code",
   "execution_count": 38,
   "metadata": {},
   "outputs": [
    {
     "data": {
      "text/plain": [
       "array([ 5., 26.,  0., 70.])"
      ]
     },
     "execution_count": 38,
     "metadata": {},
     "output_type": "execute_result"
    }
   ],
   "source": [
    "num_of_intermolc = rxn_results.sum(axis=0)[1]\n",
    "num_of_intramolc = rxn_results.sum(axis=0)[2]"
   ]
  },
  {
   "cell_type": "code",
   "execution_count": 66,
   "metadata": {},
   "outputs": [
    {
     "name": "stdout",
     "output_type": "stream",
     "text": [
      "7.2 0.0 100000.0 10.0\n",
      "……\n",
      "100017.2\n",
      "7.19876181296817e-05\n",
      "0.0\n",
      "0.9998280295789125\n",
      "9.998280295789125e-05\n",
      "self_bind\n",
      "self_bind\n",
      "self_bind\n",
      "dissociate\n",
      "dissociate\n",
      "dissociate\n",
      "dissociate\n",
      "self_bind\n",
      "dissociate\n",
      "self_bind\n",
      "self_bind\n",
      "dissociate\n",
      "dissociate\n",
      "dissociate\n",
      "self_bind\n",
      "self_bind\n",
      "self_bind\n",
      "dissociate\n",
      "dissociate\n",
      "dissociate\n",
      "dissociate\n",
      "self_bind\n",
      "self_bind\n",
      "self_bind\n",
      "self_bind\n",
      "self_bind\n",
      "dissociate\n",
      "dissociate\n",
      "self_bind\n",
      "self_bind\n",
      "self_bind\n",
      "dissociate\n",
      "dissociate\n",
      "dissociate\n",
      "dissociate\n",
      "dissociate\n",
      "dissociate\n",
      "self_bind\n",
      "self_bind\n",
      "dissociate\n",
      "self_bind\n",
      "dissociate\n",
      "dissociate\n",
      "self_bind\n",
      "self_bind\n",
      "dissociate\n",
      "dissociate\n",
      "dissociate\n",
      "self_bind\n",
      "dissociate\n"
     ]
    }
   ],
   "source": [
    "from __future__ import division\n",
    "\n",
    "k_move = 1e-1\n",
    "k_bind = 1e5 \n",
    "k_off = 1e1\n",
    "len_factor = 1\n",
    "tau = 1e-3\n",
    "\n",
    "# movement\n",
    "move = sum(move_count.values() )\n",
    "move_k = move * k_move\n",
    "\n",
    "# bind (intermolecular)\n",
    "num_of_intermolc = rxn_results.sum(axis=0)[1]\n",
    "bind_k = num_of_intermolc * k_bind\n",
    "\n",
    "# self-bind (intramolecular)\n",
    "self_bind_k = k_bind\n",
    "\n",
    "# dissociate\n",
    "dissociate = len(g.get_edgelist())\n",
    "dissociate_k = k_off\n",
    "\n",
    "print move_k, bind_k, self_bind_k, dissociate_k\n",
    "\n",
    "    \n",
    "k_0 = move_k + bind_k + self_bind_k + dissociate_k\n",
    "\n",
    "print '……'\n",
    "print k_0\n",
    "print move_k/k_0\n",
    "print bind_k/k_0\n",
    "print self_bind_k/k_0\n",
    "print dissociate_k/k_0\n",
    "    \n",
    "for i in range(50):\n",
    "    print allRxn(move_k, bind_k, self_bind_k, dissociate_k)\n",
    "\n",
    "\n",
    "#options = numpy.zeros((4, 1))\n",
    "#options[0] = move/k_0\n",
    "#options[1] = bind/k_0\n",
    "#options[2] = self_bind/k_0\n",
    "#options[3] = dissociate/k_0\n",
    "#print options\n",
    "#print move/k_0"
   ]
  },
  {
   "cell_type": "code",
   "execution_count": 95,
   "metadata": {},
   "outputs": [
    {
     "name": "stdout",
     "output_type": "stream",
     "text": [
      "move\n"
     ]
    }
   ],
   "source": [
    "myList=options\n",
    "myNumber=0.01\n",
    "out_val = min(myList, key=lambda x:abs(x-myNumber))\n",
    "\n",
    "if out_val == options[0]:\n",
    "    print 'move'\n",
    "if out_val == options[1]:\n",
    "    print 'bind'\n",
    "if out_val == options[2]:\n",
    "    print 'self_bind'\n",
    "if out_val == options[3]:\n",
    "    print 'dissociate'"
   ]
  },
  {
   "cell_type": "code",
   "execution_count": null,
   "metadata": {},
   "outputs": [],
   "source": []
  },
  {
   "cell_type": "code",
   "execution_count": null,
   "metadata": {},
   "outputs": [],
   "source": []
  },
  {
   "cell_type": "code",
   "execution_count": null,
   "metadata": {},
   "outputs": [],
   "source": []
  },
  {
   "cell_type": "code",
   "execution_count": null,
   "metadata": {},
   "outputs": [],
   "source": []
  },
  {
   "cell_type": "code",
   "execution_count": 401,
   "metadata": {},
   "outputs": [
    {
     "data": {
      "text/plain": [
       "2.96e-05"
      ]
     },
     "execution_count": 401,
     "metadata": {},
     "output_type": "execute_result"
    }
   ],
   "source": [
    "sum(bind_count.values()) *1e-4*tau\n",
    "dissociate = len(g.get_edgelist())                            # dissociation\n",
    "dissociate_k = dissociate * k_off * tau"
   ]
  },
  {
   "cell_type": "code",
   "execution_count": 406,
   "metadata": {},
   "outputs": [
    {
     "data": {
      "text/plain": [
       "0.0"
      ]
     },
     "execution_count": 406,
     "metadata": {},
     "output_type": "execute_result"
    }
   ],
   "source": []
  },
  {
   "cell_type": "code",
   "execution_count": 394,
   "metadata": {},
   "outputs": [
    {
     "name": "stdout",
     "output_type": "stream",
     "text": [
      "0.0398\n",
      "29600.0\n",
      "0.0\n"
     ]
    }
   ],
   "source": [
    "print move_k\n",
    "print bind_k\n",
    "print dissociate_k"
   ]
  },
  {
   "cell_type": "code",
   "execution_count": 326,
   "metadata": {
    "scrolled": false
   },
   "outputs": [
    {
     "data": {
      "text/plain": [
       "Counter({'bind': 2, 'dissociate': 2, 'move': 64, 'self_bind': 4932})"
      ]
     },
     "execution_count": 326,
     "metadata": {},
     "output_type": "execute_result"
    }
   ],
   "source": [
    "k_move = 1e-3\n",
    "k_bind = 1e-4\n",
    "k_off = 1e-1\n",
    "len_factor = 0.01\n",
    "tau = 1e-3\n",
    "times = []\n",
    "        \n",
    "move = sum(move_count.values() )                              # movement\n",
    "move_k = move * k_move * tau\n",
    "\n",
    "bind = sum(bind_count.values() )                              # binding\n",
    "bind_k = bind * k_bind * tau\n",
    "\n",
    "rxn_type = []\n",
    "for i in range(5000):\n",
    "    rxn_type.append( allRxn(move_k, bind_k, self_bind_k, dissociate_k) )\n",
    "collections.Counter(rxn_type)"
   ]
  },
  {
   "cell_type": "code",
   "execution_count": 345,
   "metadata": {},
   "outputs": [
    {
     "data": {
      "text/plain": [
       "7.3e-06"
      ]
     },
     "execution_count": 345,
     "metadata": {},
     "output_type": "execute_result"
    }
   ],
   "source": [
    "2.92e-07/0.04"
   ]
  },
  {
   "cell_type": "code",
   "execution_count": 357,
   "metadata": {},
   "outputs": [
    {
     "data": {
      "text/plain": [
       "array([  4.,   0., 997.,   0.])"
      ]
     },
     "execution_count": 357,
     "metadata": {},
     "output_type": "execute_result"
    }
   ],
   "source": []
  },
  {
   "cell_type": "code",
   "execution_count": null,
   "metadata": {},
   "outputs": [],
   "source": []
  },
  {
   "cell_type": "code",
   "execution_count": 354,
   "metadata": {},
   "outputs": [
    {
     "data": {
      "text/plain": [
       "Counter({1: 842, 2: 457})"
      ]
     },
     "execution_count": 354,
     "metadata": {},
     "output_type": "execute_result"
    }
   ],
   "source": [
    "collections.Counter(binding_result)"
   ]
  },
  {
   "cell_type": "code",
   "execution_count": 137,
   "metadata": {},
   "outputs": [],
   "source": [
    "(715, 33) 6183, 79\n",
    "(559, 0)  5610, 40\n",
    "607, 0\n",
    "\n",
    "d = {'col1': [1, 2], 'col2': [3, 4]}"
   ]
  },
  {
   "cell_type": "code",
   "execution_count": 139,
   "metadata": {},
   "outputs": [],
   "source": []
  },
  {
   "cell_type": "code",
   "execution_count": null,
   "metadata": {},
   "outputs": [],
   "source": []
  },
  {
   "cell_type": "markdown",
   "metadata": {},
   "source": [
    "## Plot results"
   ]
  },
  {
   "cell_type": "code",
   "execution_count": 33,
   "metadata": {},
   "outputs": [],
   "source": [
    "import matplotlib\n",
    "import matplotlib.pyplot as plt\n",
    "%matplotlib inline "
   ]
  },
  {
   "cell_type": "code",
   "execution_count": 34,
   "metadata": {},
   "outputs": [],
   "source": [
    "binding_result = []\n",
    "for i in range(len(g.get_edgelist() ) ):\n",
    "    # store tuple in online fashion\n",
    "    to_check = g.get_edgelist()[i]\n",
    "    # count the number of times this index repeats. \n",
    "    # If it is once, then it is a higer level binder. If it is two it is a self binder\n",
    "    binding_result.append( to_check.count(to_check[0]) )"
   ]
  },
  {
   "cell_type": "code",
   "execution_count": null,
   "metadata": {},
   "outputs": [],
   "source": []
  },
  {
   "cell_type": "markdown",
   "metadata": {},
   "source": [
    "## Example of interaction as a function of density (500/55x55)"
   ]
  },
  {
   "cell_type": "code",
   "execution_count": 35,
   "metadata": {},
   "outputs": [
    {
     "name": "stdout",
     "output_type": "stream",
     "text": [
      "Counter()\n"
     ]
    }
   ],
   "source": [
    "print collections.Counter(binding_result)"
   ]
  },
  {
   "cell_type": "code",
   "execution_count": 294,
   "metadata": {},
   "outputs": [
    {
     "ename": "TypeError",
     "evalue": "list indices must be integers, not tuple",
     "output_type": "error",
     "traceback": [
      "\u001b[0;31m---------------------------------------------------------------------------\u001b[0m",
      "\u001b[0;31mTypeError\u001b[0m                                 Traceback (most recent call last)",
      "\u001b[0;32m<ipython-input-294-f7f4d84b83de>\u001b[0m in \u001b[0;36m<module>\u001b[0;34m()\u001b[0m\n\u001b[1;32m      2\u001b[0m \u001b[0;31m#inter_molc = summarized_results[:,1]\u001b[0m\u001b[0;34m\u001b[0m\u001b[0;34m\u001b[0m\u001b[0m\n\u001b[1;32m      3\u001b[0m \u001b[0;34m\u001b[0m\u001b[0m\n\u001b[0;32m----> 4\u001b[0;31m \u001b[0mintra_molc\u001b[0m \u001b[0;34m=\u001b[0m \u001b[0mbinding_result\u001b[0m\u001b[0;34m[\u001b[0m\u001b[0;34m:\u001b[0m\u001b[0;34m,\u001b[0m \u001b[0;36m0\u001b[0m\u001b[0;34m]\u001b[0m\u001b[0;34m\u001b[0m\u001b[0m\n\u001b[0m\u001b[1;32m      5\u001b[0m \u001b[0minter_molc\u001b[0m \u001b[0;34m=\u001b[0m \u001b[0mbinding_result\u001b[0m\u001b[0;34m[\u001b[0m\u001b[0;34m:\u001b[0m\u001b[0;34m,\u001b[0m \u001b[0;36m1\u001b[0m\u001b[0;34m]\u001b[0m\u001b[0;34m\u001b[0m\u001b[0m\n\u001b[1;32m      6\u001b[0m \u001b[0;34m\u001b[0m\u001b[0m\n",
      "\u001b[0;31mTypeError\u001b[0m: list indices must be integers, not tuple"
     ]
    }
   ],
   "source": [
    "#intra_molc = summarized_results[:,0]\n",
    "#inter_molc = summarized_results[:,1]\n",
    "\n",
    "intra_molc = binding_result[:, 0]\n",
    "inter_molc = binding_result[:, 1]\n",
    "\n",
    "plt.scatter(times, intra_molc, s =1,alpha=.5, c ='orange')\n",
    "plt.scatter(times, [0]*len(times), s =1,alpha=.5, c='blue')\n",
    "\n",
    "plt.ylabel('Amount of Product',  fontsize=9)\n",
    "plt.xlabel('Time',  fontsize=9)\n",
    "\n",
    "plt.show()"
   ]
  },
  {
   "cell_type": "code",
   "execution_count": 295,
   "metadata": {},
   "outputs": [
    {
     "data": {
      "text/plain": [
       "<matplotlib.collections.PathCollection at 0x1122ced50>"
      ]
     },
     "execution_count": 295,
     "metadata": {},
     "output_type": "execute_result"
    },
    {
     "data": {
      "image/png": "[encoded data removed]",
      "text/plain": [
       "<Figure size 432x288 with 1 Axes>"
      ]
     },
     "metadata": {
      "needs_background": "light"
     },
     "output_type": "display_data"
    }
   ],
   "source": [
    "plt.scatter(inter_molc, intra_molc, s =1,alpha=.5, c ='red')"
   ]
  },
  {
   "cell_type": "markdown",
   "metadata": {},
   "source": [
    "## Example of interaction as a function of density (2800/55x55)"
   ]
  },
  {
   "cell_type": "code",
   "execution_count": 409,
   "metadata": {
    "scrolled": true
   },
   "outputs": [
    {
     "data": {
      "image/png": "[encoded data removed]",
      "text/plain": [
       "<Figure size 432x288 with 1 Axes>"
      ]
     },
     "metadata": {
      "needs_background": "light"
     },
     "output_type": "display_data"
    }
   ],
   "source": [
    "intra_molc = summarized_results[:,0]\n",
    "inter_molc = summarized_results[:,1]\n",
    "\n",
    "plt.scatter(times, intra_molc, s =1,alpha=.5, c='orange')\n",
    "plt.scatter(times, inter_molc, s =1,alpha=.5, c='blue')\n",
    "\n",
    "plt.ylabel('Amount of Product',  fontsize=9)\n",
    "plt.xlabel('Time',  fontsize=9)\n",
    "\n",
    "plt.show()"
   ]
  },
  {
   "cell_type": "markdown",
   "metadata": {},
   "source": [
    "##  Example of interaction as a function of density (1400/55x55)"
   ]
  },
  {
   "cell_type": "code",
   "execution_count": 477,
   "metadata": {},
   "outputs": [
    {
     "name": "stdout",
     "output_type": "stream",
     "text": [
      "Counter({2: 13747, 1: 1222})\n"
     ]
    }
   ],
   "source": [
    "# 2 is INTRA, 1 is INTER\n",
    "print collections.Counter(binding_result)"
   ]
  },
  {
   "cell_type": "code",
   "execution_count": 478,
   "metadata": {},
   "outputs": [
    {
     "data": {
      "image/png": "[encoded data removed]",
      "text/plain": [
       "<Figure size 432x288 with 1 Axes>"
      ]
     },
     "metadata": {
      "needs_background": "light"
     },
     "output_type": "display_data"
    }
   ],
   "source": [
    "intra_molc = summarized_results[:,0]\n",
    "inter_molc = summarized_results[:,1]\n",
    "\n",
    "plt.scatter(times, intra_molc, s =1,alpha=.5, c='orange')\n",
    "plt.scatter(times, inter_molc, s =1,alpha=.5, c='blue')\n",
    "\n",
    "plt.ylabel('Amount of Product',  fontsize=9)\n",
    "plt.xlabel('Time',  fontsize=9)\n",
    "\n",
    "plt.show()"
   ]
  },
  {
   "cell_type": "markdown",
   "metadata": {},
   "source": [
    "## Example of interaction as a function of density (2000/55x55)"
   ]
  },
  {
   "cell_type": "code",
   "execution_count": 468,
   "metadata": {},
   "outputs": [
    {
     "name": "stdout",
     "output_type": "stream",
     "text": [
      "Counter({2: 22391, 1: 1659})\n"
     ]
    }
   ],
   "source": [
    "# 2 is INTRA, 1 is INTER\n",
    "print collections.Counter(binding_result)"
   ]
  },
  {
   "cell_type": "code",
   "execution_count": 469,
   "metadata": {},
   "outputs": [
    {
     "data": {
      "image/png": "[encoded data removed]",
      "text/plain": [
       "<Figure size 432x288 with 1 Axes>"
      ]
     },
     "metadata": {
      "needs_background": "light"
     },
     "output_type": "display_data"
    }
   ],
   "source": [
    "intra_molc = summarized_results[:,0]\n",
    "inter_molc = summarized_results[:,1]\n",
    "\n",
    "plt.scatter(times, intra_molc, s =1,alpha=.5, c='orange')\n",
    "plt.scatter(times, inter_molc, s =1,alpha=.5, c='blue')\n",
    "\n",
    "plt.ylabel('Amount of Product',  fontsize=9)\n",
    "plt.xlabel('Time',  fontsize=9)\n",
    "\n",
    "plt.show()"
   ]
  },
  {
   "cell_type": "code",
   "execution_count": null,
   "metadata": {},
   "outputs": [],
   "source": []
  }
 ],
 "metadata": {
  "kernelspec": {
   "display_name": "Python 2",
   "language": "python",
   "name": "python2"
  },
  "language_info": {
   "codemirror_mode": {
    "name": "ipython",
    "version": 2
   },
   "file_extension": ".py",
   "mimetype": "text/x-python",
   "name": "python",
   "nbconvert_exporter": "python",
   "pygments_lexer": "ipython2",
   "version": "2.7.16"
  }
 },
 "nbformat": 4,
 "nbformat_minor": 2
}
