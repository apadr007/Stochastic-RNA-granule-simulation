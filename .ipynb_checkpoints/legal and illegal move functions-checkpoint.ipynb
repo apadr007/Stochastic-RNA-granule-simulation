{
 "cells": [
  {
   "cell_type": "markdown",
   "metadata": {},
   "source": [
    "# illegal and legal position generator"
   ]
  },
  {
   "cell_type": "markdown",
   "metadata": {},
   "source": [
    "This is a function to create the initial universe of possible positions and illegal positions"
   ]
  },
  {
   "cell_type": "code",
   "execution_count": 421,
   "metadata": {
    "collapsed": true
   },
   "outputs": [],
   "source": [
    "spaceMin = 0\n",
    "spaceMax = 10\n",
    "\n",
    "def illegal_position_generator(spaceMax, spaceMin):\n",
    "    from itertools import permutations\n",
    "    boundary = spaceMax + 2\n",
    "    lower_boundary = spaceMin - 1\n",
    "    items = range(lower_boundary, boundary)\n",
    "    moves = {}\n",
    "    i = 0\n",
    "    for p in permutations(items, 2):\n",
    "        moves[i] = p\n",
    "        i += 1\n",
    "\n",
    "    illegal_moves = {}\n",
    "    legal_moves = {}\n",
    "    for key,value in moves.items():\n",
    "        for n,i in enumerate(value):\n",
    "            try:        \n",
    "                if i <= spaceMin or i >= spaceMax:\n",
    "                    illegal_moves[key] = value\n",
    "            except:\n",
    "                continue\n",
    "                \n",
    "    for key, value in illegal_moves.iteritems():\n",
    "        if value in moves.values():\n",
    "            del moves[key]\n",
    "\n",
    "    #This changes values into keys and vice versa\n",
    "    moves = {y:x for x,y in moves.iteritems()}\n",
    "    illegal_moves = {y:x for x,y in illegal_moves.iteritems()}\n",
    "   \n",
    "    # include positions at edges\n",
    "    illegal_moves.update({(spaceMin,spaceMin):10000000, (spaceMax, spaceMax):100000001 })\n",
    "    \n",
    "    return moves, illegal_moves\n",
    "\n",
    "# run function \n",
    "legal_moves, illegal_moves = illegal_position_generator(spaceMax, spaceMin)\n",
    "\n"
   ]
  },
  {
   "cell_type": "code",
   "execution_count": 422,
   "metadata": {
    "collapsed": true
   },
   "outputs": [],
   "source": [
    "node_number = 5"
   ]
  },
  {
   "cell_type": "code",
   "execution_count": 423,
   "metadata": {
    "scrolled": true
   },
   "outputs": [
    {
     "name": "stdout",
     "output_type": "stream",
     "text": [
      "{(5, 9): 81, (4, 7): 67, (1, 3): 27, (9, 1): 122, (4, 8): 68, (5, 6): 78, (2, 8): 44, (9, 8): 129, (7, 8): 104, (5, 4): 77, (2, 1): 38, (8, 9): 117, (6, 2): 87, (1, 6): 30, (9, 4): 125, (5, 1): 74, (3, 7): 55, (2, 5): 41, (8, 5): 114, (5, 8): 80, (1, 2): 26, (7, 4): 101, (4, 9): 69, (2, 9): 45, (8, 1): 110, (7, 6): 103, (6, 3): 88, (1, 5): 29, (7, 2): 99, (3, 6): 54, (5, 7): 79, (8, 6): 115, (5, 3): 76, (4, 1): 62, (9, 7): 128, (6, 4): 89, (3, 2): 51, (2, 6): 42, (8, 2): 111, (7, 1): 98, (4, 5): 65, (7, 9): 105, (9, 3): 124, (8, 3): 112, (1, 4): 28, (6, 7): 91, (3, 9): 57, (2, 3): 39, (1, 9): 33, (8, 7): 116, (6, 8): 92, (4, 2): 63, (9, 6): 127, (6, 5): 90, (3, 5): 53, (2, 7): 43, (6, 9): 93, (7, 3): 100, (4, 6): 66, (9, 2): 123, (5, 2): 75, (6, 1): 86, (3, 1): 50, (3, 8): 56, (1, 8): 32, (7, 5): 102, (4, 3): 64, (1, 7): 31, (9, 5): 126, (3, 4): 52, (2, 4): 40, (8, 4): 113}\n",
      "\n",
      "{(-1, 0): 0, (3, 0): 49, (8, 0): 109, (0, 7): 19, (0, 10): 22, (-1, 5): 5, (7, 11): 107, (1, 11): 35, (1, -1): 24, (4, 0): 61, (10, 8): 141, (9, 0): 121, (11, 5): 150, (10, 7): 140, (3, 10): 58, (6, 10): 94, (8, 10): 118, (9, 11): 131, (5, 0): 73, (0, 4): 16, (10, 0): 133, (11, 2): 147, (-1, 6): 6, (4, 10): 70, (5, 11): 83, (6, 0): 85, (-1, 11): 11, (0, 1): 13, (11, 7): 152, (10, 5): 138, (7, 0): 97, (11, 8): 153, (2, 11): 47, (6, -1): 84, (-1, 3): 3, (11, 1): 146, (-1, 4): 4, (-1, 2): 2, (10, -1): 132, (10, 11): 143, (-1, 9): 9, (10, 6): 139, (3, 11): 59, (-1, 8): 8, (7, -1): 96, (0, 0): 10000000, (0, 3): 15, (10, 3): 136, (4, -1): 60, (-1, 1): 1, (11, -1): 144, (0, 6): 18, (8, -1): 108, (0, 11): 23, (-1, 10): 10, (7, 10): 106, (1, 10): 34, (10, 9): 142, (5, -1): 72, (11, 9): 154, (11, 4): 149, (10, 4): 137, (6, 11): 95, (8, 11): 119, (2, -1): 36, (11, 10): 155, (2, 10): 46, (9, 10): 130, (0, 9): 21, (9, -1): 120, (10, 1): 134, (0, -1): 12, (1, 0): 25, (0, 8): 20, (-1, 7): 7, (4, 11): 71, (11, 0): 145, (5, 10): 82, (10, 10): 100000001, (11, 3): 148, (3, -1): 48, (2, 0): 37, (0, 5): 17, (0, 2): 14, (11, 6): 151, (10, 2): 135}\n"
     ]
    }
   ],
   "source": [
    "print legal_moves\n",
    "print ''\n",
    "print illegal_moves"
   ]
  },
  {
   "cell_type": "markdown",
   "metadata": {},
   "source": [
    "# Function combines two dictionaries together"
   ]
  },
  {
   "cell_type": "code",
   "execution_count": 424,
   "metadata": {
    "collapsed": true
   },
   "outputs": [],
   "source": [
    "def merge_two_dicts(x, y):\n",
    "    \"\"\"Given two dicts, merge them into a new dict as a shallow copy.\"\"\"\n",
    "    z = x.copy()\n",
    "    z.update(y)\n",
    "    return z\n",
    "# run function "
   ]
  },
  {
   "cell_type": "markdown",
   "metadata": {},
   "source": [
    "# This function is going to randomly select legal positions to place a node on"
   ]
  },
  {
   "cell_type": "markdown",
   "metadata": {},
   "source": [
    "I'm currently outputing a set of node_names, which may not be needed going forward. \n",
    "\n",
    "In this function node_names has names as keys and the positions correspond to the keys in layout_old whose keys are positions"
   ]
  },
  {
   "cell_type": "code",
   "execution_count": 425,
   "metadata": {
    "collapsed": true
   },
   "outputs": [],
   "source": [
    "def layout_gen(node_number, legal_moves): \n",
    "    import random\n",
    "    \n",
    "    wanted_keys = random.sample(legal_moves.keys(), node_number)\n",
    "    #using dictionary comprehension to subset a dictionary by keys\n",
    "    layout_old = dict((k, legal_moves[k]) for k in wanted_keys if k in legal_moves)\n",
    "    \n",
    "   # #I am going to omit making this dict because I can keep tract of names using the values of layout_old as a name attribute in a graph\n",
    "   # #layout_names = {y:x for x,y in layout_old.iteritems()}\n",
    "    \n",
    "    return layout_old#, layout_names\n",
    "\n",
    "#layout_old, node_names = layout_gen(node_number, legal_moves)\n",
    "layout_old = layout_gen(node_number, legal_moves)"
   ]
  },
  {
   "cell_type": "markdown",
   "metadata": {},
   "source": [
    "Importantly, this updates illegal_moves to include the positions in which I've included a node from layout_old"
   ]
  },
  {
   "cell_type": "code",
   "execution_count": 426,
   "metadata": {
    "collapsed": true
   },
   "outputs": [],
   "source": [
    "illegal_moves = merge_two_dicts(illegal_moves, layout_old)"
   ]
  },
  {
   "cell_type": "code",
   "execution_count": 427,
   "metadata": {},
   "outputs": [
    {
     "name": "stdout",
     "output_type": "stream",
     "text": [
      "{(7, 4): 101, (2, 8): 44, (5, 2): 75, (1, 9): 33, (7, 2): 99}\n",
      "\n",
      "{(-1, 0): 0, (3, 0): 49, (2, 8): 44, (8, 0): 109, (0, 7): 19, (0, 10): 22, (-1, 5): 5, (7, 11): 107, (1, 11): 35, (1, -1): 24, (4, 0): 61, (10, 8): 141, (9, 0): 121, (11, 5): 150, (10, 7): 140, (3, 10): 58, (6, 10): 94, (8, 10): 118, (9, 11): 131, (5, 0): 73, (0, 4): 16, (10, 0): 133, (-1, 9): 9, (-1, 6): 6, (4, 10): 70, (5, 11): 83, (6, 0): 85, (-1, 11): 11, (1, 9): 33, (0, 1): 13, (11, 7): 152, (10, 5): 138, (7, 0): 97, (11, 8): 153, (2, 11): 47, (-1, 10): 10, (6, -1): 84, (-1, 3): 3, (11, 9): 154, (0, 9): 21, (-1, 4): 4, (2, -1): 36, (10, -1): 132, (10, 11): 143, (11, 2): 147, (10, 6): 139, (3, 11): 59, (11, 3): 148, (0, 5): 17, (7, -1): 96, (0, 3): 15, (10, 3): 136, (4, -1): 60, (7, 2): 99, (-1, 1): 1, (11, -1): 144, (0, 6): 18, (8, -1): 108, (0, 11): 23, (11, 1): 146, (7, 10): 106, (1, 10): 34, (10, 9): 142, (5, -1): 72, (0, 0): 10000000, (11, 4): 149, (10, 4): 137, (6, 11): 95, (8, 11): 119, (-1, 2): 2, (11, 10): 155, (2, 10): 46, (9, 10): 130, (9, -1): 120, (10, 1): 134, (1, 0): 25, (0, 8): 20, (-1, 7): 7, (4, 11): 71, (11, 0): 145, (5, 10): 82, (10, 10): 100000001, (-1, 8): 8, (3, -1): 48, (7, 4): 101, (2, 0): 37, (0, -1): 12, (5, 2): 75, (0, 2): 14, (11, 6): 151, (10, 2): 135}\n"
     ]
    }
   ],
   "source": [
    "print layout_old\n",
    "print ''\n",
    "print illegal_moves"
   ]
  },
  {
   "cell_type": "markdown",
   "metadata": {},
   "source": [
    "# Mover Function"
   ]
  },
  {
   "cell_type": "markdown",
   "metadata": {},
   "source": [
    "This function moves an object randomly and updates layout_old and node_names dict"
   ]
  },
  {
   "cell_type": "code",
   "execution_count": 404,
   "metadata": {
    "scrolled": true
   },
   "outputs": [
    {
     "name": "stdout",
     "output_type": "stream",
     "text": [
      "{(9, 8): 129, (2, 6): 42, (7, 8): 104, (1, 9): 33, (3, 6): 54}\n"
     ]
    },
    {
     "ename": "NameError",
     "evalue": "name 'node_names' is not defined",
     "output_type": "error",
     "traceback": [
      "\u001b[0;31m---------------------------------------------------------------------------\u001b[0m",
      "\u001b[0;31mNameError\u001b[0m                                 Traceback (most recent call last)",
      "\u001b[0;32m<ipython-input-404-2857bb9f3be0>\u001b[0m in \u001b[0;36m<module>\u001b[0;34m()\u001b[0m\n\u001b[1;32m     24\u001b[0m \u001b[0;34m\u001b[0m\u001b[0m\n\u001b[1;32m     25\u001b[0m \u001b[0;32mprint\u001b[0m \u001b[0mlayout_old\u001b[0m\u001b[0;34m\u001b[0m\u001b[0m\n\u001b[0;32m---> 26\u001b[0;31m \u001b[0mmover\u001b[0m\u001b[0;34m(\u001b[0m\u001b[0mlayout_old\u001b[0m\u001b[0;34m,\u001b[0m \u001b[0mnode_names\u001b[0m\u001b[0;34m,\u001b[0m \u001b[0millegal_moves\u001b[0m\u001b[0;34m)\u001b[0m\u001b[0;34m\u001b[0m\u001b[0m\n\u001b[0m",
      "\u001b[0;31mNameError\u001b[0m: name 'node_names' is not defined"
     ]
    }
   ],
   "source": [
    "def mover(layout_old, node_names, illegal_moves):\n",
    "\n",
    "    possibilities = {1: (1, 0), 2: (0,1), 3:(-1, 0), 4:(0,-1), 5:(0,0)}\n",
    "\n",
    "    from operator import add\n",
    "    import random\n",
    "\n",
    "    position_selected = random.choice(layout_old.keys())\n",
    "    newDir = random.choice(possibilities.values())\n",
    "    new_posit = tuple(map(add, position_selected, newDir))\n",
    "    \n",
    "    if new_posit not in illegal_moves.keys():        \n",
    "        idx = layout_old.get(position_selected)\n",
    "        \n",
    "        print idx \n",
    "        \n",
    "        del layout_old[position_selected]\n",
    "        layout_old[new_posit] = idx\n",
    "        node_names[idx] = new_posit\n",
    "        del illegal_moves[position_selected]\n",
    "        illegal_moves[new_posit] = idx\n",
    "        \n",
    "    return layout_old, node_names\n",
    "\n",
    "print layout_old\n",
    "mover(layout_old, node_names, illegal_moves)"
   ]
  },
  {
   "cell_type": "markdown",
   "metadata": {},
   "source": [
    "# Association function"
   ]
  },
  {
   "cell_type": "markdown",
   "metadata": {},
   "source": [
    "This association function works for a single nod at a time, which is what we want. "
   ]
  },
  {
   "cell_type": "code",
   "execution_count": 405,
   "metadata": {
    "collapsed": true
   },
   "outputs": [],
   "source": [
    "from igraph import * \n",
    "from operator import add\n",
    "import random"
   ]
  },
  {
   "cell_type": "code",
   "execution_count": 491,
   "metadata": {},
   "outputs": [
    {
     "name": "stdout",
     "output_type": "stream",
     "text": [
      "{(5, 9): 80, (2, 6): 67, (4, 9): 69, (9, 8): 129, (6, 2): 98, (9, 4): 124, (2, 2): 64, (9, 5): 126, (9, 6): 127, (1, 1): 26}\n",
      "IGRAPH UN-- 6 0 --\n",
      "+ attr: name (v), position (v)\n",
      "\n",
      "IGRAPH UN-- 6 0 --\n",
      "+ attr: name (v), position (v)\n"
     ]
    }
   ],
   "source": [
    "def newNeighborEdge(x, layout, g):\n",
    "\n",
    "    possibilities = { (1,0):1, (0,1):2, (-1,0):3, (0,-1):4 }\n",
    "\n",
    "\n",
    "    potent_associations = {}\n",
    "    \n",
    "    if x not in layout.keys():\n",
    "        pass\n",
    "    else:\n",
    "        for key, value in possibilities.items():\n",
    "            newAssc = tuple(map(add, key, x))\n",
    "            potent_associations[newAssc] = value\n",
    "\n",
    "        availOptionsToBind = dict((k, layout[k]) for k in potent_associations if k in layout)\n",
    "\n",
    "        if not availOptionsToBind:\n",
    "            pass\n",
    "        else:\n",
    "            newNodePosition = random.choice( availOptionsToBind.keys() )\n",
    "\n",
    "            v1_position = g.vs['name'].index( layout[x] )\n",
    "            v2_position = g.vs['name'].index( layout[newNodePosition] )\n",
    "            \n",
    "            if g.degree(v1_position) < 4 and g.degree(v2_position) < 4:\n",
    "                g.add_edge(v1_position, v2_position)\n",
    "            else:\n",
    "                pass\n",
    "            \n",
    "    return g\n",
    "\n",
    "x = (8,7)\n",
    "g = Graph(6)\n",
    "\n",
    "print layout_old\n",
    "g.vs[\"name\"] = layout_old.values()\n",
    "g.vs['position'] = layout_old.keys()\n",
    "\n",
    "print g\n",
    "print ''\n",
    "newNeighborEdge(x, layout_old, g)\n",
    "print g"
   ]
  },
  {
   "cell_type": "markdown",
   "metadata": {},
   "source": [
    "# Dissociation Function"
   ]
  },
  {
   "cell_type": "code",
   "execution_count": 245,
   "metadata": {},
   "outputs": [
    {
     "name": "stdout",
     "output_type": "stream",
     "text": [
      "IGRAPH UN-- 6 3 --\n",
      "+ attr: name (v), position (v)\n",
      "+ edges (vertex names):\n",
      "40--115, 116--98, 44--98\n",
      "{(6, 9): 44, (4, 9): 98, (4, 4): 40, (9, 4): 116, (9, 5): 115}\n",
      "1\n",
      "2\n",
      "\n",
      "[1, 1, 1, 1, 2, 0]\n"
     ]
    },
    {
     "data": {
      "text/plain": [
       "0"
      ]
     },
     "execution_count": 245,
     "metadata": {},
     "output_type": "execute_result"
    }
   ],
   "source": [
    "print g \n",
    "print layout_old\n",
    "x = (6,9)\n",
    "indx = g.vs['name'].index( layout_old[x] )\n",
    "print g.degree()[indx]\n",
    "prob = [0.5, 0.25, 0.125, 0.125]\n",
    "edgeType = numpy.random.choice([1, 2, 3, 4], p = prob )\n",
    "print edgeType\n",
    "\n",
    "\n",
    "print ''\n",
    "print g.degree()\n",
    "del_options =g.degree()\n",
    "probs =numpy.random.choice([1, 2, 3, 4], len(del_options),p = prob )\n",
    "for i in probs:\n",
    "    if probs[i] in del_options:\n",
    "        delete_idx = del_options.index( probs[i] )\n",
    "        \n",
    "        v1_position = g.vs['name'].index( layout[x] )\n",
    "        v2_position = g.vs['name'].index( layout[delete_idx] )\n",
    "\n",
    "\n",
    "\n"
   ]
  },
  {
   "cell_type": "code",
   "execution_count": 256,
   "metadata": {},
   "outputs": [
    {
     "name": "stdout",
     "output_type": "stream",
     "text": [
      "IGRAPH UN-- 6 3 --\n",
      "+ attr: name (v), position (v)\n",
      "+ edges (vertex names):\n",
      "40--115, 116--98, 44--98\n",
      "[1, 1, 1, 1, 2, 0]\n",
      "[116, 40, 44, 115, 98, 116]\n"
     ]
    },
    {
     "data": {
      "image/svg+xml": [
       "<?xml version=\"1.0\" encoding=\"UTF-8\"?>\n",
       "<svg xmlns=\"http://www.w3.org/2000/svg\" xmlns:xlink=\"http://www.w3.org/1999/xlink\" width=\"600pt\" height=\"600pt\" viewBox=\"0 0 600 600\" version=\"1.1\">\n",
       "<defs>\n",
       "<g>\n",
       "<symbol overflow=\"visible\" id=\"glyph0-0\">\n",
       "<path style=\"stroke:none;\" d=\"\"/>\n",
       "</symbol>\n",
       "<symbol overflow=\"visible\" id=\"glyph0-1\">\n",
       "<path style=\"stroke:none;\" d=\"M 1.339844 -6.929688 L 1.339844 -7.875 C 2.226562 -7.960938 2.847656 -8.105469 3.199219 -8.308594 C 3.550781 -8.511719 3.8125 -8.992188 3.984375 -9.75 L 4.957031 -9.75 L 4.957031 0 L 3.644531 0 L 3.644531 -6.929688 Z M 1.339844 -6.929688 \"/>\n",
       "</symbol>\n",
       "<symbol overflow=\"visible\" id=\"glyph0-2\">\n",
       "<path style=\"stroke:none;\" d=\"M 6.382812 -8.980469 C 6.8125 -8.414062 7.027344 -7.828125 7.027344 -7.226562 L 5.8125 -7.226562 C 5.738281 -7.613281 5.621094 -7.914062 5.460938 -8.132812 C 5.164062 -8.542969 4.71875 -8.75 4.117188 -8.75 C 3.429688 -8.75 2.878906 -8.433594 2.476562 -7.796875 C 2.070312 -7.160156 1.84375 -6.25 1.796875 -5.066406 C 2.078125 -5.480469 2.4375 -5.789062 2.863281 -5.996094 C 3.257812 -6.179688 3.695312 -6.269531 4.175781 -6.269531 C 4.996094 -6.269531 5.710938 -6.007812 6.324219 -5.484375 C 6.933594 -4.960938 7.238281 -4.175781 7.238281 -3.136719 C 7.238281 -2.25 6.949219 -1.460938 6.371094 -0.777344 C 5.792969 -0.0898438 4.96875 0.253906 3.898438 0.253906 C 2.980469 0.253906 2.191406 -0.09375 1.523438 -0.789062 C 0.859375 -1.484375 0.527344 -2.65625 0.527344 -4.300781 C 0.527344 -5.515625 0.675781 -6.546875 0.96875 -7.398438 C 1.539062 -9.019531 2.582031 -9.828125 4.09375 -9.828125 C 5.1875 -9.828125 5.949219 -9.546875 6.382812 -8.980469 Z M 5.457031 -1.492188 C 5.78125 -1.929688 5.941406 -2.441406 5.941406 -3.035156 C 5.941406 -3.535156 5.796875 -4.015625 5.507812 -4.46875 C 5.222656 -4.921875 4.699219 -5.148438 3.945312 -5.148438 C 3.414062 -5.148438 2.953125 -4.972656 2.554688 -4.621094 C 2.15625 -4.269531 1.953125 -3.742188 1.953125 -3.035156 C 1.953125 -2.414062 2.136719 -1.894531 2.5 -1.472656 C 2.859375 -1.050781 3.363281 -0.839844 4.007812 -0.839844 C 4.652344 -0.839844 5.136719 -1.058594 5.457031 -1.492188 Z M 5.457031 -1.492188 \"/>\n",
       "</symbol>\n",
       "<symbol overflow=\"visible\" id=\"glyph0-3\">\n",
       "<path style=\"stroke:none;\" d=\"M 4.628906 -3.464844 L 4.628906 -7.902344 L 1.492188 -3.464844 Z M 4.648438 0 L 4.648438 -2.390625 L 0.355469 -2.390625 L 0.355469 -3.59375 L 4.839844 -9.816406 L 5.878906 -9.816406 L 5.878906 -3.464844 L 7.320312 -3.464844 L 7.320312 -2.390625 L 5.878906 -2.390625 L 5.878906 0 Z M 4.648438 0 \"/>\n",
       "</symbol>\n",
       "<symbol overflow=\"visible\" id=\"glyph0-4\">\n",
       "<path style=\"stroke:none;\" d=\"M 6.535156 -8.222656 C 6.972656 -7.417969 7.191406 -6.3125 7.191406 -4.90625 C 7.191406 -3.578125 6.992188 -2.476562 6.597656 -1.605469 C 6.023438 -0.359375 5.082031 0.265625 3.78125 0.265625 C 2.605469 0.265625 1.730469 -0.242188 1.15625 -1.265625 C 0.675781 -2.117188 0.4375 -3.261719 0.4375 -4.695312 C 0.4375 -5.808594 0.582031 -6.761719 0.867188 -7.5625 C 1.40625 -9.046875 2.378906 -9.789062 3.789062 -9.789062 C 5.054688 -9.789062 5.96875 -9.265625 6.535156 -8.222656 Z M 5.296875 -1.703125 C 5.675781 -2.265625 5.867188 -3.320312 5.867188 -4.859375 C 5.867188 -5.972656 5.726562 -6.886719 5.453125 -7.605469 C 5.179688 -8.324219 4.652344 -8.679688 3.863281 -8.679688 C 3.136719 -8.679688 2.609375 -8.339844 2.273438 -7.660156 C 1.9375 -6.976562 1.769531 -5.976562 1.769531 -4.648438 C 1.769531 -3.648438 1.878906 -2.847656 2.09375 -2.242188 C 2.421875 -1.316406 2.980469 -0.855469 3.773438 -0.855469 C 4.410156 -0.855469 4.917969 -1.136719 5.296875 -1.703125 Z M 5.296875 -1.703125 \"/>\n",
       "</symbol>\n",
       "<symbol overflow=\"visible\" id=\"glyph0-5\">\n",
       "<path style=\"stroke:none;\" d=\"M 1.730469 -2.496094 C 1.8125 -1.792969 2.136719 -1.308594 2.707031 -1.039062 C 3 -0.902344 3.335938 -0.835938 3.71875 -0.835938 C 4.449219 -0.835938 4.988281 -1.066406 5.339844 -1.53125 C 5.691406 -1.996094 5.867188 -2.511719 5.867188 -3.078125 C 5.867188 -3.761719 5.65625 -4.289062 5.238281 -4.664062 C 4.820312 -5.035156 4.324219 -5.222656 3.738281 -5.222656 C 3.316406 -5.222656 2.953125 -5.140625 2.648438 -4.976562 C 2.34375 -4.8125 2.085938 -4.585938 1.875 -4.292969 L 0.804688 -4.355469 L 1.550781 -9.625 L 6.636719 -9.625 L 6.636719 -8.4375 L 2.476562 -8.4375 L 2.058594 -5.714844 C 2.285156 -5.886719 2.5 -6.019531 2.707031 -6.105469 C 3.070312 -6.253906 3.492188 -6.328125 3.972656 -6.328125 C 4.871094 -6.328125 5.628906 -6.039062 6.253906 -5.460938 C 6.878906 -4.882812 7.191406 -4.148438 7.191406 -3.261719 C 7.191406 -2.335938 6.90625 -1.519531 6.332031 -0.8125 C 5.761719 -0.105469 4.847656 0.246094 3.59375 0.246094 C 2.796875 0.246094 2.09375 0.0234375 1.480469 -0.425781 C 0.867188 -0.875 0.523438 -1.566406 0.453125 -2.496094 Z M 1.730469 -2.496094 \"/>\n",
       "</symbol>\n",
       "<symbol overflow=\"visible\" id=\"glyph0-6\">\n",
       "<path style=\"stroke:none;\" d=\"M 1.859375 -2.367188 C 1.894531 -1.6875 2.15625 -1.21875 2.644531 -0.957031 C 2.894531 -0.820312 3.179688 -0.75 3.492188 -0.75 C 4.082031 -0.75 4.582031 -0.996094 4.996094 -1.488281 C 5.410156 -1.976562 5.707031 -2.972656 5.878906 -4.46875 C 5.605469 -4.039062 5.265625 -3.734375 4.863281 -3.558594 C 4.460938 -3.382812 4.027344 -3.296875 3.5625 -3.296875 C 2.617188 -3.296875 1.871094 -3.589844 1.324219 -4.175781 C 0.773438 -4.765625 0.5 -5.519531 0.5 -6.445312 C 0.5 -7.335938 0.769531 -8.117188 1.3125 -8.789062 C 1.855469 -9.464844 2.65625 -9.804688 3.710938 -9.804688 C 5.136719 -9.804688 6.121094 -9.160156 6.664062 -7.875 C 6.964844 -7.167969 7.117188 -6.285156 7.117188 -5.222656 C 7.117188 -4.023438 6.9375 -2.960938 6.578125 -2.039062 C 5.980469 -0.496094 4.96875 0.273438 3.539062 0.273438 C 2.582031 0.273438 1.855469 0.0234375 1.359375 -0.476562 C 0.863281 -0.980469 0.617188 -1.609375 0.617188 -2.367188 Z M 5.0625 -4.855469 C 5.464844 -5.179688 5.667969 -5.738281 5.667969 -6.542969 C 5.667969 -7.261719 5.484375 -7.796875 5.125 -8.152344 C 4.761719 -8.503906 4.300781 -8.679688 3.738281 -8.679688 C 3.136719 -8.679688 2.660156 -8.480469 2.308594 -8.078125 C 1.953125 -7.671875 1.777344 -7.132812 1.777344 -6.460938 C 1.777344 -5.820312 1.933594 -5.316406 2.242188 -4.9375 C 2.550781 -4.5625 3.046875 -4.375 3.726562 -4.375 C 4.214844 -4.375 4.660156 -4.535156 5.0625 -4.855469 Z M 5.0625 -4.855469 \"/>\n",
       "</symbol>\n",
       "<symbol overflow=\"visible\" id=\"glyph0-7\">\n",
       "<path style=\"stroke:none;\" d=\"M 5.078125 -6.140625 C 5.382812 -6.445312 5.539062 -6.804688 5.539062 -7.226562 C 5.539062 -7.589844 5.390625 -7.925781 5.101562 -8.230469 C 4.808594 -8.535156 4.363281 -8.6875 3.765625 -8.6875 C 3.171875 -8.6875 2.746094 -8.535156 2.480469 -8.230469 C 2.21875 -7.925781 2.085938 -7.566406 2.085938 -7.15625 C 2.085938 -6.695312 2.257812 -6.335938 2.597656 -6.078125 C 2.9375 -5.816406 3.34375 -5.6875 3.808594 -5.6875 C 4.351562 -5.6875 4.773438 -5.839844 5.078125 -6.140625 Z M 5.300781 -1.300781 C 5.675781 -1.609375 5.867188 -2.070312 5.867188 -2.679688 C 5.867188 -3.3125 5.671875 -3.792969 5.285156 -4.121094 C 4.898438 -4.449219 4.398438 -4.613281 3.792969 -4.613281 C 3.207031 -4.613281 2.726562 -4.445312 2.355469 -4.113281 C 1.984375 -3.777344 1.796875 -3.3125 1.796875 -2.71875 C 1.796875 -2.210938 1.96875 -1.769531 2.308594 -1.398438 C 2.648438 -1.027344 3.171875 -0.839844 3.882812 -0.839844 C 4.453125 -0.839844 4.925781 -0.996094 5.300781 -1.300781 Z M 1.332031 -5.726562 C 0.972656 -6.09375 0.792969 -6.566406 0.792969 -7.148438 C 0.792969 -7.878906 1.058594 -8.507812 1.585938 -9.03125 C 2.113281 -9.554688 2.863281 -9.816406 3.835938 -9.816406 C 4.773438 -9.816406 5.507812 -9.570312 6.042969 -9.074219 C 6.578125 -8.578125 6.84375 -8.003906 6.84375 -7.34375 C 6.84375 -6.730469 6.6875 -6.238281 6.378906 -5.859375 C 6.203125 -5.644531 5.9375 -5.433594 5.570312 -5.230469 C 5.976562 -5.042969 6.296875 -4.828125 6.527344 -4.585938 C 6.960938 -4.132812 7.179688 -3.539062 7.179688 -2.808594 C 7.179688 -1.949219 6.886719 -1.21875 6.308594 -0.617188 C 5.730469 -0.0195312 4.914062 0.28125 3.855469 0.28125 C 2.902344 0.28125 2.097656 0.0234375 1.4375 -0.496094 C 0.78125 -1.011719 0.453125 -1.765625 0.453125 -2.75 C 0.453125 -3.328125 0.59375 -3.828125 0.875 -4.25 C 1.15625 -4.671875 1.578125 -4.992188 2.132812 -5.214844 C 1.789062 -5.359375 1.523438 -5.53125 1.332031 -5.726562 Z M 1.332031 -5.726562 \"/>\n",
       "</symbol>\n",
       "</g>\n",
       "</defs>\n",
       "<g id=\"surface21\">\n",
       "<rect x=\"0\" y=\"0\" width=\"600\" height=\"600\" style=\"fill:rgb(100%,100%,100%);fill-opacity:1;stroke:none;\"/>\n",
       "<path style=\"fill:none;stroke-width:1;stroke-linecap:butt;stroke-linejoin:miter;stroke:rgb(26.666667%,26.666667%,26.666667%);stroke-opacity:1;stroke-miterlimit:10;\" d=\"M 464.296875 536.535156 L 580 388.296875 \"/>\n",
       "<path style=\"fill:none;stroke-width:1;stroke-linecap:butt;stroke-linejoin:miter;stroke:rgb(26.666667%,26.666667%,26.666667%);stroke-opacity:1;stroke-miterlimit:10;\" d=\"M 20 188.960938 L 192.269531 85.660156 \"/>\n",
       "<path style=\"fill:none;stroke-width:1;stroke-linecap:butt;stroke-linejoin:miter;stroke:rgb(26.666667%,26.666667%,26.666667%);stroke-opacity:1;stroke-miterlimit:10;\" d=\"M 382.957031 20 L 192.269531 85.660156 \"/>\n",
       "<path style=\"fill-rule:nonzero;fill:rgb(100%,0%,0%);fill-opacity:1;stroke-width:1;stroke-linecap:butt;stroke-linejoin:miter;stroke:rgb(0%,0%,0%);stroke-opacity:1;stroke-miterlimit:10;\" d=\"M 30 188.960938 C 30 194.484375 25.523438 198.960938 20 198.960938 C 14.476562 198.960938 10 194.484375 10 188.960938 C 10 183.441406 14.476562 178.960938 20 178.960938 C 25.523438 178.960938 30 183.441406 30 188.960938 \"/>\n",
       "<path style=\"fill-rule:nonzero;fill:rgb(100%,0%,0%);fill-opacity:1;stroke-width:1;stroke-linecap:butt;stroke-linejoin:miter;stroke:rgb(0%,0%,0%);stroke-opacity:1;stroke-miterlimit:10;\" d=\"M 474.296875 536.535156 C 474.296875 542.058594 469.816406 546.535156 464.296875 546.535156 C 458.773438 546.535156 454.296875 542.058594 454.296875 536.535156 C 454.296875 531.011719 458.773438 526.535156 464.296875 526.535156 C 469.816406 526.535156 474.296875 531.011719 474.296875 536.535156 \"/>\n",
       "<path style=\"fill-rule:nonzero;fill:rgb(100%,0%,0%);fill-opacity:1;stroke-width:1;stroke-linecap:butt;stroke-linejoin:miter;stroke:rgb(0%,0%,0%);stroke-opacity:1;stroke-miterlimit:10;\" d=\"M 392.957031 20 C 392.957031 25.523438 388.480469 30 382.957031 30 C 377.433594 30 372.957031 25.523438 372.957031 20 C 372.957031 14.476562 377.433594 10 382.957031 10 C 388.480469 10 392.957031 14.476562 392.957031 20 \"/>\n",
       "<path style=\"fill-rule:nonzero;fill:rgb(100%,0%,0%);fill-opacity:1;stroke-width:1;stroke-linecap:butt;stroke-linejoin:miter;stroke:rgb(0%,0%,0%);stroke-opacity:1;stroke-miterlimit:10;\" d=\"M 590 388.296875 C 590 393.820312 585.523438 398.296875 580 398.296875 C 574.476562 398.296875 570 393.820312 570 388.296875 C 570 382.773438 574.476562 378.296875 580 378.296875 C 585.523438 378.296875 590 382.773438 590 388.296875 \"/>\n",
       "<path style=\"fill-rule:nonzero;fill:rgb(100%,0%,0%);fill-opacity:1;stroke-width:1;stroke-linecap:butt;stroke-linejoin:miter;stroke:rgb(0%,0%,0%);stroke-opacity:1;stroke-miterlimit:10;\" d=\"M 202.269531 85.660156 C 202.269531 91.183594 197.792969 95.660156 192.269531 95.660156 C 186.75 95.660156 182.269531 91.183594 182.269531 85.660156 C 182.269531 80.136719 186.75 75.660156 192.269531 75.660156 C 197.792969 75.660156 202.269531 80.136719 202.269531 85.660156 \"/>\n",
       "<path style=\"fill-rule:nonzero;fill:rgb(100%,0%,0%);fill-opacity:1;stroke-width:1;stroke-linecap:butt;stroke-linejoin:miter;stroke:rgb(0%,0%,0%);stroke-opacity:1;stroke-miterlimit:10;\" d=\"M 81.148438 580 C 81.148438 585.523438 76.671875 590 71.148438 590 C 65.628906 590 61.148438 585.523438 61.148438 580 C 61.148438 574.476562 65.628906 570 71.148438 570 C 76.671875 570 81.148438 574.476562 81.148438 580 \"/>\n",
       "<g style=\"fill:rgb(0%,0%,0%);fill-opacity:1;\">\n",
       "  <use xlink:href=\"#glyph0-1\" x=\"7.925781\" y=\"195.488281\"/>\n",
       "  <use xlink:href=\"#glyph0-1\" x=\"15.711914\" y=\"195.488281\"/>\n",
       "  <use xlink:href=\"#glyph0-2\" x=\"23.498047\" y=\"195.488281\"/>\n",
       "</g>\n",
       "<g style=\"fill:rgb(0%,0%,0%);fill-opacity:1;\">\n",
       "  <use xlink:href=\"#glyph0-3\" x=\"456.628906\" y=\"543.054688\"/>\n",
       "  <use xlink:href=\"#glyph0-4\" x=\"464.415039\" y=\"543.054688\"/>\n",
       "</g>\n",
       "<g style=\"fill:rgb(0%,0%,0%);fill-opacity:1;\">\n",
       "  <use xlink:href=\"#glyph0-3\" x=\"375.226562\" y=\"26.519531\"/>\n",
       "  <use xlink:href=\"#glyph0-3\" x=\"383.012695\" y=\"26.519531\"/>\n",
       "</g>\n",
       "<g style=\"fill:rgb(0%,0%,0%);fill-opacity:1;\">\n",
       "  <use xlink:href=\"#glyph0-1\" x=\"567.949219\" y=\"394.78125\"/>\n",
       "  <use xlink:href=\"#glyph0-1\" x=\"575.735352\" y=\"394.78125\"/>\n",
       "  <use xlink:href=\"#glyph0-5\" x=\"583.521484\" y=\"394.78125\"/>\n",
       "</g>\n",
       "<g style=\"fill:rgb(0%,0%,0%);fill-opacity:1;\">\n",
       "  <use xlink:href=\"#glyph0-6\" x=\"184.539062\" y=\"92.175781\"/>\n",
       "  <use xlink:href=\"#glyph0-7\" x=\"192.325195\" y=\"92.175781\"/>\n",
       "</g>\n",
       "<g style=\"fill:rgb(0%,0%,0%);fill-opacity:1;\">\n",
       "  <use xlink:href=\"#glyph0-1\" x=\"59.074219\" y=\"586.523438\"/>\n",
       "  <use xlink:href=\"#glyph0-1\" x=\"66.860352\" y=\"586.523438\"/>\n",
       "  <use xlink:href=\"#glyph0-2\" x=\"74.646484\" y=\"586.523438\"/>\n",
       "</g>\n",
       "</g>\n",
       "</svg>\n"
      ],
      "text/plain": [
       "<igraph.drawing.Plot at 0x1109118d0>"
      ]
     },
     "execution_count": 256,
     "metadata": {},
     "output_type": "execute_result"
    }
   ],
   "source": [
    "print g\n",
    "print g.degree()\n",
    "print g.vs['name']\n",
    "plot(g, vertex_label= g.vs['name'])"
   ]
  },
  {
   "cell_type": "code",
   "execution_count": 272,
   "metadata": {},
   "outputs": [
    {
     "name": "stdout",
     "output_type": "stream",
     "text": [
      "4\n",
      "[1, 1, 1, 1, 2, 0]\n",
      "4\n",
      "IGRAPH UN-- 6 3 --\n",
      "+ attr: name (v), position (v)\n",
      "+ edges (vertex names):\n",
      "40--115, 116--98, 44--98\n"
     ]
    }
   ],
   "source": [
    "delete_idx = del_options.index( probs[5] )\n",
    "print delete_idx\n",
    "print del_options\n",
    "v1_position = g.vs['name'].index( layout_old[x] )\n",
    "#v2_position = g.vs['name'].index( layout_old[delete_idx] )\n",
    "print delete_idx\n",
    "g.vs['name']\n",
    "\n",
    "\n",
    "#g.add_edge(v1_position, v2_position)\n",
    "#g.delete_edges(v1_position, v2_position)"
   ]
  },
  {
   "cell_type": "markdown",
   "metadata": {},
   "source": [
    "091117 Left off trying to get neighbors of node"
   ]
  },
  {
   "cell_type": "code",
   "execution_count": 304,
   "metadata": {},
   "outputs": [
    {
     "name": "stdout",
     "output_type": "stream",
     "text": [
      "[116, 40, 44, 115]\n",
      "IGRAPH UN-- 6 3 --\n",
      "+ attr: name (v), position (v), name (e)\n",
      "+ edges (vertex names):\n",
      "40--115, 116--98, 44--98\n"
     ]
    },
    {
     "ename": "ValueError",
     "evalue": "no such vertex: '1'",
     "output_type": "error",
     "traceback": [
      "\u001b[0;31m---------------------------------------------------------------------------\u001b[0m",
      "\u001b[0;31mValueError\u001b[0m                                Traceback (most recent call last)",
      "\u001b[0;32m<ipython-input-304-67b4338afc4b>\u001b[0m in \u001b[0;36m<module>\u001b[0;34m()\u001b[0m\n\u001b[1;32m      2\u001b[0m \u001b[0;34m\u001b[0m\u001b[0m\n\u001b[1;32m      3\u001b[0m \u001b[0;32mprint\u001b[0m \u001b[0mg\u001b[0m\u001b[0;34m\u001b[0m\u001b[0m\n\u001b[0;32m----> 4\u001b[0;31m \u001b[0mg\u001b[0m\u001b[0;34m.\u001b[0m\u001b[0mneighbors\u001b[0m\u001b[0;34m(\u001b[0m\u001b[0;34m'1'\u001b[0m\u001b[0;34m)\u001b[0m\u001b[0;34m\u001b[0m\u001b[0m\n\u001b[0m",
      "\u001b[0;31mValueError\u001b[0m: no such vertex: '1'"
     ]
    }
   ],
   "source": [
    "print g.vs.select(_degree = probs[1] )['name']\n",
    "\n",
    "print g\n",
    "g.neighbors('1')"
   ]
  },
  {
   "cell_type": "code",
   "execution_count": 227,
   "metadata": {},
   "outputs": [
    {
     "name": "stdout",
     "output_type": "stream",
     "text": [
      "IGRAPH UN-- 6 3 --\n",
      "+ attr: name (v), position (v)\n",
      "+ edges (vertex names):\n",
      "40--115, 116--98, 44--98\n",
      "2\n",
      "2\n"
     ]
    }
   ],
   "source": [
    " # this gives me the index by name in the iGraph dict I have made prev.\n",
    "\n",
    "#if g.degree(g.vs['name'].index(EdgeToBreak) ) != 0:\n",
    "#    print \"hello\"\n",
    "\n",
    "prob = [0.5, 0.25, 0.125, 0.125]\n",
    "edgeType = numpy.random.choice([1, 2, 3, 4], p = prob )\n",
    "\n",
    "x = (6,9)\n",
    "EdgeToBreak = g.vs['name'].index( layout_old[x] )\n",
    "print g\n",
    "print EdgeToBreak\n",
    "print g.vs['name'].index(layout_old[x] )\n",
    "#print g.degree(g.vs['name'].index(EdgeToBreak) )\n",
    "#if edgeType in g.degree(g.vs['name'].index(EdgeToBreak) ):\n",
    "#    print 'yes'\n",
    "#else:\n",
    "#    print 'no'\n",
    "\n",
    "\n",
    "\n"
   ]
  },
  {
   "cell_type": "markdown",
   "metadata": {},
   "source": [
    "Left off here – trying to make a dissociation function! "
   ]
  },
  {
   "cell_type": "code",
   "execution_count": 331,
   "metadata": {},
   "outputs": [
    {
     "name": "stdout",
     "output_type": "stream",
     "text": [
      "{(6, 9): 44, (4, 9): 98, (4, 4): 40, (9, 4): 116, (9, 5): 115}\n",
      "2\n",
      "1\n",
      "\n",
      "[1, 1, 1, 1, 2, 0]\n",
      "IGRAPH UN-- 6 3 --\n",
      "+ attr: name (v), position (v), name (e)\n",
      "+ edges (vertex names):\n",
      "40--115, 116--98, 44--98\n",
      "[116, 40, 44, 115, 98, 116]\n",
      "igraph.Vertex(<igraph.Graph object at 0x11071aaf8>,0,{'position': (4, 7), 'name': 116})\n"
     ]
    }
   ],
   "source": [
    "x = (6,9)\n",
    "print layout_old\n",
    "print g.vs['name'].index(layout_old[x])\n",
    "\n",
    "EdgeToBreak = g.vs['name'].index( layout_old[x] )\n",
    "prob = [0.5, 0.25, 0.125, 0.125]\n",
    "edgeType = numpy.random.choice([1, 2, 3, 4], p = prob )\n",
    "\n",
    "print g.degree( g.vs['name'].index(layout_old[x] ) )\n",
    "#if edgeType in g.degree():\n",
    "#    print 'yes'\n",
    "#    g.degree( g.vs['name'].index(layout_old[x] ) )\n",
    "    \n",
    "    #v1_position = g.vs['name'].index( layout[x] )\n",
    "    #v2_position = g.vs['name'].index( layout[newNodePosition] )\n",
    "    \n",
    "print ''\n",
    "print g.degree()\n",
    "print g\n",
    "print g.vs['name']\n",
    "print g.vs.find(_degree=1)  \n",
    "    "
   ]
  },
  {
   "cell_type": "code",
   "execution_count": 344,
   "metadata": {},
   "outputs": [
    {
     "name": "stdout",
     "output_type": "stream",
     "text": [
      "2\n",
      "40\n",
      "[116, 40, 44, 115, 98, 116]\n",
      "IGRAPH UN-- 6 3 --\n",
      "+ attr: name (v), position (v), name (e)\n",
      "+ edges (vertex names):\n",
      "40--115, 116--98, 44--98\n"
     ]
    }
   ],
   "source": [
    "print edgeType\n",
    "\n",
    "\n",
    "\n",
    "if g.vs.select(_degree=1)['name'] > 1:\n",
    "    print random.choice(g.vs.select(_degree=1)['name'])\n",
    "     \n",
    "print g.vs['name']\n",
    "\n",
    "\n",
    "\n"
   ]
  },
  {
   "cell_type": "code",
   "execution_count": 466,
   "metadata": {},
   "outputs": [],
   "source": [
    "from igraph import * \n",
    "\n",
    "#x = (2, 7)\n",
    "def edgeDeleter(x, layout_old, g):\n",
    "    v1 = g.vs['name'].index( layout_old[x] ) #this find me the index of a node given its name\n",
    "    node_degree = g.degree( v1 )             #this gets me the degree of the chosen node\n",
    "    \n",
    "    if node_degree == 1:                     #preferentially removes single edges over multi edges \n",
    "        v2 = g.neighbors(v1)[0]              #finds me which node the above chosen node is bound to\n",
    "        g.delete_edges(v1,v2)                #deletes the edge between the two chosen nodes\n",
    "        #return v1,v2\n",
    "    elif node_degree == 2:\n",
    "        v2 = g.neighbors(v1)[0]\n",
    "        g.delete_edges(v1,v2)\n",
    "        #return v1,v2\n",
    "    elif node_degree == 3:\n",
    "        v2 = g.neighbors(v1)[0]\n",
    "        g.delete_edges(v1,v2)\n",
    "        #return v1,v2\n",
    "    elif node_degree == 4:\n",
    "        v2 = g.neighbors(v1)[0]\n",
    "        g.delete_edges(v1,v2)\n",
    "        #return v1,v2\n",
    "    else:\n",
    "        pass\n",
    "\n",
    "    return g#, v1, v2 \n",
    "    \n",
    "\n",
    "#print g\n",
    "#g, out1, out2, = edgeDeleter(x, layout_old, g)\n",
    "#print g\n",
    "\n",
    "#g.vs['name']"
   ]
  },
  {
   "cell_type": "code",
   "execution_count": 456,
   "metadata": {},
   "outputs": [
    {
     "name": "stdout",
     "output_type": "stream",
     "text": [
      "0 2\n",
      "IGRAPH UN-- 6 0 --\n",
      "+ attr: name (v), position (v)\n"
     ]
    }
   ],
   "source": [
    "print out1, out2\n",
    "print g"
   ]
  },
  {
   "cell_type": "code",
   "execution_count": 454,
   "metadata": {},
   "outputs": [
    {
     "name": "stdout",
     "output_type": "stream",
     "text": [
      "{(2, 7): 43, (9, 1): 87, (2, 8): 45, (1, 4): 42, (8, 6): 113}\n"
     ]
    }
   ],
   "source": [
    "print layout_old"
   ]
  },
  {
   "cell_type": "code",
   "execution_count": 381,
   "metadata": {},
   "outputs": [
    {
     "name": "stdout",
     "output_type": "stream",
     "text": [
      "1\n",
      "{(4, 7): 40, (4, 9): 98, (8, 2): 44, (7, 7): 116, (7, 2): 115}\n",
      "IGRAPH UN-- 6 3 --\n",
      "+ attr: name (v), position (v), name (e)\n",
      "+ edges (vertex names):\n",
      "40--115, 116--98, 44--115\n",
      "[116, 40, 44, 115, 98, 116]\n"
     ]
    }
   ],
   "source": [
    "print g.vs['name'].index( layout_old[ (4,7) ] )\n",
    "print layout_old\n",
    "print g\n",
    "print g.vs['name']"
   ]
  },
  {
   "cell_type": "code",
   "execution_count": 363,
   "metadata": {},
   "outputs": [
    {
     "name": "stdout",
     "output_type": "stream",
     "text": [
      "4 2\n",
      "IGRAPH UN-- 6 2 --\n",
      "+ attr: name (v), position (v), name (e)\n",
      "+ edges (vertex names):\n",
      "40--115, 116--98\n"
     ]
    }
   ],
   "source": [
    "v2 = g.neighbors(v1)[0]\n",
    "print v2, v1\n",
    "g.delete_edges(v1,v2)\n",
    "print g\n"
   ]
  },
  {
   "cell_type": "code",
   "execution_count": 33,
   "metadata": {},
   "outputs": [
    {
     "name": "stdout",
     "output_type": "stream",
     "text": [
      "IGRAPH UN-- 5 2 --\n",
      "+ attr: name (v)\n",
      "+ edges (vertex names):\n",
      "10--4, 32--4\n",
      "2\n"
     ]
    }
   ],
   "source": [
    "from igraph import * \n",
    "g = Graph(5)\n",
    "\n",
    "g.vs[\"name\"] = (10, 34, 32, 4)\n",
    "x = g.vs['name'].index( 4 )\n",
    "y = g.vs['name'].index( 10 )\n",
    "z = g.vs['name'].index( 32 )\n",
    "g.add_edge(x, y)\n",
    "g.add_edge(x, z)\n",
    "\n",
    "\n",
    "print g\n",
    "\n",
    "print len(g.es)"
   ]
  },
  {
   "cell_type": "code",
   "execution_count": 415,
   "metadata": {},
   "outputs": [
    {
     "name": "stdout",
     "output_type": "stream",
     "text": [
      "{(4, 5): 42, (3, 1): 54, (2, 5): 33, (7, 9): 104, (9, 6): 129}\n",
      "[129, 42, 104, 33, 54, 129]\n",
      "IGRAPH UN-- 6 3 --\n",
      "+ attr: name (v), position (v)\n",
      "+ edges (vertex names):\n",
      "42--33, 42--54, 33--54\n"
     ]
    }
   ],
   "source": [
    "print layout_old\n",
    "print g.vs['name']\n",
    "print g"
   ]
  },
  {
   "cell_type": "markdown",
   "metadata": {},
   "source": [
    "# Profiling"
   ]
  },
  {
   "cell_type": "code",
   "execution_count": 1,
   "metadata": {
    "collapsed": true
   },
   "outputs": [],
   "source": [
    "import profile"
   ]
  },
  {
   "cell_type": "code",
   "execution_count": 17,
   "metadata": {},
   "outputs": [
    {
     "name": "stdout",
     "output_type": "stream",
     "text": [
      "\n",
      "         32 function calls in 0.001 seconds\n",
      "\n",
      "   Ordered by: standard name\n",
      "\n",
      "   ncalls  tottime  percall  cumtime  percall filename:lineno(function)\n",
      "        1    0.000    0.000    0.000    0.000 :0(decode)\n",
      "        1    0.000    0.000    0.000    0.000 :0(getpid)\n",
      "        1    0.000    0.000    0.000    0.000 :0(isinstance)\n",
      "        2    0.000    0.000    0.000    0.000 :0(keys)\n",
      "        2    0.000    0.000    0.000    0.000 :0(len)\n",
      "        1    0.000    0.000    0.000    0.000 :0(map)\n",
      "        2    0.000    0.000    0.000    0.000 :0(random)\n",
      "        1    0.000    0.000    0.000    0.000 :0(setprofile)\n",
      "        2    0.000    0.000    0.000    0.000 :0(urandom)\n",
      "        1    0.000    0.000    0.000    0.000 :0(utf_8_decode)\n",
      "        1    0.000    0.000    0.000    0.000 :0(values)\n",
      "        1    0.000    0.000    0.000    0.000 <ipython-input-14-2857bb9f3be0>:1(mover)\n",
      "        1    0.000    0.000    0.001    0.001 <string>:1(<module>)\n",
      "        2    0.000    0.000    0.001    0.000 iostream.py:180(schedule)\n",
      "        1    0.000    0.000    0.000    0.000 iostream.py:284(_is_master_process)\n",
      "        1    0.000    0.000    0.000    0.000 iostream.py:297(_schedule_flush)\n",
      "        1    0.000    0.000    0.001    0.001 iostream.py:342(write)\n",
      "        2    0.000    0.000    0.000    0.000 iostream.py:87(_event_pipe)\n",
      "        1    0.000    0.000    0.001    0.001 profile:0(mover(layout_old, node_names, illegal_moves); print)\n",
      "        0    0.000             0.000          profile:0(profiler)\n",
      "        2    0.000    0.000    0.000    0.000 random.py:273(choice)\n",
      "        2    0.000    0.000    0.000    0.000 threading.py:570(isSet)\n",
      "        2    0.000    0.000    0.000    0.000 threading.py:986(isAlive)\n",
      "        1    0.000    0.000    0.000    0.000 utf_8.py:15(decode)\n",
      "\n",
      "\n"
     ]
    }
   ],
   "source": [
    "profile.run('mover(layout_old, node_names, illegal_moves); print')"
   ]
  },
  {
   "cell_type": "markdown",
   "metadata": {},
   "source": [
    "# New Movement Function (281017)"
   ]
  },
  {
   "cell_type": "markdown",
   "metadata": {},
   "source": [
    "this takes in a position to move into rather than randomly populating one inside the function! "
   ]
  },
  {
   "cell_type": "code",
   "execution_count": 407,
   "metadata": {},
   "outputs": [
    {
     "name": "stdout",
     "output_type": "stream",
     "text": [
      "{(9, 8): 129, (2, 6): 42, (7, 8): 104, (1, 9): 33, (3, 6): 54}\n"
     ]
    },
    {
     "data": {
      "text/plain": [
       "{(1, 9): 33, (2, 6): 42, (3, 6): 54, (7, 8): 104, (9, 9): 129}"
      ]
     },
     "execution_count": 407,
     "metadata": {},
     "output_type": "execute_result"
    }
   ],
   "source": [
    "import random\n",
    "from operator import add\n",
    "\n",
    "\n",
    "#make a dict of directions\n",
    "possibilities = {1: (1, 0), 2: (0,1), 3:(-1, 0), 4:(0,-1), 5:(0,0)}\n",
    "#randomly select a node\n",
    "position_selected = random.choice(layout_old.keys())\n",
    "#randomly select a direction\n",
    "newDir = random.choice(possibilities.values())\n",
    "#new potential direction to take if valid\n",
    "new_posit = tuple(map(add, position_selected, newDir))\n",
    "\n",
    "\n",
    "def Mover(new_posit,layout_old, illegal_moves, possibilities, position_selected):\n",
    "    possibilities = {1: (1, 0), 2: (0,1), 3:(-1, 0), 4:(0,-1), 5:(0,0)}\n",
    "\n",
    "    if new_posit not in illegal_moves.keys():        \n",
    "        idx = layout_old.get(position_selected)\n",
    "        \n",
    "        del layout_old[position_selected]\n",
    "        layout_old[new_posit] = idx\n",
    "        #node_names[idx] = new_posit\n",
    "        del illegal_moves[position_selected]\n",
    "        illegal_moves[new_posit] = idx\n",
    "    return layout_old#, node_names\n",
    "\n",
    "print layout_old\n",
    "Mover(new_posit, layout_old, illegal_moves, possibilities, position_selected)"
   ]
  },
  {
   "cell_type": "code",
   "execution_count": null,
   "metadata": {
    "collapsed": true
   },
   "outputs": [],
   "source": []
  },
  {
   "cell_type": "markdown",
   "metadata": {
    "collapsed": true
   },
   "source": [
    "# I am going to write a function that will tell me which nodes can associate"
   ]
  },
  {
   "cell_type": "markdown",
   "metadata": {},
   "source": [
    "# Find Potential options to bind to for each Node"
   ]
  },
  {
   "cell_type": "markdown",
   "metadata": {},
   "source": [
    "This function will find whether there exists options to bind to with respect to every node "
   ]
  },
  {
   "cell_type": "code",
   "execution_count": 10,
   "metadata": {},
   "outputs": [
    {
     "ename": "TypeError",
     "evalue": "argument 2 to map() must support iteration",
     "output_type": "error",
     "traceback": [
      "\u001b[0;31m---------------------------------------------------------------------------\u001b[0m",
      "\u001b[0;31mTypeError\u001b[0m                                 Traceback (most recent call last)",
      "\u001b[0;32m<ipython-input-10-116beefbb4b8>\u001b[0m in \u001b[0;36m<module>\u001b[0;34m()\u001b[0m\n\u001b[1;32m     27\u001b[0m \u001b[0moutput\u001b[0m \u001b[0;34m=\u001b[0m \u001b[0;34m{\u001b[0m\u001b[0;34m}\u001b[0m\u001b[0;34m\u001b[0m\u001b[0m\n\u001b[1;32m     28\u001b[0m \u001b[0;32mfor\u001b[0m \u001b[0mkey\u001b[0m\u001b[0;34m,\u001b[0m \u001b[0mvalue\u001b[0m \u001b[0;32min\u001b[0m \u001b[0mlayout_old\u001b[0m\u001b[0;34m.\u001b[0m\u001b[0mitems\u001b[0m\u001b[0;34m(\u001b[0m\u001b[0;34m)\u001b[0m\u001b[0;34m:\u001b[0m\u001b[0;34m\u001b[0m\u001b[0m\n\u001b[0;32m---> 29\u001b[0;31m      \u001b[0moutput\u001b[0m\u001b[0;34m[\u001b[0m\u001b[0mvalue\u001b[0m\u001b[0;34m]\u001b[0m \u001b[0;34m=\u001b[0m \u001b[0mnearby\u001b[0m\u001b[0;34m(\u001b[0m\u001b[0mkey\u001b[0m\u001b[0;34m,\u001b[0m \u001b[0mlayout_old\u001b[0m\u001b[0;34m)\u001b[0m\u001b[0;34m\u001b[0m\u001b[0m\n\u001b[0m\u001b[1;32m     30\u001b[0m \u001b[0;32mprint\u001b[0m \u001b[0;34m''\u001b[0m\u001b[0;34m\u001b[0m\u001b[0m\n\u001b[1;32m     31\u001b[0m \u001b[0;32mprint\u001b[0m \u001b[0moutput\u001b[0m\u001b[0;34m\u001b[0m\u001b[0m\n",
      "\u001b[0;32m<ipython-input-10-116beefbb4b8>\u001b[0m in \u001b[0;36mnearby\u001b[0;34m(x, layout_old)\u001b[0m\n\u001b[1;32m      7\u001b[0m     \u001b[0;32mfor\u001b[0m \u001b[0mi\u001b[0m \u001b[0;32min\u001b[0m \u001b[0mpossibilities\u001b[0m\u001b[0;34m.\u001b[0m\u001b[0mvalues\u001b[0m\u001b[0;34m(\u001b[0m\u001b[0;34m)\u001b[0m\u001b[0;34m:\u001b[0m\u001b[0;34m\u001b[0m\u001b[0m\n\u001b[1;32m      8\u001b[0m         \u001b[0mj\u001b[0m \u001b[0;34m=\u001b[0m \u001b[0;36m0\u001b[0m\u001b[0;34m\u001b[0m\u001b[0m\n\u001b[0;32m----> 9\u001b[0;31m         \u001b[0moutput\u001b[0m \u001b[0;34m=\u001b[0m \u001b[0mtuple\u001b[0m\u001b[0;34m(\u001b[0m\u001b[0mmap\u001b[0m\u001b[0;34m(\u001b[0m\u001b[0madd\u001b[0m\u001b[0;34m,\u001b[0m \u001b[0mi\u001b[0m\u001b[0;34m,\u001b[0m \u001b[0mx\u001b[0m\u001b[0;34m)\u001b[0m\u001b[0;34m)\u001b[0m \u001b[0;31m# add each possibility to x\u001b[0m\u001b[0;34m\u001b[0m\u001b[0m\n\u001b[0m\u001b[1;32m     10\u001b[0m         \u001b[0mdir_output\u001b[0m\u001b[0;34m[\u001b[0m\u001b[0moutput\u001b[0m\u001b[0;34m]\u001b[0m \u001b[0;34m=\u001b[0m \u001b[0mi\u001b[0m  \u001b[0;31m# save results in dict\u001b[0m\u001b[0;34m\u001b[0m\u001b[0m\n\u001b[1;32m     11\u001b[0m         \u001b[0;32mif\u001b[0m \u001b[0mx\u001b[0m \u001b[0;32min\u001b[0m \u001b[0mdir_output\u001b[0m\u001b[0;34m.\u001b[0m\u001b[0mkeys\u001b[0m\u001b[0;34m(\u001b[0m\u001b[0;34m)\u001b[0m\u001b[0;34m:\u001b[0m\u001b[0;34m\u001b[0m\u001b[0m\n",
      "\u001b[0;31mTypeError\u001b[0m: argument 2 to map() must support iteration"
     ]
    }
   ],
   "source": [
    "x = (6, 2)\n",
    "def nearby(x, layout_old):\n",
    "    from operator import add\n",
    "    \n",
    "    binding_counts = ()\n",
    "    dir_output = {}\n",
    "    for i in possibilities.values():\n",
    "        j = 0\n",
    "        output = tuple(map(add, i, x)) # add each possibility to x\n",
    "        dir_output[output] = i  # save results in dict\n",
    "        if x in dir_output.keys():\n",
    "            del dir_output[x]\n",
    "        print dir_output\n",
    "        j = j + 1\n",
    "        #binding_counts[j] = len( dir_output.keys() )\n",
    "\n",
    "            \n",
    "    dir_final_output = dict((k, layout_old[k]) for k in dir_output if k in layout_old)\n",
    "    \n",
    "    # this deletes the detection of self \n",
    "    \n",
    "    #return dir_output\n",
    "    return dir_final_output\n",
    "\n",
    "## This is using the nearby function to find every nearby binding possibility \n",
    "\n",
    "output = {}\n",
    "for key, value in layout_old.items():\n",
    "     output[value] = nearby(key, layout_old)\n",
    "print ''\n",
    "print output"
   ]
  },
  {
   "cell_type": "code",
   "execution_count": null,
   "metadata": {
    "collapsed": true
   },
   "outputs": [],
   "source": []
  },
  {
   "cell_type": "markdown",
   "metadata": {},
   "source": [
    "# This function selects what to do from a uniform distribution betwee 0 and 1\n"
   ]
  },
  {
   "cell_type": "code",
   "execution_count": 408,
   "metadata": {},
   "outputs": [
    {
     "data": {
      "text/plain": [
       "'dissociate'"
      ]
     },
     "execution_count": 408,
     "metadata": {},
     "output_type": "execute_result"
    }
   ],
   "source": [
    "\n",
    "\n",
    "def allRxn(move, bind, dissociate):\n",
    "\n",
    "    options = numpy.zeros((3, 1))\n",
    "    options[0] = move/(move + bind + dissociate)\n",
    "    options[1] = (bind + move)/(move + bind + dissociate)\n",
    "    options[2] = (bind + move + dissociate)/(move + bind + dissociate)\n",
    "    \n",
    "    random_value = random.uniform(0, 1)\n",
    "    \n",
    "    if 0 <= random_value <= options[0]:\n",
    "        return 'move'\n",
    "    elif options[0] <= random_value <= options[1]:\n",
    "        return 'bind'\n",
    "    else:\n",
    "        return 'dissociate'\n",
    "\n",
    "\n",
    "allRxn(move, bind, dissociate)"
   ]
  },
  {
   "cell_type": "markdown",
   "metadata": {},
   "source": [
    "# Code for Gillespie starts here"
   ]
  },
  {
   "cell_type": "code",
   "execution_count": 526,
   "metadata": {},
   "outputs": [],
   "source": [
    "import random\n",
    "from operator import add\n",
    "import numpy \n",
    "from igraph import *\n",
    "\n",
    "\n",
    "# 2D lattice\n",
    "spaceMin = 0\n",
    "spaceMax = 10\n",
    "\n",
    "# Find legal and illegal moving options\n",
    "legal_moves, illegal_moves = illegal_position_generator(spaceMax, spaceMin)\n",
    "\n",
    "# Number of objects to simulate\n",
    "node_number = 10\n",
    "\n",
    "# Place objects in 2D lattice\n",
    "layout_old = layout_gen(node_number, legal_moves)\n",
    "\n",
    "# Updates illegal moves dict\n",
    "illegal_moves = merge_two_dicts(illegal_moves, layout_old)\n",
    "\n",
    "g = Graph(node_number)\n",
    "\n",
    "t = 0.0 \n",
    "total_time = 10\n",
    "k_move = 1e-3\n",
    "k_bind = 1e-4\n",
    "k_off = 1e-2\n",
    "tau = 1e-3\n",
    "allGraphs = {}\n",
    "times = []\n",
    "\n",
    "g.vs[\"name\"] = tuple( layout_old.values()  )                  # Update graph with names\n",
    "g.vs['position'] = tuple(layout_old.keys() ) \n",
    "        \n",
    "\n",
    "while t <= total_time:\n",
    "    for i in range( len(layout_old.keys() ) ):\n",
    "        \n",
    "        ## Calculate all possible reactions\n",
    "        \n",
    "        move = len(layout_old.keys() )*4                              # movement\n",
    "        move_k = move * k_move * tau\n",
    "        \n",
    "        bind = len(layout_old.keys() )*4                              # binding\n",
    "        bind_k = bind * k_bind * tau\n",
    "        \n",
    "        dissociate = sum(g.vs.degree())                               # dissociation\n",
    "        dissociate_k = dissociate * k_off * tau\n",
    "        \n",
    "        \n",
    "        rate_sum = move_k + bind_k + dissociate_k                     # Time at which the next reaction will take place\n",
    "        tau = random.expovariate(lambd=rate_sum)                      # Time at which the next reaction will take place\n",
    "        times.append(tau)                                             # Save time as a tuple\n",
    "        reaction = allRxn(move_k, bind_k, dissociate_k)               # Sample from uniform distribution\n",
    "        \n",
    "\n",
    "        if reaction == 'move':\n",
    "\n",
    "            position_selected = random.choice(layout_old.keys() )     #randomly select a node\n",
    "            newDir = random.choice(possibilities.values() )           #randomly select a direction\n",
    "            new_posit = tuple(map(add, position_selected, newDir))    #new potential direction to take if valid\n",
    "            \n",
    "            #move in new direction\n",
    "            Mover(new_posit, layout_old, illegal_moves, possibilities, position_selected)\n",
    "            \n",
    "            illegal_moves = merge_two_dicts(illegal_moves, layout_old) # Update illegal moves \n",
    "            \n",
    "\n",
    "        \n",
    "#        if reaction == 'bind':\n",
    "#            position_selected = random.choice(layout_old.keys() )\n",
    "#            newNeighborEdge(position_selected, layout_old, g)         #form an edge between a neighbor, if one exists\n",
    "\n",
    "        \n",
    "#        if reaction == 'dissociate':\n",
    "#            \n",
    "#            position_selected = random.choice(layout_old.keys() )\n",
    "#            edgeDeleter(position_selected, layout_old, g)\n",
    "        \n",
    "#        print reaction\n",
    "        plot(g, layout=layout_old.keys() )\n",
    "\n",
    "        #print g\n",
    "        \n",
    "        \n",
    "        t = t + 1"
   ]
  },
  {
   "cell_type": "code",
   "execution_count": 527,
   "metadata": {},
   "outputs": [
    {
     "data": {
      "image/svg+xml": [
       "<?xml version=\"1.0\" encoding=\"UTF-8\"?>\n",
       "<svg xmlns=\"http://www.w3.org/2000/svg\" xmlns:xlink=\"http://www.w3.org/1999/xlink\" width=\"600pt\" height=\"600pt\" viewBox=\"0 0 600 600\" version=\"1.1\">\n",
       "<defs>\n",
       "<g>\n",
       "<symbol overflow=\"visible\" id=\"glyph0-0\">\n",
       "<path style=\"stroke:none;\" d=\"\"/>\n",
       "</symbol>\n",
       "<symbol overflow=\"visible\" id=\"glyph0-1\">\n",
       "<path style=\"stroke:none;\" d=\"M 1.339844 -6.929688 L 1.339844 -7.875 C 2.226562 -7.960938 2.847656 -8.105469 3.199219 -8.308594 C 3.550781 -8.511719 3.8125 -8.992188 3.984375 -9.75 L 4.957031 -9.75 L 4.957031 0 L 3.644531 0 L 3.644531 -6.929688 Z M 1.339844 -6.929688 \"/>\n",
       "</symbol>\n",
       "<symbol overflow=\"visible\" id=\"glyph0-2\">\n",
       "<path style=\"stroke:none;\" d=\"M 1.730469 -2.496094 C 1.8125 -1.792969 2.136719 -1.308594 2.707031 -1.039062 C 3 -0.902344 3.335938 -0.835938 3.71875 -0.835938 C 4.449219 -0.835938 4.988281 -1.066406 5.339844 -1.53125 C 5.691406 -1.996094 5.867188 -2.511719 5.867188 -3.078125 C 5.867188 -3.761719 5.65625 -4.289062 5.238281 -4.664062 C 4.820312 -5.035156 4.324219 -5.222656 3.738281 -5.222656 C 3.316406 -5.222656 2.953125 -5.140625 2.648438 -4.976562 C 2.34375 -4.8125 2.085938 -4.585938 1.875 -4.292969 L 0.804688 -4.355469 L 1.550781 -9.625 L 6.636719 -9.625 L 6.636719 -8.4375 L 2.476562 -8.4375 L 2.058594 -5.714844 C 2.285156 -5.886719 2.5 -6.019531 2.707031 -6.105469 C 3.070312 -6.253906 3.492188 -6.328125 3.972656 -6.328125 C 4.871094 -6.328125 5.628906 -6.039062 6.253906 -5.460938 C 6.878906 -4.882812 7.191406 -4.148438 7.191406 -3.261719 C 7.191406 -2.335938 6.90625 -1.519531 6.332031 -0.8125 C 5.761719 -0.105469 4.847656 0.246094 3.59375 0.246094 C 2.796875 0.246094 2.09375 0.0234375 1.480469 -0.425781 C 0.867188 -0.875 0.523438 -1.566406 0.453125 -2.496094 Z M 1.730469 -2.496094 \"/>\n",
       "</symbol>\n",
       "<symbol overflow=\"visible\" id=\"glyph0-3\">\n",
       "<path style=\"stroke:none;\" d=\"M 0.960938 -2.203125 C 1.265625 -2.828125 1.855469 -3.394531 2.734375 -3.902344 L 4.046875 -4.664062 C 4.632812 -5.003906 5.046875 -5.296875 5.285156 -5.539062 C 5.65625 -5.914062 5.84375 -6.347656 5.84375 -6.835938 C 5.84375 -7.40625 5.671875 -7.859375 5.332031 -8.191406 C 4.992188 -8.527344 4.535156 -8.695312 3.964844 -8.695312 C 3.121094 -8.695312 2.539062 -8.375 2.214844 -7.738281 C 2.042969 -7.398438 1.945312 -6.921875 1.929688 -6.316406 L 0.675781 -6.316406 C 0.691406 -7.167969 0.847656 -7.863281 1.148438 -8.402344 C 1.679688 -9.351562 2.621094 -9.824219 3.972656 -9.824219 C 5.09375 -9.824219 5.910156 -9.519531 6.429688 -8.914062 C 6.945312 -8.308594 7.203125 -7.632812 7.203125 -6.890625 C 7.203125 -6.105469 6.929688 -5.4375 6.378906 -4.882812 C 6.058594 -4.558594 5.488281 -4.164062 4.664062 -3.703125 L 3.726562 -3.1875 C 3.28125 -2.941406 2.929688 -2.703125 2.671875 -2.480469 C 2.21875 -2.085938 1.929688 -1.644531 1.8125 -1.164062 L 7.15625 -1.164062 L 7.15625 0 L 0.4375 0 C 0.484375 -0.84375 0.65625 -1.578125 0.960938 -2.203125 Z M 0.960938 -2.203125 \"/>\n",
       "</symbol>\n",
       "<symbol overflow=\"visible\" id=\"glyph0-4\">\n",
       "<path style=\"stroke:none;\" d=\"M 6.382812 -8.980469 C 6.8125 -8.414062 7.027344 -7.828125 7.027344 -7.226562 L 5.8125 -7.226562 C 5.738281 -7.613281 5.621094 -7.914062 5.460938 -8.132812 C 5.164062 -8.542969 4.71875 -8.75 4.117188 -8.75 C 3.429688 -8.75 2.878906 -8.433594 2.476562 -7.796875 C 2.070312 -7.160156 1.84375 -6.25 1.796875 -5.066406 C 2.078125 -5.480469 2.4375 -5.789062 2.863281 -5.996094 C 3.257812 -6.179688 3.695312 -6.269531 4.175781 -6.269531 C 4.996094 -6.269531 5.710938 -6.007812 6.324219 -5.484375 C 6.933594 -4.960938 7.238281 -4.175781 7.238281 -3.136719 C 7.238281 -2.25 6.949219 -1.460938 6.371094 -0.777344 C 5.792969 -0.0898438 4.96875 0.253906 3.898438 0.253906 C 2.980469 0.253906 2.191406 -0.09375 1.523438 -0.789062 C 0.859375 -1.484375 0.527344 -2.65625 0.527344 -4.300781 C 0.527344 -5.515625 0.675781 -6.546875 0.96875 -7.398438 C 1.539062 -9.019531 2.582031 -9.828125 4.09375 -9.828125 C 5.1875 -9.828125 5.949219 -9.546875 6.382812 -8.980469 Z M 5.457031 -1.492188 C 5.78125 -1.929688 5.941406 -2.441406 5.941406 -3.035156 C 5.941406 -3.535156 5.796875 -4.015625 5.507812 -4.46875 C 5.222656 -4.921875 4.699219 -5.148438 3.945312 -5.148438 C 3.414062 -5.148438 2.953125 -4.972656 2.554688 -4.621094 C 2.15625 -4.269531 1.953125 -3.742188 1.953125 -3.035156 C 1.953125 -2.414062 2.136719 -1.894531 2.5 -1.472656 C 2.859375 -1.050781 3.363281 -0.839844 4.007812 -0.839844 C 4.652344 -0.839844 5.136719 -1.058594 5.457031 -1.492188 Z M 5.457031 -1.492188 \"/>\n",
       "</symbol>\n",
       "<symbol overflow=\"visible\" id=\"glyph0-5\">\n",
       "<path style=\"stroke:none;\" d=\"M 5.078125 -6.140625 C 5.382812 -6.445312 5.539062 -6.804688 5.539062 -7.226562 C 5.539062 -7.589844 5.390625 -7.925781 5.101562 -8.230469 C 4.808594 -8.535156 4.363281 -8.6875 3.765625 -8.6875 C 3.171875 -8.6875 2.746094 -8.535156 2.480469 -8.230469 C 2.21875 -7.925781 2.085938 -7.566406 2.085938 -7.15625 C 2.085938 -6.695312 2.257812 -6.335938 2.597656 -6.078125 C 2.9375 -5.816406 3.34375 -5.6875 3.808594 -5.6875 C 4.351562 -5.6875 4.773438 -5.839844 5.078125 -6.140625 Z M 5.300781 -1.300781 C 5.675781 -1.609375 5.867188 -2.070312 5.867188 -2.679688 C 5.867188 -3.3125 5.671875 -3.792969 5.285156 -4.121094 C 4.898438 -4.449219 4.398438 -4.613281 3.792969 -4.613281 C 3.207031 -4.613281 2.726562 -4.445312 2.355469 -4.113281 C 1.984375 -3.777344 1.796875 -3.3125 1.796875 -2.71875 C 1.796875 -2.210938 1.96875 -1.769531 2.308594 -1.398438 C 2.648438 -1.027344 3.171875 -0.839844 3.882812 -0.839844 C 4.453125 -0.839844 4.925781 -0.996094 5.300781 -1.300781 Z M 1.332031 -5.726562 C 0.972656 -6.09375 0.792969 -6.566406 0.792969 -7.148438 C 0.792969 -7.878906 1.058594 -8.507812 1.585938 -9.03125 C 2.113281 -9.554688 2.863281 -9.816406 3.835938 -9.816406 C 4.773438 -9.816406 5.507812 -9.570312 6.042969 -9.074219 C 6.578125 -8.578125 6.84375 -8.003906 6.84375 -7.34375 C 6.84375 -6.730469 6.6875 -6.238281 6.378906 -5.859375 C 6.203125 -5.644531 5.9375 -5.433594 5.570312 -5.230469 C 5.976562 -5.042969 6.296875 -4.828125 6.527344 -4.585938 C 6.960938 -4.132812 7.179688 -3.539062 7.179688 -2.808594 C 7.179688 -1.949219 6.886719 -1.21875 6.308594 -0.617188 C 5.730469 -0.0195312 4.914062 0.28125 3.855469 0.28125 C 2.902344 0.28125 2.097656 0.0234375 1.4375 -0.496094 C 0.78125 -1.011719 0.453125 -1.765625 0.453125 -2.75 C 0.453125 -3.328125 0.59375 -3.828125 0.875 -4.25 C 1.15625 -4.671875 1.578125 -4.992188 2.132812 -5.214844 C 1.789062 -5.359375 1.523438 -5.53125 1.332031 -5.726562 Z M 1.332031 -5.726562 \"/>\n",
       "</symbol>\n",
       "<symbol overflow=\"visible\" id=\"glyph0-6\">\n",
       "<path style=\"stroke:none;\" d=\"M 1.859375 -2.367188 C 1.894531 -1.6875 2.15625 -1.21875 2.644531 -0.957031 C 2.894531 -0.820312 3.179688 -0.75 3.492188 -0.75 C 4.082031 -0.75 4.582031 -0.996094 4.996094 -1.488281 C 5.410156 -1.976562 5.707031 -2.972656 5.878906 -4.46875 C 5.605469 -4.039062 5.265625 -3.734375 4.863281 -3.558594 C 4.460938 -3.382812 4.027344 -3.296875 3.5625 -3.296875 C 2.617188 -3.296875 1.871094 -3.589844 1.324219 -4.175781 C 0.773438 -4.765625 0.5 -5.519531 0.5 -6.445312 C 0.5 -7.335938 0.769531 -8.117188 1.3125 -8.789062 C 1.855469 -9.464844 2.65625 -9.804688 3.710938 -9.804688 C 5.136719 -9.804688 6.121094 -9.160156 6.664062 -7.875 C 6.964844 -7.167969 7.117188 -6.285156 7.117188 -5.222656 C 7.117188 -4.023438 6.9375 -2.960938 6.578125 -2.039062 C 5.980469 -0.496094 4.96875 0.273438 3.539062 0.273438 C 2.582031 0.273438 1.855469 0.0234375 1.359375 -0.476562 C 0.863281 -0.980469 0.617188 -1.609375 0.617188 -2.367188 Z M 5.0625 -4.855469 C 5.464844 -5.179688 5.667969 -5.738281 5.667969 -6.542969 C 5.667969 -7.261719 5.484375 -7.796875 5.125 -8.152344 C 4.761719 -8.503906 4.300781 -8.679688 3.738281 -8.679688 C 3.136719 -8.679688 2.660156 -8.480469 2.308594 -8.078125 C 1.953125 -7.671875 1.777344 -7.132812 1.777344 -6.460938 C 1.777344 -5.820312 1.933594 -5.316406 2.242188 -4.9375 C 2.550781 -4.5625 3.046875 -4.375 3.726562 -4.375 C 4.214844 -4.375 4.660156 -4.535156 5.0625 -4.855469 Z M 5.0625 -4.855469 \"/>\n",
       "</symbol>\n",
       "<symbol overflow=\"visible\" id=\"glyph0-7\">\n",
       "<path style=\"stroke:none;\" d=\"M 6.535156 -8.222656 C 6.972656 -7.417969 7.191406 -6.3125 7.191406 -4.90625 C 7.191406 -3.578125 6.992188 -2.476562 6.597656 -1.605469 C 6.023438 -0.359375 5.082031 0.265625 3.78125 0.265625 C 2.605469 0.265625 1.730469 -0.242188 1.15625 -1.265625 C 0.675781 -2.117188 0.4375 -3.261719 0.4375 -4.695312 C 0.4375 -5.808594 0.582031 -6.761719 0.867188 -7.5625 C 1.40625 -9.046875 2.378906 -9.789062 3.789062 -9.789062 C 5.054688 -9.789062 5.96875 -9.265625 6.535156 -8.222656 Z M 5.296875 -1.703125 C 5.675781 -2.265625 5.867188 -3.320312 5.867188 -4.859375 C 5.867188 -5.972656 5.726562 -6.886719 5.453125 -7.605469 C 5.179688 -8.324219 4.652344 -8.679688 3.863281 -8.679688 C 3.136719 -8.679688 2.609375 -8.339844 2.273438 -7.660156 C 1.9375 -6.976562 1.769531 -5.976562 1.769531 -4.648438 C 1.769531 -3.648438 1.878906 -2.847656 2.09375 -2.242188 C 2.421875 -1.316406 2.980469 -0.855469 3.773438 -0.855469 C 4.410156 -0.855469 4.917969 -1.136719 5.296875 -1.703125 Z M 5.296875 -1.703125 \"/>\n",
       "</symbol>\n",
       "<symbol overflow=\"visible\" id=\"glyph0-8\">\n",
       "<path style=\"stroke:none;\" d=\"M 4.628906 -3.464844 L 4.628906 -7.902344 L 1.492188 -3.464844 Z M 4.648438 0 L 4.648438 -2.390625 L 0.355469 -2.390625 L 0.355469 -3.59375 L 4.839844 -9.816406 L 5.878906 -9.816406 L 5.878906 -3.464844 L 7.320312 -3.464844 L 7.320312 -2.390625 L 5.878906 -2.390625 L 5.878906 0 Z M 4.648438 0 \"/>\n",
       "</symbol>\n",
       "<symbol overflow=\"visible\" id=\"glyph0-9\">\n",
       "<path style=\"stroke:none;\" d=\"M 1.117188 -0.6875 C 0.59375 -1.324219 0.335938 -2.097656 0.335938 -3.007812 L 1.621094 -3.007812 C 1.675781 -2.375 1.792969 -1.914062 1.976562 -1.625 C 2.296875 -1.109375 2.871094 -0.855469 3.703125 -0.855469 C 4.351562 -0.855469 4.871094 -1.027344 5.265625 -1.375 C 5.65625 -1.71875 5.851562 -2.167969 5.851562 -2.714844 C 5.851562 -3.390625 5.644531 -3.859375 5.234375 -4.128906 C 4.820312 -4.398438 4.246094 -4.53125 3.515625 -4.53125 C 3.433594 -4.53125 3.347656 -4.53125 3.265625 -4.527344 C 3.179688 -4.527344 3.09375 -4.523438 3.007812 -4.519531 L 3.007812 -5.605469 C 3.136719 -5.59375 3.242188 -5.582031 3.328125 -5.578125 C 3.414062 -5.574219 3.507812 -5.570312 3.609375 -5.570312 C 4.070312 -5.570312 4.449219 -5.644531 4.742188 -5.789062 C 5.261719 -6.046875 5.523438 -6.5 5.523438 -7.15625 C 5.523438 -7.644531 5.351562 -8.019531 5.003906 -8.285156 C 4.65625 -8.550781 4.253906 -8.679688 3.792969 -8.679688 C 2.972656 -8.679688 2.40625 -8.40625 2.09375 -7.859375 C 1.917969 -7.558594 1.820312 -7.132812 1.796875 -6.578125 L 0.582031 -6.578125 C 0.582031 -7.304688 0.726562 -7.925781 1.019531 -8.4375 C 1.519531 -9.347656 2.402344 -9.804688 3.664062 -9.804688 C 4.664062 -9.804688 5.433594 -9.582031 5.980469 -9.136719 C 6.527344 -8.691406 6.800781 -8.046875 6.800781 -7.203125 C 6.800781 -6.601562 6.640625 -6.117188 6.316406 -5.742188 C 6.117188 -5.507812 5.855469 -5.328125 5.539062 -5.195312 C 6.054688 -5.054688 6.453125 -4.78125 6.742188 -4.378906 C 7.03125 -3.976562 7.179688 -3.480469 7.179688 -2.898438 C 7.179688 -1.964844 6.871094 -1.203125 6.253906 -0.617188 C 5.640625 -0.0273438 4.765625 0.265625 3.636719 0.265625 C 2.480469 0.265625 1.640625 -0.0507812 1.117188 -0.6875 Z M 1.117188 -0.6875 \"/>\n",
       "</symbol>\n",
       "<symbol overflow=\"visible\" id=\"glyph0-10\">\n",
       "<path style=\"stroke:none;\" d=\"M 7.320312 -9.625 L 7.320312 -8.550781 C 7.007812 -8.246094 6.589844 -7.714844 6.066406 -6.960938 C 5.546875 -6.203125 5.082031 -5.386719 4.683594 -4.511719 C 4.285156 -3.660156 3.984375 -2.882812 3.78125 -2.179688 C 3.648438 -1.730469 3.476562 -1.003906 3.265625 0 L 1.90625 0 C 2.21875 -1.867188 2.902344 -3.726562 3.957031 -5.578125 C 4.582031 -6.664062 5.238281 -7.597656 5.925781 -8.386719 L 0.511719 -8.386719 L 0.511719 -9.625 Z M 7.320312 -9.625 \"/>\n",
       "</symbol>\n",
       "</g>\n",
       "</defs>\n",
       "<g id=\"surface496\">\n",
       "<rect x=\"0\" y=\"0\" width=\"600\" height=\"600\" style=\"fill:rgb(100%,100%,100%);fill-opacity:1;stroke:none;\"/>\n",
       "<path style=\"fill-rule:nonzero;fill:rgb(100%,0%,0%);fill-opacity:1;stroke-width:1;stroke-linecap:butt;stroke-linejoin:miter;stroke:rgb(0%,0%,0%);stroke-opacity:1;stroke-miterlimit:10;\" d=\"M 590 420 C 590 425.523438 585.523438 430 580 430 C 574.476562 430 570 425.523438 570 420 C 570 414.476562 574.476562 410 580 410 C 585.523438 410 590 414.476562 590 420 \"/>\n",
       "<path style=\"fill-rule:nonzero;fill:rgb(100%,0%,0%);fill-opacity:1;stroke-width:1;stroke-linecap:butt;stroke-linejoin:miter;stroke:rgb(0%,0%,0%);stroke-opacity:1;stroke-miterlimit:10;\" d=\"M 216.667969 260 C 216.667969 265.523438 212.191406 270 206.667969 270 C 201.144531 270 196.667969 265.523438 196.667969 260 C 196.667969 254.476562 201.144531 250 206.667969 250 C 212.191406 250 216.667969 254.476562 216.667969 260 \"/>\n",
       "<path style=\"fill-rule:nonzero;fill:rgb(100%,0%,0%);fill-opacity:1;stroke-width:1;stroke-linecap:butt;stroke-linejoin:miter;stroke:rgb(0%,0%,0%);stroke-opacity:1;stroke-miterlimit:10;\" d=\"M 216.667969 420 C 216.667969 425.523438 212.191406 430 206.667969 430 C 201.144531 430 196.667969 425.523438 196.667969 420 C 196.667969 414.476562 201.144531 410 206.667969 410 C 212.191406 410 216.667969 414.476562 216.667969 420 \"/>\n",
       "<path style=\"fill-rule:nonzero;fill:rgb(100%,0%,0%);fill-opacity:1;stroke-width:1;stroke-linecap:butt;stroke-linejoin:miter;stroke:rgb(0%,0%,0%);stroke-opacity:1;stroke-miterlimit:10;\" d=\"M 403.332031 260 C 403.332031 265.523438 398.855469 270 393.332031 270 C 387.808594 270 383.332031 265.523438 383.332031 260 C 383.332031 254.476562 387.808594 250 393.332031 250 C 398.855469 250 403.332031 254.476562 403.332031 260 \"/>\n",
       "<path style=\"fill-rule:nonzero;fill:rgb(100%,0%,0%);fill-opacity:1;stroke-width:1;stroke-linecap:butt;stroke-linejoin:miter;stroke:rgb(0%,0%,0%);stroke-opacity:1;stroke-miterlimit:10;\" d=\"M 496.667969 580 C 496.667969 585.523438 492.191406 590 486.667969 590 C 481.144531 590 476.667969 585.523438 476.667969 580 C 476.667969 574.476562 481.144531 570 486.667969 570 C 492.191406 570 496.667969 574.476562 496.667969 580 \"/>\n",
       "<path style=\"fill-rule:nonzero;fill:rgb(100%,0%,0%);fill-opacity:1;stroke-width:1;stroke-linecap:butt;stroke-linejoin:miter;stroke:rgb(0%,0%,0%);stroke-opacity:1;stroke-miterlimit:10;\" d=\"M 216.667969 20 C 216.667969 25.523438 212.191406 30 206.667969 30 C 201.144531 30 196.667969 25.523438 196.667969 20 C 196.667969 14.476562 201.144531 10 206.667969 10 C 212.191406 10 216.667969 14.476562 216.667969 20 \"/>\n",
       "<path style=\"fill-rule:nonzero;fill:rgb(100%,0%,0%);fill-opacity:1;stroke-width:1;stroke-linecap:butt;stroke-linejoin:miter;stroke:rgb(0%,0%,0%);stroke-opacity:1;stroke-miterlimit:10;\" d=\"M 30 420 C 30 425.523438 25.523438 430 20 430 C 14.476562 430 10 425.523438 10 420 C 10 414.476562 14.476562 410 20 410 C 25.523438 410 30 414.476562 30 420 \"/>\n",
       "<path style=\"fill-rule:nonzero;fill:rgb(100%,0%,0%);fill-opacity:1;stroke-width:1;stroke-linecap:butt;stroke-linejoin:miter;stroke:rgb(0%,0%,0%);stroke-opacity:1;stroke-miterlimit:10;\" d=\"M 310 20 C 310 25.523438 305.523438 30 300 30 C 294.476562 30 290 25.523438 290 20 C 290 14.476562 294.476562 10 300 10 C 305.523438 10 310 14.476562 310 20 \"/>\n",
       "<path style=\"fill-rule:nonzero;fill:rgb(100%,0%,0%);fill-opacity:1;stroke-width:1;stroke-linecap:butt;stroke-linejoin:miter;stroke:rgb(0%,0%,0%);stroke-opacity:1;stroke-miterlimit:10;\" d=\"M 216.667969 100 C 216.667969 105.523438 212.191406 110 206.667969 110 C 201.144531 110 196.667969 105.523438 196.667969 100 C 196.667969 94.476562 201.144531 90 206.667969 90 C 212.191406 90 216.667969 94.476562 216.667969 100 \"/>\n",
       "<path style=\"fill-rule:nonzero;fill:rgb(100%,0%,0%);fill-opacity:1;stroke-width:1;stroke-linecap:butt;stroke-linejoin:miter;stroke:rgb(0%,0%,0%);stroke-opacity:1;stroke-miterlimit:10;\" d=\"M 403.332031 580 C 403.332031 585.523438 398.855469 590 393.332031 590 C 387.808594 590 383.332031 585.523438 383.332031 580 C 383.332031 574.476562 387.808594 570 393.332031 570 C 398.855469 570 403.332031 574.476562 403.332031 580 \"/>\n",
       "<g style=\"fill:rgb(0%,0%,0%);fill-opacity:1;\">\n",
       "  <use xlink:href=\"#glyph0-1\" x=\"567.949219\" y=\"426.484375\"/>\n",
       "  <use xlink:href=\"#glyph0-1\" x=\"575.735352\" y=\"426.484375\"/>\n",
       "  <use xlink:href=\"#glyph0-2\" x=\"583.521484\" y=\"426.484375\"/>\n",
       "</g>\n",
       "<g style=\"fill:rgb(0%,0%,0%);fill-opacity:1;\">\n",
       "  <use xlink:href=\"#glyph0-2\" x=\"198.945312\" y=\"266.523438\"/>\n",
       "  <use xlink:href=\"#glyph0-3\" x=\"206.731445\" y=\"266.523438\"/>\n",
       "</g>\n",
       "<g style=\"fill:rgb(0%,0%,0%);fill-opacity:1;\">\n",
       "  <use xlink:href=\"#glyph0-4\" x=\"198.890625\" y=\"426.523438\"/>\n",
       "  <use xlink:href=\"#glyph0-4\" x=\"206.676758\" y=\"426.523438\"/>\n",
       "</g>\n",
       "<g style=\"fill:rgb(0%,0%,0%);fill-opacity:1;\">\n",
       "  <use xlink:href=\"#glyph0-5\" x=\"385.65625\" y=\"266.519531\"/>\n",
       "  <use xlink:href=\"#glyph0-6\" x=\"393.442383\" y=\"266.519531\"/>\n",
       "</g>\n",
       "<g style=\"fill:rgb(0%,0%,0%);fill-opacity:1;\">\n",
       "  <use xlink:href=\"#glyph0-1\" x=\"474.550781\" y=\"586.519531\"/>\n",
       "  <use xlink:href=\"#glyph0-7\" x=\"482.336914\" y=\"586.519531\"/>\n",
       "  <use xlink:href=\"#glyph0-8\" x=\"490.123047\" y=\"586.519531\"/>\n",
       "</g>\n",
       "<g style=\"fill:rgb(0%,0%,0%);fill-opacity:1;\">\n",
       "  <use xlink:href=\"#glyph0-2\" x=\"198.953125\" y=\"26.503906\"/>\n",
       "  <use xlink:href=\"#glyph0-7\" x=\"206.739258\" y=\"26.503906\"/>\n",
       "</g>\n",
       "<g style=\"fill:rgb(0%,0%,0%);fill-opacity:1;\">\n",
       "  <use xlink:href=\"#glyph0-9\" x=\"13.460938\" y=\"426.511719\"/>\n",
       "  <use xlink:href=\"#glyph0-1\" x=\"21.24707\" y=\"426.511719\"/>\n",
       "</g>\n",
       "<g style=\"fill:rgb(0%,0%,0%);fill-opacity:1;\">\n",
       "  <use xlink:href=\"#glyph0-10\" x=\"292.253906\" y=\"26.421875\"/>\n",
       "  <use xlink:href=\"#glyph0-2\" x=\"300.040039\" y=\"26.421875\"/>\n",
       "</g>\n",
       "<g style=\"fill:rgb(0%,0%,0%);fill-opacity:1;\">\n",
       "  <use xlink:href=\"#glyph0-9\" x=\"199.046875\" y=\"106.511719\"/>\n",
       "  <use xlink:href=\"#glyph0-6\" x=\"206.833008\" y=\"106.511719\"/>\n",
       "</g>\n",
       "<g style=\"fill:rgb(0%,0%,0%);fill-opacity:1;\">\n",
       "  <use xlink:href=\"#glyph0-5\" x=\"385.617188\" y=\"586.519531\"/>\n",
       "  <use xlink:href=\"#glyph0-7\" x=\"393.40332\" y=\"586.519531\"/>\n",
       "</g>\n",
       "</g>\n",
       "</svg>\n"
      ],
      "text/plain": [
       "<igraph.drawing.Plot at 0x109c97fd0>"
      ]
     },
     "execution_count": 527,
     "metadata": {},
     "output_type": "execute_result"
    }
   ],
   "source": [
    "plot(g, layout=layout_old.keys() , vertex_label=g.vs['name'] )"
   ]
  },
  {
   "cell_type": "code",
   "execution_count": 581,
   "metadata": {},
   "outputs": [],
   "source": [
    "\n",
    "while t <= total_time:\n",
    "    for i in range( len(layout_old.keys() ) ):\n",
    "        \n",
    "        ## Calculate all possible reactions\n",
    "        \n",
    "        move = len(layout_old.keys() )*4                              # movement\n",
    "        move_k = move * k_move * tau\n",
    "        \n",
    "        bind = len(layout_old.keys() )*4                              # binding\n",
    "        bind_k = bind * k_bind * tau\n",
    "        \n",
    "        dissociate = sum(g.vs.degree())                               # dissociation\n",
    "        dissociate_k = dissociate * k_off * tau\n",
    "        \n",
    "        \n",
    "        rate_sum = move_k + bind_k + dissociate_k                     # Time at which the next reaction will take place\n",
    "        tau = random.expovariate(lambd=rate_sum)                      # Time at which the next reaction will take place\n",
    "        times.append(tau)                                             # Save time as a tuple\n",
    "        reaction = allRxn(move_k, bind_k, dissociate_k)               # Sample from uniform distribution\n",
    "        \n",
    "        reaction = 'move' ## delete this! \n",
    "        \n",
    "        print t\n",
    "        \n",
    "        if reaction == 'move':\n",
    "\n",
    "            position_selected = random.choice(layout_old.keys() )     #randomly select a node\n",
    "            newDir = random.choice(possibilities.values() )           #randomly select a direction\n",
    "            new_posit = tuple(map(add, position_selected, newDir))    #new potential direction to take if valid\n",
    "            \n",
    "            #move in new direction\n",
    "            Mover(new_posit, layout_old, illegal_moves, possibilities, position_selected)\n",
    "            \n",
    "            illegal_moves = merge_two_dicts(illegal_moves, layout_old) # Update illegal moves \n",
    "            \n",
    "\n",
    "        \n",
    "#        if reaction == 'bind':\n",
    "#            position_selected = random.choice(layout_old.keys() )\n",
    "#            newNeighborEdge(position_selected, layout_old, g)         #form an edge between a neighbor, if one exists\n",
    "\n",
    "        \n",
    "#        if reaction == 'dissociate':\n",
    "#            \n",
    "#            position_selected = random.choice(layout_old.keys() )\n",
    "#            edgeDeleter(position_selected, layout_old, g)\n",
    "        \n",
    "#        print reaction\n",
    "                \n",
    "        t = t + 1"
   ]
  },
  {
   "cell_type": "code",
   "execution_count": null,
   "metadata": {
    "collapsed": true
   },
   "outputs": [],
   "source": []
  },
  {
   "cell_type": "markdown",
   "metadata": {},
   "source": [
    "# This will capture movement per step"
   ]
  },
  {
   "cell_type": "code",
   "execution_count": 575,
   "metadata": {},
   "outputs": [
    {
     "name": "stdout",
     "output_type": "stream",
     "text": [
      "yes\n"
     ]
    }
   ],
   "source": [
    "x = dict(set(layout_old.items()) - set(layout_old.items()) )\n",
    "#checks if dict is empy\n",
    "if not x:\n",
    "    print 'yes'\n",
    "    val = [0] * len(layout_old.keys() )"
   ]
  },
  {
   "cell_type": "code",
   "execution_count": 576,
   "metadata": {},
   "outputs": [
    {
     "name": "stdout",
     "output_type": "stream",
     "text": [
      "[0, 0, 0, 0, 0, 0, 0, 0, 0, 0]\n"
     ]
    }
   ],
   "source": [
    "print val"
   ]
  },
  {
   "cell_type": "code",
   "execution_count": null,
   "metadata": {},
   "outputs": [],
   "source": []
  },
  {
   "cell_type": "code",
   "execution_count": null,
   "metadata": {
    "collapsed": true
   },
   "outputs": [],
   "source": []
  }
 ],
 "metadata": {
  "kernelspec": {
   "display_name": "Python 2",
   "language": "python",
   "name": "python2"
  },
  "language_info": {
   "codemirror_mode": {
    "name": "ipython",
    "version": 2
   },
   "file_extension": ".py",
   "mimetype": "text/x-python",
   "name": "python",
   "nbconvert_exporter": "python",
   "pygments_lexer": "ipython2",
   "version": "2.7.13"
  }
 },
 "nbformat": 4,
 "nbformat_minor": 2
}
