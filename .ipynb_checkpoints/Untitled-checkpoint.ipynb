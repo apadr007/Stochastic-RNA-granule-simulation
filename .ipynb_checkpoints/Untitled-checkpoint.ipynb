{
 "cells": [
  {
   "cell_type": "code",
   "execution_count": 3,
   "metadata": {
    "collapsed": true
   },
   "outputs": [],
   "source": [
    "from igraph import *\n",
    "from igraph import plot\n",
    "import random\n",
    "import pandas\n",
    "import numpy\n",
    "from operator import add"
   ]
  },
  {
   "cell_type": "code",
   "execution_count": 4,
   "metadata": {
    "collapsed": true
   },
   "outputs": [],
   "source": [
    "spaceMax = 10\n",
    "spaceMin = 1\n",
    "time = 1\n",
    "final_time = 10"
   ]
  },
  {
   "cell_type": "code",
   "execution_count": 24,
   "metadata": {},
   "outputs": [
    {
     "name": "stdout",
     "output_type": "stream",
     "text": [
      "[0, 1, 2, 3]\n",
      "[(2, 1), (3, 1), (3, 9), (6, 3)]\n",
      "\n",
      "[(6, 3), (3, 9), (3, 1), (2, 1)]\n",
      "[3, 2, 1, 0]\n"
     ]
    }
   ],
   "source": [
    "layout_position = { 0:(2,1), 1:(3,1), 2:(3,9), 3:(6,3) }\n",
    "layout_name = { (2,1):0, (3,1):1, (3,9):2, (6,3):3 }\n",
    "print layout_position.keys()\n",
    "print layout_position.values()\n",
    "print ''\n",
    "print layout_name.keys()\n",
    "print layout_name.values()\n",
    "\n",
    "#g = Graph(4)\n",
    "#print(g)"
   ]
  },
  {
   "cell_type": "code",
   "execution_count": 53,
   "metadata": {},
   "outputs": [
    {
     "name": "stdout",
     "output_type": "stream",
     "text": [
      "[3, 1]\n",
      "[[ 4.  1.]\n",
      " [ 3.  2.]\n",
      " [ 3.  0.]]\n"
     ]
    }
   ],
   "source": [
    "random.choice(layout_name.values())\n",
    "currentPosition = layout_position.values()[3]\n",
    "\n",
    "toMove = random.choice( layout_name.values() ) \n",
    "currentPosition = layout_position.values()[toMove]\n",
    "currentPosition = list(currentPosition)\n",
    "\n",
    "possibilities = numpy.zeros(shape=(5,2))\n",
    "possibilities[0] = [1, 0]\n",
    "possibilities[1] = [-1, 0]\n",
    "possibilities[2] = [0, 1]\n",
    "possibilities[3] = [0, -1]\n",
    "\n",
    "new_possibilities = possibilities + currentPosition\n",
    "\n",
    "vals = layout_position.values()\n",
    "index = [tuple(i) not in vals\n",
    "                    for i in new_possibilities]\n",
    "\n",
    "output_direction = new_possibilities[index]"
   ]
  },
  {
   "cell_type": "code",
   "execution_count": null,
   "metadata": {
    "collapsed": true
   },
   "outputs": [],
   "source": [
    "def mover(layout, spaceMax, spaceMin):\n",
    "    from operator import add\n",
    "    \n",
    "    toMove = random.choice( layout_name.values() ) \n",
    "    currentPosition = layout_position.values()[toMove]\n",
    "    currentPosition = list(currentPosition)\n",
    "    \n",
    "    possibilities = numpy.zeros(shape=(5,2))\n",
    "    possibilities[0] = [1, 0]\n",
    "    possibilities[1] = [-1, 0]\n",
    "    possibilities[2] = [0, 1]\n",
    "    possibilities[3] = [0, -1]\n",
    "    \n",
    "    toAdd = random.choice( possibilities )\n",
    "\n",
    "    if any(i >= spaceMax or i <= spaceMin for i in oldDir):\n",
    "            newDir = bounceBack(oldDir, spaceMax, spaceMin)\n",
    "            if newDir in layout.values():\n",
    "    \n",
    "    \n",
    "    for key, value in layout.items():\n",
    "        possibilities = numpy.zeros(shape=(5,2))\n",
    "        possibilities[0] = [1, 0]\n",
    "        possibilities[1] = [-1, 0]\n",
    "        possibilities[2] = [0, 1]\n",
    "        possibilities[3] = [0, -1]\n",
    "        oldDir = tuple(value)\n",
    "\n",
    "        if any(i >= spaceMax or i <= spaceMin for i in oldDir):\n",
    "            newDir = bounceBack(oldDir, spaceMax, spaceMin)\n",
    "            if newDir in layout.values():\n",
    "                continue\n",
    "            else:\n",
    "                layout[key] = newDir\n",
    "        else:\n",
    "            possibilities = movementTester(oldDir, layout, possibilities)\n",
    "            randomDirection = random.choice( possibilities )\n",
    "            newDir = map(add, value, randomDirection)\n",
    "            if newDir in layout.values():\n",
    "                continue\n",
    "            else:\n",
    "                layout[key] = newDir            \n",
    "    return layout\n",
    "\n"
   ]
  },
  {
   "cell_type": "code",
   "execution_count": null,
   "metadata": {
    "collapsed": true
   },
   "outputs": [],
   "source": []
  },
  {
   "cell_type": "code",
   "execution_count": 205,
   "metadata": {},
   "outputs": [
    {
     "name": "stdout",
     "output_type": "stream",
     "text": [
      "[[  5.  10.]\n",
      " [  3.  10.]\n",
      " [  4.  11.]\n",
      " [  4.   9.]\n",
      " [  4.  10.]]\n"
     ]
    },
    {
     "data": {
      "text/plain": [
       "array([[  5.,   9.],\n",
       "       [  3.,   9.],\n",
       "       [  4.,  10.],\n",
       "       [  4.,   9.],\n",
       "       [  4.,   9.]])"
      ]
     },
     "execution_count": 205,
     "metadata": {},
     "output_type": "execute_result"
    }
   ],
   "source": [
    "print new_possibilities\n",
    "\n",
    "def bounceBack(num_array, spaceMin, spaceMax):\n",
    "    num_array[num_array == spaceMin ] = spaceMin + 1\n",
    "    num_array[num_array < spaceMin ] = spaceMin\n",
    "    num_array[num_array == spaceMax ] = spaceMax - 1\n",
    "    num_array[num_array > spaceMax ] = spaceMax\n",
    "    return num_array\n",
    "\n",
    "bounceBack(new_possibilities, spaceMin, spaceMax)"
   ]
  },
  {
   "cell_type": "code",
   "execution_count": null,
   "metadata": {
    "collapsed": true
   },
   "outputs": [],
   "source": []
  },
  {
   "cell_type": "code",
   "execution_count": 5,
   "metadata": {
    "collapsed": true
   },
   "outputs": [],
   "source": [
    "from itertools import permutations\n",
    "items = range(11)\n",
    "illegal_moves = {}\n",
    "i = 0\n",
    "for p in permutations(items, 2):\n",
    "    illegal_moves[i] = p\n",
    "    i += 1\n",
    "    \n",
    "    \n",
    "items = range(11)\n",
    "legal_moves = {}\n",
    "i = 0\n",
    "for p in permutations(items, 2):\n",
    "    legal_moves[i] = p\n",
    "    i += 1"
   ]
  },
  {
   "cell_type": "code",
   "execution_count": 6,
   "metadata": {},
   "outputs": [
    {
     "name": "stdout",
     "output_type": "stream",
     "text": [
      "{0: (0, 1), 1: (0, 2), 2: (0, 3), 3: (0, 4), 4: (0, 5), 5: (0, 6), 6: (0, 7), 7: (0, 8), 8: (0, 9), 9: (0, 10), 10: (1, 0), 11: (1, 2), 12: (1, 3), 13: (1, 4), 14: (1, 5), 15: (1, 6), 16: (1, 7), 17: (1, 8), 18: (1, 9), 19: (1, 10), 20: (2, 0), 21: (2, 1), 22: (2, 3), 23: (2, 4), 24: (2, 5), 25: (2, 6), 26: (2, 7), 27: (2, 8), 28: (2, 9), 29: (2, 10), 30: (3, 0), 31: (3, 1), 32: (3, 2), 33: (3, 4), 34: (3, 5), 35: (3, 6), 36: (3, 7), 37: (3, 8), 38: (3, 9), 39: (3, 10), 40: (4, 0), 41: (4, 1), 42: (4, 2), 43: (4, 3), 44: (4, 5), 45: (4, 6), 46: (4, 7), 47: (4, 8), 48: (4, 9), 49: (4, 10), 50: (5, 0), 51: (5, 1), 52: (5, 2), 53: (5, 3), 54: (5, 4), 55: (5, 6), 56: (5, 7), 57: (5, 8), 58: (5, 9), 59: (5, 10), 60: (6, 0), 61: (6, 1), 62: (6, 2), 63: (6, 3), 64: (6, 4), 65: (6, 5), 66: (6, 7), 67: (6, 8), 68: (6, 9), 69: (6, 10), 70: (7, 0), 71: (7, 1), 72: (7, 2), 73: (7, 3), 74: (7, 4), 75: (7, 5), 76: (7, 6), 77: (7, 8), 78: (7, 9), 79: (7, 10), 80: (8, 0), 81: (8, 1), 82: (8, 2), 83: (8, 3), 84: (8, 4), 85: (8, 5), 86: (8, 6), 87: (8, 7), 88: (8, 9), 89: (8, 10), 90: (9, 0), 91: (9, 1), 92: (9, 2), 93: (9, 3), 94: (9, 4), 95: (9, 5), 96: (9, 6), 97: (9, 7), 98: (9, 8), 99: (9, 10), 100: (10, 0), 101: (10, 1), 102: (10, 2), 103: (10, 3), 104: (10, 4), 105: (10, 5), 106: (10, 6), 107: (10, 7), 108: (10, 8), 109: (10, 9)}\n"
     ]
    }
   ],
   "source": [
    "print illegal_moves"
   ]
  },
  {
   "cell_type": "code",
   "execution_count": 7,
   "metadata": {},
   "outputs": [
    {
     "name": "stdout",
     "output_type": "stream",
     "text": [
      "{0: (0, 1), 1: (0, 2), 2: (0, 3), 3: (0, 4), 4: (0, 5), 5: (0, 6), 6: (0, 7), 7: (0, 8), 8: (0, 9), 9: (0, 10), 10: (1, 0), 11: (1, 2), 12: (1, 3), 13: (1, 4), 14: (1, 5), 15: (1, 6), 16: (1, 7), 17: (1, 8), 18: (1, 9), 19: (1, 10), 20: (2, 0), 21: (2, 1), 22: (2, 3), 23: (2, 4), 24: (2, 5), 25: (2, 6), 26: (2, 7), 27: (2, 8), 28: (2, 9), 29: (2, 10), 30: (3, 0), 31: (3, 1), 32: (3, 2), 33: (3, 4), 34: (3, 5), 35: (3, 6), 36: (3, 7), 37: (3, 8), 38: (3, 9), 39: (3, 10), 40: (4, 0), 41: (4, 1), 42: (4, 2), 43: (4, 3), 44: (4, 5), 45: (4, 6), 46: (4, 7), 47: (4, 8), 48: (4, 9), 49: (4, 10), 50: (5, 0), 51: (5, 1), 52: (5, 2), 53: (5, 3), 54: (5, 4), 55: (5, 6), 56: (5, 7), 57: (5, 8), 58: (5, 9), 59: (5, 10), 60: (6, 0), 61: (6, 1), 62: (6, 2), 63: (6, 3), 64: (6, 4), 65: (6, 5), 66: (6, 7), 67: (6, 8), 68: (6, 9), 69: (6, 10), 70: (7, 0), 71: (7, 1), 72: (7, 2), 73: (7, 3), 74: (7, 4), 75: (7, 5), 76: (7, 6), 77: (7, 8), 78: (7, 9), 79: (7, 10), 80: (8, 0), 81: (8, 1), 82: (8, 2), 83: (8, 3), 84: (8, 4), 85: (8, 5), 86: (8, 6), 87: (8, 7), 88: (8, 9), 89: (8, 10), 90: (9, 0), 91: (9, 1), 92: (9, 2), 93: (9, 3), 94: (9, 4), 95: (9, 5), 96: (9, 6), 97: (9, 7), 98: (9, 8), 99: (9, 10), 100: (10, 0), 101: (10, 1), 102: (10, 2), 103: (10, 3), 104: (10, 4), 105: (10, 5), 106: (10, 6), 107: (10, 7), 108: (10, 8), 109: (10, 9)}\n"
     ]
    }
   ],
   "source": [
    "print legal_moves"
   ]
  },
  {
   "cell_type": "code",
   "execution_count": 326,
   "metadata": {},
   "outputs": [
    {
     "name": "stdout",
     "output_type": "stream",
     "text": [
      "0\n",
      "1\n",
      "2\n",
      "3\n",
      "4\n",
      "5\n",
      "6\n",
      "7\n",
      "8\n",
      "9\n"
     ]
    }
   ],
   "source": [
    "spaceMinToRemove = range(10)\n",
    "\n",
    "legal_moves.keys()\n",
    "\n",
    "\n",
    "for key,value in legal_moves.items():\n",
    "    if key in spaceMinToRemove:\n",
    "        print key\n",
    "    \n",
    "    \n",
    "    "
   ]
  },
  {
   "cell_type": "code",
   "execution_count": 2,
   "metadata": {
    "scrolled": true
   },
   "outputs": [
    {
     "ename": "NameError",
     "evalue": "name 'permutations' is not defined",
     "output_type": "error",
     "traceback": [
      "\u001b[0;31m---------------------------------------------------------------------------\u001b[0m",
      "\u001b[0;31mNameError\u001b[0m                                 Traceback (most recent call last)",
      "\u001b[0;32m<ipython-input-2-d4df2a84ae2c>\u001b[0m in \u001b[0;36m<module>\u001b[0;34m()\u001b[0m\n\u001b[1;32m      3\u001b[0m \u001b[0millegal_moves\u001b[0m \u001b[0;34m=\u001b[0m \u001b[0;34m{\u001b[0m\u001b[0;34m}\u001b[0m\u001b[0;34m\u001b[0m\u001b[0m\n\u001b[1;32m      4\u001b[0m \u001b[0mi\u001b[0m \u001b[0;34m=\u001b[0m \u001b[0;36m0\u001b[0m\u001b[0;34m\u001b[0m\u001b[0m\n\u001b[0;32m----> 5\u001b[0;31m \u001b[0;32mfor\u001b[0m \u001b[0mp\u001b[0m \u001b[0;32min\u001b[0m \u001b[0mpermutations\u001b[0m\u001b[0;34m(\u001b[0m\u001b[0mitems\u001b[0m\u001b[0;34m,\u001b[0m \u001b[0;36m2\u001b[0m\u001b[0;34m)\u001b[0m\u001b[0;34m:\u001b[0m\u001b[0;34m\u001b[0m\u001b[0m\n\u001b[0m\u001b[1;32m      6\u001b[0m     \u001b[0mlegal_moves\u001b[0m\u001b[0;34m[\u001b[0m\u001b[0mi\u001b[0m\u001b[0;34m]\u001b[0m \u001b[0;34m=\u001b[0m \u001b[0mp\u001b[0m\u001b[0;34m\u001b[0m\u001b[0m\n\u001b[1;32m      7\u001b[0m     \u001b[0mi\u001b[0m \u001b[0;34m+=\u001b[0m \u001b[0;36m1\u001b[0m\u001b[0;34m\u001b[0m\u001b[0m\n",
      "\u001b[0;31mNameError\u001b[0m: name 'permutations' is not defined"
     ]
    }
   ],
   "source": [
    "items = range(11)\n",
    "legal_moves = {}\n",
    "illegal_moves = {}\n",
    "i = 0\n",
    "for p in permutations(items, 2):\n",
    "    legal_moves[i] = p\n",
    "    i += 1\n",
    "\n",
    "spaceMin = 0\n",
    "spaceMax = 10\n",
    "\n",
    "# this will be used to create the initial layout of nodes because I can trim \n",
    "# away illegal moves and then randomly select positions from my universe of possibilities \n",
    "\n",
    "print legal_moves\n",
    "for key,value in legal_moves.items():\n",
    "    for n,i in enumerate(value):\n",
    "        try:        \n",
    "            if i == spaceMin or i == spaceMax:\n",
    "                illegal_moves[key] = value\n",
    "                legal_moves.pop(key)\n",
    "        except:\n",
    "            continue\n",
    "\n",
    "\n",
    "\n",
    "            \n",
    "\n",
    "print ''\n",
    "print legal_moves\n",
    "print ''\n",
    "print illegal_moves"
   ]
  },
  {
   "cell_type": "code",
   "execution_count": 493,
   "metadata": {},
   "outputs": [
    {
     "name": "stdout",
     "output_type": "stream",
     "text": [
      "{1: (0, 2), 2: (10, 10), 3: (5, 1)}\n",
      "{5: (8, 2)}\n"
     ]
    }
   ],
   "source": [
    "#illegal_moves = {1: (0,2), 2: (10,10), 3: (5,1)}\n",
    "#legal_moves = {2: (0,2), 5: (8, 2), 1:(10,1)}\n",
    "\n",
    "## this will remove the illegal moves inside the legal moves dict. \n",
    "\n",
    "def RemoveiLLegalFromLegalMoves(entries, the_dict):\n",
    "    for key in entries:\n",
    "        if key in the_dict:\n",
    "            del the_dict[key]\n",
    "            \n",
    "            \n",
    "RemoveiLLegalFromLegalMoves(illegal_moves, legal_moves)\n",
    "print illegal_moves\n",
    "print legal_moves"
   ]
  },
  {
   "cell_type": "code",
   "execution_count": 588,
   "metadata": {},
   "outputs": [
    {
     "data": {
      "text/plain": [
       "{0: (10, 1),\n",
       " 1: (10, 1),\n",
       " 2: (10, 1),\n",
       " 3: (10, 1),\n",
       " 4: (10, 1),\n",
       " 5: (8, 2),\n",
       " 6: (10, 1),\n",
       " 7: (8, 2),\n",
       " 8: (10, 1)}"
      ]
     },
     "execution_count": 588,
     "metadata": {},
     "output_type": "execute_result"
    }
   ],
   "source": [
    "def random_layout_gen(node_number, layout):\n",
    "    output = {}\n",
    "    for i in range(9):\n",
    "        val = random.choice(range(len(layout)))\n",
    "        output[i] = layout.values()[val]\n",
    "    return output\n",
    "\n",
    "legal_moves = {2: (0,2), 5: (8, 2), 1:(10,1)}\n",
    "random_layout_gen(10, legal_moves)"
   ]
  },
  {
   "cell_type": "code",
   "execution_count": 665,
   "metadata": {},
   "outputs": [
    {
     "name": "stdout",
     "output_type": "stream",
     "text": [
      "{0: (2, 1), 1: (3, 8), 2: (6, 13), 3: (4, 2), 4: (11, 4), 5: (9, 3), 6: (4, 9), 7: (11, 5), 8: (7, 2), 9: (4, 7), 10: (9, 13), 11: (13, 9), 12: (5, 3), 13: (12, 3), 14: (3, 9), 15: (1, 2), 16: (5, 8), 17: (11, 7), 18: (5, 1), 19: (6, 4), 20: (7, 12), 21: (4, 8), 22: (13, 10), 23: (2, 10), 24: (8, 1), 25: (7, 1), 26: (1, 3), 27: (5, 6), 28: (6, 10), 29: (1, 4), 30: (13, 5), 31: (8, 12), 32: (3, 2), 33: (12, 6), 34: (6, 8), 35: (5, 13), 36: (2, 13), 37: (8, 7), 38: (3, 11), 39: (3, 10), 41: (13, 4), 42: (7, 5), 43: (11, 6), 44: (10, 4), 45: (5, 12), 46: (9, 1), 47: (12, 10), 49: (2, 3)}\n",
      "{(4, 7): 9, (1, 3): 26, (9, 1): 46, (4, 8): 21, (7, 12): 20, (13, 4): 41, (5, 13): 35, (2, 1): 0, (3, 11): 38, (6, 10): 28, (5, 1): 18, (5, 8): 16, (1, 2): 15, (4, 9): 6, (11, 5): 7, (8, 1): 24, (3, 10): 39, (7, 1): 25, (12, 6): 33, (5, 6): 27, (2, 13): 36, (7, 2): 8, (12, 10): 47, (12, 3): 13, (6, 4): 19, (3, 2): 32, (11, 4): 4, (10, 4): 44, (11, 7): 17, (9, 3): 5, (1, 4): 29, (2, 10): 23, (3, 9): 14, (2, 3): 49, (8, 7): 37, (4, 2): 3, (13, 10): 22, (5, 3): 12, (9, 13): 10, (6, 8): 34, (8, 12): 31, (13, 5): 30, (3, 8): 1, (7, 5): 42, (6, 13): 2, (13, 9): 11, (5, 12): 45, (11, 6): 43}\n",
      "\n",
      "set([(3, 0), (8, 0), (0, 7), (0, 10), (0, 3), (4, 0), (9, 0), (0, 6), (0, 11), (5, 0), (0, 4), (10, 0), (0, 0), (6, 0), (0, 12), (11, 0), (0, 5), (1, 0), (0, 8), (0, 1), (7, 0), (12, 0), (0, 13), (2, 0), (0, 9), (0, 2), (13, 0)])\n"
     ]
    }
   ],
   "source": [
    "def layout_gen(node_number, spaceMin, spaceMax, starting_layout):\n",
    "    from itertools import permutations\n",
    "    \n",
    "    # this creates all possible options to place a node in \n",
    "    items = range(spaceMax)\n",
    "    legal_moves = {}\n",
    "    illegal_moves = {}\n",
    "    i = 0\n",
    "    for p in permutations(items, 2):\n",
    "        legal_moves[i] = p\n",
    "        i += 1\n",
    "\n",
    "    for key,value in legal_moves.items():\n",
    "        for n,i in enumerate(value):\n",
    "            try:        \n",
    "                if i == spaceMin or i == spaceMax:\n",
    "                    illegal_moves[value] = key\n",
    "                    legal_moves.pop(key)\n",
    "            except:\n",
    "                continue\n",
    "                \n",
    "    if starting_layout == True:\n",
    "        # this randomly selects a position to place a node\n",
    "        output = {}\n",
    "\n",
    "        for i in range(node_number):\n",
    "            val = random.choice(range(len(legal_moves)))\n",
    "            position = legal_moves.values()[val]\n",
    "\n",
    "            if position not in output.values():\n",
    "                output[i] = position\n",
    "            else:\n",
    "                val = random.choice(range(len(legal_moves)))\n",
    "                position = legal_moves.values()[val]\n",
    "                if position not in output.values():\n",
    "                    output[i] = position\n",
    "        return output\n",
    "    \n",
    "    else:\n",
    "        illegal_moves = set(tuple(illegal_layout))\n",
    "        illegal_layout.add((spaceMin,spaceMin))\n",
    "        illegal_layout.add((spaceMax,spaceMax))\n",
    "        return illegal_moves\n",
    "\n",
    "    \n",
    "\n",
    "name_layout = layout_gen(50, 0, 14, starting_layout=True)\n",
    "position_layout = {y:x for x,y in name_layout.iteritems()}\n",
    "\n",
    "illegal_layout = layout_gen(50, 0, 14, starting_layout=False)\n",
    "print name_layout\n",
    "print position_layout\n",
    "print ''\n",
    "print illegal_layout"
   ]
  },
  {
   "cell_type": "code",
   "execution_count": null,
   "metadata": {
    "collapsed": true
   },
   "outputs": [],
   "source": []
  },
  {
   "cell_type": "code",
   "execution_count": 451,
   "metadata": {
    "collapsed": true
   },
   "outputs": [],
   "source": [
    "## Moving in Python\n",
    "\n",
    "possibilities = numpy.zeros(shape=(5,2))\n",
    "possibilities[0] = [1, 0]\n",
    "possibilities[1] = [-1, 0]\n",
    "possibilities[2] = [0, 1]\n",
    "possibilities[3] = [0, -1]\n",
    "\n",
    "def mover( oldPosit, possibilities ):\n",
    "    from operator import add\n",
    "\n",
    "    randomDirection = random.choice( possibilities )\n",
    "    newDir = tuple( map(add, oldPosit, randomDirection) )\n",
    "    \n",
    "    if illegal_moves.get(newDir) != None:\n",
    "        return oldPosit\n",
    "    else:\n",
    "        illegal_moves.pop(oldPosit)\n",
    "        illegal_moves[oldDir] = \n",
    "        return newDir\n",
    "\n",
    "\n"
   ]
  },
  {
   "cell_type": "code",
   "execution_count": 667,
   "metadata": {},
   "outputs": [
    {
     "name": "stdout",
     "output_type": "stream",
     "text": [
      "(5.0, 1.0)\n",
      "not in illegal\n"
     ]
    }
   ],
   "source": [
    "xy = (4, 1)\n",
    "\n",
    "from operator import add\n",
    "\n",
    "possibilities = numpy.zeros(shape=(5,2))\n",
    "possibilities[0] = [1, 0]\n",
    "possibilities[1] = [-1, 0]\n",
    "possibilities[2] = [0, 1]\n",
    "possibilities[3] = [0, -1]\n",
    "\n",
    "randomDirection = random.choice( possibilities )\n",
    "\n",
    "newDir = tuple( map(add, xy, randomDirection) )\n",
    "\n",
    "newDir \n",
    "\n",
    "\n",
    "if newDir in illegal_layout:\n",
    "    print 'in illegal'\n",
    "else:\n",
    "    print 'not in illegal'\n",
    "    ## need to add this info to position layout & name layout and add to illegal layout since its now taken up"
   ]
  },
  {
   "cell_type": "code",
   "execution_count": 584,
   "metadata": {
    "collapsed": true
   },
   "outputs": [],
   "source": []
  },
  {
   "cell_type": "code",
   "execution_count": null,
   "metadata": {
    "collapsed": true
   },
   "outputs": [],
   "source": []
  },
  {
   "cell_type": "code",
   "execution_count": null,
   "metadata": {
    "collapsed": true
   },
   "outputs": [],
   "source": []
  },
  {
   "cell_type": "code",
   "execution_count": 586,
   "metadata": {},
   "outputs": [
    {
     "data": {
      "image/svg+xml": [
       "<?xml version=\"1.0\" encoding=\"UTF-8\"?>\n",
       "<svg xmlns=\"http://www.w3.org/2000/svg\" xmlns:xlink=\"http://www.w3.org/1999/xlink\" width=\"150pt\" height=\"150pt\" viewBox=\"0 0 150 150\" version=\"1.1\">\n",
       "<g id=\"surface253\">\n",
       "<rect x=\"0\" y=\"0\" width=\"150\" height=\"150\" style=\"fill:rgb(100%,100%,100%);fill-opacity:1;stroke:none;\"/>\n",
       "<path style=\"fill-rule:nonzero;fill:rgb(100%,0%,0%);fill-opacity:1;stroke-width:1;stroke-linecap:butt;stroke-linejoin:miter;stroke:rgb(0%,0%,0%);stroke-opacity:1;stroke-miterlimit:10;\" d=\"M 61.667969 130 C 61.667969 136.667969 51.667969 136.667969 51.667969 130 C 51.667969 123.332031 61.667969 123.332031 61.667969 130 \"/>\n",
       "<path style=\"fill-rule:nonzero;fill:rgb(100%,0%,0%);fill-opacity:1;stroke-width:1;stroke-linecap:butt;stroke-linejoin:miter;stroke:rgb(0%,0%,0%);stroke-opacity:1;stroke-miterlimit:10;\" d=\"M 116.667969 42 C 116.667969 48.667969 106.667969 48.667969 106.667969 42 C 106.667969 35.332031 116.667969 35.332031 116.667969 42 \"/>\n",
       "<path style=\"fill-rule:nonzero;fill:rgb(100%,0%,0%);fill-opacity:1;stroke-width:1;stroke-linecap:butt;stroke-linejoin:miter;stroke:rgb(0%,0%,0%);stroke-opacity:1;stroke-miterlimit:10;\" d=\"M 135 20 C 135 26.667969 125 26.667969 125 20 C 125 13.332031 135 13.332031 135 20 \"/>\n",
       "<path style=\"fill-rule:nonzero;fill:rgb(100%,0%,0%);fill-opacity:1;stroke-width:1;stroke-linecap:butt;stroke-linejoin:miter;stroke:rgb(0%,0%,0%);stroke-opacity:1;stroke-miterlimit:10;\" d=\"M 25 20 C 25 26.667969 15 26.667969 15 20 C 15 13.332031 25 13.332031 25 20 \"/>\n",
       "<path style=\"fill-rule:nonzero;fill:rgb(100%,0%,0%);fill-opacity:1;stroke-width:1;stroke-linecap:butt;stroke-linejoin:miter;stroke:rgb(0%,0%,0%);stroke-opacity:1;stroke-miterlimit:10;\" d=\"M 61.667969 86 C 61.667969 92.667969 51.667969 92.667969 51.667969 86 C 51.667969 79.332031 61.667969 79.332031 61.667969 86 \"/>\n",
       "</g>\n",
       "</svg>\n"
      ],
      "text/plain": [
       "<igraph.drawing.Plot at 0x114fa6a50>"
      ]
     },
     "execution_count": 586,
     "metadata": {},
     "output_type": "execute_result"
    }
   ],
   "source": [
    "dictlist = []\n",
    "for key, value in node_layout.iteritems():\n",
    "    temp = value\n",
    "    dictlist.append(temp)\n",
    "    \n",
    "from igraph import *\n",
    "#g = Graph.Ring(4, circular=False)\n",
    "#layout = [(0,0), (0,1), (1,1), (1,0)]\n",
    "#plot(g, layout=layout, bbox=(150,150) )\n",
    "\n",
    "dictlist\n",
    "g = Graph(5)\n",
    "plot(g, layout=dictlist, vertex_size =10, bbox=(150,150) )"
   ]
  },
  {
   "cell_type": "code",
   "execution_count": null,
   "metadata": {
    "collapsed": true
   },
   "outputs": [],
   "source": []
  },
  {
   "cell_type": "code",
   "execution_count": 664,
   "metadata": {},
   "outputs": [
    {
     "name": "stdout",
     "output_type": "stream",
     "text": [
      "set([(3, 0), (8, 0), (0, 7), (0, 10), (0, 3), (4, 0), (9, 0), (2, 0), (0, 11), (5, 0), (0, 4), (10, 0), (0, 0), (6, 0), (0, 12), (11, 0), (0, 5), (1, 0), (0, 8), (0, 1), (7, 0), (12, 0), (0, 13), (0, 6), (0, 9), (0, 2), (13, 0)])\n"
     ]
    },
    {
     "data": {
      "text/plain": [
       "True"
      ]
     },
     "execution_count": 664,
     "metadata": {},
     "output_type": "execute_result"
    }
   ],
   "source": [
    "print illegal_layout\n",
    "\n",
    "(0, 0) in illegal_layout"
   ]
  },
  {
   "cell_type": "code",
   "execution_count": 668,
   "metadata": {},
   "outputs": [
    {
     "name": "stdout",
     "output_type": "stream",
     "text": [
      "{(4, 7): 9, (1, 3): 26, (9, 1): 46, (4, 8): 21, (7, 12): 20, (13, 4): 41, (5, 13): 35, (2, 1): 0, (3, 11): 38, (6, 10): 28, (5, 1): 18, (5, 8): 16, (1, 2): 15, (4, 9): 6, (11, 5): 7, (8, 1): 24, (3, 10): 39, (7, 1): 25, (12, 6): 33, (5, 6): 27, (2, 13): 36, (7, 2): 8, (12, 10): 47, (12, 3): 13, (6, 4): 19, (3, 2): 32, (11, 4): 4, (10, 4): 44, (11, 7): 17, (9, 3): 5, (1, 4): 29, (2, 10): 23, (3, 9): 14, (2, 3): 49, (8, 7): 37, (4, 2): 3, (13, 10): 22, (5, 3): 12, (9, 13): 10, (6, 8): 34, (8, 12): 31, (13, 5): 30, (3, 8): 1, (7, 5): 42, (6, 13): 2, (13, 9): 11, (5, 12): 45, (11, 6): 43}\n"
     ]
    }
   ],
   "source": [
    "print position_layout"
   ]
  },
  {
   "cell_type": "code",
   "execution_count": 684,
   "metadata": {},
   "outputs": [
    {
     "ename": "TypeError",
     "evalue": "keys() takes no arguments (1 given)",
     "output_type": "error",
     "traceback": [
      "\u001b[0;31m---------------------------------------------------------------------------\u001b[0m",
      "\u001b[0;31mTypeError\u001b[0m                                 Traceback (most recent call last)",
      "\u001b[0;32m<ipython-input-684-1c9763bbac44>\u001b[0m in \u001b[0;36m<module>\u001b[0;34m()\u001b[0m\n\u001b[1;32m      1\u001b[0m \u001b[0;31m#position_layout\u001b[0m\u001b[0;34m\u001b[0m\u001b[0;34m\u001b[0m\u001b[0m\n\u001b[0;32m----> 2\u001b[0;31m \u001b[0mname_layout\u001b[0m\u001b[0;34m.\u001b[0m\u001b[0mkeys\u001b[0m\u001b[0;34m(\u001b[0m\u001b[0;34m(\u001b[0m\u001b[0;36m5\u001b[0m\u001b[0;34m,\u001b[0m\u001b[0;36m1\u001b[0m\u001b[0;34m)\u001b[0m\u001b[0;34m)\u001b[0m\u001b[0;34m\u001b[0m\u001b[0m\n\u001b[0m",
      "\u001b[0;31mTypeError\u001b[0m: keys() takes no arguments (1 given)"
     ]
    }
   ],
   "source": [
    "#position_layout\n",
    "#name_layout"
   ]
  },
  {
   "cell_type": "code",
   "execution_count": 10,
   "metadata": {},
   "outputs": [
    {
     "name": "stdout",
     "output_type": "stream",
     "text": [
      "{0: (0, 1), 1: (0, 2), 2: (0, 3), 3: (0, 4), 4: (0, 5), 5: (0, 6), 6: (0, 7), 7: (0, 8), 8: (0, 9), 9: (0, 10), 10: (1, 0), 11: (1, 2), 12: (1, 3), 13: (1, 4), 14: (1, 5), 15: (1, 6), 16: (1, 7), 17: (1, 8), 18: (1, 9), 19: (1, 10), 20: (2, 0), 21: (2, 1), 22: (2, 3), 23: (2, 4), 24: (2, 5), 25: (2, 6), 26: (2, 7), 27: (2, 8), 28: (2, 9), 29: (2, 10), 30: (3, 0), 31: (3, 1), 32: (3, 2), 33: (3, 4), 34: (3, 5), 35: (3, 6), 36: (3, 7), 37: (3, 8), 38: (3, 9), 39: (3, 10), 40: (4, 0), 41: (4, 1), 42: (4, 2), 43: (4, 3), 44: (4, 5), 45: (4, 6), 46: (4, 7), 47: (4, 8), 48: (4, 9), 49: (4, 10), 50: (5, 0), 51: (5, 1), 52: (5, 2), 53: (5, 3), 54: (5, 4), 55: (5, 6), 56: (5, 7), 57: (5, 8), 58: (5, 9), 59: (5, 10), 60: (6, 0), 61: (6, 1), 62: (6, 2), 63: (6, 3), 64: (6, 4), 65: (6, 5), 66: (6, 7), 67: (6, 8), 68: (6, 9), 69: (6, 10), 70: (7, 0), 71: (7, 1), 72: (7, 2), 73: (7, 3), 74: (7, 4), 75: (7, 5), 76: (7, 6), 77: (7, 8), 78: (7, 9), 79: (7, 10), 80: (8, 0), 81: (8, 1), 82: (8, 2), 83: (8, 3), 84: (8, 4), 85: (8, 5), 86: (8, 6), 87: (8, 7), 88: (8, 9), 89: (8, 10), 90: (9, 0), 91: (9, 1), 92: (9, 2), 93: (9, 3), 94: (9, 4), 95: (9, 5), 96: (9, 6), 97: (9, 7), 98: (9, 8), 99: (9, 10), 100: (10, 0), 101: (10, 1), 102: (10, 2), 103: (10, 3), 104: (10, 4), 105: (10, 5), 106: (10, 6), 107: (10, 7), 108: (10, 8), 109: (10, 9)}\n",
      "{0: (0, 1), 1: (0, 2), 2: (0, 3), 3: (0, 4), 4: (0, 5), 5: (0, 6), 6: (0, 7), 7: (0, 8), 8: (0, 9), 9: (0, 10), 10: (1, 0), 11: (1, 2), 12: (1, 3), 13: (1, 4), 14: (1, 5), 15: (1, 6), 16: (1, 7), 17: (1, 8), 18: (1, 9), 19: (1, 10), 20: (2, 0), 21: (2, 1), 22: (2, 3), 23: (2, 4), 24: (2, 5), 25: (2, 6), 26: (2, 7), 27: (2, 8), 28: (2, 9), 29: (2, 10), 30: (3, 0), 31: (3, 1), 32: (3, 2), 33: (3, 4), 34: (3, 5), 35: (3, 6), 36: (3, 7), 37: (3, 8), 38: (3, 9), 39: (3, 10), 40: (4, 0), 41: (4, 1), 42: (4, 2), 43: (4, 3), 44: (4, 5), 45: (4, 6), 46: (4, 7), 47: (4, 8), 48: (4, 9), 49: (4, 10), 50: (5, 0), 51: (5, 1), 52: (5, 2), 53: (5, 3), 54: (5, 4), 55: (5, 6), 56: (5, 7), 57: (5, 8), 58: (5, 9), 59: (5, 10), 60: (6, 0), 61: (6, 1), 62: (6, 2), 63: (6, 3), 64: (6, 4), 65: (6, 5), 66: (6, 7), 67: (6, 8), 68: (6, 9), 69: (6, 10), 70: (7, 0), 71: (7, 1), 72: (7, 2), 73: (7, 3), 74: (7, 4), 75: (7, 5), 76: (7, 6), 77: (7, 8), 78: (7, 9), 79: (7, 10), 80: (8, 0), 81: (8, 1), 82: (8, 2), 83: (8, 3), 84: (8, 4), 85: (8, 5), 86: (8, 6), 87: (8, 7), 88: (8, 9), 89: (8, 10), 90: (9, 0), 91: (9, 1), 92: (9, 2), 93: (9, 3), 94: (9, 4), 95: (9, 5), 96: (9, 6), 97: (9, 7), 98: (9, 8), 99: (9, 10), 100: (10, 0), 101: (10, 1), 102: (10, 2), 103: (10, 3), 104: (10, 4), 105: (10, 5), 106: (10, 6), 107: (10, 7), 108: (10, 8), 109: (10, 9)}\n"
     ]
    }
   ],
   "source": []
  },
  {
   "cell_type": "code",
   "execution_count": null,
   "metadata": {
    "collapsed": true
   },
   "outputs": [],
   "source": []
  }
 ],
 "metadata": {
  "kernelspec": {
   "display_name": "Python 2",
   "language": "python",
   "name": "python2"
  },
  "language_info": {
   "codemirror_mode": {
    "name": "ipython",
    "version": 2
   },
   "file_extension": ".py",
   "mimetype": "text/x-python",
   "name": "python",
   "nbconvert_exporter": "python",
   "pygments_lexer": "ipython2",
   "version": "2.7.13"
  }
 },
 "nbformat": 4,
 "nbformat_minor": 2
}
